{
 "cells": [
  {
   "cell_type": "code",
   "execution_count": 1,
   "id": "0601b4bf",
   "metadata": {},
   "outputs": [
    {
     "name": "stdout",
     "output_type": "stream",
     "text": [
      "Populating the interactive namespace from numpy and matplotlib\n"
     ]
    }
   ],
   "source": [
    "%pylab inline\n",
    "\n",
    "import pyspark\n",
    "from pyspark import SparkContext\n",
    "from pyspark.sql import SparkSession\n",
    "from pyspark.sql.types import *\n",
    "from pyspark.sql.functions import *\n",
    "from pyspark.sql import functions as F\n",
    "from pyspark.sql import Window\n",
    "import mysql.connector\n",
    "\n",
    "import warnings\n",
    "warnings.filterwarnings(\"ignore\")"
   ]
  },
  {
   "cell_type": "code",
   "execution_count": 2,
   "id": "1adf63cd",
   "metadata": {},
   "outputs": [
    {
     "data": {
      "text/html": [
       "\n",
       "        <div>\n",
       "            <p><b>SparkContext</b></p>\n",
       "\n",
       "            <p><a href=\"http://10.0.2.15:4040\">Spark UI</a></p>\n",
       "\n",
       "            <dl>\n",
       "              <dt>Version</dt>\n",
       "                <dd><code>v3.1.3</code></dd>\n",
       "              <dt>Master</dt>\n",
       "                <dd><code>local[*]</code></dd>\n",
       "              <dt>AppName</dt>\n",
       "                <dd><code>PySparkShell</code></dd>\n",
       "            </dl>\n",
       "        </div>\n",
       "        "
      ],
      "text/plain": [
       "<SparkContext master=local[*] appName=PySparkShell>"
      ]
     },
     "execution_count": 2,
     "metadata": {},
     "output_type": "execute_result"
    }
   ],
   "source": [
    "sc"
   ]
  },
  {
   "cell_type": "code",
   "execution_count": 2,
   "id": "741988fd",
   "metadata": {},
   "outputs": [],
   "source": [
    "# Define appName and master inputs\n",
    "appName = \"Tweet dataset pre-processing - Output\"\n",
    "master = \"local\""
   ]
  },
  {
   "cell_type": "code",
   "execution_count": 4,
   "id": "4b6415e1",
   "metadata": {},
   "outputs": [],
   "source": [
    "# Initiate spark session and connect to MySQL\n",
    "spark = SparkSession.builder.master('local').config(\"spark.driver.extraClassPath\", \"/path/to/mysql-connector-java.jar\").appName(appName).getOrCreate()"
   ]
  },
  {
   "cell_type": "markdown",
   "id": "45a076cc",
   "metadata": {},
   "source": [
    "#sc = SparkContext()\n",
    "#import re\n",
    "#from operator import add\n",
    "#spark = SparkSession(sc)"
   ]
  },
  {
   "cell_type": "code",
   "execution_count": 5,
   "id": "a143da82",
   "metadata": {},
   "outputs": [],
   "source": [
    "# Read tweets_input table stored in MySQL Tweets_DB database\n",
    "\n",
    "Tweets_in_df = spark.read \\\n",
    "    .format(\"jdbc\") \\\n",
    "    .option(\"driver\",\"com.mysql.cj.jdbc.Driver\") \\\n",
    "    .option(\"url\", \"jdbc:mysql://localhost:3306/Tweets_DB\") \\\n",
    "    .option(\"dbtable\", \"tweets_input\") \\\n",
    "    .option(\"user\", \"root\") \\\n",
    "    .option(\"password\", \"password\") \\\n",
    "    .load()\n"
   ]
  },
  {
   "cell_type": "code",
   "execution_count": 7,
   "id": "f7cca9a7",
   "metadata": {},
   "outputs": [
    {
     "name": "stdout",
     "output_type": "stream",
     "text": [
      "root\n",
      " |-- #: integer (nullable = true)\n",
      " |-- id: long (nullable = true)\n",
      " |-- date: string (nullable = true)\n",
      " |-- flag: string (nullable = true)\n",
      " |-- user: string (nullable = true)\n",
      " |-- text: string (nullable = true)\n",
      "\n"
     ]
    }
   ],
   "source": [
    "# Print table schema\n",
    "Tweets_in_df.printSchema()"
   ]
  },
  {
   "cell_type": "code",
   "execution_count": 8,
   "id": "373ad6c8",
   "metadata": {
    "scrolled": false
   },
   "outputs": [
    {
     "name": "stderr",
     "output_type": "stream",
     "text": [
      "\r",
      "[Stage 1:>                                                          (0 + 1) / 1]\r"
     ]
    },
    {
     "name": "stdout",
     "output_type": "stream",
     "text": [
      "+---+----------+--------------------+--------+---------------+--------------------+\n",
      "|  #|        id|                date|    flag|           user|                text|\n",
      "+---+----------+--------------------+--------+---------------+--------------------+\n",
      "|  0|1467810369|Mon Apr 06 22:19:...|NO_QUERY|_TheSpecialOne_|@switchfoot http:...|\n",
      "|  1|1467810672|Mon Apr 06 22:19:...|NO_QUERY|  scotthamilton|is upset that he ...|\n",
      "|  2|1467810917|Mon Apr 06 22:19:...|NO_QUERY|       mattycus|@Kenichan I dived...|\n",
      "|  3|1467811184|Mon Apr 06 22:19:...|NO_QUERY|        ElleCTF|my whole body fee...|\n",
      "|  4|1467811193|Mon Apr 06 22:19:...|NO_QUERY|         Karoli|@nationwideclass ...|\n",
      "+---+----------+--------------------+--------+---------------+--------------------+\n",
      "only showing top 5 rows\n",
      "\n"
     ]
    },
    {
     "name": "stderr",
     "output_type": "stream",
     "text": [
      "\r",
      "                                                                                \r"
     ]
    }
   ],
   "source": [
    "# show 5 first results from table\n",
    "Tweets_in_df.show(5)"
   ]
  },
  {
   "cell_type": "code",
   "execution_count": 12,
   "id": "9994c85a",
   "metadata": {},
   "outputs": [
    {
     "data": {
      "text/plain": [
       "DataFrame[key: string, value: string]"
      ]
     },
     "execution_count": 12,
     "metadata": {},
     "output_type": "execute_result"
    }
   ],
   "source": [
    "# set spark.sql.legacy.timeParserPolicy to LEGACY to fix issue\n",
    "spark.sql(\"set spark.sql.legacy.timeParserPolicy=LEGACY\")"
   ]
  },
  {
   "cell_type": "code",
   "execution_count": 10,
   "id": "9c48ba19",
   "metadata": {},
   "outputs": [],
   "source": [
    "# Create new column 'timestamp' from column date and transform it into datestamp structure type\n",
    "Tweets_in_df = Tweets_in_df.withColumn('timestamp', to_timestamp(Tweets_in_df['date'], 'EEE MMM dd HH:mm:ss zzz yyyy'))"
   ]
  },
  {
   "cell_type": "code",
   "execution_count": 14,
   "id": "bf69c890",
   "metadata": {},
   "outputs": [
    {
     "name": "stdout",
     "output_type": "stream",
     "text": [
      "root\n",
      " |-- #: integer (nullable = true)\n",
      " |-- id: long (nullable = true)\n",
      " |-- date: string (nullable = true)\n",
      " |-- flag: string (nullable = true)\n",
      " |-- user: string (nullable = true)\n",
      " |-- text: string (nullable = true)\n",
      " |-- timestamp: timestamp (nullable = true)\n",
      "\n"
     ]
    }
   ],
   "source": [
    "# Print schema with new column added\n",
    "Tweets_in_df.printSchema()"
   ]
  },
  {
   "cell_type": "code",
   "execution_count": 13,
   "id": "091857e9",
   "metadata": {},
   "outputs": [
    {
     "name": "stderr",
     "output_type": "stream",
     "text": [
      "\r",
      "[Stage 2:>                                                          (0 + 1) / 1]\r"
     ]
    },
    {
     "name": "stdout",
     "output_type": "stream",
     "text": [
      "+---+----------+--------------------+--------+---------------+--------------------+-------------------+\n",
      "|  #|        id|                date|    flag|           user|                text|          timestamp|\n",
      "+---+----------+--------------------+--------+---------------+--------------------+-------------------+\n",
      "|  0|1467810369|Mon Apr 06 22:19:...|NO_QUERY|_TheSpecialOne_|@switchfoot http:...|2009-04-07 06:19:45|\n",
      "|  1|1467810672|Mon Apr 06 22:19:...|NO_QUERY|  scotthamilton|is upset that he ...|2009-04-07 06:19:49|\n",
      "|  2|1467810917|Mon Apr 06 22:19:...|NO_QUERY|       mattycus|@Kenichan I dived...|2009-04-07 06:19:53|\n",
      "|  3|1467811184|Mon Apr 06 22:19:...|NO_QUERY|        ElleCTF|my whole body fee...|2009-04-07 06:19:57|\n",
      "|  4|1467811193|Mon Apr 06 22:19:...|NO_QUERY|         Karoli|@nationwideclass ...|2009-04-07 06:19:57|\n",
      "+---+----------+--------------------+--------+---------------+--------------------+-------------------+\n",
      "only showing top 5 rows\n",
      "\n"
     ]
    },
    {
     "name": "stderr",
     "output_type": "stream",
     "text": [
      "\r",
      "                                                                                \r"
     ]
    }
   ],
   "source": [
    "# show  first result from table\n",
    "Tweets_in_df.show(5)"
   ]
  },
  {
   "cell_type": "code",
   "execution_count": 15,
   "id": "002a3ee5",
   "metadata": {},
   "outputs": [
    {
     "name": "stderr",
     "output_type": "stream",
     "text": [
      "                                                                                \r"
     ]
    },
    {
     "name": "stdout",
     "output_type": "stream",
     "text": [
      "+--------+-------+\n",
      "|    flag|  count|\n",
      "+--------+-------+\n",
      "|NO_QUERY|1600000|\n",
      "+--------+-------+\n",
      "\n"
     ]
    }
   ],
   "source": [
    "# Explore flag column values\n",
    "Tweets_in_df.groupBy('flag').count().show()"
   ]
  },
  {
   "cell_type": "code",
   "execution_count": 16,
   "id": "5a7bf5e0",
   "metadata": {},
   "outputs": [],
   "source": [
    "# Drop unecessary columns from table\n",
    "tweets_df = Tweets_in_df.drop(\"#\",\"id\",\"date\",\"flag\",\"user\")"
   ]
  },
  {
   "cell_type": "code",
   "execution_count": 17,
   "id": "888015cc",
   "metadata": {},
   "outputs": [
    {
     "name": "stderr",
     "output_type": "stream",
     "text": [
      "\r",
      "[Stage 13:>                                                         (0 + 1) / 1]\r"
     ]
    },
    {
     "name": "stdout",
     "output_type": "stream",
     "text": [
      "+--------------------+-------------------+\n",
      "|                text|          timestamp|\n",
      "+--------------------+-------------------+\n",
      "|@switchfoot http:...|2009-04-07 06:19:45|\n",
      "|is upset that he ...|2009-04-07 06:19:49|\n",
      "|@Kenichan I dived...|2009-04-07 06:19:53|\n",
      "+--------------------+-------------------+\n",
      "only showing top 3 rows\n",
      "\n"
     ]
    },
    {
     "name": "stderr",
     "output_type": "stream",
     "text": [
      "\r",
      "                                                                                \r"
     ]
    }
   ],
   "source": [
    "# Print results\n",
    "tweets_df.show(3)"
   ]
  },
  {
   "cell_type": "markdown",
   "id": "3c5ee1a1",
   "metadata": {},
   "source": [
    "## Sentiment Classification"
   ]
  },
  {
   "cell_type": "code",
   "execution_count": 18,
   "id": "bedda712",
   "metadata": {},
   "outputs": [],
   "source": [
    "# define function to extract features and clean text\n",
    "my_punctuation = '!\"$%&\\'()*+,-./:;<=>?[\\\\]^_`{|}~•@â' \n",
    "def pre_process(tweet):\n",
    "    tweet = re.sub(r'http\\S+', '', tweet)  \n",
    "    tweet = re.sub(r'bit.ly/\\S+', '', tweet) \n",
    "    tweet = tweet.strip('[link]')  \n",
    "    tweet = re.sub('(RT\\s@[A-Za-z]+[A-Za-z0-9-_]+)', '', tweet) \n",
    "    tweet = re.sub('(@[A-Za-z]+[A-Za-z0-9-_]+)', '', tweet) \n",
    "    tweet = re.sub('['+my_punctuation + ']+', ' ', tweet) \n",
    "    tweet = re.sub('([0-9]+)', '', tweet) \n",
    "    tweet = re.sub('(#[A-Za-z]+[A-Za-z0-9-_]+)', '', tweet) \n",
    "    tweet = re.sub('(@[A-Za-z0-9]+)|([^0-9A-Za-z \\t])|(\\w+:\\/\\/\\S+)|(#[A-Za-z0-9]+)', '', tweet)\n",
    "    tweet = re.sub(r'\\s+',' ',tweet)\n",
    "    \n",
    "    return tweet"
   ]
  },
  {
   "cell_type": "code",
   "execution_count": 19,
   "id": "3a350f2c",
   "metadata": {},
   "outputs": [],
   "source": [
    "# Apply function to table\n",
    "clean_data = udf(pre_process)"
   ]
  },
  {
   "cell_type": "code",
   "execution_count": 20,
   "id": "4e900227",
   "metadata": {},
   "outputs": [
    {
     "name": "stderr",
     "output_type": "stream",
     "text": [
      "\r",
      "[Stage 14:>                                                         (0 + 1) / 1]\r"
     ]
    },
    {
     "name": "stdout",
     "output_type": "stream",
     "text": [
      "+--------------------+-------------------+\n",
      "|                text|          timestamp|\n",
      "+--------------------+-------------------+\n",
      "| Awww that s a bu...|2009-04-07 06:19:45|\n",
      "|s upset that he c...|2009-04-07 06:19:49|\n",
      "| I dived many tim...|2009-04-07 06:19:53|\n",
      "|my whole body fee...|2009-04-07 06:19:57|\n",
      "| no it s not beha...|2009-04-07 06:19:57|\n",
      "+--------------------+-------------------+\n",
      "only showing top 5 rows\n",
      "\n"
     ]
    },
    {
     "name": "stderr",
     "output_type": "stream",
     "text": [
      "\r",
      "                                                                                \r"
     ]
    }
   ],
   "source": [
    "# Update table with clean text data\n",
    "preproc_tweets_df = tweets_df.withColumn(\"text\", clean_data(tweets_df['text']))\n",
    "preproc_tweets_df.show(5)"
   ]
  },
  {
   "cell_type": "code",
   "execution_count": 21,
   "id": "451ea51c",
   "metadata": {},
   "outputs": [],
   "source": [
    "# Get year, month and day values from timestamp column\n",
    "preproc_tweets_df = preproc_tweets_df.withColumn(\"year\", year(col(\"timestamp\")).cast(StringType()))\n",
    "preproc_tweets_df = preproc_tweets_df.withColumn(\"month\", month(col(\"timestamp\")).cast(StringType()))\n",
    "preproc_tweets_df = preproc_tweets_df.withColumn(\"day\", dayofmonth(col(\"timestamp\")).cast(StringType()))"
   ]
  },
  {
   "cell_type": "code",
   "execution_count": 22,
   "id": "21eb97bc",
   "metadata": {},
   "outputs": [
    {
     "name": "stderr",
     "output_type": "stream",
     "text": [
      "                                                                                \r"
     ]
    },
    {
     "name": "stdout",
     "output_type": "stream",
     "text": [
      "+-----+------+\n",
      "|month| count|\n",
      "+-----+------+\n",
      "|    5|554060|\n",
      "|    6|945915|\n",
      "|    4|100025|\n",
      "+-----+------+\n",
      "\n"
     ]
    }
   ],
   "source": [
    "# Show data by month\n",
    "preproc_tweets_df.groupBy('month').count().show()"
   ]
  },
  {
   "cell_type": "code",
   "execution_count": 25,
   "id": "779e2a41",
   "metadata": {
    "scrolled": true
   },
   "outputs": [
    {
     "name": "stderr",
     "output_type": "stream",
     "text": [
      "\r",
      "[Stage 25:>                                                         (0 + 1) / 1]\r"
     ]
    },
    {
     "name": "stdout",
     "output_type": "stream",
     "text": [
      "+--------------------+-------------------+----+-----+---+\n",
      "|                text|          timestamp|year|month|day|\n",
      "+--------------------+-------------------+----+-----+---+\n",
      "| Awww that s a bu...|2009-04-07 06:19:45|2009|    4|  7|\n",
      "|s upset that he c...|2009-04-07 06:19:49|2009|    4|  7|\n",
      "| I dived many tim...|2009-04-07 06:19:53|2009|    4|  7|\n",
      "|my whole body fee...|2009-04-07 06:19:57|2009|    4|  7|\n",
      "| no it s not beha...|2009-04-07 06:19:57|2009|    4|  7|\n",
      "+--------------------+-------------------+----+-----+---+\n",
      "only showing top 5 rows\n",
      "\n"
     ]
    },
    {
     "name": "stderr",
     "output_type": "stream",
     "text": [
      "\r",
      "                                                                                \r"
     ]
    }
   ],
   "source": [
    "# Show first 5 rows\n",
    "preproc_tweets_df.show(5)"
   ]
  },
  {
   "cell_type": "code",
   "execution_count": 23,
   "id": "9be75f3d",
   "metadata": {},
   "outputs": [],
   "source": [
    "# Create a function to get the subjectivity, polarity and sentiment values\n",
    "\n",
    "import textblob\n",
    "from textblob import TextBlob\n",
    "\n",
    "def getSubjectivity(tweet: str) -> float:\n",
    "    return TextBlob(tweet).sentiment.subjectivity\n",
    "\n",
    "def getPolarity(tweet: str) -> float:\n",
    "    return TextBlob(tweet).sentiment.polarity\n",
    "\n",
    "def getSentiment(polarityValue: int) -> str:\n",
    "    if polarityValue < 0:\n",
    "        return 'Negative'\n",
    "    elif polarityValue == 0:\n",
    "        return 'Neutral'\n",
    "    else:\n",
    "        return 'Positive'\n",
    "    \n",
    "    tweet = TextBlob(text)\n",
    "    if tweet.sentiment.polarity < 0:\n",
    "        sentiment = \"negative\"\n",
    "    elif tweet.sentiment.polarity == 0:\n",
    "        sentiment = \"neutral\"\n",
    "    else:\n",
    "        sentiment = \"positive\"\n",
    "    return sentiment"
   ]
  },
  {
   "cell_type": "code",
   "execution_count": 24,
   "id": "83eb4abf",
   "metadata": {},
   "outputs": [],
   "source": [
    "# Apply function to data and define structure type\n",
    "subjectivity = F.udf(getSubjectivity, FloatType())\n",
    "polarity = F.udf(getPolarity, FloatType())\n",
    "sentiment = F.udf(getSentiment, StringType())"
   ]
  },
  {
   "cell_type": "code",
   "execution_count": 26,
   "id": "69f57dbc",
   "metadata": {},
   "outputs": [],
   "source": [
    "# Update table to include subjectivity, polarity and sentiment values\n",
    "preproc_tweets_df = preproc_tweets_df.withColumn('subjectivity', subjectivity(col(\"text\")))\n",
    "preproc_tweets_df = preproc_tweets_df.withColumn(\"polarity\", polarity(col(\"text\")))\n",
    "preproc_tweets_df = preproc_tweets_df.withColumn(\"sentiment\", sentiment(preproc_tweets_df['polarity']))"
   ]
  },
  {
   "cell_type": "code",
   "execution_count": 27,
   "id": "d5789ce8",
   "metadata": {},
   "outputs": [
    {
     "name": "stderr",
     "output_type": "stream",
     "text": [
      "\r",
      "[Stage 26:>                                                         (0 + 1) / 1]\r"
     ]
    },
    {
     "name": "stdout",
     "output_type": "stream",
     "text": [
      "+--------------------+-------------------+----+-----+---+------------+--------+---------+\n",
      "|                text|          timestamp|year|month|day|subjectivity|polarity|sentiment|\n",
      "+--------------------+-------------------+----+-----+---+------------+--------+---------+\n",
      "| Awww that s a bu...|2009-04-07 06:19:45|2009|    4|  7|        0.45|     0.2| Positive|\n",
      "|s upset that he c...|2009-04-07 06:19:49|2009|    4|  7|         0.0|     0.0|  Neutral|\n",
      "| I dived many tim...|2009-04-07 06:19:53|2009|    4|  7|         0.5|     0.5| Positive|\n",
      "|my whole body fee...|2009-04-07 06:19:57|2009|    4|  7|         0.4|     0.2| Positive|\n",
      "| no it s not beha...|2009-04-07 06:19:57|2009|    4|  7|         1.0|  -0.625| Negative|\n",
      "+--------------------+-------------------+----+-----+---+------------+--------+---------+\n",
      "only showing top 5 rows\n",
      "\n"
     ]
    },
    {
     "name": "stderr",
     "output_type": "stream",
     "text": [
      "\r",
      "                                                                                \r"
     ]
    }
   ],
   "source": [
    "# Show first 5 rows\n",
    "preproc_tweets_df.show(5)"
   ]
  },
  {
   "cell_type": "code",
   "execution_count": 39,
   "id": "b14d7116",
   "metadata": {},
   "outputs": [],
   "source": [
    " # Define output table columns order\n",
    "out_cols = ['timestamp', 'year', 'month', 'day', 'text', 'sentiment']"
   ]
  },
  {
   "cell_type": "code",
   "execution_count": 41,
   "id": "d4cfe7a6",
   "metadata": {},
   "outputs": [],
   "source": [
    "# Apply columns order to table\n",
    "tweets_out_df = preproc_tweets_df.select(out_cols)"
   ]
  },
  {
   "cell_type": "code",
   "execution_count": 42,
   "id": "c4d1b858",
   "metadata": {},
   "outputs": [
    {
     "name": "stderr",
     "output_type": "stream",
     "text": [
      "\r",
      "[Stage 27:>                                                         (0 + 1) / 1]\r"
     ]
    },
    {
     "name": "stdout",
     "output_type": "stream",
     "text": [
      "+-------------------+----+-----+---+--------------------+---------+\n",
      "|          timestamp|year|month|day|                text|sentiment|\n",
      "+-------------------+----+-----+---+--------------------+---------+\n",
      "|2009-04-07 06:19:45|2009|    4|  7| Awww that s a bu...| Positive|\n",
      "|2009-04-07 06:19:49|2009|    4|  7|s upset that he c...|  Neutral|\n",
      "|2009-04-07 06:19:53|2009|    4|  7| I dived many tim...| Positive|\n",
      "|2009-04-07 06:19:57|2009|    4|  7|my whole body fee...| Positive|\n",
      "|2009-04-07 06:19:57|2009|    4|  7| no it s not beha...| Negative|\n",
      "+-------------------+----+-----+---+--------------------+---------+\n",
      "only showing top 5 rows\n",
      "\n"
     ]
    },
    {
     "name": "stderr",
     "output_type": "stream",
     "text": [
      "\r",
      "                                                                                \r"
     ]
    }
   ],
   "source": [
    "# Show first 5 rows\n",
    "tweets_out_df.show(5)"
   ]
  },
  {
   "cell_type": "code",
   "execution_count": 43,
   "id": "13585b02",
   "metadata": {},
   "outputs": [
    {
     "name": "stdout",
     "output_type": "stream",
     "text": [
      "root\n",
      " |-- timestamp: timestamp (nullable = true)\n",
      " |-- year: string (nullable = true)\n",
      " |-- month: string (nullable = true)\n",
      " |-- day: string (nullable = true)\n",
      " |-- text: string (nullable = true)\n",
      " |-- sentiment: string (nullable = true)\n",
      "\n"
     ]
    }
   ],
   "source": [
    "# Show output table schema\n",
    "tweets_out_df.printSchema()"
   ]
  },
  {
   "cell_type": "code",
   "execution_count": 44,
   "id": "315b68c7",
   "metadata": {},
   "outputs": [
    {
     "name": "stderr",
     "output_type": "stream",
     "text": [
      "                                                                                \r"
     ]
    }
   ],
   "source": [
    "# Write processed data to table tweets_output into MySQL database Tweets_DB \n",
    "tweets_out_df.write.format(\"jdbc\") \\\n",
    "  .option(\"driver\",\"com.mysql.cj.jdbc.Driver\") \\\n",
    "  .option(\"url\", \"jdbc:mysql://localhost:3306/Tweets_DB\") \\\n",
    "  .option(\"dbtable\", \"tweets_output\") \\\n",
    "  .option(\"user\", \"root\") \\\n",
    "  .option(\"password\", \"password\") \\\n",
    "  .mode(\"overwrite\") \\\n",
    "  .save()"
   ]
  }
 ],
 "metadata": {
  "kernelspec": {
   "display_name": "Python 3 (ipykernel)",
   "language": "python",
   "name": "python3"
  },
  "language_info": {
   "codemirror_mode": {
    "name": "ipython",
    "version": 3
   },
   "file_extension": ".py",
   "mimetype": "text/x-python",
   "name": "python",
   "nbconvert_exporter": "python",
   "pygments_lexer": "ipython3",
   "version": "3.9.13"
  }
 },
 "nbformat": 4,
 "nbformat_minor": 5
}
