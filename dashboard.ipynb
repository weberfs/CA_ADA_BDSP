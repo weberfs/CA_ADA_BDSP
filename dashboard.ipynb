{
 "cells": [
  {
   "cell_type": "code",
   "execution_count": 1,
   "id": "c5f6d941",
   "metadata": {},
   "outputs": [
    {
     "data": {
      "application/javascript": [
       "(function(root) {\n",
       "  function now() {\n",
       "    return new Date();\n",
       "  }\n",
       "\n",
       "  var force = true;\n",
       "\n",
       "  if (typeof root._bokeh_onload_callbacks === \"undefined\" || force === true) {\n",
       "    root._bokeh_onload_callbacks = [];\n",
       "    root._bokeh_is_loading = undefined;\n",
       "  }\n",
       "\n",
       "  if (typeof (root._bokeh_timeout) === \"undefined\" || force === true) {\n",
       "    root._bokeh_timeout = Date.now() + 5000;\n",
       "    root._bokeh_failed_load = false;\n",
       "  }\n",
       "\n",
       "  function run_callbacks() {\n",
       "    try {\n",
       "      root._bokeh_onload_callbacks.forEach(function(callback) {\n",
       "        if (callback != null)\n",
       "          callback();\n",
       "      });\n",
       "    } finally {\n",
       "      delete root._bokeh_onload_callbacks\n",
       "    }\n",
       "    console.debug(\"Bokeh: all callbacks have finished\");\n",
       "  }\n",
       "\n",
       "  function load_libs(css_urls, js_urls, js_modules, callback) {\n",
       "    if (css_urls == null) css_urls = [];\n",
       "    if (js_urls == null) js_urls = [];\n",
       "    if (js_modules == null) js_modules = [];\n",
       "\n",
       "    root._bokeh_onload_callbacks.push(callback);\n",
       "    if (root._bokeh_is_loading > 0) {\n",
       "      console.debug(\"Bokeh: BokehJS is being loaded, scheduling callback at\", now());\n",
       "      return null;\n",
       "    }\n",
       "    if (js_urls.length === 0 && js_modules.length === 0) {\n",
       "      run_callbacks();\n",
       "      return null;\n",
       "    }\n",
       "    console.debug(\"Bokeh: BokehJS not loaded, scheduling load and callback at\", now());\n",
       "\n",
       "    function on_load() {\n",
       "      root._bokeh_is_loading--;\n",
       "      if (root._bokeh_is_loading === 0) {\n",
       "        console.debug(\"Bokeh: all BokehJS libraries/stylesheets loaded\");\n",
       "        run_callbacks()\n",
       "      }\n",
       "    }\n",
       "\n",
       "    function on_error() {\n",
       "      console.error(\"failed to load \" + url);\n",
       "    }\n",
       "\n",
       "    for (var i = 0; i < css_urls.length; i++) {\n",
       "      var url = css_urls[i];\n",
       "      const element = document.createElement(\"link\");\n",
       "      element.onload = on_load;\n",
       "      element.onerror = on_error;\n",
       "      element.rel = \"stylesheet\";\n",
       "      element.type = \"text/css\";\n",
       "      element.href = url;\n",
       "      console.debug(\"Bokeh: injecting link tag for BokehJS stylesheet: \", url);\n",
       "      document.body.appendChild(element);\n",
       "    }\n",
       "\n",
       "    var skip = [];\n",
       "    if (window.requirejs) {\n",
       "      window.requirejs.config({'packages': {}, 'paths': {'tabulator': 'https://unpkg.com/tabulator-tables@4.9.3/dist/js/tabulator', 'moment': 'https://cdn.jsdelivr.net/npm/luxon/build/global/luxon.min', 'gridstack': 'https://cdn.jsdelivr.net/npm/gridstack@4.2.5/dist/gridstack-h5', 'notyf': 'https://cdn.jsdelivr.net/npm/notyf@3/notyf.min'}, 'shim': {'gridstack': {'exports': 'GridStack'}}});\n",
       "      require([\"tabulator\"], function(Tabulator) {\n",
       "\twindow.Tabulator = Tabulator\n",
       "\ton_load()\n",
       "      })\n",
       "      require([\"moment\"], function(moment) {\n",
       "\twindow.moment = moment\n",
       "\ton_load()\n",
       "      })\n",
       "      require([\"gridstack\"], function(GridStack) {\n",
       "\twindow.GridStack = GridStack\n",
       "\ton_load()\n",
       "      })\n",
       "      require([\"notyf\"], function() {\n",
       "\ton_load()\n",
       "      })\n",
       "      root._bokeh_is_loading = css_urls.length + 4;\n",
       "    } else {\n",
       "      root._bokeh_is_loading = css_urls.length + js_urls.length + js_modules.length;\n",
       "    }    if (((window['Tabulator'] !== undefined) && (!(window['Tabulator'] instanceof HTMLElement))) || window.requirejs) {\n",
       "      var urls = ['https://unpkg.com/tabulator-tables@4.9.3/dist/js/tabulator.js'];\n",
       "      for (var i = 0; i < urls.length; i++) {\n",
       "        skip.push(urls[i])\n",
       "      }\n",
       "    }    if (((window['moment'] !== undefined) && (!(window['moment'] instanceof HTMLElement))) || window.requirejs) {\n",
       "      var urls = ['https://cdn.jsdelivr.net/npm/luxon/build/global/luxon.min.js'];\n",
       "      for (var i = 0; i < urls.length; i++) {\n",
       "        skip.push(urls[i])\n",
       "      }\n",
       "    }    if (((window['GridStack'] !== undefined) && (!(window['GridStack'] instanceof HTMLElement))) || window.requirejs) {\n",
       "      var urls = ['https://cdn.jsdelivr.net/npm/gridstack@4.2.5/dist/gridstack-h5.js'];\n",
       "      for (var i = 0; i < urls.length; i++) {\n",
       "        skip.push(urls[i])\n",
       "      }\n",
       "    }    if (((window['Notyf'] !== undefined) && (!(window['Notyf'] instanceof HTMLElement))) || window.requirejs) {\n",
       "      var urls = ['https://cdn.jsdelivr.net/npm/notyf@3/notyf.min.js'];\n",
       "      for (var i = 0; i < urls.length; i++) {\n",
       "        skip.push(urls[i])\n",
       "      }\n",
       "    }    for (var i = 0; i < js_urls.length; i++) {\n",
       "      var url = js_urls[i];\n",
       "      if (skip.indexOf(url) >= 0) {\n",
       "\tif (!window.requirejs) {\n",
       "\t  on_load();\n",
       "\t}\n",
       "\tcontinue;\n",
       "      }\n",
       "      var element = document.createElement('script');\n",
       "      element.onload = on_load;\n",
       "      element.onerror = on_error;\n",
       "      element.async = false;\n",
       "      element.src = url;\n",
       "      console.debug(\"Bokeh: injecting script tag for BokehJS library: \", url);\n",
       "      document.head.appendChild(element);\n",
       "    }\n",
       "    for (var i = 0; i < js_modules.length; i++) {\n",
       "      var url = js_modules[i];\n",
       "      if (skip.indexOf(url) >= 0) {\n",
       "\tif (!window.requirejs) {\n",
       "\t  on_load();\n",
       "\t}\n",
       "\tcontinue;\n",
       "      }\n",
       "      var element = document.createElement('script');\n",
       "      element.onload = on_load;\n",
       "      element.onerror = on_error;\n",
       "      element.async = false;\n",
       "      element.src = url;\n",
       "      element.type = \"module\";\n",
       "      console.debug(\"Bokeh: injecting script tag for BokehJS library: \", url);\n",
       "      document.head.appendChild(element);\n",
       "    }\n",
       "    if (!js_urls.length && !js_modules.length) {\n",
       "      on_load()\n",
       "    }\n",
       "  };\n",
       "\n",
       "  function inject_raw_css(css) {\n",
       "    const element = document.createElement(\"style\");\n",
       "    element.appendChild(document.createTextNode(css));\n",
       "    document.body.appendChild(element);\n",
       "  }\n",
       "\n",
       "  var js_urls = [\"https://unpkg.com/tabulator-tables@4.9.3/dist/js/tabulator.js\", \"https://cdn.jsdelivr.net/npm/luxon/build/global/luxon.min.js\", \"https://cdn.bokeh.org/bokeh/release/bokeh-2.4.3.min.js\", \"https://cdn.bokeh.org/bokeh/release/bokeh-gl-2.4.3.min.js\", \"https://cdn.bokeh.org/bokeh/release/bokeh-widgets-2.4.3.min.js\", \"https://cdn.bokeh.org/bokeh/release/bokeh-tables-2.4.3.min.js\", \"https://cdn.bokeh.org/bokeh/release/bokeh-mathjax-2.4.3.min.js\", \"https://cdn.jsdelivr.net/npm/notyf@3/notyf.min.js\", \"https://unpkg.com/@holoviz/panel@0.13.1/dist/panel.min.js\"];\n",
       "  var js_modules = [];\n",
       "  var css_urls = [\"https://unpkg.com/tabulator-tables@4.9.3/dist/css/tabulator_simple.min.css\", \"https://cdn.jsdelivr.net/npm/notyf@3/notyf.min.css\", \"https://cdnjs.cloudflare.com/ajax/libs/font-awesome/5.15.1/css/all.min.css\", \"https://unpkg.com/@holoviz/panel@0.13.1/dist/css/alerts.css\", \"https://unpkg.com/@holoviz/panel@0.13.1/dist/css/card.css\", \"https://unpkg.com/@holoviz/panel@0.13.1/dist/css/dataframe.css\", \"https://unpkg.com/@holoviz/panel@0.13.1/dist/css/debugger.css\", \"https://unpkg.com/@holoviz/panel@0.13.1/dist/css/json.css\", \"https://unpkg.com/@holoviz/panel@0.13.1/dist/css/loading.css\", \"https://unpkg.com/@holoviz/panel@0.13.1/dist/css/markdown.css\", \"https://unpkg.com/@holoviz/panel@0.13.1/dist/css/widgets.css\"];\n",
       "  var inline_js = [    function(Bokeh) {\n",
       "      inject_raw_css(\"\\n    .bk.pn-loading.arcs:before {\\n      background-image: url(\\\"data:image/svg+xml;base64,PHN2ZyB4bWxucz0iaHR0cDovL3d3dy53My5vcmcvMjAwMC9zdmciIHhtbG5zOnhsaW5rPSJodHRwOi8vd3d3LnczLm9yZy8xOTk5L3hsaW5rIiBzdHlsZT0ibWFyZ2luOiBhdXRvOyBiYWNrZ3JvdW5kOiBub25lOyBkaXNwbGF5OiBibG9jazsgc2hhcGUtcmVuZGVyaW5nOiBhdXRvOyIgdmlld0JveD0iMCAwIDEwMCAxMDAiIHByZXNlcnZlQXNwZWN0UmF0aW89InhNaWRZTWlkIj4gIDxjaXJjbGUgY3g9IjUwIiBjeT0iNTAiIHI9IjMyIiBzdHJva2Utd2lkdGg9IjgiIHN0cm9rZT0iI2MzYzNjMyIgc3Ryb2tlLWRhc2hhcnJheT0iNTAuMjY1NDgyNDU3NDM2NjkgNTAuMjY1NDgyNDU3NDM2NjkiIGZpbGw9Im5vbmUiIHN0cm9rZS1saW5lY2FwPSJyb3VuZCI+ICAgIDxhbmltYXRlVHJhbnNmb3JtIGF0dHJpYnV0ZU5hbWU9InRyYW5zZm9ybSIgdHlwZT0icm90YXRlIiByZXBlYXRDb3VudD0iaW5kZWZpbml0ZSIgZHVyPSIxcyIga2V5VGltZXM9IjA7MSIgdmFsdWVzPSIwIDUwIDUwOzM2MCA1MCA1MCI+PC9hbmltYXRlVHJhbnNmb3JtPiAgPC9jaXJjbGU+PC9zdmc+\\\");\\n      background-size: auto calc(min(50%, 400px));\\n    }\\n    \");\n",
       "    },    function(Bokeh) {\n",
       "      Bokeh.set_log_level(\"info\");\n",
       "    },\n",
       "function(Bokeh) {} // ensure no trailing comma for IE\n",
       "  ];\n",
       "\n",
       "  function run_inline_js() {\n",
       "    if ((root.Bokeh !== undefined) || (force === true)) {\n",
       "      for (var i = 0; i < inline_js.length; i++) {\n",
       "        inline_js[i].call(root, root.Bokeh);\n",
       "      }} else if (Date.now() < root._bokeh_timeout) {\n",
       "      setTimeout(run_inline_js, 100);\n",
       "    } else if (!root._bokeh_failed_load) {\n",
       "      console.log(\"Bokeh: BokehJS failed to load within specified timeout.\");\n",
       "      root._bokeh_failed_load = true;\n",
       "    }\n",
       "  }\n",
       "\n",
       "  if (root._bokeh_is_loading === 0) {\n",
       "    console.debug(\"Bokeh: BokehJS loaded, going straight to plotting\");\n",
       "    run_inline_js();\n",
       "  } else {\n",
       "    load_libs(css_urls, js_urls, js_modules, function() {\n",
       "      console.debug(\"Bokeh: BokehJS plotting callback run at\", now());\n",
       "      run_inline_js();\n",
       "    });\n",
       "  }\n",
       "}(window));"
      ],
      "application/vnd.holoviews_load.v0+json": "(function(root) {\n  function now() {\n    return new Date();\n  }\n\n  var force = true;\n\n  if (typeof root._bokeh_onload_callbacks === \"undefined\" || force === true) {\n    root._bokeh_onload_callbacks = [];\n    root._bokeh_is_loading = undefined;\n  }\n\n  if (typeof (root._bokeh_timeout) === \"undefined\" || force === true) {\n    root._bokeh_timeout = Date.now() + 5000;\n    root._bokeh_failed_load = false;\n  }\n\n  function run_callbacks() {\n    try {\n      root._bokeh_onload_callbacks.forEach(function(callback) {\n        if (callback != null)\n          callback();\n      });\n    } finally {\n      delete root._bokeh_onload_callbacks\n    }\n    console.debug(\"Bokeh: all callbacks have finished\");\n  }\n\n  function load_libs(css_urls, js_urls, js_modules, callback) {\n    if (css_urls == null) css_urls = [];\n    if (js_urls == null) js_urls = [];\n    if (js_modules == null) js_modules = [];\n\n    root._bokeh_onload_callbacks.push(callback);\n    if (root._bokeh_is_loading > 0) {\n      console.debug(\"Bokeh: BokehJS is being loaded, scheduling callback at\", now());\n      return null;\n    }\n    if (js_urls.length === 0 && js_modules.length === 0) {\n      run_callbacks();\n      return null;\n    }\n    console.debug(\"Bokeh: BokehJS not loaded, scheduling load and callback at\", now());\n\n    function on_load() {\n      root._bokeh_is_loading--;\n      if (root._bokeh_is_loading === 0) {\n        console.debug(\"Bokeh: all BokehJS libraries/stylesheets loaded\");\n        run_callbacks()\n      }\n    }\n\n    function on_error() {\n      console.error(\"failed to load \" + url);\n    }\n\n    for (var i = 0; i < css_urls.length; i++) {\n      var url = css_urls[i];\n      const element = document.createElement(\"link\");\n      element.onload = on_load;\n      element.onerror = on_error;\n      element.rel = \"stylesheet\";\n      element.type = \"text/css\";\n      element.href = url;\n      console.debug(\"Bokeh: injecting link tag for BokehJS stylesheet: \", url);\n      document.body.appendChild(element);\n    }\n\n    var skip = [];\n    if (window.requirejs) {\n      window.requirejs.config({'packages': {}, 'paths': {'tabulator': 'https://unpkg.com/tabulator-tables@4.9.3/dist/js/tabulator', 'moment': 'https://cdn.jsdelivr.net/npm/luxon/build/global/luxon.min', 'gridstack': 'https://cdn.jsdelivr.net/npm/gridstack@4.2.5/dist/gridstack-h5', 'notyf': 'https://cdn.jsdelivr.net/npm/notyf@3/notyf.min'}, 'shim': {'gridstack': {'exports': 'GridStack'}}});\n      require([\"tabulator\"], function(Tabulator) {\n\twindow.Tabulator = Tabulator\n\ton_load()\n      })\n      require([\"moment\"], function(moment) {\n\twindow.moment = moment\n\ton_load()\n      })\n      require([\"gridstack\"], function(GridStack) {\n\twindow.GridStack = GridStack\n\ton_load()\n      })\n      require([\"notyf\"], function() {\n\ton_load()\n      })\n      root._bokeh_is_loading = css_urls.length + 4;\n    } else {\n      root._bokeh_is_loading = css_urls.length + js_urls.length + js_modules.length;\n    }    if (((window['Tabulator'] !== undefined) && (!(window['Tabulator'] instanceof HTMLElement))) || window.requirejs) {\n      var urls = ['https://unpkg.com/tabulator-tables@4.9.3/dist/js/tabulator.js'];\n      for (var i = 0; i < urls.length; i++) {\n        skip.push(urls[i])\n      }\n    }    if (((window['moment'] !== undefined) && (!(window['moment'] instanceof HTMLElement))) || window.requirejs) {\n      var urls = ['https://cdn.jsdelivr.net/npm/luxon/build/global/luxon.min.js'];\n      for (var i = 0; i < urls.length; i++) {\n        skip.push(urls[i])\n      }\n    }    if (((window['GridStack'] !== undefined) && (!(window['GridStack'] instanceof HTMLElement))) || window.requirejs) {\n      var urls = ['https://cdn.jsdelivr.net/npm/gridstack@4.2.5/dist/gridstack-h5.js'];\n      for (var i = 0; i < urls.length; i++) {\n        skip.push(urls[i])\n      }\n    }    if (((window['Notyf'] !== undefined) && (!(window['Notyf'] instanceof HTMLElement))) || window.requirejs) {\n      var urls = ['https://cdn.jsdelivr.net/npm/notyf@3/notyf.min.js'];\n      for (var i = 0; i < urls.length; i++) {\n        skip.push(urls[i])\n      }\n    }    for (var i = 0; i < js_urls.length; i++) {\n      var url = js_urls[i];\n      if (skip.indexOf(url) >= 0) {\n\tif (!window.requirejs) {\n\t  on_load();\n\t}\n\tcontinue;\n      }\n      var element = document.createElement('script');\n      element.onload = on_load;\n      element.onerror = on_error;\n      element.async = false;\n      element.src = url;\n      console.debug(\"Bokeh: injecting script tag for BokehJS library: \", url);\n      document.head.appendChild(element);\n    }\n    for (var i = 0; i < js_modules.length; i++) {\n      var url = js_modules[i];\n      if (skip.indexOf(url) >= 0) {\n\tif (!window.requirejs) {\n\t  on_load();\n\t}\n\tcontinue;\n      }\n      var element = document.createElement('script');\n      element.onload = on_load;\n      element.onerror = on_error;\n      element.async = false;\n      element.src = url;\n      element.type = \"module\";\n      console.debug(\"Bokeh: injecting script tag for BokehJS library: \", url);\n      document.head.appendChild(element);\n    }\n    if (!js_urls.length && !js_modules.length) {\n      on_load()\n    }\n  };\n\n  function inject_raw_css(css) {\n    const element = document.createElement(\"style\");\n    element.appendChild(document.createTextNode(css));\n    document.body.appendChild(element);\n  }\n\n  var js_urls = [\"https://unpkg.com/tabulator-tables@4.9.3/dist/js/tabulator.js\", \"https://cdn.jsdelivr.net/npm/luxon/build/global/luxon.min.js\", \"https://cdn.bokeh.org/bokeh/release/bokeh-2.4.3.min.js\", \"https://cdn.bokeh.org/bokeh/release/bokeh-gl-2.4.3.min.js\", \"https://cdn.bokeh.org/bokeh/release/bokeh-widgets-2.4.3.min.js\", \"https://cdn.bokeh.org/bokeh/release/bokeh-tables-2.4.3.min.js\", \"https://cdn.bokeh.org/bokeh/release/bokeh-mathjax-2.4.3.min.js\", \"https://cdn.jsdelivr.net/npm/notyf@3/notyf.min.js\", \"https://unpkg.com/@holoviz/panel@0.13.1/dist/panel.min.js\"];\n  var js_modules = [];\n  var css_urls = [\"https://unpkg.com/tabulator-tables@4.9.3/dist/css/tabulator_simple.min.css\", \"https://cdn.jsdelivr.net/npm/notyf@3/notyf.min.css\", \"https://cdnjs.cloudflare.com/ajax/libs/font-awesome/5.15.1/css/all.min.css\", \"https://unpkg.com/@holoviz/panel@0.13.1/dist/css/alerts.css\", \"https://unpkg.com/@holoviz/panel@0.13.1/dist/css/card.css\", \"https://unpkg.com/@holoviz/panel@0.13.1/dist/css/dataframe.css\", \"https://unpkg.com/@holoviz/panel@0.13.1/dist/css/debugger.css\", \"https://unpkg.com/@holoviz/panel@0.13.1/dist/css/json.css\", \"https://unpkg.com/@holoviz/panel@0.13.1/dist/css/loading.css\", \"https://unpkg.com/@holoviz/panel@0.13.1/dist/css/markdown.css\", \"https://unpkg.com/@holoviz/panel@0.13.1/dist/css/widgets.css\"];\n  var inline_js = [    function(Bokeh) {\n      inject_raw_css(\"\\n    .bk.pn-loading.arcs:before {\\n      background-image: url(\\\"data:image/svg+xml;base64,PHN2ZyB4bWxucz0iaHR0cDovL3d3dy53My5vcmcvMjAwMC9zdmciIHhtbG5zOnhsaW5rPSJodHRwOi8vd3d3LnczLm9yZy8xOTk5L3hsaW5rIiBzdHlsZT0ibWFyZ2luOiBhdXRvOyBiYWNrZ3JvdW5kOiBub25lOyBkaXNwbGF5OiBibG9jazsgc2hhcGUtcmVuZGVyaW5nOiBhdXRvOyIgdmlld0JveD0iMCAwIDEwMCAxMDAiIHByZXNlcnZlQXNwZWN0UmF0aW89InhNaWRZTWlkIj4gIDxjaXJjbGUgY3g9IjUwIiBjeT0iNTAiIHI9IjMyIiBzdHJva2Utd2lkdGg9IjgiIHN0cm9rZT0iI2MzYzNjMyIgc3Ryb2tlLWRhc2hhcnJheT0iNTAuMjY1NDgyNDU3NDM2NjkgNTAuMjY1NDgyNDU3NDM2NjkiIGZpbGw9Im5vbmUiIHN0cm9rZS1saW5lY2FwPSJyb3VuZCI+ICAgIDxhbmltYXRlVHJhbnNmb3JtIGF0dHJpYnV0ZU5hbWU9InRyYW5zZm9ybSIgdHlwZT0icm90YXRlIiByZXBlYXRDb3VudD0iaW5kZWZpbml0ZSIgZHVyPSIxcyIga2V5VGltZXM9IjA7MSIgdmFsdWVzPSIwIDUwIDUwOzM2MCA1MCA1MCI+PC9hbmltYXRlVHJhbnNmb3JtPiAgPC9jaXJjbGU+PC9zdmc+\\\");\\n      background-size: auto calc(min(50%, 400px));\\n    }\\n    \");\n    },    function(Bokeh) {\n      Bokeh.set_log_level(\"info\");\n    },\nfunction(Bokeh) {} // ensure no trailing comma for IE\n  ];\n\n  function run_inline_js() {\n    if ((root.Bokeh !== undefined) || (force === true)) {\n      for (var i = 0; i < inline_js.length; i++) {\n        inline_js[i].call(root, root.Bokeh);\n      }} else if (Date.now() < root._bokeh_timeout) {\n      setTimeout(run_inline_js, 100);\n    } else if (!root._bokeh_failed_load) {\n      console.log(\"Bokeh: BokehJS failed to load within specified timeout.\");\n      root._bokeh_failed_load = true;\n    }\n  }\n\n  if (root._bokeh_is_loading === 0) {\n    console.debug(\"Bokeh: BokehJS loaded, going straight to plotting\");\n    run_inline_js();\n  } else {\n    load_libs(css_urls, js_urls, js_modules, function() {\n      console.debug(\"Bokeh: BokehJS plotting callback run at\", now());\n      run_inline_js();\n    });\n  }\n}(window));"
     },
     "metadata": {},
     "output_type": "display_data"
    },
    {
     "data": {
      "application/javascript": [
       "\n",
       "if ((window.PyViz === undefined) || (window.PyViz instanceof HTMLElement)) {\n",
       "  window.PyViz = {comms: {}, comm_status:{}, kernels:{}, receivers: {}, plot_index: []}\n",
       "}\n",
       "\n",
       "\n",
       "    function JupyterCommManager() {\n",
       "    }\n",
       "\n",
       "    JupyterCommManager.prototype.register_target = function(plot_id, comm_id, msg_handler) {\n",
       "      if (window.comm_manager || ((window.Jupyter !== undefined) && (Jupyter.notebook.kernel != null))) {\n",
       "        var comm_manager = window.comm_manager || Jupyter.notebook.kernel.comm_manager;\n",
       "        comm_manager.register_target(comm_id, function(comm) {\n",
       "          comm.on_msg(msg_handler);\n",
       "        });\n",
       "      } else if ((plot_id in window.PyViz.kernels) && (window.PyViz.kernels[plot_id])) {\n",
       "        window.PyViz.kernels[plot_id].registerCommTarget(comm_id, function(comm) {\n",
       "          comm.onMsg = msg_handler;\n",
       "        });\n",
       "      } else if (typeof google != 'undefined' && google.colab.kernel != null) {\n",
       "        google.colab.kernel.comms.registerTarget(comm_id, (comm) => {\n",
       "          var messages = comm.messages[Symbol.asyncIterator]();\n",
       "          function processIteratorResult(result) {\n",
       "            var message = result.value;\n",
       "            console.log(message)\n",
       "            var content = {data: message.data, comm_id};\n",
       "            var buffers = []\n",
       "            for (var buffer of message.buffers || []) {\n",
       "              buffers.push(new DataView(buffer))\n",
       "            }\n",
       "            var metadata = message.metadata || {};\n",
       "            var msg = {content, buffers, metadata}\n",
       "            msg_handler(msg);\n",
       "            return messages.next().then(processIteratorResult);\n",
       "          }\n",
       "          return messages.next().then(processIteratorResult);\n",
       "        })\n",
       "      }\n",
       "    }\n",
       "\n",
       "    JupyterCommManager.prototype.get_client_comm = function(plot_id, comm_id, msg_handler) {\n",
       "      if (comm_id in window.PyViz.comms) {\n",
       "        return window.PyViz.comms[comm_id];\n",
       "      } else if (window.comm_manager || ((window.Jupyter !== undefined) && (Jupyter.notebook.kernel != null))) {\n",
       "        var comm_manager = window.comm_manager || Jupyter.notebook.kernel.comm_manager;\n",
       "        var comm = comm_manager.new_comm(comm_id, {}, {}, {}, comm_id);\n",
       "        if (msg_handler) {\n",
       "          comm.on_msg(msg_handler);\n",
       "        }\n",
       "      } else if ((plot_id in window.PyViz.kernels) && (window.PyViz.kernels[plot_id])) {\n",
       "        var comm = window.PyViz.kernels[plot_id].connectToComm(comm_id);\n",
       "        comm.open();\n",
       "        if (msg_handler) {\n",
       "          comm.onMsg = msg_handler;\n",
       "        }\n",
       "      } else if (typeof google != 'undefined' && google.colab.kernel != null) {\n",
       "        var comm_promise = google.colab.kernel.comms.open(comm_id)\n",
       "        comm_promise.then((comm) => {\n",
       "          window.PyViz.comms[comm_id] = comm;\n",
       "          if (msg_handler) {\n",
       "            var messages = comm.messages[Symbol.asyncIterator]();\n",
       "            function processIteratorResult(result) {\n",
       "              var message = result.value;\n",
       "              var content = {data: message.data};\n",
       "              var metadata = message.metadata || {comm_id};\n",
       "              var msg = {content, metadata}\n",
       "              msg_handler(msg);\n",
       "              return messages.next().then(processIteratorResult);\n",
       "            }\n",
       "            return messages.next().then(processIteratorResult);\n",
       "          }\n",
       "        }) \n",
       "        var sendClosure = (data, metadata, buffers, disposeOnDone) => {\n",
       "          return comm_promise.then((comm) => {\n",
       "            comm.send(data, metadata, buffers, disposeOnDone);\n",
       "          });\n",
       "        };\n",
       "        var comm = {\n",
       "          send: sendClosure\n",
       "        };\n",
       "      }\n",
       "      window.PyViz.comms[comm_id] = comm;\n",
       "      return comm;\n",
       "    }\n",
       "    window.PyViz.comm_manager = new JupyterCommManager();\n",
       "    \n",
       "\n",
       "\n",
       "var JS_MIME_TYPE = 'application/javascript';\n",
       "var HTML_MIME_TYPE = 'text/html';\n",
       "var EXEC_MIME_TYPE = 'application/vnd.holoviews_exec.v0+json';\n",
       "var CLASS_NAME = 'output';\n",
       "\n",
       "/**\n",
       " * Render data to the DOM node\n",
       " */\n",
       "function render(props, node) {\n",
       "  var div = document.createElement(\"div\");\n",
       "  var script = document.createElement(\"script\");\n",
       "  node.appendChild(div);\n",
       "  node.appendChild(script);\n",
       "}\n",
       "\n",
       "/**\n",
       " * Handle when a new output is added\n",
       " */\n",
       "function handle_add_output(event, handle) {\n",
       "  var output_area = handle.output_area;\n",
       "  var output = handle.output;\n",
       "  if ((output.data == undefined) || (!output.data.hasOwnProperty(EXEC_MIME_TYPE))) {\n",
       "    return\n",
       "  }\n",
       "  var id = output.metadata[EXEC_MIME_TYPE][\"id\"];\n",
       "  var toinsert = output_area.element.find(\".\" + CLASS_NAME.split(' ')[0]);\n",
       "  if (id !== undefined) {\n",
       "    var nchildren = toinsert.length;\n",
       "    var html_node = toinsert[nchildren-1].children[0];\n",
       "    html_node.innerHTML = output.data[HTML_MIME_TYPE];\n",
       "    var scripts = [];\n",
       "    var nodelist = html_node.querySelectorAll(\"script\");\n",
       "    for (var i in nodelist) {\n",
       "      if (nodelist.hasOwnProperty(i)) {\n",
       "        scripts.push(nodelist[i])\n",
       "      }\n",
       "    }\n",
       "\n",
       "    scripts.forEach( function (oldScript) {\n",
       "      var newScript = document.createElement(\"script\");\n",
       "      var attrs = [];\n",
       "      var nodemap = oldScript.attributes;\n",
       "      for (var j in nodemap) {\n",
       "        if (nodemap.hasOwnProperty(j)) {\n",
       "          attrs.push(nodemap[j])\n",
       "        }\n",
       "      }\n",
       "      attrs.forEach(function(attr) { newScript.setAttribute(attr.name, attr.value) });\n",
       "      newScript.appendChild(document.createTextNode(oldScript.innerHTML));\n",
       "      oldScript.parentNode.replaceChild(newScript, oldScript);\n",
       "    });\n",
       "    if (JS_MIME_TYPE in output.data) {\n",
       "      toinsert[nchildren-1].children[1].textContent = output.data[JS_MIME_TYPE];\n",
       "    }\n",
       "    output_area._hv_plot_id = id;\n",
       "    if ((window.Bokeh !== undefined) && (id in Bokeh.index)) {\n",
       "      window.PyViz.plot_index[id] = Bokeh.index[id];\n",
       "    } else {\n",
       "      window.PyViz.plot_index[id] = null;\n",
       "    }\n",
       "  } else if (output.metadata[EXEC_MIME_TYPE][\"server_id\"] !== undefined) {\n",
       "    var bk_div = document.createElement(\"div\");\n",
       "    bk_div.innerHTML = output.data[HTML_MIME_TYPE];\n",
       "    var script_attrs = bk_div.children[0].attributes;\n",
       "    for (var i = 0; i < script_attrs.length; i++) {\n",
       "      toinsert[toinsert.length - 1].childNodes[1].setAttribute(script_attrs[i].name, script_attrs[i].value);\n",
       "    }\n",
       "    // store reference to server id on output_area\n",
       "    output_area._bokeh_server_id = output.metadata[EXEC_MIME_TYPE][\"server_id\"];\n",
       "  }\n",
       "}\n",
       "\n",
       "/**\n",
       " * Handle when an output is cleared or removed\n",
       " */\n",
       "function handle_clear_output(event, handle) {\n",
       "  var id = handle.cell.output_area._hv_plot_id;\n",
       "  var server_id = handle.cell.output_area._bokeh_server_id;\n",
       "  if (((id === undefined) || !(id in PyViz.plot_index)) && (server_id !== undefined)) { return; }\n",
       "  var comm = window.PyViz.comm_manager.get_client_comm(\"hv-extension-comm\", \"hv-extension-comm\", function () {});\n",
       "  if (server_id !== null) {\n",
       "    comm.send({event_type: 'server_delete', 'id': server_id});\n",
       "    return;\n",
       "  } else if (comm !== null) {\n",
       "    comm.send({event_type: 'delete', 'id': id});\n",
       "  }\n",
       "  delete PyViz.plot_index[id];\n",
       "  if ((window.Bokeh !== undefined) & (id in window.Bokeh.index)) {\n",
       "    var doc = window.Bokeh.index[id].model.document\n",
       "    doc.clear();\n",
       "    const i = window.Bokeh.documents.indexOf(doc);\n",
       "    if (i > -1) {\n",
       "      window.Bokeh.documents.splice(i, 1);\n",
       "    }\n",
       "  }\n",
       "}\n",
       "\n",
       "/**\n",
       " * Handle kernel restart event\n",
       " */\n",
       "function handle_kernel_cleanup(event, handle) {\n",
       "  delete PyViz.comms[\"hv-extension-comm\"];\n",
       "  window.PyViz.plot_index = {}\n",
       "}\n",
       "\n",
       "/**\n",
       " * Handle update_display_data messages\n",
       " */\n",
       "function handle_update_output(event, handle) {\n",
       "  handle_clear_output(event, {cell: {output_area: handle.output_area}})\n",
       "  handle_add_output(event, handle)\n",
       "}\n",
       "\n",
       "function register_renderer(events, OutputArea) {\n",
       "  function append_mime(data, metadata, element) {\n",
       "    // create a DOM node to render to\n",
       "    var toinsert = this.create_output_subarea(\n",
       "    metadata,\n",
       "    CLASS_NAME,\n",
       "    EXEC_MIME_TYPE\n",
       "    );\n",
       "    this.keyboard_manager.register_events(toinsert);\n",
       "    // Render to node\n",
       "    var props = {data: data, metadata: metadata[EXEC_MIME_TYPE]};\n",
       "    render(props, toinsert[0]);\n",
       "    element.append(toinsert);\n",
       "    return toinsert\n",
       "  }\n",
       "\n",
       "  events.on('output_added.OutputArea', handle_add_output);\n",
       "  events.on('output_updated.OutputArea', handle_update_output);\n",
       "  events.on('clear_output.CodeCell', handle_clear_output);\n",
       "  events.on('delete.Cell', handle_clear_output);\n",
       "  events.on('kernel_ready.Kernel', handle_kernel_cleanup);\n",
       "\n",
       "  OutputArea.prototype.register_mime_type(EXEC_MIME_TYPE, append_mime, {\n",
       "    safe: true,\n",
       "    index: 0\n",
       "  });\n",
       "}\n",
       "\n",
       "if (window.Jupyter !== undefined) {\n",
       "  try {\n",
       "    var events = require('base/js/events');\n",
       "    var OutputArea = require('notebook/js/outputarea').OutputArea;\n",
       "    if (OutputArea.prototype.mime_types().indexOf(EXEC_MIME_TYPE) == -1) {\n",
       "      register_renderer(events, OutputArea);\n",
       "    }\n",
       "  } catch(err) {\n",
       "  }\n",
       "}\n"
      ],
      "application/vnd.holoviews_load.v0+json": "\nif ((window.PyViz === undefined) || (window.PyViz instanceof HTMLElement)) {\n  window.PyViz = {comms: {}, comm_status:{}, kernels:{}, receivers: {}, plot_index: []}\n}\n\n\n    function JupyterCommManager() {\n    }\n\n    JupyterCommManager.prototype.register_target = function(plot_id, comm_id, msg_handler) {\n      if (window.comm_manager || ((window.Jupyter !== undefined) && (Jupyter.notebook.kernel != null))) {\n        var comm_manager = window.comm_manager || Jupyter.notebook.kernel.comm_manager;\n        comm_manager.register_target(comm_id, function(comm) {\n          comm.on_msg(msg_handler);\n        });\n      } else if ((plot_id in window.PyViz.kernels) && (window.PyViz.kernels[plot_id])) {\n        window.PyViz.kernels[plot_id].registerCommTarget(comm_id, function(comm) {\n          comm.onMsg = msg_handler;\n        });\n      } else if (typeof google != 'undefined' && google.colab.kernel != null) {\n        google.colab.kernel.comms.registerTarget(comm_id, (comm) => {\n          var messages = comm.messages[Symbol.asyncIterator]();\n          function processIteratorResult(result) {\n            var message = result.value;\n            console.log(message)\n            var content = {data: message.data, comm_id};\n            var buffers = []\n            for (var buffer of message.buffers || []) {\n              buffers.push(new DataView(buffer))\n            }\n            var metadata = message.metadata || {};\n            var msg = {content, buffers, metadata}\n            msg_handler(msg);\n            return messages.next().then(processIteratorResult);\n          }\n          return messages.next().then(processIteratorResult);\n        })\n      }\n    }\n\n    JupyterCommManager.prototype.get_client_comm = function(plot_id, comm_id, msg_handler) {\n      if (comm_id in window.PyViz.comms) {\n        return window.PyViz.comms[comm_id];\n      } else if (window.comm_manager || ((window.Jupyter !== undefined) && (Jupyter.notebook.kernel != null))) {\n        var comm_manager = window.comm_manager || Jupyter.notebook.kernel.comm_manager;\n        var comm = comm_manager.new_comm(comm_id, {}, {}, {}, comm_id);\n        if (msg_handler) {\n          comm.on_msg(msg_handler);\n        }\n      } else if ((plot_id in window.PyViz.kernels) && (window.PyViz.kernels[plot_id])) {\n        var comm = window.PyViz.kernels[plot_id].connectToComm(comm_id);\n        comm.open();\n        if (msg_handler) {\n          comm.onMsg = msg_handler;\n        }\n      } else if (typeof google != 'undefined' && google.colab.kernel != null) {\n        var comm_promise = google.colab.kernel.comms.open(comm_id)\n        comm_promise.then((comm) => {\n          window.PyViz.comms[comm_id] = comm;\n          if (msg_handler) {\n            var messages = comm.messages[Symbol.asyncIterator]();\n            function processIteratorResult(result) {\n              var message = result.value;\n              var content = {data: message.data};\n              var metadata = message.metadata || {comm_id};\n              var msg = {content, metadata}\n              msg_handler(msg);\n              return messages.next().then(processIteratorResult);\n            }\n            return messages.next().then(processIteratorResult);\n          }\n        }) \n        var sendClosure = (data, metadata, buffers, disposeOnDone) => {\n          return comm_promise.then((comm) => {\n            comm.send(data, metadata, buffers, disposeOnDone);\n          });\n        };\n        var comm = {\n          send: sendClosure\n        };\n      }\n      window.PyViz.comms[comm_id] = comm;\n      return comm;\n    }\n    window.PyViz.comm_manager = new JupyterCommManager();\n    \n\n\nvar JS_MIME_TYPE = 'application/javascript';\nvar HTML_MIME_TYPE = 'text/html';\nvar EXEC_MIME_TYPE = 'application/vnd.holoviews_exec.v0+json';\nvar CLASS_NAME = 'output';\n\n/**\n * Render data to the DOM node\n */\nfunction render(props, node) {\n  var div = document.createElement(\"div\");\n  var script = document.createElement(\"script\");\n  node.appendChild(div);\n  node.appendChild(script);\n}\n\n/**\n * Handle when a new output is added\n */\nfunction handle_add_output(event, handle) {\n  var output_area = handle.output_area;\n  var output = handle.output;\n  if ((output.data == undefined) || (!output.data.hasOwnProperty(EXEC_MIME_TYPE))) {\n    return\n  }\n  var id = output.metadata[EXEC_MIME_TYPE][\"id\"];\n  var toinsert = output_area.element.find(\".\" + CLASS_NAME.split(' ')[0]);\n  if (id !== undefined) {\n    var nchildren = toinsert.length;\n    var html_node = toinsert[nchildren-1].children[0];\n    html_node.innerHTML = output.data[HTML_MIME_TYPE];\n    var scripts = [];\n    var nodelist = html_node.querySelectorAll(\"script\");\n    for (var i in nodelist) {\n      if (nodelist.hasOwnProperty(i)) {\n        scripts.push(nodelist[i])\n      }\n    }\n\n    scripts.forEach( function (oldScript) {\n      var newScript = document.createElement(\"script\");\n      var attrs = [];\n      var nodemap = oldScript.attributes;\n      for (var j in nodemap) {\n        if (nodemap.hasOwnProperty(j)) {\n          attrs.push(nodemap[j])\n        }\n      }\n      attrs.forEach(function(attr) { newScript.setAttribute(attr.name, attr.value) });\n      newScript.appendChild(document.createTextNode(oldScript.innerHTML));\n      oldScript.parentNode.replaceChild(newScript, oldScript);\n    });\n    if (JS_MIME_TYPE in output.data) {\n      toinsert[nchildren-1].children[1].textContent = output.data[JS_MIME_TYPE];\n    }\n    output_area._hv_plot_id = id;\n    if ((window.Bokeh !== undefined) && (id in Bokeh.index)) {\n      window.PyViz.plot_index[id] = Bokeh.index[id];\n    } else {\n      window.PyViz.plot_index[id] = null;\n    }\n  } else if (output.metadata[EXEC_MIME_TYPE][\"server_id\"] !== undefined) {\n    var bk_div = document.createElement(\"div\");\n    bk_div.innerHTML = output.data[HTML_MIME_TYPE];\n    var script_attrs = bk_div.children[0].attributes;\n    for (var i = 0; i < script_attrs.length; i++) {\n      toinsert[toinsert.length - 1].childNodes[1].setAttribute(script_attrs[i].name, script_attrs[i].value);\n    }\n    // store reference to server id on output_area\n    output_area._bokeh_server_id = output.metadata[EXEC_MIME_TYPE][\"server_id\"];\n  }\n}\n\n/**\n * Handle when an output is cleared or removed\n */\nfunction handle_clear_output(event, handle) {\n  var id = handle.cell.output_area._hv_plot_id;\n  var server_id = handle.cell.output_area._bokeh_server_id;\n  if (((id === undefined) || !(id in PyViz.plot_index)) && (server_id !== undefined)) { return; }\n  var comm = window.PyViz.comm_manager.get_client_comm(\"hv-extension-comm\", \"hv-extension-comm\", function () {});\n  if (server_id !== null) {\n    comm.send({event_type: 'server_delete', 'id': server_id});\n    return;\n  } else if (comm !== null) {\n    comm.send({event_type: 'delete', 'id': id});\n  }\n  delete PyViz.plot_index[id];\n  if ((window.Bokeh !== undefined) & (id in window.Bokeh.index)) {\n    var doc = window.Bokeh.index[id].model.document\n    doc.clear();\n    const i = window.Bokeh.documents.indexOf(doc);\n    if (i > -1) {\n      window.Bokeh.documents.splice(i, 1);\n    }\n  }\n}\n\n/**\n * Handle kernel restart event\n */\nfunction handle_kernel_cleanup(event, handle) {\n  delete PyViz.comms[\"hv-extension-comm\"];\n  window.PyViz.plot_index = {}\n}\n\n/**\n * Handle update_display_data messages\n */\nfunction handle_update_output(event, handle) {\n  handle_clear_output(event, {cell: {output_area: handle.output_area}})\n  handle_add_output(event, handle)\n}\n\nfunction register_renderer(events, OutputArea) {\n  function append_mime(data, metadata, element) {\n    // create a DOM node to render to\n    var toinsert = this.create_output_subarea(\n    metadata,\n    CLASS_NAME,\n    EXEC_MIME_TYPE\n    );\n    this.keyboard_manager.register_events(toinsert);\n    // Render to node\n    var props = {data: data, metadata: metadata[EXEC_MIME_TYPE]};\n    render(props, toinsert[0]);\n    element.append(toinsert);\n    return toinsert\n  }\n\n  events.on('output_added.OutputArea', handle_add_output);\n  events.on('output_updated.OutputArea', handle_update_output);\n  events.on('clear_output.CodeCell', handle_clear_output);\n  events.on('delete.Cell', handle_clear_output);\n  events.on('kernel_ready.Kernel', handle_kernel_cleanup);\n\n  OutputArea.prototype.register_mime_type(EXEC_MIME_TYPE, append_mime, {\n    safe: true,\n    index: 0\n  });\n}\n\nif (window.Jupyter !== undefined) {\n  try {\n    var events = require('base/js/events');\n    var OutputArea = require('notebook/js/outputarea').OutputArea;\n    if (OutputArea.prototype.mime_types().indexOf(EXEC_MIME_TYPE) == -1) {\n      register_renderer(events, OutputArea);\n    }\n  } catch(err) {\n  }\n}\n"
     },
     "metadata": {},
     "output_type": "display_data"
    },
    {
     "data": {
      "text/html": [
       "<style>.bk-root, .bk-root .bk:before, .bk-root .bk:after {\n",
       "  font-family: var(--jp-ui-font-size1);\n",
       "  font-size: var(--jp-ui-font-size1);\n",
       "  color: var(--jp-ui-font-color1);\n",
       "}\n",
       "</style>"
      ]
     },
     "metadata": {},
     "output_type": "display_data"
    }
   ],
   "source": [
    "# Import relevant libraries\n",
    "import pandas as pd\n",
    "import panel as pn\n",
    "pn.extension('tabulator')\n",
    "import hvplot.pandas\n",
    "import datetime as dt\n",
    "from datetime import datetime\n",
    "\n",
    "import warnings\n",
    "warnings.filterwarnings(\"ignore\")"
   ]
  },
  {
   "cell_type": "markdown",
   "id": "ae132bde",
   "metadata": {},
   "source": [
    "# DASHBOARD\n"
   ]
  },
  {
   "cell_type": "code",
   "execution_count": 2,
   "id": "65e66cf1",
   "metadata": {},
   "outputs": [],
   "source": [
    "# Read trend data to create interactive panels\n",
    "filepath = \"tweets_output/tweets_trend.csv\"\n",
    "tweets_data = pd.read_csv(filepath, parse_dates = True, index_col = 'timestamp')"
   ]
  },
  {
   "cell_type": "code",
   "execution_count": 3,
   "id": "a05884c4",
   "metadata": {},
   "outputs": [],
   "source": [
    "# Reset index\n",
    "tweets_data.reset_index(inplace=True)"
   ]
  },
  {
   "cell_type": "code",
   "execution_count": 5,
   "id": "c2b46859",
   "metadata": {},
   "outputs": [
    {
     "data": {
      "text/html": [
       "<div>\n",
       "<style scoped>\n",
       "    .dataframe tbody tr th:only-of-type {\n",
       "        vertical-align: middle;\n",
       "    }\n",
       "\n",
       "    .dataframe tbody tr th {\n",
       "        vertical-align: top;\n",
       "    }\n",
       "\n",
       "    .dataframe thead th {\n",
       "        text-align: right;\n",
       "    }\n",
       "</style>\n",
       "<table border=\"1\" class=\"dataframe\">\n",
       "  <thead>\n",
       "    <tr style=\"text-align: right;\">\n",
       "      <th></th>\n",
       "      <th>timestamp</th>\n",
       "      <th>Negative</th>\n",
       "      <th>Neutral</th>\n",
       "      <th>Positive</th>\n",
       "      <th>score</th>\n",
       "    </tr>\n",
       "  </thead>\n",
       "  <tbody>\n",
       "    <tr>\n",
       "      <th>1315</th>\n",
       "      <td>2009-06-01 01:00:00</td>\n",
       "      <td>809.000000</td>\n",
       "      <td>1571.166667</td>\n",
       "      <td>2083.833333</td>\n",
       "      <td>0.285581</td>\n",
       "    </tr>\n",
       "    <tr>\n",
       "      <th>1316</th>\n",
       "      <td>2009-06-01 02:00:00</td>\n",
       "      <td>819.333333</td>\n",
       "      <td>1578.541667</td>\n",
       "      <td>2094.083333</td>\n",
       "      <td>0.283785</td>\n",
       "    </tr>\n",
       "    <tr>\n",
       "      <th>1317</th>\n",
       "      <td>2009-06-01 03:00:00</td>\n",
       "      <td>829.437500</td>\n",
       "      <td>1587.166667</td>\n",
       "      <td>2104.458333</td>\n",
       "      <td>0.282018</td>\n",
       "    </tr>\n",
       "    <tr>\n",
       "      <th>1318</th>\n",
       "      <td>2009-06-01 04:00:00</td>\n",
       "      <td>837.125000</td>\n",
       "      <td>1591.166667</td>\n",
       "      <td>2113.625000</td>\n",
       "      <td>0.281049</td>\n",
       "    </tr>\n",
       "    <tr>\n",
       "      <th>1319</th>\n",
       "      <td>2009-06-01 05:00:00</td>\n",
       "      <td>840.604167</td>\n",
       "      <td>1587.458333</td>\n",
       "      <td>2113.041667</td>\n",
       "      <td>0.280204</td>\n",
       "    </tr>\n",
       "  </tbody>\n",
       "</table>\n",
       "</div>"
      ],
      "text/plain": [
       "               timestamp    Negative      Neutral     Positive     score\n",
       "1315 2009-06-01 01:00:00  809.000000  1571.166667  2083.833333  0.285581\n",
       "1316 2009-06-01 02:00:00  819.333333  1578.541667  2094.083333  0.283785\n",
       "1317 2009-06-01 03:00:00  829.437500  1587.166667  2104.458333  0.282018\n",
       "1318 2009-06-01 04:00:00  837.125000  1591.166667  2113.625000  0.281049\n",
       "1319 2009-06-01 05:00:00  840.604167  1587.458333  2113.041667  0.280204"
      ]
     },
     "execution_count": 5,
     "metadata": {},
     "output_type": "execute_result"
    }
   ],
   "source": [
    "# Get last 5 results\n",
    "tweets_data.tail()"
   ]
  },
  {
   "cell_type": "code",
   "execution_count": 6,
   "id": "c7b9bb24",
   "metadata": {},
   "outputs": [],
   "source": [
    "# Define sentiment datafrane\n",
    "db_sentiment = tweets_data.drop(columns=['score'])"
   ]
  },
  {
   "cell_type": "code",
   "execution_count": 7,
   "id": "1c1699a1",
   "metadata": {},
   "outputs": [],
   "source": [
    "# melt dataframe to get each sentiment per hour\n",
    "db_sentiment = pd.melt(db_sentiment, id_vars = ['timestamp']).sort_values(by=['timestamp','variable'], ignore_index=True)"
   ]
  },
  {
   "cell_type": "code",
   "execution_count": 8,
   "id": "03cd96e6",
   "metadata": {},
   "outputs": [
    {
     "data": {
      "text/html": [
       "<div>\n",
       "<style scoped>\n",
       "    .dataframe tbody tr th:only-of-type {\n",
       "        vertical-align: middle;\n",
       "    }\n",
       "\n",
       "    .dataframe tbody tr th {\n",
       "        vertical-align: top;\n",
       "    }\n",
       "\n",
       "    .dataframe thead th {\n",
       "        text-align: right;\n",
       "    }\n",
       "</style>\n",
       "<table border=\"1\" class=\"dataframe\">\n",
       "  <thead>\n",
       "    <tr style=\"text-align: right;\">\n",
       "      <th></th>\n",
       "      <th>timestamp</th>\n",
       "      <th>variable</th>\n",
       "      <th>value</th>\n",
       "    </tr>\n",
       "  </thead>\n",
       "  <tbody>\n",
       "    <tr>\n",
       "      <th>0</th>\n",
       "      <td>2009-04-07 06:00:00</td>\n",
       "      <td>Negative</td>\n",
       "      <td>367.741165</td>\n",
       "    </tr>\n",
       "    <tr>\n",
       "      <th>1</th>\n",
       "      <td>2009-04-07 06:00:00</td>\n",
       "      <td>Neutral</td>\n",
       "      <td>643.466087</td>\n",
       "    </tr>\n",
       "    <tr>\n",
       "      <th>2</th>\n",
       "      <td>2009-04-07 06:00:00</td>\n",
       "      <td>Positive</td>\n",
       "      <td>818.376612</td>\n",
       "    </tr>\n",
       "    <tr>\n",
       "      <th>3</th>\n",
       "      <td>2009-04-07 07:00:00</td>\n",
       "      <td>Negative</td>\n",
       "      <td>365.718303</td>\n",
       "    </tr>\n",
       "    <tr>\n",
       "      <th>4</th>\n",
       "      <td>2009-04-07 07:00:00</td>\n",
       "      <td>Neutral</td>\n",
       "      <td>640.635416</td>\n",
       "    </tr>\n",
       "  </tbody>\n",
       "</table>\n",
       "</div>"
      ],
      "text/plain": [
       "            timestamp  variable       value\n",
       "0 2009-04-07 06:00:00  Negative  367.741165\n",
       "1 2009-04-07 06:00:00   Neutral  643.466087\n",
       "2 2009-04-07 06:00:00  Positive  818.376612\n",
       "3 2009-04-07 07:00:00  Negative  365.718303\n",
       "4 2009-04-07 07:00:00   Neutral  640.635416"
      ]
     },
     "execution_count": 8,
     "metadata": {},
     "output_type": "execute_result"
    }
   ],
   "source": [
    "# show first 5 rows\n",
    "db_sentiment.head()"
   ]
  },
  {
   "cell_type": "code",
   "execution_count": 12,
   "id": "50e5c645",
   "metadata": {},
   "outputs": [
    {
     "name": "stderr",
     "output_type": "stream",
     "text": [
      "WARNING:param.ParamFunction00830: The function 'evaluate' does not have any dependencies and will never update. Are you sure you did not intend to depend on or bind a parameter or widget to this function? If not simply call the function before passing it to Panel. Otherwise, when passing a parameter as an argument, ensure you pass at least one parameter and reference the actual parameter object not the current value, i.e. use object.param.parameter not object.parameter.\n"
     ]
    },
    {
     "data": {},
     "metadata": {},
     "output_type": "display_data"
    },
    {
     "data": {
      "application/vnd.holoviews_exec.v0+json": "",
      "text/html": [
       "<div id='1002'>\n",
       "  <div class=\"bk-root\" id=\"cb561c41-e959-4a1d-aef7-b0632e8cfdd6\" data-root-id=\"1002\"></div>\n",
       "</div>\n",
       "<script type=\"application/javascript\">(function(root) {\n",
       "  function embed_document(root) {\n",
       "    var docs_json = {\"f069d6ac-0c09-4757-9e67-a0435ff205c6\":{\"defs\":[{\"extends\":null,\"module\":null,\"name\":\"ReactiveHTML1\",\"overrides\":[],\"properties\":[]},{\"extends\":null,\"module\":null,\"name\":\"FlexBox1\",\"overrides\":[],\"properties\":[{\"default\":\"flex-start\",\"kind\":null,\"name\":\"align_content\"},{\"default\":\"flex-start\",\"kind\":null,\"name\":\"align_items\"},{\"default\":\"row\",\"kind\":null,\"name\":\"flex_direction\"},{\"default\":\"wrap\",\"kind\":null,\"name\":\"flex_wrap\"},{\"default\":\"flex-start\",\"kind\":null,\"name\":\"justify_content\"}]},{\"extends\":null,\"module\":null,\"name\":\"GridStack1\",\"overrides\":[],\"properties\":[{\"default\":\"warn\",\"kind\":null,\"name\":\"mode\"},{\"default\":null,\"kind\":null,\"name\":\"ncols\"},{\"default\":null,\"kind\":null,\"name\":\"nrows\"},{\"default\":true,\"kind\":null,\"name\":\"allow_resize\"},{\"default\":true,\"kind\":null,\"name\":\"allow_drag\"},{\"default\":[],\"kind\":null,\"name\":\"state\"}]},{\"extends\":null,\"module\":null,\"name\":\"click1\",\"overrides\":[],\"properties\":[{\"default\":\"\",\"kind\":null,\"name\":\"terminal_output\"},{\"default\":\"\",\"kind\":null,\"name\":\"debug_name\"},{\"default\":0,\"kind\":null,\"name\":\"clears\"}]},{\"extends\":null,\"module\":null,\"name\":\"NotificationAreaBase1\",\"overrides\":[],\"properties\":[{\"default\":\"bottom-right\",\"kind\":null,\"name\":\"position\"},{\"default\":0,\"kind\":null,\"name\":\"_clear\"}]},{\"extends\":null,\"module\":null,\"name\":\"NotificationArea1\",\"overrides\":[],\"properties\":[{\"default\":[],\"kind\":null,\"name\":\"notifications\"},{\"default\":\"bottom-right\",\"kind\":null,\"name\":\"position\"},{\"default\":0,\"kind\":null,\"name\":\"_clear\"},{\"default\":[{\"background\":\"#ffc107\",\"icon\":{\"className\":\"fas fa-exclamation-triangle\",\"color\":\"white\",\"tagName\":\"i\"},\"type\":\"warning\"},{\"background\":\"#007bff\",\"icon\":{\"className\":\"fas fa-info-circle\",\"color\":\"white\",\"tagName\":\"i\"},\"type\":\"info\"}],\"kind\":null,\"name\":\"types\"}]},{\"extends\":null,\"module\":null,\"name\":\"Notification\",\"overrides\":[],\"properties\":[{\"default\":null,\"kind\":null,\"name\":\"background\"},{\"default\":3000,\"kind\":null,\"name\":\"duration\"},{\"default\":null,\"kind\":null,\"name\":\"icon\"},{\"default\":\"\",\"kind\":null,\"name\":\"message\"},{\"default\":null,\"kind\":null,\"name\":\"notification_type\"},{\"default\":false,\"kind\":null,\"name\":\"_destroyed\"}]},{\"extends\":null,\"module\":null,\"name\":\"TemplateActions1\",\"overrides\":[],\"properties\":[{\"default\":0,\"kind\":null,\"name\":\"open_modal\"},{\"default\":0,\"kind\":null,\"name\":\"close_modal\"}]},{\"extends\":null,\"module\":null,\"name\":\"MaterialTemplateActions1\",\"overrides\":[],\"properties\":[{\"default\":0,\"kind\":null,\"name\":\"open_modal\"},{\"default\":0,\"kind\":null,\"name\":\"close_modal\"}]}],\"roots\":{\"references\":[{\"attributes\":{\"children\":[{\"id\":\"1004\"},{\"id\":\"1007\"}],\"margin\":[0,0,0,0],\"name\":\"Column00849\"},\"id\":\"1003\",\"type\":\"Column\"},{\"attributes\":{\"reload\":false},\"id\":\"1010\",\"type\":\"panel.models.location.Location\"},{\"attributes\":{\"margin\":[0,0,0,0],\"name\":\"Column00829\"},\"id\":\"1005\",\"type\":\"Column\"},{\"attributes\":{\"margin\":[5,5,5,5],\"name\":\"DataFrame00845\",\"text\":\"&lt;table border=&quot;0&quot; class=&quot;dataframe panel-df&quot;&gt;\\n  &lt;thead&gt;\\n    &lt;tr style=&quot;text-align: right;&quot;&gt;\\n      &lt;th&gt;&lt;/th&gt;\\n      &lt;th&gt;timestamp&lt;/th&gt;\\n      &lt;th&gt;variable&lt;/th&gt;\\n      &lt;th&gt;value&lt;/th&gt;\\n    &lt;/tr&gt;\\n  &lt;/thead&gt;\\n  &lt;tbody&gt;\\n    &lt;tr&gt;\\n      &lt;th&gt;0&lt;/th&gt;\\n      &lt;td&gt;2009-04-07 06:00:00&lt;/td&gt;\\n      &lt;td&gt;Negative&lt;/td&gt;\\n      &lt;td&gt;367.741165&lt;/td&gt;\\n    &lt;/tr&gt;\\n    &lt;tr&gt;\\n      &lt;th&gt;1&lt;/th&gt;\\n      &lt;td&gt;2009-04-07 06:00:00&lt;/td&gt;\\n      &lt;td&gt;Neutral&lt;/td&gt;\\n      &lt;td&gt;643.466087&lt;/td&gt;\\n    &lt;/tr&gt;\\n    &lt;tr&gt;\\n      &lt;th&gt;2&lt;/th&gt;\\n      &lt;td&gt;2009-04-07 06:00:00&lt;/td&gt;\\n      &lt;td&gt;Positive&lt;/td&gt;\\n      &lt;td&gt;818.376612&lt;/td&gt;\\n    &lt;/tr&gt;\\n    &lt;tr&gt;\\n      &lt;th&gt;3&lt;/th&gt;\\n      &lt;td&gt;2009-04-07 07:00:00&lt;/td&gt;\\n      &lt;td&gt;Negative&lt;/td&gt;\\n      &lt;td&gt;365.718303&lt;/td&gt;\\n    &lt;/tr&gt;\\n    &lt;tr&gt;\\n      &lt;th&gt;4&lt;/th&gt;\\n      &lt;td&gt;2009-04-07 07:00:00&lt;/td&gt;\\n      &lt;td&gt;Neutral&lt;/td&gt;\\n      &lt;td&gt;640.635416&lt;/td&gt;\\n    &lt;/tr&gt;\\n  &lt;/tbody&gt;\\n&lt;/table&gt;\"},\"id\":\"1008\",\"type\":\"panel.models.markup.HTML\"},{\"attributes\":{\"margin\":[5,5,5,5],\"name\":\"HSpacer00847\",\"sizing_mode\":\"stretch_width\"},\"id\":\"1006\",\"type\":\"Spacer\"},{\"attributes\":{\"children\":[{\"id\":\"1003\"}],\"margin\":[0,0,0,0],\"name\":\"Row00850\"},\"id\":\"1002\",\"type\":\"Row\"},{\"attributes\":{\"children\":[{\"id\":\"1008\"}],\"margin\":[0,0,0,0],\"name\":\"Row00834\"},\"id\":\"1007\",\"type\":\"Row\"},{\"attributes\":{\"client_comm_id\":\"0f8ea161091c4344948455432b570aee\",\"comm_id\":\"aae91d29e11c4eb6907de62faf2574a0\",\"plot_id\":\"1002\"},\"id\":\"1009\",\"type\":\"panel.models.comm_manager.CommManager\"},{\"attributes\":{\"children\":[{\"id\":\"1005\"},{\"id\":\"1006\"}],\"margin\":[0,0,0,0],\"name\":\"Row00848\"},\"id\":\"1004\",\"type\":\"Row\"}],\"root_ids\":[\"1002\",\"1009\",\"1010\"]},\"title\":\"Bokeh Application\",\"version\":\"2.4.3\"}};\n",
       "    var render_items = [{\"docid\":\"f069d6ac-0c09-4757-9e67-a0435ff205c6\",\"root_ids\":[\"1002\"],\"roots\":{\"1002\":\"cb561c41-e959-4a1d-aef7-b0632e8cfdd6\"}}];\n",
       "    root.Bokeh.embed.embed_items_notebook(docs_json, render_items);\n",
       "  }\n",
       "  if (root.Bokeh !== undefined && root.Bokeh.Panel !== undefined && ( root['Tabulator'] !== undefined)) {\n",
       "    embed_document(root);\n",
       "  } else {\n",
       "    var attempts = 0;\n",
       "    var timer = setInterval(function(root) {\n",
       "      if (root.Bokeh !== undefined && root.Bokeh.Panel !== undefined && (root['Tabulator'] !== undefined)) {\n",
       "        clearInterval(timer);\n",
       "        embed_document(root);\n",
       "      } else if (document.readyState == \"complete\") {\n",
       "        attempts++;\n",
       "        if (attempts > 200) {\n",
       "          clearInterval(timer);\n",
       "          console.log(\"Bokeh: ERROR: Unable to run BokehJS code because BokehJS library is missing\");\n",
       "        }\n",
       "      }\n",
       "    }, 25, root)\n",
       "  }\n",
       "})(window);</script>"
      ],
      "text/plain": [
       "<hvplot.interactive.Interactive at 0x18e7e237880>"
      ]
     },
     "execution_count": 12,
     "metadata": {
      "application/vnd.holoviews_exec.v0+json": {
       "id": "1002"
      }
     },
     "output_type": "execute_result"
    }
   ],
   "source": [
    "# Define interactive DataFrame\n",
    "idb_sentiment = db_sentiment.interactive()\n",
    "idb_sentiment.head()"
   ]
  },
  {
   "cell_type": "code",
   "execution_count": 13,
   "id": "38afcb4a",
   "metadata": {},
   "outputs": [],
   "source": [
    "# Rename columns\n",
    "idb_sentiment = idb_sentiment.rename(columns = {'variable':'Sentiment','value':'Counts', 'timestamp':'Timestamp'})"
   ]
  },
  {
   "cell_type": "code",
   "execution_count": 14,
   "id": "f574143a",
   "metadata": {},
   "outputs": [
    {
     "name": "stderr",
     "output_type": "stream",
     "text": [
      "WARNING:param.ParamFunction00925: The function 'evaluate' does not have any dependencies and will never update. Are you sure you did not intend to depend on or bind a parameter or widget to this function? If not simply call the function before passing it to Panel. Otherwise, when passing a parameter as an argument, ensure you pass at least one parameter and reference the actual parameter object not the current value, i.e. use object.param.parameter not object.parameter.\n"
     ]
    },
    {
     "data": {},
     "metadata": {},
     "output_type": "display_data"
    },
    {
     "data": {
      "application/vnd.holoviews_exec.v0+json": "",
      "text/html": [
       "<div id='1011'>\n",
       "  <div class=\"bk-root\" id=\"db55428e-14a6-4a2e-aafb-b8d195e67889\" data-root-id=\"1011\"></div>\n",
       "</div>\n",
       "<script type=\"application/javascript\">(function(root) {\n",
       "  function embed_document(root) {\n",
       "    var docs_json = {\"56202b48-41f7-40d0-986c-07b09f0a928e\":{\"defs\":[{\"extends\":null,\"module\":null,\"name\":\"ReactiveHTML1\",\"overrides\":[],\"properties\":[]},{\"extends\":null,\"module\":null,\"name\":\"FlexBox1\",\"overrides\":[],\"properties\":[{\"default\":\"flex-start\",\"kind\":null,\"name\":\"align_content\"},{\"default\":\"flex-start\",\"kind\":null,\"name\":\"align_items\"},{\"default\":\"row\",\"kind\":null,\"name\":\"flex_direction\"},{\"default\":\"wrap\",\"kind\":null,\"name\":\"flex_wrap\"},{\"default\":\"flex-start\",\"kind\":null,\"name\":\"justify_content\"}]},{\"extends\":null,\"module\":null,\"name\":\"GridStack1\",\"overrides\":[],\"properties\":[{\"default\":\"warn\",\"kind\":null,\"name\":\"mode\"},{\"default\":null,\"kind\":null,\"name\":\"ncols\"},{\"default\":null,\"kind\":null,\"name\":\"nrows\"},{\"default\":true,\"kind\":null,\"name\":\"allow_resize\"},{\"default\":true,\"kind\":null,\"name\":\"allow_drag\"},{\"default\":[],\"kind\":null,\"name\":\"state\"}]},{\"extends\":null,\"module\":null,\"name\":\"click1\",\"overrides\":[],\"properties\":[{\"default\":\"\",\"kind\":null,\"name\":\"terminal_output\"},{\"default\":\"\",\"kind\":null,\"name\":\"debug_name\"},{\"default\":0,\"kind\":null,\"name\":\"clears\"}]},{\"extends\":null,\"module\":null,\"name\":\"NotificationAreaBase1\",\"overrides\":[],\"properties\":[{\"default\":\"bottom-right\",\"kind\":null,\"name\":\"position\"},{\"default\":0,\"kind\":null,\"name\":\"_clear\"}]},{\"extends\":null,\"module\":null,\"name\":\"NotificationArea1\",\"overrides\":[],\"properties\":[{\"default\":[],\"kind\":null,\"name\":\"notifications\"},{\"default\":\"bottom-right\",\"kind\":null,\"name\":\"position\"},{\"default\":0,\"kind\":null,\"name\":\"_clear\"},{\"default\":[{\"background\":\"#ffc107\",\"icon\":{\"className\":\"fas fa-exclamation-triangle\",\"color\":\"white\",\"tagName\":\"i\"},\"type\":\"warning\"},{\"background\":\"#007bff\",\"icon\":{\"className\":\"fas fa-info-circle\",\"color\":\"white\",\"tagName\":\"i\"},\"type\":\"info\"}],\"kind\":null,\"name\":\"types\"}]},{\"extends\":null,\"module\":null,\"name\":\"Notification\",\"overrides\":[],\"properties\":[{\"default\":null,\"kind\":null,\"name\":\"background\"},{\"default\":3000,\"kind\":null,\"name\":\"duration\"},{\"default\":null,\"kind\":null,\"name\":\"icon\"},{\"default\":\"\",\"kind\":null,\"name\":\"message\"},{\"default\":null,\"kind\":null,\"name\":\"notification_type\"},{\"default\":false,\"kind\":null,\"name\":\"_destroyed\"}]},{\"extends\":null,\"module\":null,\"name\":\"TemplateActions1\",\"overrides\":[],\"properties\":[{\"default\":0,\"kind\":null,\"name\":\"open_modal\"},{\"default\":0,\"kind\":null,\"name\":\"close_modal\"}]},{\"extends\":null,\"module\":null,\"name\":\"MaterialTemplateActions1\",\"overrides\":[],\"properties\":[{\"default\":0,\"kind\":null,\"name\":\"open_modal\"},{\"default\":0,\"kind\":null,\"name\":\"close_modal\"}]}],\"roots\":{\"references\":[{\"attributes\":{\"children\":[{\"id\":\"1017\"}],\"margin\":[0,0,0,0],\"name\":\"Row00929\"},\"id\":\"1016\",\"type\":\"Row\"},{\"attributes\":{\"margin\":[0,0,0,0],\"name\":\"Column00924\"},\"id\":\"1014\",\"type\":\"Column\"},{\"attributes\":{\"margin\":[5,5,5,5],\"name\":\"Str00927\",\"text\":\"&lt;pre&gt;2009-04-07 06:00:00&lt;/pre&gt;\"},\"id\":\"1017\",\"type\":\"panel.models.markup.HTML\"},{\"attributes\":{\"margin\":[5,5,5,5],\"name\":\"HSpacer00940\",\"sizing_mode\":\"stretch_width\"},\"id\":\"1015\",\"type\":\"Spacer\"},{\"attributes\":{\"children\":[{\"id\":\"1013\"},{\"id\":\"1016\"}],\"margin\":[0,0,0,0],\"name\":\"Column00942\"},\"id\":\"1012\",\"type\":\"Column\"},{\"attributes\":{\"children\":[{\"id\":\"1012\"}],\"margin\":[0,0,0,0],\"name\":\"Row00943\"},\"id\":\"1011\",\"type\":\"Row\"},{\"attributes\":{\"client_comm_id\":\"51db335071a442ef9c1ab6cb1bd7f71f\",\"comm_id\":\"fa11e2c6420d41a986501865eee52903\",\"plot_id\":\"1011\"},\"id\":\"1018\",\"type\":\"panel.models.comm_manager.CommManager\"},{\"attributes\":{\"children\":[{\"id\":\"1014\"},{\"id\":\"1015\"}],\"margin\":[0,0,0,0],\"name\":\"Row00941\"},\"id\":\"1013\",\"type\":\"Row\"}],\"root_ids\":[\"1011\",\"1018\"]},\"title\":\"Bokeh Application\",\"version\":\"2.4.3\"}};\n",
       "    var render_items = [{\"docid\":\"56202b48-41f7-40d0-986c-07b09f0a928e\",\"root_ids\":[\"1011\"],\"roots\":{\"1011\":\"db55428e-14a6-4a2e-aafb-b8d195e67889\"}}];\n",
       "    root.Bokeh.embed.embed_items_notebook(docs_json, render_items);\n",
       "  }\n",
       "  if (root.Bokeh !== undefined && root.Bokeh.Panel !== undefined && ( root['Tabulator'] !== undefined)) {\n",
       "    embed_document(root);\n",
       "  } else {\n",
       "    var attempts = 0;\n",
       "    var timer = setInterval(function(root) {\n",
       "      if (root.Bokeh !== undefined && root.Bokeh.Panel !== undefined && (root['Tabulator'] !== undefined)) {\n",
       "        clearInterval(timer);\n",
       "        embed_document(root);\n",
       "      } else if (document.readyState == \"complete\") {\n",
       "        attempts++;\n",
       "        if (attempts > 200) {\n",
       "          clearInterval(timer);\n",
       "          console.log(\"Bokeh: ERROR: Unable to run BokehJS code because BokehJS library is missing\");\n",
       "        }\n",
       "      }\n",
       "    }, 25, root)\n",
       "  }\n",
       "})(window);</script>"
      ],
      "text/plain": [
       "<hvplot.interactive.Interactive at 0x18e7e973a60>"
      ]
     },
     "execution_count": 14,
     "metadata": {
      "application/vnd.holoviews_exec.v0+json": {
       "id": "1011"
      }
     },
     "output_type": "execute_result"
    }
   ],
   "source": [
    "# Get first datetime recorded\n",
    "idb_sentiment.Timestamp.min()"
   ]
  },
  {
   "cell_type": "code",
   "execution_count": 15,
   "id": "10239f12",
   "metadata": {},
   "outputs": [
    {
     "name": "stderr",
     "output_type": "stream",
     "text": [
      "WARNING:param.ParamFunction00987: The function 'evaluate' does not have any dependencies and will never update. Are you sure you did not intend to depend on or bind a parameter or widget to this function? If not simply call the function before passing it to Panel. Otherwise, when passing a parameter as an argument, ensure you pass at least one parameter and reference the actual parameter object not the current value, i.e. use object.param.parameter not object.parameter.\n"
     ]
    },
    {
     "data": {},
     "metadata": {},
     "output_type": "display_data"
    },
    {
     "data": {
      "application/vnd.holoviews_exec.v0+json": "",
      "text/html": [
       "<div id='1019'>\n",
       "  <div class=\"bk-root\" id=\"e8c6673d-e639-4b17-a3cf-3b3db020c888\" data-root-id=\"1019\"></div>\n",
       "</div>\n",
       "<script type=\"application/javascript\">(function(root) {\n",
       "  function embed_document(root) {\n",
       "    var docs_json = {\"96a55d75-3673-41af-b4a5-e3f9ccedb0c0\":{\"defs\":[{\"extends\":null,\"module\":null,\"name\":\"ReactiveHTML1\",\"overrides\":[],\"properties\":[]},{\"extends\":null,\"module\":null,\"name\":\"FlexBox1\",\"overrides\":[],\"properties\":[{\"default\":\"flex-start\",\"kind\":null,\"name\":\"align_content\"},{\"default\":\"flex-start\",\"kind\":null,\"name\":\"align_items\"},{\"default\":\"row\",\"kind\":null,\"name\":\"flex_direction\"},{\"default\":\"wrap\",\"kind\":null,\"name\":\"flex_wrap\"},{\"default\":\"flex-start\",\"kind\":null,\"name\":\"justify_content\"}]},{\"extends\":null,\"module\":null,\"name\":\"GridStack1\",\"overrides\":[],\"properties\":[{\"default\":\"warn\",\"kind\":null,\"name\":\"mode\"},{\"default\":null,\"kind\":null,\"name\":\"ncols\"},{\"default\":null,\"kind\":null,\"name\":\"nrows\"},{\"default\":true,\"kind\":null,\"name\":\"allow_resize\"},{\"default\":true,\"kind\":null,\"name\":\"allow_drag\"},{\"default\":[],\"kind\":null,\"name\":\"state\"}]},{\"extends\":null,\"module\":null,\"name\":\"click1\",\"overrides\":[],\"properties\":[{\"default\":\"\",\"kind\":null,\"name\":\"terminal_output\"},{\"default\":\"\",\"kind\":null,\"name\":\"debug_name\"},{\"default\":0,\"kind\":null,\"name\":\"clears\"}]},{\"extends\":null,\"module\":null,\"name\":\"NotificationAreaBase1\",\"overrides\":[],\"properties\":[{\"default\":\"bottom-right\",\"kind\":null,\"name\":\"position\"},{\"default\":0,\"kind\":null,\"name\":\"_clear\"}]},{\"extends\":null,\"module\":null,\"name\":\"NotificationArea1\",\"overrides\":[],\"properties\":[{\"default\":[],\"kind\":null,\"name\":\"notifications\"},{\"default\":\"bottom-right\",\"kind\":null,\"name\":\"position\"},{\"default\":0,\"kind\":null,\"name\":\"_clear\"},{\"default\":[{\"background\":\"#ffc107\",\"icon\":{\"className\":\"fas fa-exclamation-triangle\",\"color\":\"white\",\"tagName\":\"i\"},\"type\":\"warning\"},{\"background\":\"#007bff\",\"icon\":{\"className\":\"fas fa-info-circle\",\"color\":\"white\",\"tagName\":\"i\"},\"type\":\"info\"}],\"kind\":null,\"name\":\"types\"}]},{\"extends\":null,\"module\":null,\"name\":\"Notification\",\"overrides\":[],\"properties\":[{\"default\":null,\"kind\":null,\"name\":\"background\"},{\"default\":3000,\"kind\":null,\"name\":\"duration\"},{\"default\":null,\"kind\":null,\"name\":\"icon\"},{\"default\":\"\",\"kind\":null,\"name\":\"message\"},{\"default\":null,\"kind\":null,\"name\":\"notification_type\"},{\"default\":false,\"kind\":null,\"name\":\"_destroyed\"}]},{\"extends\":null,\"module\":null,\"name\":\"TemplateActions1\",\"overrides\":[],\"properties\":[{\"default\":0,\"kind\":null,\"name\":\"open_modal\"},{\"default\":0,\"kind\":null,\"name\":\"close_modal\"}]},{\"extends\":null,\"module\":null,\"name\":\"MaterialTemplateActions1\",\"overrides\":[],\"properties\":[{\"default\":0,\"kind\":null,\"name\":\"open_modal\"},{\"default\":0,\"kind\":null,\"name\":\"close_modal\"}]}],\"roots\":{\"references\":[{\"attributes\":{\"children\":[{\"id\":\"1021\"},{\"id\":\"1024\"}],\"margin\":[0,0,0,0],\"name\":\"Column01004\"},\"id\":\"1020\",\"type\":\"Column\"},{\"attributes\":{\"margin\":[5,5,5,5],\"name\":\"Str00989\",\"text\":\"&lt;pre&gt;2009-06-01 05:00:00&lt;/pre&gt;\"},\"id\":\"1025\",\"type\":\"panel.models.markup.HTML\"},{\"attributes\":{\"children\":[{\"id\":\"1022\"},{\"id\":\"1023\"}],\"margin\":[0,0,0,0],\"name\":\"Row01003\"},\"id\":\"1021\",\"type\":\"Row\"},{\"attributes\":{\"client_comm_id\":\"e89b4c8600b640bb9c2c9cd5ee41d7a3\",\"comm_id\":\"5634d5f8160146f5a80d3fdcfbb77e8d\",\"plot_id\":\"1019\"},\"id\":\"1026\",\"type\":\"panel.models.comm_manager.CommManager\"},{\"attributes\":{\"children\":[{\"id\":\"1020\"}],\"margin\":[0,0,0,0],\"name\":\"Row01005\"},\"id\":\"1019\",\"type\":\"Row\"},{\"attributes\":{\"margin\":[5,5,5,5],\"name\":\"HSpacer01002\",\"sizing_mode\":\"stretch_width\"},\"id\":\"1023\",\"type\":\"Spacer\"},{\"attributes\":{\"margin\":[0,0,0,0],\"name\":\"Column00986\"},\"id\":\"1022\",\"type\":\"Column\"},{\"attributes\":{\"children\":[{\"id\":\"1025\"}],\"margin\":[0,0,0,0],\"name\":\"Row00991\"},\"id\":\"1024\",\"type\":\"Row\"}],\"root_ids\":[\"1019\",\"1026\"]},\"title\":\"Bokeh Application\",\"version\":\"2.4.3\"}};\n",
       "    var render_items = [{\"docid\":\"96a55d75-3673-41af-b4a5-e3f9ccedb0c0\",\"root_ids\":[\"1019\"],\"roots\":{\"1019\":\"e8c6673d-e639-4b17-a3cf-3b3db020c888\"}}];\n",
       "    root.Bokeh.embed.embed_items_notebook(docs_json, render_items);\n",
       "  }\n",
       "  if (root.Bokeh !== undefined && root.Bokeh.Panel !== undefined && ( root['Tabulator'] !== undefined)) {\n",
       "    embed_document(root);\n",
       "  } else {\n",
       "    var attempts = 0;\n",
       "    var timer = setInterval(function(root) {\n",
       "      if (root.Bokeh !== undefined && root.Bokeh.Panel !== undefined && (root['Tabulator'] !== undefined)) {\n",
       "        clearInterval(timer);\n",
       "        embed_document(root);\n",
       "      } else if (document.readyState == \"complete\") {\n",
       "        attempts++;\n",
       "        if (attempts > 200) {\n",
       "          clearInterval(timer);\n",
       "          console.log(\"Bokeh: ERROR: Unable to run BokehJS code because BokehJS library is missing\");\n",
       "        }\n",
       "      }\n",
       "    }, 25, root)\n",
       "  }\n",
       "})(window);</script>"
      ],
      "text/plain": [
       "<hvplot.interactive.Interactive at 0x18e7e99a970>"
      ]
     },
     "execution_count": 15,
     "metadata": {
      "application/vnd.holoviews_exec.v0+json": {
       "id": "1019"
      }
     },
     "output_type": "execute_result"
    }
   ],
   "source": [
    "# Get last datetime recorded\n",
    "idb_sentiment.Timestamp.max()"
   ]
  },
  {
   "cell_type": "code",
   "execution_count": 16,
   "id": "6eace06f",
   "metadata": {},
   "outputs": [
    {
     "name": "stderr",
     "output_type": "stream",
     "text": [
      "WARNING:param.day slider: Setting non-parameter attribute step=1 using a mechanism intended only for parameters\n"
     ]
    }
   ],
   "source": [
    "# Define Panel widgets date slicer with min and max datetime recorded\n",
    "day_slider = pn.widgets.DateSlider(name='day slider', start=dt.datetime(2009,4,7), end=dt.datetime(2009,6,1), step=1, value=dt.date(2009,5,7))"
   ]
  },
  {
   "cell_type": "code",
   "execution_count": 17,
   "id": "7656dfb5",
   "metadata": {},
   "outputs": [
    {
     "data": {},
     "metadata": {},
     "output_type": "display_data"
    },
    {
     "data": {
      "application/vnd.holoviews_exec.v0+json": "",
      "text/html": [
       "<div id='1027'>\n",
       "  <div class=\"bk-root\" id=\"58a14ddc-a29b-405f-a6f6-6a97fb14fedd\" data-root-id=\"1027\"></div>\n",
       "</div>\n",
       "<script type=\"application/javascript\">(function(root) {\n",
       "  function embed_document(root) {\n",
       "    var docs_json = {\"5b4a92d0-1cc0-4dca-96df-062cdc9251bf\":{\"defs\":[{\"extends\":null,\"module\":null,\"name\":\"ReactiveHTML1\",\"overrides\":[],\"properties\":[]},{\"extends\":null,\"module\":null,\"name\":\"FlexBox1\",\"overrides\":[],\"properties\":[{\"default\":\"flex-start\",\"kind\":null,\"name\":\"align_content\"},{\"default\":\"flex-start\",\"kind\":null,\"name\":\"align_items\"},{\"default\":\"row\",\"kind\":null,\"name\":\"flex_direction\"},{\"default\":\"wrap\",\"kind\":null,\"name\":\"flex_wrap\"},{\"default\":\"flex-start\",\"kind\":null,\"name\":\"justify_content\"}]},{\"extends\":null,\"module\":null,\"name\":\"GridStack1\",\"overrides\":[],\"properties\":[{\"default\":\"warn\",\"kind\":null,\"name\":\"mode\"},{\"default\":null,\"kind\":null,\"name\":\"ncols\"},{\"default\":null,\"kind\":null,\"name\":\"nrows\"},{\"default\":true,\"kind\":null,\"name\":\"allow_resize\"},{\"default\":true,\"kind\":null,\"name\":\"allow_drag\"},{\"default\":[],\"kind\":null,\"name\":\"state\"}]},{\"extends\":null,\"module\":null,\"name\":\"click1\",\"overrides\":[],\"properties\":[{\"default\":\"\",\"kind\":null,\"name\":\"terminal_output\"},{\"default\":\"\",\"kind\":null,\"name\":\"debug_name\"},{\"default\":0,\"kind\":null,\"name\":\"clears\"}]},{\"extends\":null,\"module\":null,\"name\":\"NotificationAreaBase1\",\"overrides\":[],\"properties\":[{\"default\":\"bottom-right\",\"kind\":null,\"name\":\"position\"},{\"default\":0,\"kind\":null,\"name\":\"_clear\"}]},{\"extends\":null,\"module\":null,\"name\":\"NotificationArea1\",\"overrides\":[],\"properties\":[{\"default\":[],\"kind\":null,\"name\":\"notifications\"},{\"default\":\"bottom-right\",\"kind\":null,\"name\":\"position\"},{\"default\":0,\"kind\":null,\"name\":\"_clear\"},{\"default\":[{\"background\":\"#ffc107\",\"icon\":{\"className\":\"fas fa-exclamation-triangle\",\"color\":\"white\",\"tagName\":\"i\"},\"type\":\"warning\"},{\"background\":\"#007bff\",\"icon\":{\"className\":\"fas fa-info-circle\",\"color\":\"white\",\"tagName\":\"i\"},\"type\":\"info\"}],\"kind\":null,\"name\":\"types\"}]},{\"extends\":null,\"module\":null,\"name\":\"Notification\",\"overrides\":[],\"properties\":[{\"default\":null,\"kind\":null,\"name\":\"background\"},{\"default\":3000,\"kind\":null,\"name\":\"duration\"},{\"default\":null,\"kind\":null,\"name\":\"icon\"},{\"default\":\"\",\"kind\":null,\"name\":\"message\"},{\"default\":null,\"kind\":null,\"name\":\"notification_type\"},{\"default\":false,\"kind\":null,\"name\":\"_destroyed\"}]},{\"extends\":null,\"module\":null,\"name\":\"TemplateActions1\",\"overrides\":[],\"properties\":[{\"default\":0,\"kind\":null,\"name\":\"open_modal\"},{\"default\":0,\"kind\":null,\"name\":\"close_modal\"}]},{\"extends\":null,\"module\":null,\"name\":\"MaterialTemplateActions1\",\"overrides\":[],\"properties\":[{\"default\":0,\"kind\":null,\"name\":\"open_modal\"},{\"default\":0,\"kind\":null,\"name\":\"close_modal\"}]}],\"roots\":{\"references\":[{\"attributes\":{\"client_comm_id\":\"2a4bdef04567480b8dfe13762a58e086\",\"comm_id\":\"df02c9cf313844f8854fa4b793be666f\",\"plot_id\":\"1027\"},\"id\":\"1028\",\"type\":\"panel.models.comm_manager.CommManager\"},{\"attributes\":{\"end\":1243814400000.0,\"margin\":[5,10,5,10],\"start\":1239062400000.0,\"title\":\"day slider\",\"value\":1241654400000.0},\"id\":\"1027\",\"type\":\"DateSlider\"}],\"root_ids\":[\"1027\",\"1028\"]},\"title\":\"Bokeh Application\",\"version\":\"2.4.3\"}};\n",
       "    var render_items = [{\"docid\":\"5b4a92d0-1cc0-4dca-96df-062cdc9251bf\",\"root_ids\":[\"1027\"],\"roots\":{\"1027\":\"58a14ddc-a29b-405f-a6f6-6a97fb14fedd\"}}];\n",
       "    root.Bokeh.embed.embed_items_notebook(docs_json, render_items);\n",
       "  }\n",
       "  if (root.Bokeh !== undefined && root.Bokeh.Panel !== undefined && ( root['Tabulator'] !== undefined)) {\n",
       "    embed_document(root);\n",
       "  } else {\n",
       "    var attempts = 0;\n",
       "    var timer = setInterval(function(root) {\n",
       "      if (root.Bokeh !== undefined && root.Bokeh.Panel !== undefined && (root['Tabulator'] !== undefined)) {\n",
       "        clearInterval(timer);\n",
       "        embed_document(root);\n",
       "      } else if (document.readyState == \"complete\") {\n",
       "        attempts++;\n",
       "        if (attempts > 200) {\n",
       "          clearInterval(timer);\n",
       "          console.log(\"Bokeh: ERROR: Unable to run BokehJS code because BokehJS library is missing\");\n",
       "        }\n",
       "      }\n",
       "    }, 25, root)\n",
       "  }\n",
       "})(window);</script>"
      ],
      "text/plain": [
       "DateSlider(end=datetime.datetime(2009, ..., name='day slider', start=datetime.datetime(2009, ..., value=datetime.date(2009, 5, 7))"
      ]
     },
     "execution_count": 17,
     "metadata": {
      "application/vnd.holoviews_exec.v0+json": {
       "id": "1027"
      }
     },
     "output_type": "execute_result"
    }
   ],
   "source": [
    "# Show slider\n",
    "day_slider"
   ]
  },
  {
   "cell_type": "code",
   "execution_count": 18,
   "id": "73d23525",
   "metadata": {},
   "outputs": [],
   "source": [
    "# Create pipeline for sentiment count over time\n",
    "sentiment_pipeline = (\n",
    "    idb_sentiment[\n",
    "        (idb_sentiment.Timestamp.dt.date <= day_slider)\n",
    "    ]\n",
    "    .groupby(['Sentiment', 'Timestamp'])['Counts'].mean()\n",
    "    .to_frame()\n",
    "    .reset_index()\n",
    "    .sort_values(by='Timestamp')  \n",
    "    .reset_index(drop=True)\n",
    ")"
   ]
  },
  {
   "cell_type": "code",
   "execution_count": 19,
   "id": "a265e1a4",
   "metadata": {
    "scrolled": false
   },
   "outputs": [
    {
     "data": {},
     "metadata": {},
     "output_type": "display_data"
    },
    {
     "data": {
      "application/vnd.holoviews_exec.v0+json": "",
      "text/html": [
       "<div id='1029'>\n",
       "  <div class=\"bk-root\" id=\"fda8e3d0-d064-4a97-837c-2885e7de1696\" data-root-id=\"1029\"></div>\n",
       "</div>\n",
       "<script type=\"application/javascript\">(function(root) {\n",
       "  function embed_document(root) {\n",
       "    var docs_json = {\"83fc54c6-19d1-4752-8f07-83825bc2f993\":{\"defs\":[{\"extends\":null,\"module\":null,\"name\":\"ReactiveHTML1\",\"overrides\":[],\"properties\":[]},{\"extends\":null,\"module\":null,\"name\":\"FlexBox1\",\"overrides\":[],\"properties\":[{\"default\":\"flex-start\",\"kind\":null,\"name\":\"align_content\"},{\"default\":\"flex-start\",\"kind\":null,\"name\":\"align_items\"},{\"default\":\"row\",\"kind\":null,\"name\":\"flex_direction\"},{\"default\":\"wrap\",\"kind\":null,\"name\":\"flex_wrap\"},{\"default\":\"flex-start\",\"kind\":null,\"name\":\"justify_content\"}]},{\"extends\":null,\"module\":null,\"name\":\"GridStack1\",\"overrides\":[],\"properties\":[{\"default\":\"warn\",\"kind\":null,\"name\":\"mode\"},{\"default\":null,\"kind\":null,\"name\":\"ncols\"},{\"default\":null,\"kind\":null,\"name\":\"nrows\"},{\"default\":true,\"kind\":null,\"name\":\"allow_resize\"},{\"default\":true,\"kind\":null,\"name\":\"allow_drag\"},{\"default\":[],\"kind\":null,\"name\":\"state\"}]},{\"extends\":null,\"module\":null,\"name\":\"click1\",\"overrides\":[],\"properties\":[{\"default\":\"\",\"kind\":null,\"name\":\"terminal_output\"},{\"default\":\"\",\"kind\":null,\"name\":\"debug_name\"},{\"default\":0,\"kind\":null,\"name\":\"clears\"}]},{\"extends\":null,\"module\":null,\"name\":\"NotificationAreaBase1\",\"overrides\":[],\"properties\":[{\"default\":\"bottom-right\",\"kind\":null,\"name\":\"position\"},{\"default\":0,\"kind\":null,\"name\":\"_clear\"}]},{\"extends\":null,\"module\":null,\"name\":\"NotificationArea1\",\"overrides\":[],\"properties\":[{\"default\":[],\"kind\":null,\"name\":\"notifications\"},{\"default\":\"bottom-right\",\"kind\":null,\"name\":\"position\"},{\"default\":0,\"kind\":null,\"name\":\"_clear\"},{\"default\":[{\"background\":\"#ffc107\",\"icon\":{\"className\":\"fas fa-exclamation-triangle\",\"color\":\"white\",\"tagName\":\"i\"},\"type\":\"warning\"},{\"background\":\"#007bff\",\"icon\":{\"className\":\"fas fa-info-circle\",\"color\":\"white\",\"tagName\":\"i\"},\"type\":\"info\"}],\"kind\":null,\"name\":\"types\"}]},{\"extends\":null,\"module\":null,\"name\":\"Notification\",\"overrides\":[],\"properties\":[{\"default\":null,\"kind\":null,\"name\":\"background\"},{\"default\":3000,\"kind\":null,\"name\":\"duration\"},{\"default\":null,\"kind\":null,\"name\":\"icon\"},{\"default\":\"\",\"kind\":null,\"name\":\"message\"},{\"default\":null,\"kind\":null,\"name\":\"notification_type\"},{\"default\":false,\"kind\":null,\"name\":\"_destroyed\"}]},{\"extends\":null,\"module\":null,\"name\":\"TemplateActions1\",\"overrides\":[],\"properties\":[{\"default\":0,\"kind\":null,\"name\":\"open_modal\"},{\"default\":0,\"kind\":null,\"name\":\"close_modal\"}]},{\"extends\":null,\"module\":null,\"name\":\"MaterialTemplateActions1\",\"overrides\":[],\"properties\":[{\"default\":0,\"kind\":null,\"name\":\"open_modal\"},{\"default\":0,\"kind\":null,\"name\":\"close_modal\"}]}],\"roots\":{\"references\":[{\"attributes\":{\"children\":[{\"id\":\"1031\"},{\"id\":\"1035\"}],\"margin\":[0,0,0,0],\"name\":\"Column01406\"},\"id\":\"1030\",\"type\":\"Column\"},{\"attributes\":{\"end\":1243814400000.0,\"margin\":[5,10,5,10],\"start\":1239062400000.0,\"title\":\"day slider\",\"value\":1241654400000.0},\"id\":\"1033\",\"type\":\"DateSlider\"},{\"attributes\":{\"children\":[{\"id\":\"1032\"},{\"id\":\"1034\"}],\"margin\":[0,0,0,0],\"name\":\"Row01405\"},\"id\":\"1031\",\"type\":\"Row\"},{\"attributes\":{\"children\":[{\"id\":\"1030\"}],\"margin\":[0,0,0,0],\"name\":\"Row01407\"},\"id\":\"1029\",\"type\":\"Row\"},{\"attributes\":{\"margin\":[5,5,5,5],\"name\":\"HSpacer01404\",\"sizing_mode\":\"stretch_width\"},\"id\":\"1034\",\"type\":\"Spacer\"},{\"attributes\":{\"children\":[{\"id\":\"1036\"}],\"margin\":[0,0,0,0],\"name\":\"Row01388\"},\"id\":\"1035\",\"type\":\"Row\"},{\"attributes\":{\"margin\":[5,5,5,5],\"name\":\"DataFrame01402\",\"text\":\"&lt;table border=&quot;0&quot; class=&quot;dataframe panel-df&quot;&gt;\\n  &lt;thead&gt;\\n    &lt;tr style=&quot;text-align: right;&quot;&gt;\\n      &lt;th&gt;&lt;/th&gt;\\n      &lt;th&gt;Sentiment&lt;/th&gt;\\n      &lt;th&gt;Timestamp&lt;/th&gt;\\n      &lt;th&gt;Counts&lt;/th&gt;\\n    &lt;/tr&gt;\\n  &lt;/thead&gt;\\n  &lt;tbody&gt;\\n    &lt;tr&gt;\\n      &lt;th&gt;0&lt;/th&gt;\\n      &lt;td&gt;Negative&lt;/td&gt;\\n      &lt;td&gt;2009-04-07 06:00:00&lt;/td&gt;\\n      &lt;td&gt;367.741165&lt;/td&gt;\\n    &lt;/tr&gt;\\n    &lt;tr&gt;\\n      &lt;th&gt;1&lt;/th&gt;\\n      &lt;td&gt;Neutral&lt;/td&gt;\\n      &lt;td&gt;2009-04-07 06:00:00&lt;/td&gt;\\n      &lt;td&gt;643.466087&lt;/td&gt;\\n    &lt;/tr&gt;\\n    &lt;tr&gt;\\n      &lt;th&gt;2&lt;/th&gt;\\n      &lt;td&gt;Positive&lt;/td&gt;\\n      &lt;td&gt;2009-04-07 06:00:00&lt;/td&gt;\\n      &lt;td&gt;818.376612&lt;/td&gt;\\n    &lt;/tr&gt;\\n    &lt;tr&gt;\\n      &lt;th&gt;3&lt;/th&gt;\\n      &lt;td&gt;Negative&lt;/td&gt;\\n      &lt;td&gt;2009-04-07 07:00:00&lt;/td&gt;\\n      &lt;td&gt;365.718303&lt;/td&gt;\\n    &lt;/tr&gt;\\n    &lt;tr&gt;\\n      &lt;th&gt;4&lt;/th&gt;\\n      &lt;td&gt;Neutral&lt;/td&gt;\\n      &lt;td&gt;2009-04-07 07:00:00&lt;/td&gt;\\n      &lt;td&gt;640.635416&lt;/td&gt;\\n    &lt;/tr&gt;\\n  &lt;/tbody&gt;\\n&lt;/table&gt;\"},\"id\":\"1036\",\"type\":\"panel.models.markup.HTML\"},{\"attributes\":{\"client_comm_id\":\"a4820bc594e545eb917f03bbafd9d4e5\",\"comm_id\":\"7986606537f04f0694aaa541dab67a2c\",\"plot_id\":\"1029\"},\"id\":\"1037\",\"type\":\"panel.models.comm_manager.CommManager\"},{\"attributes\":{\"children\":[{\"id\":\"1033\"}],\"margin\":[0,0,0,0],\"name\":\"Column01383\"},\"id\":\"1032\",\"type\":\"Column\"}],\"root_ids\":[\"1029\",\"1037\"]},\"title\":\"Bokeh Application\",\"version\":\"2.4.3\"}};\n",
       "    var render_items = [{\"docid\":\"83fc54c6-19d1-4752-8f07-83825bc2f993\",\"root_ids\":[\"1029\"],\"roots\":{\"1029\":\"fda8e3d0-d064-4a97-837c-2885e7de1696\"}}];\n",
       "    root.Bokeh.embed.embed_items_notebook(docs_json, render_items);\n",
       "  }\n",
       "  if (root.Bokeh !== undefined && root.Bokeh.Panel !== undefined && ( root['Tabulator'] !== undefined)) {\n",
       "    embed_document(root);\n",
       "  } else {\n",
       "    var attempts = 0;\n",
       "    var timer = setInterval(function(root) {\n",
       "      if (root.Bokeh !== undefined && root.Bokeh.Panel !== undefined && (root['Tabulator'] !== undefined)) {\n",
       "        clearInterval(timer);\n",
       "        embed_document(root);\n",
       "      } else if (document.readyState == \"complete\") {\n",
       "        attempts++;\n",
       "        if (attempts > 200) {\n",
       "          clearInterval(timer);\n",
       "          console.log(\"Bokeh: ERROR: Unable to run BokehJS code because BokehJS library is missing\");\n",
       "        }\n",
       "      }\n",
       "    }, 25, root)\n",
       "  }\n",
       "})(window);</script>"
      ],
      "text/plain": [
       "<hvplot.interactive.Interactive at 0x18e7e9f6400>"
      ]
     },
     "execution_count": 19,
     "metadata": {
      "application/vnd.holoviews_exec.v0+json": {
       "id": "1029"
      }
     },
     "output_type": "execute_result"
    }
   ],
   "source": [
    "# Show results\n",
    "sentiment_pipeline.head()"
   ]
  },
  {
   "cell_type": "code",
   "execution_count": 20,
   "id": "0d66c14a",
   "metadata": {
    "scrolled": true
   },
   "outputs": [],
   "source": [
    "# Define sentiment count plot\n",
    "sentiment_plot = sentiment_pipeline.hvplot(x='Timestamp',\n",
    "                                           by='Sentiment',\n",
    "                                           y='Counts',\n",
    "                                           line_width=1,\n",
    "                                           title=\"sentiment over time\",\n",
    "                                           color=['#fc4f30', '#e5ae38', '#30a2da'])"
   ]
  },
  {
   "cell_type": "code",
   "execution_count": 21,
   "id": "d8f3b0cc",
   "metadata": {
    "scrolled": true
   },
   "outputs": [
    {
     "data": {},
     "metadata": {},
     "output_type": "display_data"
    },
    {
     "data": {},
     "metadata": {},
     "output_type": "display_data"
    },
    {
     "data": {
      "application/vnd.holoviews_exec.v0+json": "",
      "text/html": [
       "<div id='1038'>\n",
       "  <div class=\"bk-root\" id=\"a7e34739-7424-45ab-aa2b-c2463dc63b34\" data-root-id=\"1038\"></div>\n",
       "</div>\n",
       "<script type=\"application/javascript\">(function(root) {\n",
       "  function embed_document(root) {\n",
       "    var docs_json = {\"e73ed0ea-ee6d-4f47-8fda-721b69582a91\":{\"defs\":[{\"extends\":null,\"module\":null,\"name\":\"ReactiveHTML1\",\"overrides\":[],\"properties\":[]},{\"extends\":null,\"module\":null,\"name\":\"FlexBox1\",\"overrides\":[],\"properties\":[{\"default\":\"flex-start\",\"kind\":null,\"name\":\"align_content\"},{\"default\":\"flex-start\",\"kind\":null,\"name\":\"align_items\"},{\"default\":\"row\",\"kind\":null,\"name\":\"flex_direction\"},{\"default\":\"wrap\",\"kind\":null,\"name\":\"flex_wrap\"},{\"default\":\"flex-start\",\"kind\":null,\"name\":\"justify_content\"}]},{\"extends\":null,\"module\":null,\"name\":\"GridStack1\",\"overrides\":[],\"properties\":[{\"default\":\"warn\",\"kind\":null,\"name\":\"mode\"},{\"default\":null,\"kind\":null,\"name\":\"ncols\"},{\"default\":null,\"kind\":null,\"name\":\"nrows\"},{\"default\":true,\"kind\":null,\"name\":\"allow_resize\"},{\"default\":true,\"kind\":null,\"name\":\"allow_drag\"},{\"default\":[],\"kind\":null,\"name\":\"state\"}]},{\"extends\":null,\"module\":null,\"name\":\"click1\",\"overrides\":[],\"properties\":[{\"default\":\"\",\"kind\":null,\"name\":\"terminal_output\"},{\"default\":\"\",\"kind\":null,\"name\":\"debug_name\"},{\"default\":0,\"kind\":null,\"name\":\"clears\"}]},{\"extends\":null,\"module\":null,\"name\":\"NotificationAreaBase1\",\"overrides\":[],\"properties\":[{\"default\":\"bottom-right\",\"kind\":null,\"name\":\"position\"},{\"default\":0,\"kind\":null,\"name\":\"_clear\"}]},{\"extends\":null,\"module\":null,\"name\":\"NotificationArea1\",\"overrides\":[],\"properties\":[{\"default\":[],\"kind\":null,\"name\":\"notifications\"},{\"default\":\"bottom-right\",\"kind\":null,\"name\":\"position\"},{\"default\":0,\"kind\":null,\"name\":\"_clear\"},{\"default\":[{\"background\":\"#ffc107\",\"icon\":{\"className\":\"fas fa-exclamation-triangle\",\"color\":\"white\",\"tagName\":\"i\"},\"type\":\"warning\"},{\"background\":\"#007bff\",\"icon\":{\"className\":\"fas fa-info-circle\",\"color\":\"white\",\"tagName\":\"i\"},\"type\":\"info\"}],\"kind\":null,\"name\":\"types\"}]},{\"extends\":null,\"module\":null,\"name\":\"Notification\",\"overrides\":[],\"properties\":[{\"default\":null,\"kind\":null,\"name\":\"background\"},{\"default\":3000,\"kind\":null,\"name\":\"duration\"},{\"default\":null,\"kind\":null,\"name\":\"icon\"},{\"default\":\"\",\"kind\":null,\"name\":\"message\"},{\"default\":null,\"kind\":null,\"name\":\"notification_type\"},{\"default\":false,\"kind\":null,\"name\":\"_destroyed\"}]},{\"extends\":null,\"module\":null,\"name\":\"TemplateActions1\",\"overrides\":[],\"properties\":[{\"default\":0,\"kind\":null,\"name\":\"open_modal\"},{\"default\":0,\"kind\":null,\"name\":\"close_modal\"}]},{\"extends\":null,\"module\":null,\"name\":\"MaterialTemplateActions1\",\"overrides\":[],\"properties\":[{\"default\":0,\"kind\":null,\"name\":\"open_modal\"},{\"default\":0,\"kind\":null,\"name\":\"close_modal\"}]}],\"roots\":{\"references\":[{\"attributes\":{},\"id\":\"1171\",\"type\":\"UnionRenderers\"},{\"attributes\":{\"children\":[{\"id\":\"1041\"},{\"id\":\"1043\"}],\"margin\":[0,0,0,0],\"name\":\"Row01570\"},\"id\":\"1040\",\"type\":\"Row\"},{\"attributes\":{\"coordinates\":null,\"data_source\":{\"id\":\"1085\"},\"glyph\":{\"id\":\"1088\"},\"group\":null,\"hover_glyph\":null,\"muted_glyph\":{\"id\":\"1090\"},\"nonselection_glyph\":{\"id\":\"1089\"},\"selection_glyph\":{\"id\":\"1117\"},\"view\":{\"id\":\"1092\"}},\"id\":\"1091\",\"type\":\"GlyphRenderer\"},{\"attributes\":{\"line_alpha\":0.2,\"line_color\":\"#e5ae38\",\"x\":{\"field\":\"Timestamp\"},\"y\":{\"field\":\"Counts\"}},\"id\":\"1123\",\"type\":\"Line\"},{\"attributes\":{\"line_color\":\"#fc4f30\",\"x\":{\"field\":\"Timestamp\"},\"y\":{\"field\":\"Counts\"}},\"id\":\"1117\",\"type\":\"Line\"},{\"attributes\":{\"bottom_units\":\"screen\",\"coordinates\":null,\"fill_alpha\":0.5,\"fill_color\":\"lightgrey\",\"group\":null,\"left_units\":\"screen\",\"level\":\"overlay\",\"line_alpha\":1.0,\"line_color\":\"black\",\"line_dash\":[4,4],\"line_width\":2,\"right_units\":\"screen\",\"syncable\":false,\"top_units\":\"screen\"},\"id\":\"1071\",\"type\":\"BoxAnnotation\"},{\"attributes\":{},\"id\":\"1081\",\"type\":\"AllLabels\"},{\"attributes\":{\"line_alpha\":0.1,\"line_color\":\"#e5ae38\",\"x\":{\"field\":\"Timestamp\"},\"y\":{\"field\":\"Counts\"}},\"id\":\"1122\",\"type\":\"Line\"},{\"attributes\":{\"children\":[{\"id\":\"1039\"}],\"margin\":[0,0,0,0],\"name\":\"Row01577\"},\"id\":\"1038\",\"type\":\"Row\"},{\"attributes\":{\"line_color\":\"#e5ae38\",\"x\":{\"field\":\"Timestamp\"},\"y\":{\"field\":\"Counts\"}},\"id\":\"1121\",\"type\":\"Line\"},{\"attributes\":{\"mantissas\":[1,2,5],\"max_interval\":500.0,\"num_minor_ticks\":0},\"id\":\"1103\",\"type\":\"AdaptiveTicker\"},{\"attributes\":{\"data\":{\"Counts\":{\"__ndarray__\":\"c/eOz9v7dkCqxCErftt2QN+RtIYgu3ZAFl9H4sKadkBKLNo9ZXp2QID5bJkHWnZAtcb/9Kk5dkDrk5JQTBl2QCBhJazu+HVAVi64B5HYdUCM+0pjM7h1QMHI3b7Vl3VAcRzHcRzTdUBIkiRJkrt1QJdlWZZliXVAruu6rutWdUCSJEmSJCV1QJdlWZZl63RAu67ruq6pdECqqqqqqmR0QLuu67quJHRAl2VZlmXmc0CSJEmSJLlzQJ7neZ7nqXNAqqqqqqqac0C2bdu2bYtzQMIwDMMwfHNAzvM8z/Nsc0Dctm3btl1zQOh5nud5TnNA9DzP8zw/c0AAAAAAADBzQAzDMAzDIHNAGIZhGIYRc0AkSZIkSQJzQDAMwzAM83JAPM/zPM/jckBIkiRJktRyQFRVVVVVxXJAYhiGYRi2ckBu27Zt26ZyQHqe53mel3JAhmEYhmGIckCSJEmSJHlyQJ7neZ7naXJAqqqqqqpackC2bdu2bUtyQMIwDMMwPHJAzvM8z/MsckDctm3bth1yQOh5nud5DnJA9DzP8zz/cUAAAAAAAPBxQAzDMAzD4HFAGIZhGIbRcUAkSZIkScJxQDAMwzAMs3FAPM/zPM+jcUBIkiRJkpRxQFRVVVVVhXFAYhiGYRh2cUBu27Zt22ZxQHqe53meV3FAhmEYhmFIcUCSJEmSJDlxQJ7neZ7nKXFAqqqqqqoacUC2bdu2bQtxQMIwDMMw/HBAzvM8z/PscEDctm3btt1wQOh5nud5znBA9DzP8zy/cEAAAAAAALBwQAzDMAzDoHBAGIZhGIaRcEAkSZIkSYJwQDAMwzAMc3BAPM/zPM9jcEBIkiRJklRwQFZVVVVVRXBAYhiGYRg2cEBu27Zt2yZwQHqe53meF3BAhmEYhmEIcEAkSZIkSfJvQDzP8zzP029AVFVVVVW1b0Bt27Zt25ZvQIdhGIZheG9Anud5nudZb0C2bdu2bTtvQM7zPM/zHG9A5nme53n+bkAAAAAAAOBuQBiGYRiGwW5AMAzDMAyjbkBIkiRJkoRuQGAYhmEYZm5Aep7neZ5HbkCSJEmSJCluQKmqqqqqCm5AwjAMwzDsbUDatm3bts1tQPQ8z/M8r21ADMMwDMOQbUAkSZIkSXJtQDzP8zzPU21AVFVVVVU1bUBt27Zt2xZtQIdhGIZh+GxAnud5nufZbEC2bdu2bbtsQM7zPM/znGxA5nme53l+bEAAAAAAAGBsQBiGYRiGQWxAMAzDMAwjbEBIkiRJkgRsQGAYhmEY5mtAep7neZ7Ha0CSJEmSJKlrQKmqqqqqimtAwjAMwzBsa0Dctm3btk1rQPM8z/M8L2tADMMwDMMQa0AkSZIkSfJqQDzP8zzP02pAVFVVVVW1akBt27Zt25ZqQIdhGIZheGpAnud5nudZakC2bdu2bTtqQM7zPM/zHGpA5nme53n+aUAAAAAAAOBpQBiGYRiGwWlAMAzDMAyjaUBIkiRJkoRpQF8YhmEYZmlAep7neZ5HaUCSJEmSJClpQKmqqqqqCmlAwjAMwzDsaEDctm3bts1oQPQ8z/M8r2hADMMwDMOQaEAkSZIkSXJoQDzP8zzPU2hAVFVVVVU1aEBt27Zt2xZoQIdhGIZh+GdAnud5nufZZ0C2bdu2bbtnQM7zPM/znGdA6Hme53l+Z0AAAAAAAGBnQBiGYRiGQWdAMAzDMAwjZ0BIkiRJkgRnQGIYhmEY5mZAep7neZ7HZkCSJEmSJKlmQKmqqqqqimZAwjAMwzBsZkDctm3btk1mQPQ8z/M8L2ZADMMwDMMQZkAkSZIkSfJlQDzP8zzP02VAVVVVVVW1ZUBu27Zt25ZlQIZhGIZheGVAnud5nudZZUC2bdu2bTtlQM/zPM/zHGVA6Hme53n+ZEAAAAAAAOBkQBiGYRiGwWRAMAzDMAyjZEBIkiRJkoRkQGIYhmEYZmRAep7neZ5HZECSJEmSJClkQKqqqqqqCmRAwjAMwzDsY0Dctm3bts1jQPQ8z/M8r2NADMMwDMOQY0AkSZIkSXJjQDzP8zzPU2NAVVVVVVU1Y0Bu27Zt2xZjQIZhGIZh+GJAnud5nufZYkC2bdu2bbtiQM7zPM/znGJA6Hme53l+YkAAAAAAAGBiQBiGYRiGQWJAMAzDMAwjYkBJkiRJkgRiQGIYhmEY5mFAep7neZ7HYUCSJEmSJKlhQKqqqqqqimFAwjAMwzBsYUDbtm3btk1hQPQ8z/M8L2FADMMwDMMQYUAkSZIkSfJgQDzP8zzP02BAVlVVVVW1YEBu27Zt25ZgQIZhGIZheGBAnud5nudZYEC2bdu2bTtgQM/zPM/zHGBAzfM8z/P8X0AAAAAAAMBfQDAMwzAMg19AYBiGYRhGX0CSJEmSJAlfQMIwDMMwzF5A9DzP8zyPXkAkSZIkSVJeQFRVVVVVFV5AhmEYhmHYXUC2bdu2bZtdQOh5nud5Xl1AGIZhGIYhXUBIkiRJkuRcQHqe53mep1xAqqqqqqpqXEDatm3bti1cQAzDMAzD8FtAPM/zPM+zW0Bu27Zt23ZbQJ7neZ7nOVtAzfM8z/P8WkAAAAAAAMBaQDAMwzAMg1pAYBiGYRhGWkCSJEmSJAlaQMIwDMMwzFlA9DzP8zyPWUAkSZIkSVJZQFRVVVVVFVlAhmEYhmHYWEC2bdu2bZtYQFAURVEUrVlAFUVRFEUBW0BUVVVV1TxbQBVFURRFX1tAUBRFUZRoW0AMwzAMw1hbQERRFEXRL1tA/b7v+77tWkAwDMMwjJJaQOI4juM4HlpAvu/7vu8/W0AYhmEYhgVeQPh93/d9X2BAoiiKoiiEYUDv+77v+3ZiQG7btm3baGNAHMdxHMdZZEBt27Zt25RlQH3f933f+2ZATdM0TdPeZ0CHYRiGYSxoQGAYhmEYaGhAxDAMwzDgaECpqqqqqpRpQAAAAAAAJGpAAAAAAAD0akAAAAAAQFxsQAAAAAAA221AVFVVVZVZb0AAAAAAAGBwQFVVVVV1DHFAAAAAAIC7cUAAAAAAIHtyQAAAAAAASHNAqqqqqqqzc0BVVVVVVahzQKqqqqqqlnNAAAAAAACzc0DkOI7jOO9zQI7jOI7jBHRASZIkSZLkc0AkSZIkSYxzQJIkSZIkC3NAkiRJkiS5ckDO8zzP855yQCzLsizLenJAOI7jOI4lckDkOI7jOKxxQI7jOI7j+HBAqqqqqqobcEBUVVVVVV1vQFRVVVVVU29AqaqqqqpKb0BUVVVVVW1vQAAAAAAAjG9AVFVVVVWdb0AAAAAAALpvQFZVVVVV0W9AAAAAAAD2b0AAAAAAAEhvQBiGYRiGpW1ADMMwDMPoa0Datm3btidqQIdhGIZhvmhAeZ7neZ7LZ0AkSZIkSQhnQIZhGIZhdGZAnud5nucPZkBu27Zt29plQPM8z/M81WVAMAzDMAz/ZUBEURRFUT5mQFEURVEUeWZAVFVVVVWvZkCpqqqqqrhmQAAAAAAAomZAVFVVVVWdZkBUVVVVVZVmQKmqqqqqmmZAqqqqqqoGZkCqqqqqlLJkQKqqqqpSWGNAVVVVVY/qYUBVVVVV9W1hQJIkSZL++mFAnud5ns+AYkB6nud5aP9iQCVJkiTJdmNAn+d5nvHmY0DoeZ7n4U9kQAAAAACasWRA6Hme5xkMZUCf53meYV9lQCRJkiRxq2VAeZ7neUjwZUCe53me5y1mQJIkSZJOZGZAVFVVVX2TZkCqqqqqpAVmQKqqqqpKwGRAqqqqqsR2Y0AAAAAAaCxiQKqqqqo09WBAAAAAAIBuYEAAAAAAYIpgQAAAAABApmBAAAAAACDCYEAAAAAAAN5gQAAAAADg+WBAAAAAAMAVYUAAAAAAoDFhQAAAAACATWFAAAAAAGBpYUAAAAAAQIVhQAAAAAAgoWFAAAAAAAC9YUAAAAAA4NhhQAAAAADA9GFAAAAAAKAQYkAAAAAAgCxiQAAAAABgSGJAAAAAAEBkYkAAAAAAIIBiQAAAAAAAnGJAAAAAAOC3YkAAAAAAwNNiQAAAAACg72JAAAAAAIALY0AAAAAAYCdjQAAAAABAQ2NAAAAAACBfY0AAAAAAAHtjQAAAAADglmNAAAAAAMCyY0AAAAAAoM5jQAAAAACA6mNAAAAAAGAGZEAAAAAAQCJkQAAAAAAgPmRAAAAAAABaZEAAAAAA4HVkQAAAAADAkWRAAAAAAKCtZEAAAAAAgMlkQAAAAABg5WRAAAAAAEABZUAAAAAAIB1lQAAAAAAAOWVAAAAAAOBUZUAAAAAAwHBlQAAAAACgjGVAAAAAAICoZUAAAAAAYMRlQAAAAABA4GVAAAAAACD8ZUAAAAAAABhmQAAAAADgM2ZAAAAAAMBPZkAAAAAAoGtmQAAAAACAh2ZAAAAAAGCjZkAAAAAAQL9mQAAAAAAg22ZAAAAAAAD3ZkAAAAAA4BJnQAAAAADALmdAAAAAAKBKZ0AAAAAAgGZnQAAAAABggmdAAAAAAECeZ0AAAAAAILpnQAAAAAAA1mdAAAAAAODxZ0AAAAAAwA1oQAAAAACgKWhAAAAAAIBFaEAAAAAAYGFoQAAAAABAfWhAAAAAACCZaEAAAAAAALVoQAAAAADg0GhAAAAAAMDsaEAAAAAAoAhpQAAAAACAJGlAAAAAAGBAaUAAAAAAQFxpQAAAAAAgeGlAAAAAAACUaUAAAAAA4K9pQAAAAADAy2lAAAAAAKDnaUAAAAAAgANqQAAAAABgH2pAAAAAAEA7akAAAAAAIFdqQAAAAAAAc2pAAAAAAOCOakAAAAAAwKpqQAAAAACgxmpAAAAAAIDiakAAAAAAYP5qQAAAAABAGmtAAAAAACA2a0AAAAAAAFJrQAAAAADgbWtAAAAAAMCJa0AAAAAAoKVrQAAAAACAwWtAAAAAAGDda0AAAAAAQPlrQAAAAAAgFWxAAAAAAAAxbEAAAAAA4ExsQAAAAADAaGxAAAAAAKCEbEAAAAAAgKBsQAAAAABgvGxAAAAAAEDYbEAAAAAAIPRsQAAAAAAAEG1AAAAAAOArbUAAAAAAwEdtQAAAAACgY21AAAAAAIB/bUAAAAAAYJttQAAAAABAt21AAAAAACDTbUAAAAAAAO9tQAAAAADgCm5AAAAAAMAmbkAAAAAAoEJuQAAAAACAXm5AAAAAAGB6bkAAAAAAQJZuQAAAAAAgsm5AAAAAAADObkAAAAAA4OluQAAAAADABW9AAAAAAKAhb0AAAAAAgD1vQAAAAABgWW9AAAAAAEB1b0AAAAAAIJFvQAAAAAAArW9AAAAAAODIb0AAAAAAwORvQAAAAABQAHBAAAAAAEAOcEAAAAAAMBxwQAAAAAAgKnBAAAAAABA4cEAAAAAAAEZwQAAAAADwU3BAAAAAAOBhcEAAAAAA0G9wQAAAAADAfXBAAAAAALCLcEAAAAAAoJlwQAAAAACQp3BAAAAAAIC1cEAAAAAAcMNwQAAAAABg0XBAAAAAAFDfcEAAAAAAQO1wQAAAAAAw+3BAAAAAACAJcUAAAAAAEBdxQAAAAAAAJXFAAAAAAPAycUAAAAAA4EBxQAAAAADQTnFAAAAAAMBccUAAAAAAsGpxQAAAAACgeHFAAAAAAJCGcUAAAAAAgJRxQAAAAABwonFAAAAAAGCwcUAAAAAAUL5xQAAAAABAzHFAAAAAADDacUAAAAAAIOhxQAAAAAAQ9nFAAAAAAAAEckAAAAAA8BFyQAAAAADgH3JAAAAAANAtckAAAAAAwDtyQAAAAACwSXJAAAAAAKBXckAAAAAAkGVyQAAAAACAc3JAAAAAAHCBckAAAAAAYI9yQAAAAABQnXJAAAAAAECrckAAAAAAMLlyQAAAAAAgx3JAAAAAABDVckAAAAAAAONyQAAAAADw8HJAAAAAAOD+ckAAAAAA0AxzQAAAAADAGnNAAAAAALAoc0AAAAAAoDZzQAAAAACQRHNAAAAAAIBSc0AAAAAAcGBzQAAAAABgbnNAAAAAAFB8c0AAAAAAQIpzQAAAAAAwmHNAAAAAACCmc0AAAAAAELRzQAAAAAAAwnNAAAAAAPDPc0AAAAAA4N1zQAAAAADQ63NAAAAAAMD5c0AAAAAAsAd0QAAAAACgFXRAAAAAAJAjdEAAAAAAgDF0QAAAAABwP3RAAAAAAGBNdEAAAAAAUFt0QAAAAABAaXRAAAAAADB3dEAAAAAAIIV0QAAAAAAQk3RAAAAAAAChdEAAAAAA8K50QAAAAADgvHRAAAAAANDKdEAAAAAAwNh0QFVVVVUQ8XRAAAAAAMwadUCqqqqqnU51QFVVVVWFhXVAVVVVVdisdUCqqqqqlsB1QAAAAABrzXVAAAAAAADPdUBVVVVVAOB1QFVVVVXBAXZAAAAAAEMVdkAAAAAAMCB2QFVVVVWI7HVAAAAAAEzFdUAAAAAAe5h1QKqqqqpqR3VAqqqqqsXwdEAAAAAAjGR0QFVVVVVoznNAqqqqqlouc0AAAAAAY4RyQFZVVVWB0HFAq6qqqrUScUAAAAAAAEtwQAAAAAAA3m5AAAAAAADMbUCpqqqqqpptQKmqqqqqeG1AAAAAAABybUCpqqqqqoxtQAAAAAAAlG1AVFVVVVWxbUCpqqqqqsBtQFRVVVVVt21AqaqqqqrCbUCpqqqqquxtQFRVVVVVeW5AAAAAAABObkAAAAAAAHBtQFRVVVVV02xAVFVVVdWsbECpqqqqqiRtQAAAAACA421AVFVVVVXpbkBVVVVVVRJwQKqqqqqqjXBAVVVVVVUncUCqqqqqqglyQKqqqqqq63JAVVVVVVVwc0AAAAAAAItzQFVVVVVVkXNAqqqqqqqCc0AAAAAAAG5zQKqqqqqqbnNAAAAAAAB9c0CqqqqqqohzQFVVVVVVjnNAqqqqqqqJc0AAAAAAAG9zQAAAAAAAYXNAAAAAAACic0BVVVVVVUF0QKqqqqqq43RAq6qqqupPdUAAAAAAAKJ1QKqqqqrq2XVAqqqqqqr3dUAAAAAAAAR2QAAAAAAAPHZAAAAAAABfdkCqqqqqqkJ2QAAAAAAAMHZAqqqqqqoVdkBVVVVVVep1QAAAAAAAyHVAAAAAAAC8dUBVVVVVVbh1QFVVVVVVr3VAVVVVVVWYdUAAAAAAAHt1QKqqqqqqXnVAAAAAAABQdUAAAAAAAFB1QAAAAAAAUHVAAAAAAABQdUAAAAAAAFB1QAAAAAAAUHVAAAAAAABQdUAAAAAAAFB1QAAAAAAAUHVAAAAAAABQdUAAAAAAAFB1QAAAAAAAUHVAAAAAAABQdUAAAAAAAFB1QAAAAAAAUHVAAAAAAABQdUAAAAAAAFB1QAAAAAAAUHVAAAAAAABQdUAAAAAAAFB1QAAAAAAAUHVAAAAAAABQdUAAAAAAAFB1QAAAAAAAUHVAAAAAAABQdUAAAAAAAFB1QAAAAAAAUHVAAAAAAABQdUAAAAAAAFB1QAAAAAAAUHVAAAAAAABQdUAAAAAAAFB1QAAAAAAAUHVAAAAAAABQdUAAAAAAAFB1QAAAAAAAUHVAAAAAAABQdUAAAAAAAFB1QAAAAAAAUHVAAAAAAABQdUAAAAAAAFB1QAAAAAAAUHVAAAAAAABQdUAAAAAAAFB1QAAAAAAAUHVAAAAAAABQdUAAAAAAAFB1QAAAAAAAUHVAAAAAAABQdUAAAAAAAFB1QAAAAAAAUHVAAAAAAABQdUAAAAAAAFB1QAAAAAAAUHVAAAAAAABQdUAAAAAAAFB1QAAAAAAAUHVAAAAAAABQdUAAAAAAAFB1QAAAAAAAUHVAAAAAAABQdUAAAAAAAFB1QAAAAAAAUHVAAAAAAABQdUAAAAAAAFB1QAAAAAAAUHVAAAAAAABQdUAAAAAAAFB1QAAAAAAAUHVA\",\"dtype\":\"float64\",\"order\":\"little\",\"shape\":[738]},\"Sentiment\":[\"Negative\",\"Negative\",\"Negative\",\"Negative\",\"Negative\",\"Negative\",\"Negative\",\"Negative\",\"Negative\",\"Negative\",\"Negative\",\"Negative\",\"Negative\",\"Negative\",\"Negative\",\"Negative\",\"Negative\",\"Negative\",\"Negative\",\"Negative\",\"Negative\",\"Negative\",\"Negative\",\"Negative\",\"Negative\",\"Negative\",\"Negative\",\"Negative\",\"Negative\",\"Negative\",\"Negative\",\"Negative\",\"Negative\",\"Negative\",\"Negative\",\"Negative\",\"Negative\",\"Negative\",\"Negative\",\"Negative\",\"Negative\",\"Negative\",\"Negative\",\"Negative\",\"Negative\",\"Negative\",\"Negative\",\"Negative\",\"Negative\",\"Negative\",\"Negative\",\"Negative\",\"Negative\",\"Negative\",\"Negative\",\"Negative\",\"Negative\",\"Negative\",\"Negative\",\"Negative\",\"Negative\",\"Negative\",\"Negative\",\"Negative\",\"Negative\",\"Negative\",\"Negative\",\"Negative\",\"Negative\",\"Negative\",\"Negative\",\"Negative\",\"Negative\",\"Negative\",\"Negative\",\"Negative\",\"Negative\",\"Negative\",\"Negative\",\"Negative\",\"Negative\",\"Negative\",\"Negative\",\"Negative\",\"Negative\",\"Negative\",\"Negative\",\"Negative\",\"Negative\",\"Negative\",\"Negative\",\"Negative\",\"Negative\",\"Negative\",\"Negative\",\"Negative\",\"Negative\",\"Negative\",\"Negative\",\"Negative\",\"Negative\",\"Negative\",\"Negative\",\"Negative\",\"Negative\",\"Negative\",\"Negative\",\"Negative\",\"Negative\",\"Negative\",\"Negative\",\"Negative\",\"Negative\",\"Negative\",\"Negative\",\"Negative\",\"Negative\",\"Negative\",\"Negative\",\"Negative\",\"Negative\",\"Negative\",\"Negative\",\"Negative\",\"Negative\",\"Negative\",\"Negative\",\"Negative\",\"Negative\",\"Negative\",\"Negative\",\"Negative\",\"Negative\",\"Negative\",\"Negative\",\"Negative\",\"Negative\",\"Negative\",\"Negative\",\"Negative\",\"Negative\",\"Negative\",\"Negative\",\"Negative\",\"Negative\",\"Negative\",\"Negative\",\"Negative\",\"Negative\",\"Negative\",\"Negative\",\"Negative\",\"Negative\",\"Negative\",\"Negative\",\"Negative\",\"Negative\",\"Negative\",\"Negative\",\"Negative\",\"Negative\",\"Negative\",\"Negative\",\"Negative\",\"Negative\",\"Negative\",\"Negative\",\"Negative\",\"Negative\",\"Negative\",\"Negative\",\"Negative\",\"Negative\",\"Negative\",\"Negative\",\"Negative\",\"Negative\",\"Negative\",\"Negative\",\"Negative\",\"Negative\",\"Negative\",\"Negative\",\"Negative\",\"Negative\",\"Negative\",\"Negative\",\"Negative\",\"Negative\",\"Negative\",\"Negative\",\"Negative\",\"Negative\",\"Negative\",\"Negative\",\"Negative\",\"Negative\",\"Negative\",\"Negative\",\"Negative\",\"Negative\",\"Negative\",\"Negative\",\"Negative\",\"Negative\",\"Negative\",\"Negative\",\"Negative\",\"Negative\",\"Negative\",\"Negative\",\"Negative\",\"Negative\",\"Negative\",\"Negative\",\"Negative\",\"Negative\",\"Negative\",\"Negative\",\"Negative\",\"Negative\",\"Negative\",\"Negative\",\"Negative\",\"Negative\",\"Negative\",\"Negative\",\"Negative\",\"Negative\",\"Negative\",\"Negative\",\"Negative\",\"Negative\",\"Negative\",\"Negative\",\"Negative\",\"Negative\",\"Negative\",\"Negative\",\"Negative\",\"Negative\",\"Negative\",\"Negative\",\"Negative\",\"Negative\",\"Negative\",\"Negative\",\"Negative\",\"Negative\",\"Negative\",\"Negative\",\"Negative\",\"Negative\",\"Negative\",\"Negative\",\"Negative\",\"Negative\",\"Negative\",\"Negative\",\"Negative\",\"Negative\",\"Negative\",\"Negative\",\"Negative\",\"Negative\",\"Negative\",\"Negative\",\"Negative\",\"Negative\",\"Negative\",\"Negative\",\"Negative\",\"Negative\",\"Negative\",\"Negative\",\"Negative\",\"Negative\",\"Negative\",\"Negative\",\"Negative\",\"Negative\",\"Negative\",\"Negative\",\"Negative\",\"Negative\",\"Negative\",\"Negative\",\"Negative\",\"Negative\",\"Negative\",\"Negative\",\"Negative\",\"Negative\",\"Negative\",\"Negative\",\"Negative\",\"Negative\",\"Negative\",\"Negative\",\"Negative\",\"Negative\",\"Negative\",\"Negative\",\"Negative\",\"Negative\",\"Negative\",\"Negative\",\"Negative\",\"Negative\",\"Negative\",\"Negative\",\"Negative\",\"Negative\",\"Negative\",\"Negative\",\"Negative\",\"Negative\",\"Negative\",\"Negative\",\"Negative\",\"Negative\",\"Negative\",\"Negative\",\"Negative\",\"Negative\",\"Negative\",\"Negative\",\"Negative\",\"Negative\",\"Negative\",\"Negative\",\"Negative\",\"Negative\",\"Negative\",\"Negative\",\"Negative\",\"Negative\",\"Negative\",\"Negative\",\"Negative\",\"Negative\",\"Negative\",\"Negative\",\"Negative\",\"Negative\",\"Negative\",\"Negative\",\"Negative\",\"Negative\",\"Negative\",\"Negative\",\"Negative\",\"Negative\",\"Negative\",\"Negative\",\"Negative\",\"Negative\",\"Negative\",\"Negative\",\"Negative\",\"Negative\",\"Negative\",\"Negative\",\"Negative\",\"Negative\",\"Negative\",\"Negative\",\"Negative\",\"Negative\",\"Negative\",\"Negative\",\"Negative\",\"Negative\",\"Negative\",\"Negative\",\"Negative\",\"Negative\",\"Negative\",\"Negative\",\"Negative\",\"Negative\",\"Negative\",\"Negative\",\"Negative\",\"Negative\",\"Negative\",\"Negative\",\"Negative\",\"Negative\",\"Negative\",\"Negative\",\"Negative\",\"Negative\",\"Negative\",\"Negative\",\"Negative\",\"Negative\",\"Negative\",\"Negative\",\"Negative\",\"Negative\",\"Negative\",\"Negative\",\"Negative\",\"Negative\",\"Negative\",\"Negative\",\"Negative\",\"Negative\",\"Negative\",\"Negative\",\"Negative\",\"Negative\",\"Negative\",\"Negative\",\"Negative\",\"Negative\",\"Negative\",\"Negative\",\"Negative\",\"Negative\",\"Negative\",\"Negative\",\"Negative\",\"Negative\",\"Negative\",\"Negative\",\"Negative\",\"Negative\",\"Negative\",\"Negative\",\"Negative\",\"Negative\",\"Negative\",\"Negative\",\"Negative\",\"Negative\",\"Negative\",\"Negative\",\"Negative\",\"Negative\",\"Negative\",\"Negative\",\"Negative\",\"Negative\",\"Negative\",\"Negative\",\"Negative\",\"Negative\",\"Negative\",\"Negative\",\"Negative\",\"Negative\",\"Negative\",\"Negative\",\"Negative\",\"Negative\",\"Negative\",\"Negative\",\"Negative\",\"Negative\",\"Negative\",\"Negative\",\"Negative\",\"Negative\",\"Negative\",\"Negative\",\"Negative\",\"Negative\",\"Negative\",\"Negative\",\"Negative\",\"Negative\",\"Negative\",\"Negative\",\"Negative\",\"Negative\",\"Negative\",\"Negative\",\"Negative\",\"Negative\",\"Negative\",\"Negative\",\"Negative\",\"Negative\",\"Negative\",\"Negative\",\"Negative\",\"Negative\",\"Negative\",\"Negative\",\"Negative\",\"Negative\",\"Negative\",\"Negative\",\"Negative\",\"Negative\",\"Negative\",\"Negative\",\"Negative\",\"Negative\",\"Negative\",\"Negative\",\"Negative\",\"Negative\",\"Negative\",\"Negative\",\"Negative\",\"Negative\",\"Negative\",\"Negative\",\"Negative\",\"Negative\",\"Negative\",\"Negative\",\"Negative\",\"Negative\",\"Negative\",\"Negative\",\"Negative\",\"Negative\",\"Negative\",\"Negative\",\"Negative\",\"Negative\",\"Negative\",\"Negative\",\"Negative\",\"Negative\",\"Negative\",\"Negative\",\"Negative\",\"Negative\",\"Negative\",\"Negative\",\"Negative\",\"Negative\",\"Negative\",\"Negative\",\"Negative\",\"Negative\",\"Negative\",\"Negative\",\"Negative\",\"Negative\",\"Negative\",\"Negative\",\"Negative\",\"Negative\",\"Negative\",\"Negative\",\"Negative\",\"Negative\",\"Negative\",\"Negative\",\"Negative\",\"Negative\",\"Negative\",\"Negative\",\"Negative\",\"Negative\",\"Negative\",\"Negative\",\"Negative\",\"Negative\",\"Negative\",\"Negative\",\"Negative\",\"Negative\",\"Negative\",\"Negative\",\"Negative\",\"Negative\",\"Negative\",\"Negative\",\"Negative\",\"Negative\",\"Negative\",\"Negative\",\"Negative\",\"Negative\",\"Negative\",\"Negative\",\"Negative\",\"Negative\",\"Negative\",\"Negative\",\"Negative\",\"Negative\",\"Negative\",\"Negative\",\"Negative\",\"Negative\",\"Negative\",\"Negative\",\"Negative\",\"Negative\",\"Negative\",\"Negative\",\"Negative\",\"Negative\",\"Negative\",\"Negative\",\"Negative\",\"Negative\",\"Negative\",\"Negative\",\"Negative\",\"Negative\",\"Negative\",\"Negative\",\"Negative\",\"Negative\",\"Negative\",\"Negative\",\"Negative\",\"Negative\",\"Negative\",\"Negative\",\"Negative\",\"Negative\",\"Negative\",\"Negative\",\"Negative\",\"Negative\",\"Negative\",\"Negative\",\"Negative\",\"Negative\",\"Negative\",\"Negative\",\"Negative\",\"Negative\",\"Negative\",\"Negative\",\"Negative\",\"Negative\",\"Negative\",\"Negative\",\"Negative\",\"Negative\",\"Negative\",\"Negative\",\"Negative\",\"Negative\",\"Negative\",\"Negative\",\"Negative\",\"Negative\",\"Negative\",\"Negative\",\"Negative\",\"Negative\",\"Negative\",\"Negative\",\"Negative\",\"Negative\",\"Negative\",\"Negative\",\"Negative\",\"Negative\",\"Negative\",\"Negative\",\"Negative\",\"Negative\",\"Negative\",\"Negative\",\"Negative\",\"Negative\",\"Negative\",\"Negative\",\"Negative\",\"Negative\",\"Negative\",\"Negative\",\"Negative\",\"Negative\",\"Negative\",\"Negative\",\"Negative\",\"Negative\",\"Negative\",\"Negative\",\"Negative\",\"Negative\",\"Negative\",\"Negative\",\"Negative\",\"Negative\",\"Negative\",\"Negative\",\"Negative\",\"Negative\",\"Negative\",\"Negative\",\"Negative\",\"Negative\",\"Negative\",\"Negative\",\"Negative\",\"Negative\",\"Negative\",\"Negative\",\"Negative\",\"Negative\",\"Negative\",\"Negative\",\"Negative\",\"Negative\",\"Negative\",\"Negative\",\"Negative\",\"Negative\",\"Negative\",\"Negative\",\"Negative\",\"Negative\",\"Negative\",\"Negative\",\"Negative\",\"Negative\",\"Negative\",\"Negative\",\"Negative\",\"Negative\",\"Negative\",\"Negative\",\"Negative\",\"Negative\",\"Negative\",\"Negative\",\"Negative\",\"Negative\",\"Negative\",\"Negative\",\"Negative\",\"Negative\",\"Negative\"],\"Timestamp\":{\"__ndarray__\":\"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\",\"dtype\":\"float64\",\"order\":\"little\",\"shape\":[738]}},\"selected\":{\"id\":\"1086\"},\"selection_policy\":{\"id\":\"1100\"}},\"id\":\"1085\",\"type\":\"ColumnDataSource\"},{\"attributes\":{\"tools\":[{\"id\":\"1046\"},{\"id\":\"1066\"},{\"id\":\"1067\"},{\"id\":\"1068\"},{\"id\":\"1069\"},{\"id\":\"1070\"}]},\"id\":\"1072\",\"type\":\"Toolbar\"},{\"attributes\":{},\"id\":\"1054\",\"type\":\"LinearScale\"},{\"attributes\":{\"line_color\":\"#fc4f30\",\"x\":{\"field\":\"Timestamp\"},\"y\":{\"field\":\"Counts\"}},\"id\":\"1088\",\"type\":\"Line\"},{\"attributes\":{\"base\":60,\"mantissas\":[1,2,5,10,15,20,30],\"max_interval\":1800000.0,\"min_interval\":1000.0,\"num_minor_ticks\":0},\"id\":\"1104\",\"type\":\"AdaptiveTicker\"},{\"attributes\":{\"line_alpha\":0.1,\"line_color\":\"#fc4f30\",\"x\":{\"field\":\"Timestamp\"},\"y\":{\"field\":\"Counts\"}},\"id\":\"1089\",\"type\":\"Line\"},{\"attributes\":{},\"id\":\"1114\",\"type\":\"YearsTicker\"},{\"attributes\":{\"coordinates\":null,\"data_source\":{\"id\":\"1118\"},\"glyph\":{\"id\":\"1121\"},\"group\":null,\"hover_glyph\":null,\"muted_glyph\":{\"id\":\"1123\"},\"nonselection_glyph\":{\"id\":\"1122\"},\"selection_glyph\":{\"id\":\"1151\"},\"view\":{\"id\":\"1125\"}},\"id\":\"1124\",\"type\":\"GlyphRenderer\"},{\"attributes\":{\"base\":24,\"mantissas\":[1,2,4,6,8,12],\"max_interval\":43200000.0,\"min_interval\":3600000.0,\"num_minor_ticks\":0},\"id\":\"1105\",\"type\":\"AdaptiveTicker\"},{\"attributes\":{\"months\":[0,1,2,3,4,5,6,7,8,9,10,11]},\"id\":\"1110\",\"type\":\"MonthsTicker\"},{\"attributes\":{},\"id\":\"1119\",\"type\":\"Selection\"},{\"attributes\":{\"line_color\":\"#e5ae38\",\"x\":{\"field\":\"Timestamp\"},\"y\":{\"field\":\"Counts\"}},\"id\":\"1151\",\"type\":\"Line\"},{\"attributes\":{},\"id\":\"1080\",\"type\":\"DatetimeTickFormatter\"},{\"attributes\":{\"days\":[1,15]},\"id\":\"1109\",\"type\":\"DaysTicker\"},{\"attributes\":{\"source\":{\"id\":\"1118\"}},\"id\":\"1125\",\"type\":\"CDSView\"},{\"attributes\":{\"days\":[1,2,3,4,5,6,7,8,9,10,11,12,13,14,15,16,17,18,19,20,21,22,23,24,25,26,27,28,29,30,31]},\"id\":\"1106\",\"type\":\"DaysTicker\"},{\"attributes\":{\"days\":[1,4,7,10,13,16,19,22,25,28]},\"id\":\"1107\",\"type\":\"DaysTicker\"},{\"attributes\":{\"line_color\":\"#30a2da\",\"x\":{\"field\":\"Timestamp\"},\"y\":{\"field\":\"Counts\"}},\"id\":\"1187\",\"type\":\"Line\"},{\"attributes\":{\"line_alpha\":0.1,\"line_color\":\"#30a2da\",\"x\":{\"field\":\"Timestamp\"},\"y\":{\"field\":\"Counts\"}},\"id\":\"1156\",\"type\":\"Line\"},{\"attributes\":{\"days\":[1,8,15,22]},\"id\":\"1108\",\"type\":\"DaysTicker\"},{\"attributes\":{},\"id\":\"1083\",\"type\":\"BasicTickFormatter\"},{\"attributes\":{\"months\":[0,6]},\"id\":\"1113\",\"type\":\"MonthsTicker\"},{\"attributes\":{\"months\":[0,2,4,6,8,10]},\"id\":\"1111\",\"type\":\"MonthsTicker\"},{\"attributes\":{\"callback\":null,\"formatters\":{\"@{Timestamp}\":\"datetime\"},\"renderers\":[{\"id\":\"1091\"},{\"id\":\"1124\"},{\"id\":\"1158\"}],\"tags\":[\"hv_created\"],\"tooltips\":[[\"Sentiment\",\"@{Sentiment}\"],[\"Timestamp\",\"@{Timestamp}{%F %T}\"],[\"Counts\",\"@{Counts}\"]]},\"id\":\"1046\",\"type\":\"HoverTool\"},{\"attributes\":{},\"id\":\"1084\",\"type\":\"AllLabels\"},{\"attributes\":{\"below\":[{\"id\":\"1058\"}],\"center\":[{\"id\":\"1061\"},{\"id\":\"1065\"}],\"height\":300,\"left\":[{\"id\":\"1062\"}],\"margin\":[5,5,5,5],\"min_border_bottom\":10,\"min_border_left\":10,\"min_border_right\":10,\"min_border_top\":10,\"renderers\":[{\"id\":\"1091\"},{\"id\":\"1124\"},{\"id\":\"1158\"}],\"right\":[{\"id\":\"1115\"}],\"sizing_mode\":\"fixed\",\"title\":{\"id\":\"1050\"},\"toolbar\":{\"id\":\"1072\"},\"width\":700,\"x_range\":{\"id\":\"1044\"},\"x_scale\":{\"id\":\"1054\"},\"y_range\":{\"id\":\"1045\"},\"y_scale\":{\"id\":\"1056\"}},\"id\":\"1049\",\"subtype\":\"Figure\",\"type\":\"Plot\"},{\"attributes\":{\"label\":{\"value\":\"Neutral\"},\"renderers\":[{\"id\":\"1124\"}]},\"id\":\"1150\",\"type\":\"LegendItem\"},{\"attributes\":{},\"id\":\"1135\",\"type\":\"UnionRenderers\"},{\"attributes\":{\"months\":[0,4,8]},\"id\":\"1112\",\"type\":\"MonthsTicker\"},{\"attributes\":{\"source\":{\"id\":\"1085\"}},\"id\":\"1092\",\"type\":\"CDSView\"},{\"attributes\":{\"end\":1241737200000.0,\"reset_end\":1241737200000.0,\"reset_start\":1239084000000.0,\"start\":1239084000000.0,\"tags\":[[[\"Timestamp\",\"Timestamp\",null]]]},\"id\":\"1044\",\"type\":\"Range1d\"},{\"attributes\":{},\"id\":\"1086\",\"type\":\"Selection\"},{\"attributes\":{\"client_comm_id\":\"c11d122278bf48528b630baf9b68638f\",\"comm_id\":\"6e7e57a493964507a48c5ebdebc037f2\",\"plot_id\":\"1038\"},\"id\":\"1292\",\"type\":\"panel.models.comm_manager.CommManager\"},{\"attributes\":{\"axis_label\":\"Counts\",\"coordinates\":null,\"formatter\":{\"id\":\"1083\"},\"group\":null,\"major_label_policy\":{\"id\":\"1084\"},\"ticker\":{\"id\":\"1063\"}},\"id\":\"1062\",\"type\":\"LinearAxis\"},{\"attributes\":{\"children\":[{\"id\":\"1040\"},{\"id\":\"1049\"}],\"margin\":[0,0,0,0],\"name\":\"Column01576\"},\"id\":\"1039\",\"type\":\"Column\"},{\"attributes\":{\"label\":{\"value\":\"Negative\"},\"renderers\":[{\"id\":\"1091\"}]},\"id\":\"1116\",\"type\":\"LegendItem\"},{\"attributes\":{\"end\":905.5075334821429,\"reset_end\":905.5075334821429,\"reset_start\":25.057756696428555,\"start\":25.057756696428555,\"tags\":[[[\"Counts\",\"Counts\",null]]]},\"id\":\"1045\",\"type\":\"Range1d\"},{\"attributes\":{},\"id\":\"1056\",\"type\":\"LinearScale\"},{\"attributes\":{\"data\":{\"Counts\":{\"__ndarray__\":\"QzjZi7obhECapMxUFQWEQPAQwB1w7oNAR32z5srXg0Ce6aavJcGDQPRVmniAqoNAS8KNQduTg0ChLoEKNn2DQPiadNOQZoNATwdonOtPg0Clc1tlRjmDQPzfTi6hIoNAQnsJ7SU9g0BhGIZheDuDQFbAWgHrDoNAIXOHzP3igkBt27Zt272CQDr56OQDoYJAiMwdMneCgkCrqqqqClyCQPno5KOTL4JAyNwhc+cAgkDDMAzDMOSBQNQ0TdM014FA5DiO4zjKgUD0PM/zPL2BQARBEARBsIFAFEVRFEWjgUAkSZIkSZaBQDRN0zRNiYFARVEURVF8gUBWVVVVVW+BQGZZlmVZYoFAdl3XdV1VgUCGYRiGYUiBQJZlWZZlO4FApmmapmkugUC2bdu2bSGBQMdxHMdxFIFA2HVd13UHgUDoeZ7nefqAQPh93/d97YBACIIgCILggEAYhmEYhtOAQCiKoiiKxoBAOI7jOI65gEBJkiRJkqyAQFqWZVmWn4BAapqmaZqSgEB6nud5noWAQIqiKIqieIBAmqZpmqZrgECqqqqqql6AQLqu67quUYBAy7Isy7JEgEDctm3btjeAQOy6ruu6KoBA/L7v+74dgEAMwzAMwxCAQBzHcRzHA4BAWZZlWZbtf0B6nud5ntN/QJqmaZqmuX9Auq7ruq6ff0Dctm3btoV/QPy+7/u+a39AHMdxHMdRf0A8z/M8zzd/QF7XdV3XHX9Aft/3fd8Df0Ce53me5+l+QL7v+77vz35A4Pd93/e1fkAAAAAAAJx+QCAIgiAIgn5AQBAEQRBofkBiGIZhGE5+QIIgCIIgNH5AoiiKoigafkDCMAzDMAB+QOQ4juM45n1ABEEQBEHMfUAkSZIkSbJ9QERRFEVRmH1AZlmWZVl+fUCGYRiGYWR9QKZpmqZpSn1AxnEcx3EwfUDoeZ7neRZ9QAiCIAiC/HxAKIqiKIrifEBIkiRJksh8QGmapmmarnxAiaIoiqKUfECpqqqqqnp8QMuyLMuyYHxA67qu67pGfEAMwzAMwyx8QCzLsizLEnxATdM0TdP4e0Bt27Zt2957QI7jOI7jxHtAr+u6ruuqe0DP8zzP85B7QPH7vu/7dntAEQRBEARde0AwDMMwDEN7QFEURVEUKXtAchzHcRwPe0CSJEmSJPV6QLMsy7Is23pA0zRN0zTBekD0PM/zPKd6QBRFURRFjXpANU3TNE1zekBVVVVVVVl6QHdd13VdP3pAl2VZlmUlekC2bdu2bQt6QNd1Xdd18XlA+H3f933XeUAYhmEYhr15QDiO4ziOo3lAWZZlWZaJeUB6nud5nm95QJqmaZqmVXlAuq7ruq47eUDatm3btiF5QPy+7/u+B3lAHMdxHMfteEA8z/M8z9N4QF3XdV3XuXhAft/3fd+feECe53me54V4QL7v+77va3hA4Pd93/dReEAAAAAAADh4QCAIgiAIHnhAQBAEQRAEeEBiGIZhGOp3QIIgCIIg0HdAoiiKoii2d0DCMAzDMJx3QOM4juM4gndABEEQBEFod0AkSZIkSU53QERRFEVRNHdAZlmWZVkad0CGYRiGYQB3QKZpmqZp5nZAxnEcx3HMdkDoeZ7nebJ2QAiCIAiCmHZAKIqiKIp+dkBJkiRJkmR2QGqapmmaSnZAiqIoiqIwdkCqqqqqqhZ2QMuyLMuy/HVA7Lqu67ridUAMwzAMw8h1QCzLsizLrnVATdM0TdOUdUBu27Zt23p1QI7jOI7jYHVAruu6rutGdUDQ8zzP8yx1QPD7vu/7EnVAEARBEAT5dEAwDMMwDN90QFMURVEUxXRAchzHcRyrdECSJEmSJJF0QLIsy7Isd3RA1DRN0zRddED0PM/zPEN0QBRFURRFKXRANU3TNE0PdEBVVVVVVfVzQHZd13Vd23NAl2VZlmXBc0C2bdu2badzQNh1Xdd1jXNA+H3f931zc0AYhmEYhllzQDiO4ziOP3NAWpZlWZYlc0B6nud5ngtzQJqmaZqm8XJAuq7ruq7XckDctm3btr1yQPy+7/u+o3JAHMdxHMeJckA9z/M8z29yQF7XdV3XVXJAft/3fd87ckCe53me5yFyQMDv+77vB3JA4Pd93/ftcUAAAAAAANRxQCAIgiAIunFAQhAEQRCgcUBiGIZhGIZxQIIgCIIgbHFAoiiKoihScUDEMAzDMDhxQOQ4juM4HnFABEEQBEEEcUAkSZIkSepwQEZRFEVR0HBAZlmWZVm2cECGYRiGYZxwQKZpmqZpgnBAyHEcx3FocEDoeZ7neU5wQAiCIAiCNHBAKIqiKIoacEBKkiRJkgBwQNQ0TdM0zW9AFEVRFEWZb0BWVVVVVWVvQJdlWZZlMW9A13Vd13X9bkAYhmEYhsluQFqWZVmWlW5AmqZpmqZhbkDctm3bti1uQB3HcRzH+W1AXtd1XdfFbUCe53me55FtQOD3fd/3XW1AIAiCIAgqbUBiGIZhGPZsQKIoiqIowmxA5TiO4ziObEAkSZIkSVpsQGZZlmVZJmxApmmapmnya0DoeZ7neb5rQCeKoiiKimtAaZqmaZpWa0CpqqqqqiJrQOy6ruu67mpALcuyLMu6akBt27Zt24ZqQK/ruq7rUmpA8fu+7/seakAwDMMwDOtpQHIcx3Ect2lAsyzLsiyDaUD0PM/zPE9pQDTizYi3VWpAxgYXG1x6a0AAAAAAgHZrQOHNiDcjWmtAbHCxwUUla0Ce53me59dqQHcz4s0IcmpA+1PqT6nzaUAkSZIkyVxpQPYS2ktorWhAG1xscDGyaUA8z/M8z3FsQAcXG1zsGG9AEm9GvBmfcECCIAiCYH1xQA0uNrjYYXJAtJfQXoJMc0CSJEmSJGh0QMSbEW+Gv3VAn1J/Sv2odkB6nud53tl2QP0p9afU6HZA1J9Sf4otd0AAAAAAAKh3QKmqqqqqBXhAqaqqqqqzeEAAAAAAAN95QAAAAAAAIntAqaqqqqqCfECpqqqqquJ9QFZVVVVVSX9AqqqqqqpjgECqqqqqqjKBQKqqqqoqCIJAVVVVVVVwgkCrqqqqKmyCQFVVVVXVaYJAqqqqqiqMgkDjOI7juNKCQOM4juO45oJAbdu2bdu9gkBhGIZhGGqCQDEMwzAM5oFAMAzDMIyGgUC3bdu27XCBQG7btm3bWYFAAAAAAIAVgUByHMdxHLCAQHIcx3GcEIBAAAAAAACPfkBVVVVVVdt9QAAAAAAA5n1AqaqqqqrXfUAAAAAAAMR9QKmqqqqqxX1AqaqqqqrIfUAAAAAAAK99QKmqqqqqpH1AqaqqqqqVfUAAAAAAAJt8QMQwDMOw3npAt23btm0ieUAwDMMwjFp3QDEMwzAM+nVAMQzDMIwVdUBVVVVVVV50QJ/neZ5n1HNADMMwDMN3c0Ce53meZ0hzQFVVVVVVRnNAMQzDMIxxc0AoiqIoirFzQDVN0zTN7XNAVVVVVVUmdEAAAAAAAE50QKuqqqqqRnRAAAAAAAA6dEAAAAAAAEt0QFVVVVVVUnRAVVVVVVW+c0Cqqqqqyp9yQKqqqqoqc3FAqqqqqspNcEBVVVVVVRFwQOd5nucZoXBAnud5nmcqcUB5nud5Pq1xQHqe53meKXJAnud5noefckDneZ7n+Q5zQFVVVVX1d3NA6Hme53nac0Ce53mehzZ0QHqe53kejHRAeZ7neT7bdECe53me5yN1QOd5nucZZnVAVVVVVdWhdUCqqqqqyih1QAAAAAAAF3RAAAAAACAUc0BVVVVV1QdyQFVVVVV193BAAAAAAAB4cEAAAAAAAI5wQAAAAAAApHBAAAAAAAC6cEAAAAAAANBwQAAAAAAA5nBAAAAAAAD8cEAAAAAAABJxQAAAAAAAKHFAAAAAAAA+cUAAAAAAAFRxQAAAAAAAanFAAAAAAACAcUAAAAAAAJZxQAAAAAAArHFAAAAAAADCcUAAAAAAANhxQAAAAAAA7nFAAAAAAAAEckAAAAAAABpyQAAAAAAAMHJAAAAAAABGckAAAAAAAFxyQAAAAAAAcnJAAAAAAACIckAAAAAAAJ5yQAAAAAAAtHJAAAAAAADKckAAAAAAAOByQAAAAAAA9nJAAAAAAAAMc0AAAAAAACJzQAAAAAAAOHNAAAAAAABOc0AAAAAAAGRzQAAAAAAAenNAAAAAAACQc0AAAAAAAKZzQAAAAAAAvHNAAAAAAADSc0AAAAAAAOhzQAAAAAAA/nNAAAAAAAAUdEAAAAAAACp0QAAAAAAAQHRAAAAAAABWdEAAAAAAAGx0QAAAAAAAgnRAAAAAAACYdEAAAAAAAK50QAAAAAAAxHRAAAAAAADadEAAAAAAAPB0QAAAAAAABnVAAAAAAAAcdUAAAAAAADJ1QAAAAAAASHVAAAAAAABedUAAAAAAAHR1QAAAAAAAinVAAAAAAACgdUAAAAAAALZ1QAAAAAAAzHVAAAAAAADidUAAAAAAAPh1QAAAAAAADnZAAAAAAAAkdkAAAAAAADp2QAAAAAAAUHZAAAAAAABmdkAAAAAAAHx2QAAAAAAAknZAAAAAAACodkAAAAAAAL52QAAAAAAA1HZAAAAAAADqdkAAAAAAAAB3QAAAAAAAFndAAAAAAAAsd0AAAAAAAEJ3QAAAAAAAWHdAAAAAAABud0AAAAAAAIR3QAAAAAAAmndAAAAAAACwd0AAAAAAAMZ3QAAAAAAA3HdAAAAAAADyd0AAAAAAAAh4QAAAAAAAHnhAAAAAAAA0eEAAAAAAAEp4QAAAAAAAYHhAAAAAAAB2eEAAAAAAAIx4QAAAAAAAonhAAAAAAAC4eEAAAAAAAM54QAAAAAAA5HhAAAAAAAD6eEAAAAAAABB5QAAAAAAAJnlAAAAAAAA8eUAAAAAAAFJ5QAAAAAAAaHlAAAAAAAB+eUAAAAAAAJR5QAAAAAAAqnlAAAAAAADAeUAAAAAAANZ5QAAAAAAA7HlAAAAAAAACekAAAAAAABh6QAAAAAAALnpAAAAAAABEekAAAAAAAFp6QAAAAAAAcHpAAAAAAACGekAAAAAAAJx6QAAAAAAAsnpAAAAAAADIekAAAAAAAN56QAAAAAAA9HpAAAAAAAAKe0AAAAAAACB7QAAAAAAANntAAAAAAABMe0AAAAAAAGJ7QAAAAAAAeHtAAAAAAACOe0AAAAAAAKR7QAAAAAAAuntAAAAAAADQe0AAAAAAAOZ7QAAAAAAA/HtAAAAAAAASfEAAAAAAACh8QAAAAAAAPnxAAAAAAABUfEAAAAAAAGp8QAAAAAAAgHxAAAAAAACWfEAAAAAAAKx8QAAAAAAAwnxAAAAAAADYfEAAAAAAAO58QAAAAAAABH1AAAAAAAAafUAAAAAAADB9QAAAAAAARn1AAAAAAABcfUAAAAAAAHJ9QAAAAAAAiH1AAAAAAACefUAAAAAAALR9QAAAAAAAyn1AAAAAAADgfUAAAAAAAPZ9QAAAAAAADH5AAAAAAAAifkAAAAAAADh+QAAAAAAATn5AAAAAAABkfkAAAAAAAHp+QAAAAAAAkH5AAAAAAACmfkAAAAAAALx+QAAAAAAA0n5AAAAAAADofkAAAAAAAP5+QAAAAAAAFH9AAAAAAAAqf0AAAAAAAEB/QAAAAAAAVn9AAAAAAABsf0AAAAAAAIJ/QAAAAAAAmH9AAAAAAACuf0AAAAAAAMR/QAAAAAAA2n9AAAAAAADwf0AAAAAAAAOAQAAAAAAADoBAAAAAAAAZgEAAAAAAACSAQAAAAAAAL4BAAAAAAAA6gEAAAAAAAEWAQAAAAAAAUIBAAAAAAABbgEAAAAAAAGaAQAAAAAAAcYBAAAAAAAB8gEAAAAAAAIeAQAAAAAAAkoBAAAAAAACdgEAAAAAAAKiAQAAAAAAAs4BAAAAAAAC+gEAAAAAAAMmAQAAAAAAA1IBAAAAAAADfgEAAAAAAAOqAQAAAAAAA9YBAAAAAAAAAgUAAAAAAAAuBQAAAAAAAFoFAAAAAAAAhgUAAAAAAACyBQAAAAAAAN4FAAAAAAABCgUAAAAAAAE2BQAAAAAAAWIFAAAAAAABjgUAAAAAAAG6BQAAAAAAAeYFAAAAAAACEgUAAAAAAAI+BQAAAAAAAmoFAAAAAAAClgUAAAAAAALCBQAAAAAAAu4FAAAAAAADGgUAAAAAAANGBQAAAAAAA3IFAAAAAAADngUAAAAAAAPKBQAAAAAAA/YFAAAAAAAAIgkAAAAAAABOCQAAAAAAAHoJAAAAAAAApgkAAAAAAADSCQFVVVVVFTIJAqqqqqmpwgkAAAAAA8JOCQKqqqqqqsYJAqqqqqhrNgkCqqqqq6umCQAAAAABwDINAqqqqqqo6g0AAAAAA8GODQKqqqqpqi4NAAAAAAPCng0CqqqqqKryDQAAAAADwm4NAVVVVVZV5g0CqqqqqGliDQAAAAAAAJYNAqqqqqprmgkBVVVVV5W+CQAAAAACw8IFAqqqqqvpogUBVVVVVxdiAQAAAAAAQQIBAVVVVVbU9f0CpqqqqSup9QFRVVVVVa3xAqaqqqqqWe0Cpqqqqqoh7QKmqqqqqg3tAVVVVVVWKe0AAAAAAAJR7QKmqqqqql3tAVFVVVVWBe0AAAAAAAG17QKmqqqqqXXtAVFVVVVVpe0CpqqqqqoF7QKmqqqqq23tAqaqqqqq8e0AAAAAAAPF6QAAAAAAASHpAAAAAAIAXekBWVVVVtX96QAAAAAAAIXtAAAAAAGD7e0AAAAAAAA19QAAAAABg831AAAAAAIATf0AAAAAAsFuAQKqqqqoqMoFAAAAAAACZgUCqqqqqqpqBQAAAAAAArIFAVVVVVdW6gUAAAAAAgL6BQKqqqqqqvYFAVVVVVVXAgUCqqqqqKseBQAAAAACAy4FAVVVVVVXAgUDsZtKVSq2BQFpG9AFVrYFAn/O6mXTrgUASxHuyfn6CQAYNjKFIEYNAfs7rZpJyg0Ais0WtRr+DQPS6mXRl94NA8uXnvO4ahEDH3towzSqEQHSlctBAWIRA+Tmvm8lwhEBWnJCSZ0+EQN8hbApwMYRAQHXsrY0hhEDO62bSlROEQDQwhiKz9oNAxpef8zrYg0DcdwibgsGDQHLQwBgKrINAjKHIbNGTg0An6x+X2HqDQEatxpcfY4NAkJJnGdFXg0DH3towzVWDQP4qTkjJU4NANHfBX8VRg0BswzR3wU+DQKIPqI69TYNA2FsbprlLg0AQqI69tUmDQEb0AdWxR4NAfEB17K1Fg0C0jOgDqkODQOrYWxumQYNAISXPMqI/g0BYcUJKnj2DQI69tWGaO4NAxgkpeZY5g0D8VZyQkjeDQDKiD6iONYNAau6Cv4ozg0CgOvbWhjGDQNaGae6CL4NADtPcBX8tg0BEH1AdeyuDQHprwzR3KYNAsrc2THMng0DoA6pjbyWDQB9QHXtrI4NAVpyQkmchg0CM6AOqYx+DQMQ0d8FfHYNA+oDq2Fsbg0AwzV3wVxmDQGgZ0QdUF4NAnmVEH1AVg0DUsbc2TBODQAz+Kk5IEYNAQkqeZUQPg0B4lhF9QA2DQLDihJQ8C4NA5i74qzgJg0Ade2vDNAeDQFTH3towBYNAihNS8iwDg0DCX8UJKQGDQPirOCEl/4JALvirOCH9gkBmRB9QHfuCQJyQkmcZ+YJA0twFfxX3gkAKKXmWEfWCQEB17K0N84JAdsFfxQnxgkCuDdPcBe+CQORZRvQB7YJAG6a5C/7qgkBS8iwj+uiCQIg+oDr25oJAwIoTUvLkgkD21oZp7uKCQCwj+oDq4IJAZG9tmObegkCau+Cv4tyCQNAHVMfe2oJACFTH3trYgkA+oDr21taCQHXsrQ3T1IJArDghJc/SgkDihJQ8y9CCQBnRB1THzoJA\",\"dtype\":\"float64\",\"order\":\"little\",\"shape\":[738]},\"Sentiment\":[\"Neutral\",\"Neutral\",\"Neutral\",\"Neutral\",\"Neutral\",\"Neutral\",\"Neutral\",\"Neutral\",\"Neutral\",\"Neutral\",\"Neutral\",\"Neutral\",\"Neutral\",\"Neutral\",\"Neutral\",\"Neutral\",\"Neutral\",\"Neutral\",\"Neutral\",\"Neutral\",\"Neutral\",\"Neutral\",\"Neutral\",\"Neutral\",\"Neutral\",\"Neutral\",\"Neutral\",\"Neutral\",\"Neutral\",\"Neutral\",\"Neutral\",\"Neutral\",\"Neutral\",\"Neutral\",\"Neutral\",\"Neutral\",\"Neutral\",\"Neutral\",\"Neutral\",\"Neutral\",\"Neutral\",\"Neutral\",\"Neutral\",\"Neutral\",\"Neutral\",\"Neutral\",\"Neutral\",\"Neutral\",\"Neutral\",\"Neutral\",\"Neutral\",\"Neutral\",\"Neutral\",\"Neutral\",\"Neutral\",\"Neutral\",\"Neutral\",\"Neutral\",\"Neutral\",\"Neutral\",\"Neutral\",\"Neutral\",\"Neutral\",\"Neutral\",\"Neutral\",\"Neutral\",\"Neutral\",\"Neutral\",\"Neutral\",\"Neutral\",\"Neutral\",\"Neutral\",\"Neutral\",\"Neutral\",\"Neutral\",\"Neutral\",\"Neutral\",\"Neutral\",\"Neutral\",\"Neutral\",\"Neutral\",\"Neutral\",\"Neutral\",\"Neutral\",\"Neutral\",\"Neutral\",\"Neutral\",\"Neutral\",\"Neutral\",\"Neutral\",\"Neutral\",\"Neutral\",\"Neutral\",\"Neutral\",\"Neutral\",\"Neutral\",\"Neutral\",\"Neutral\",\"Neutral\",\"Neutral\",\"Neutral\",\"Neutral\",\"Neutral\",\"Neutral\",\"Neutral\",\"Neutral\",\"Neutral\",\"Neutral\",\"Neutral\",\"Neutral\",\"Neutral\",\"Neutral\",\"Neutral\",\"Neutral\",\"Neutral\",\"Neutral\",\"Neutral\",\"Neutral\",\"Neutral\",\"Neutral\",\"Neutral\",\"Neutral\",\"Neutral\",\"Neutral\",\"Neutral\",\"Neutral\",\"Neutral\",\"Neutral\",\"Neutral\",\"Neutral\",\"Neutral\",\"Neutral\",\"Neutral\",\"Neutral\",\"Neutral\",\"Neutral\",\"Neutral\",\"Neutral\",\"Neutral\",\"Neutral\",\"Neutral\",\"Neutral\",\"Neutral\",\"Neutral\",\"Neutral\",\"Neutral\",\"Neutral\",\"Neutral\",\"Neutral\",\"Neutral\",\"Neutral\",\"Neutral\",\"Neutral\",\"Neutral\",\"Neutral\",\"Neutral\",\"Neutral\",\"Neutral\",\"Neutral\",\"Neutral\",\"Neutral\",\"Neutral\",\"Neutral\",\"Neutral\",\"Neutral\",\"Neutral\",\"Neutral\",\"Neutral\",\"Neutral\",\"Neutral\",\"Neutral\",\"Neutral\",\"Neutral\",\"Neutral\",\"Neutral\",\"Neutral\",\"Neutral\",\"Neutral\",\"Neutral\",\"Neutral\",\"Neutral\",\"Neutral\",\"Neutral\",\"Neutral\",\"Neutral\",\"Neutral\",\"Neutral\",\"Neutral\",\"Neutral\",\"Neutral\",\"Neutral\",\"Neutral\",\"Neutral\",\"Neutral\",\"Neutral\",\"Neutral\",\"Neutral\",\"Neutral\",\"Neutral\",\"Neutral\",\"Neutral\",\"Neutral\",\"Neutral\",\"Neutral\",\"Neutral\",\"Neutral\",\"Neutral\",\"Neutral\",\"Neutral\",\"Neutral\",\"Neutral\",\"Neutral\",\"Neutral\",\"Neutral\",\"Neutral\",\"Neutral\",\"Neutral\",\"Neutral\",\"Neutral\",\"Neutral\",\"Neutral\",\"Neutral\",\"Neutral\",\"Neutral\",\"Neutral\",\"Neutral\",\"Neutral\",\"Neutral\",\"Neutral\",\"Neutral\",\"Neutral\",\"Neutral\",\"Neutral\",\"Neutral\",\"Neutral\",\"Neutral\",\"Neutral\",\"Neutral\",\"Neutral\",\"Neutral\",\"Neutral\",\"Neutral\",\"Neutral\",\"Neutral\",\"Neutral\",\"Neutral\",\"Neutral\",\"Neutral\",\"Neutral\",\"Neutral\",\"Neutral\",\"Neutral\",\"Neutral\",\"Neutral\",\"Neutral\",\"Neutral\",\"Neutral\",\"Neutral\",\"Neutral\",\"Neutral\",\"Neutral\",\"Neutral\",\"Neutral\",\"Neutral\",\"Neutral\",\"Neutral\",\"Neutral\",\"Neutral\",\"Neutral\",\"Neutral\",\"Neutral\",\"Neutral\",\"Neutral\",\"Neutral\",\"Neutral\",\"Neutral\",\"Neutral\",\"Neutral\",\"Neutral\",\"Neutral\",\"Neutral\",\"Neutral\",\"Neutral\",\"Neutral\",\"Neutral\",\"Neutral\",\"Neutral\",\"Neutral\",\"Neutral\",\"Neutral\",\"Neutral\",\"Neutral\",\"Neutral\",\"Neutral\",\"Neutral\",\"Neutral\",\"Neutral\",\"Neutral\",\"Neutral\",\"Neutral\",\"Neutral\",\"Neutral\",\"Neutral\",\"Neutral\",\"Neutral\",\"Neutral\",\"Neutral\",\"Neutral\",\"Neutral\",\"Neutral\",\"Neutral\",\"Neutral\",\"Neutral\",\"Neutral\",\"Neutral\",\"Neutral\",\"Neutral\",\"Neutral\",\"Neutral\",\"Neutral\",\"Neutral\",\"Neutral\",\"Neutral\",\"Neutral\",\"Neutral\",\"Neutral\",\"Neutral\",\"Neutral\",\"Neutral\",\"Neutral\",\"Neutral\",\"Neutral\",\"Neutral\",\"Neutral\",\"Neutral\",\"Neutral\",\"Neutral\",\"Neutral\",\"Neutral\",\"Neutral\",\"Neutral\",\"Neutral\",\"Neutral\",\"Neutral\",\"Neutral\",\"Neutral\",\"Neutral\",\"Neutral\",\"Neutral\",\"Neutral\",\"Neutral\",\"Neutral\",\"Neutral\",\"Neutral\",\"Neutral\",\"Neutral\",\"Neutral\",\"Neutral\",\"Neutral\",\"Neutral\",\"Neutral\",\"Neutral\",\"Neutral\",\"Neutral\",\"Neutral\",\"Neutral\",\"Neutral\",\"Neutral\",\"Neutral\",\"Neutral\",\"Neutral\",\"Neutral\",\"Neutral\",\"Neutral\",\"Neutral\",\"Neutral\",\"Neutral\",\"Neutral\",\"Neutral\",\"Neutral\",\"Neutral\",\"Neutral\",\"Neutral\",\"Neutral\",\"Neutral\",\"Neutral\",\"Neutral\",\"Neutral\",\"Neutral\",\"Neutral\",\"Neutral\",\"Neutral\",\"Neutral\",\"Neutral\",\"Neutral\",\"Neutral\",\"Neutral\",\"Neutral\",\"Neutral\",\"Neutral\",\"Neutral\",\"Neutral\",\"Neutral\",\"Neutral\",\"Neutral\",\"Neutral\",\"Neutral\",\"Neutral\",\"Neutral\",\"Neutral\",\"Neutral\",\"Neutral\",\"Neutral\",\"Neutral\",\"Neutral\",\"Neutral\",\"Neutral\",\"Neutral\",\"Neutral\",\"Neutral\",\"Neutral\",\"Neutral\",\"Neutral\",\"Neutral\",\"Neutral\",\"Neutral\",\"Neutral\",\"Neutral\",\"Neutral\",\"Neutral\",\"Neutral\",\"Neutral\",\"Neutral\",\"Neutral\",\"Neutral\",\"Neutral\",\"Neutral\",\"Neutral\",\"Neutral\",\"Neutral\",\"Neutral\",\"Neutral\",\"Neutral\",\"Neutral\",\"Neutral\",\"Neutral\",\"Neutral\",\"Neutral\",\"Neutral\",\"Neutral\",\"Neutral\",\"Neutral\",\"Neutral\",\"Neutral\",\"Neutral\",\"Neutral\",\"Neutral\",\"Neutral\",\"Neutral\",\"Neutral\",\"Neutral\",\"Neutral\",\"Neutral\",\"Neutral\",\"Neutral\",\"Neutral\",\"Neutral\",\"Neutral\",\"Neutral\",\"Neutral\",\"Neutral\",\"Neutral\",\"Neutral\",\"Neutral\",\"Neutral\",\"Neutral\",\"Neutral\",\"Neutral\",\"Neutral\",\"Neutral\",\"Neutral\",\"Neutral\",\"Neutral\",\"Neutral\",\"Neutral\",\"Neutral\",\"Neutral\",\"Neutral\",\"Neutral\",\"Neutral\",\"Neutral\",\"Neutral\",\"Neutral\",\"Neutral\",\"Neutral\",\"Neutral\",\"Neutral\",\"Neutral\",\"Neutral\",\"Neutral\",\"Neutral\",\"Neutral\",\"Neutral\",\"Neutral\",\"Neutral\",\"Neutral\",\"Neutral\",\"Neutral\",\"Neutral\",\"Neutral\",\"Neutral\",\"Neutral\",\"Neutral\",\"Neutral\",\"Neutral\",\"Neutral\",\"Neutral\",\"Neutral\",\"Neutral\",\"Neutral\",\"Neutral\",\"Neutral\",\"Neutral\",\"Neutral\",\"Neutral\",\"Neutral\",\"Neutral\",\"Neutral\",\"Neutral\",\"Neutral\",\"Neutral\",\"Neutral\",\"Neutral\",\"Neutral\",\"Neutral\",\"Neutral\",\"Neutral\",\"Neutral\",\"Neutral\",\"Neutral\",\"Neutral\",\"Neutral\",\"Neutral\",\"Neutral\",\"Neutral\",\"Neutral\",\"Neutral\",\"Neutral\",\"Neutral\",\"Neutral\",\"Neutral\",\"Neutral\",\"Neutral\",\"Neutral\",\"Neutral\",\"Neutral\",\"Neutral\",\"Neutral\",\"Neutral\",\"Neutral\",\"Neutral\",\"Neutral\",\"Neutral\",\"Neutral\",\"Neutral\",\"Neutral\",\"Neutral\",\"Neutral\",\"Neutral\",\"Neutral\",\"Neutral\",\"Neutral\",\"Neutral\",\"Neutral\",\"Neutral\",\"Neutral\",\"Neutral\",\"Neutral\",\"Neutral\",\"Neutral\",\"Neutral\",\"Neutral\",\"Neutral\",\"Neutral\",\"Neutral\",\"Neutral\",\"Neutral\",\"Neutral\",\"Neutral\",\"Neutral\",\"Neutral\",\"Neutral\",\"Neutral\",\"Neutral\",\"Neutral\",\"Neutral\",\"Neutral\",\"Neutral\",\"Neutral\",\"Neutral\",\"Neutral\",\"Neutral\",\"Neutral\",\"Neutral\",\"Neutral\",\"Neutral\",\"Neutral\",\"Neutral\",\"Neutral\",\"Neutral\",\"Neutral\",\"Neutral\",\"Neutral\",\"Neutral\",\"Neutral\",\"Neutral\",\"Neutral\",\"Neutral\",\"Neutral\",\"Neutral\",\"Neutral\",\"Neutral\",\"Neutral\",\"Neutral\",\"Neutral\",\"Neutral\",\"Neutral\",\"Neutral\",\"Neutral\",\"Neutral\",\"Neutral\",\"Neutral\",\"Neutral\",\"Neutral\",\"Neutral\",\"Neutral\",\"Neutral\",\"Neutral\",\"Neutral\",\"Neutral\",\"Neutral\",\"Neutral\",\"Neutral\",\"Neutral\",\"Neutral\",\"Neutral\",\"Neutral\",\"Neutral\",\"Neutral\",\"Neutral\",\"Neutral\",\"Neutral\",\"Neutral\",\"Neutral\",\"Neutral\",\"Neutral\",\"Neutral\",\"Neutral\",\"Neutral\",\"Neutral\",\"Neutral\",\"Neutral\",\"Neutral\",\"Neutral\",\"Neutral\",\"Neutral\",\"Neutral\",\"Neutral\",\"Neutral\",\"Neutral\",\"Neutral\",\"Neutral\",\"Neutral\",\"Neutral\",\"Neutral\",\"Neutral\",\"Neutral\",\"Neutral\",\"Neutral\",\"Neutral\",\"Neutral\",\"Neutral\",\"Neutral\",\"Neutral\",\"Neutral\",\"Neutral\",\"Neutral\",\"Neutral\",\"Neutral\",\"Neutral\",\"Neutral\",\"Neutral\",\"Neutral\",\"Neutral\",\"Neutral\",\"Neutral\",\"Neutral\",\"Neutral\",\"Neutral\",\"Neutral\",\"Neutral\",\"Neutral\",\"Neutral\",\"Neutral\",\"Neutral\",\"Neutral\",\"Neutral\",\"Neutral\",\"Neutral\",\"Neutral\",\"Neutral\",\"Neutral\",\"Neutral\",\"Neutral\",\"Neutral\",\"Neutral\",\"Neutral\",\"Neutral\",\"Neutral\",\"Neutral\",\"Neutral\",\"Neutral\",\"Neutral\",\"Neutral\",\"Neutral\",\"Neutral\",\"Neutral\",\"Neutral\",\"Neutral\",\"Neutral\",\"Neutral\",\"Neutral\",\"Neutral\",\"Neutral\",\"Neutral\",\"Neutral\",\"Neutral\",\"Neutral\"],\"Timestamp\":{\"__ndarray__\":\"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\",\"dtype\":\"float64\",\"order\":\"little\",\"shape\":[738]}},\"selected\":{\"id\":\"1119\"},\"selection_policy\":{\"id\":\"1135\"}},\"id\":\"1118\",\"type\":\"ColumnDataSource\"},{\"attributes\":{\"num_minor_ticks\":5,\"tickers\":[{\"id\":\"1103\"},{\"id\":\"1104\"},{\"id\":\"1105\"},{\"id\":\"1106\"},{\"id\":\"1107\"},{\"id\":\"1108\"},{\"id\":\"1109\"},{\"id\":\"1110\"},{\"id\":\"1111\"},{\"id\":\"1112\"},{\"id\":\"1113\"},{\"id\":\"1114\"}]},\"id\":\"1059\",\"type\":\"DatetimeTicker\"},{\"attributes\":{\"axis_label\":\"Timestamp\",\"coordinates\":null,\"formatter\":{\"id\":\"1080\"},\"group\":null,\"major_label_policy\":{\"id\":\"1081\"},\"ticker\":{\"id\":\"1059\"}},\"id\":\"1058\",\"type\":\"DatetimeAxis\"},{\"attributes\":{\"line_alpha\":0.2,\"line_color\":\"#30a2da\",\"x\":{\"field\":\"Timestamp\"},\"y\":{\"field\":\"Counts\"}},\"id\":\"1157\",\"type\":\"Line\"},{\"attributes\":{\"coordinates\":null,\"group\":null,\"text\":\"sentiment over time\",\"text_color\":\"black\",\"text_font_size\":\"12pt\"},\"id\":\"1050\",\"type\":\"Title\"},{\"attributes\":{\"line_alpha\":0.2,\"line_color\":\"#fc4f30\",\"x\":{\"field\":\"Timestamp\"},\"y\":{\"field\":\"Counts\"}},\"id\":\"1090\",\"type\":\"Line\"},{\"attributes\":{},\"id\":\"1067\",\"type\":\"PanTool\"},{\"attributes\":{\"axis\":{\"id\":\"1058\"},\"coordinates\":null,\"grid_line_color\":null,\"group\":null,\"ticker\":null},\"id\":\"1061\",\"type\":\"Grid\"},{\"attributes\":{\"axis\":{\"id\":\"1062\"},\"coordinates\":null,\"dimension\":1,\"grid_line_color\":null,\"group\":null,\"ticker\":null},\"id\":\"1065\",\"type\":\"Grid\"},{\"attributes\":{},\"id\":\"1063\",\"type\":\"BasicTicker\"},{\"attributes\":{},\"id\":\"1153\",\"type\":\"Selection\"},{\"attributes\":{\"margin\":[5,5,5,5],\"name\":\"HSpacer01569\",\"sizing_mode\":\"stretch_width\"},\"id\":\"1043\",\"type\":\"Spacer\"},{\"attributes\":{},\"id\":\"1068\",\"type\":\"WheelZoomTool\"},{\"attributes\":{},\"id\":\"1066\",\"type\":\"SaveTool\"},{\"attributes\":{\"line_color\":\"#30a2da\",\"x\":{\"field\":\"Timestamp\"},\"y\":{\"field\":\"Counts\"}},\"id\":\"1155\",\"type\":\"Line\"},{\"attributes\":{\"overlay\":{\"id\":\"1071\"}},\"id\":\"1069\",\"type\":\"BoxZoomTool\"},{\"attributes\":{\"click_policy\":\"mute\",\"coordinates\":null,\"group\":null,\"items\":[{\"id\":\"1116\"},{\"id\":\"1150\"},{\"id\":\"1186\"}],\"location\":[0,0],\"title\":\"Sentiment\"},\"id\":\"1115\",\"type\":\"Legend\"},{\"attributes\":{\"children\":[{\"id\":\"1042\"}],\"margin\":[0,0,0,0],\"name\":\"Column01565\"},\"id\":\"1041\",\"type\":\"Column\"},{\"attributes\":{},\"id\":\"1070\",\"type\":\"ResetTool\"},{\"attributes\":{\"data\":{\"Counts\":{\"__ndarray__\":\"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\",\"dtype\":\"float64\",\"order\":\"little\",\"shape\":[738]},\"Sentiment\":[\"Positive\",\"Positive\",\"Positive\",\"Positive\",\"Positive\",\"Positive\",\"Positive\",\"Positive\",\"Positive\",\"Positive\",\"Positive\",\"Positive\",\"Positive\",\"Positive\",\"Positive\",\"Positive\",\"Positive\",\"Positive\",\"Positive\",\"Positive\",\"Positive\",\"Positive\",\"Positive\",\"Positive\",\"Positive\",\"Positive\",\"Positive\",\"Positive\",\"Positive\",\"Positive\",\"Positive\",\"Positive\",\"Positive\",\"Positive\",\"Positive\",\"Positive\",\"Positive\",\"Positive\",\"Positive\",\"Positive\",\"Positive\",\"Positive\",\"Positive\",\"Positive\",\"Positive\",\"Positive\",\"Positive\",\"Positive\",\"Positive\",\"Positive\",\"Positive\",\"Positive\",\"Positive\",\"Positive\",\"Positive\",\"Positive\",\"Positive\",\"Positive\",\"Positive\",\"Positive\",\"Positive\",\"Positive\",\"Positive\",\"Positive\",\"Positive\",\"Positive\",\"Positive\",\"Positive\",\"Positive\",\"Positive\",\"Positive\",\"Positive\",\"Positive\",\"Positive\",\"Positive\",\"Positive\",\"Positive\",\"Positive\",\"Positive\",\"Positive\",\"Positive\",\"Positive\",\"Positive\",\"Positive\",\"Positive\",\"Positive\",\"Positive\",\"Positive\",\"Positive\",\"Positive\",\"Positive\",\"Positive\",\"Positive\",\"Positive\",\"Positive\",\"Positive\",\"Positive\",\"Positive\",\"Positive\",\"Positive\",\"Positive\",\"Positive\",\"Positive\",\"Positive\",\"Positive\",\"Positive\",\"Positive\",\"Positive\",\"Positive\",\"Positive\",\"Positive\",\"Positive\",\"Positive\",\"Positive\",\"Positive\",\"Positive\",\"Positive\",\"Positive\",\"Positive\",\"Positive\",\"Positive\",\"Positive\",\"Positive\",\"Positive\",\"Positive\",\"Positive\",\"Positive\",\"Positive\",\"Positive\",\"Positive\",\"Positive\",\"Positive\",\"Positive\",\"Positive\",\"Positive\",\"Positive\",\"Positive\",\"Positive\",\"Positive\",\"Positive\",\"Positive\",\"Positive\",\"Positive\",\"Positive\",\"Positive\",\"Positive\",\"Positive\",\"Positive\",\"Positive\",\"Positive\",\"Positive\",\"Positive\",\"Positive\",\"Positive\",\"Positive\",\"Positive\",\"Positive\",\"Positive\",\"Positive\",\"Positive\",\"Positive\",\"Positive\",\"Positive\",\"Positive\",\"Positive\",\"Positive\",\"Positive\",\"Positive\",\"Positive\",\"Positive\",\"Positive\",\"Positive\",\"Positive\",\"Positive\",\"Positive\",\"Positive\",\"Positive\",\"Positive\",\"Positive\",\"Positive\",\"Positive\",\"Positive\",\"Positive\",\"Positive\",\"Positive\",\"Positive\",\"Positive\",\"Positive\",\"Positive\",\"Positive\",\"Positive\",\"Positive\",\"Positive\",\"Positive\",\"Positive\",\"Positive\",\"Positive\",\"Positive\",\"Positive\",\"Positive\",\"Positive\",\"Positive\",\"Positive\",\"Positive\",\"Positive\",\"Positive\",\"Positive\",\"Positive\",\"Positive\",\"Positive\",\"Positive\",\"Positive\",\"Positive\",\"Positive\",\"Positive\",\"Positive\",\"Positive\",\"Positive\",\"Positive\",\"Positive\",\"Positive\",\"Positive\",\"Positive\",\"Positive\",\"Positive\",\"Positive\",\"Positive\",\"Positive\",\"Positive\",\"Positive\",\"Positive\",\"Positive\",\"Positive\",\"Positive\",\"Positive\",\"Positive\",\"Positive\",\"Positive\",\"Positive\",\"Positive\",\"Positive\",\"Positive\",\"Positive\",\"Positive\",\"Positive\",\"Positive\",\"Positive\",\"Positive\",\"Positive\",\"Positive\",\"Positive\",\"Positive\",\"Positive\",\"Positive\",\"Positive\",\"Positive\",\"Positive\",\"Positive\",\"Positive\",\"Positive\",\"Positive\",\"Positive\",\"Positive\",\"Positive\",\"Positive\",\"Positive\",\"Positive\",\"Positive\",\"Positive\",\"Positive\",\"Positive\",\"Positive\",\"Positive\",\"Positive\",\"Positive\",\"Positive\",\"Positive\",\"Positive\",\"Positive\",\"Positive\",\"Positive\",\"Positive\",\"Positive\",\"Positive\",\"Positive\",\"Positive\",\"Positive\",\"Positive\",\"Positive\",\"Positive\",\"Positive\",\"Positive\",\"Positive\",\"Positive\",\"Positive\",\"Positive\",\"Positive\",\"Positive\",\"Positive\",\"Positive\",\"Positive\",\"Positive\",\"Positive\",\"Positive\",\"Positive\",\"Positive\",\"Positive\",\"Positive\",\"Positive\",\"Positive\",\"Positive\",\"Positive\",\"Positive\",\"Positive\",\"Positive\",\"Positive\",\"Positive\",\"Positive\",\"Positive\",\"Positive\",\"Positive\",\"Positive\",\"Positive\",\"Positive\",\"Positive\",\"Positive\",\"Positive\",\"Positive\",\"Positive\",\"Positive\",\"Positive\",\"Positive\",\"Positive\",\"Positive\",\"Positive\",\"Positive\",\"Positive\",\"Positive\",\"Positive\",\"Positive\",\"Positive\",\"Positive\",\"Positive\",\"Positive\",\"Positive\",\"Positive\",\"Positive\",\"Positive\",\"Positive\",\"Positive\",\"Positive\",\"Positive\",\"Positive\",\"Positive\",\"Positive\",\"Positive\",\"Positive\",\"Positive\",\"Positive\",\"Positive\",\"Positive\",\"Positive\",\"Positive\",\"Positive\",\"Positive\",\"Positive\",\"Positive\",\"Positive\",\"Positive\",\"Positive\",\"Positive\",\"Positive\",\"Positive\",\"Positive\",\"Positive\",\"Positive\",\"Positive\",\"Positive\",\"Positive\",\"Positive\",\"Positive\",\"Positive\",\"Positive\",\"Positive\",\"Positive\",\"Positive\",\"Positive\",\"Positive\",\"Positive\",\"Positive\",\"Positive\",\"Positive\",\"Positive\",\"Positive\",\"Positive\",\"Positive\",\"Positive\",\"Positive\",\"Positive\",\"Positive\",\"Positive\",\"Positive\",\"Positive\",\"Positive\",\"Positive\",\"Positive\",\"Positive\",\"Positive\",\"Positive\",\"Positive\",\"Positive\",\"Positive\",\"Positive\",\"Positive\",\"Positive\",\"Positive\",\"Positive\",\"Positive\",\"Positive\",\"Positive\",\"Positive\",\"Positive\",\"Positive\",\"Positive\",\"Positive\",\"Positive\",\"Positive\",\"Positive\",\"Positive\",\"Positive\",\"Positive\",\"Positive\",\"Positive\",\"Positive\",\"Positive\",\"Positive\",\"Positive\",\"Positive\",\"Positive\",\"Positive\",\"Positive\",\"Positive\",\"Positive\",\"Positive\",\"Positive\",\"Positive\",\"Positive\",\"Positive\",\"Positive\",\"Positive\",\"Positive\",\"Positive\",\"Positive\",\"Positive\",\"Positive\",\"Positive\",\"Positive\",\"Positive\",\"Positive\",\"Positive\",\"Positive\",\"Positive\",\"Positive\",\"Positive\",\"Positive\",\"Positive\",\"Positive\",\"Positive\",\"Positive\",\"Positive\",\"Positive\",\"Positive\",\"Positive\",\"Positive\",\"Positive\",\"Positive\",\"Positive\",\"Positive\",\"Positive\",\"Positive\",\"Positive\",\"Positive\",\"Positive\",\"Positive\",\"Positive\",\"Positive\",\"Positive\",\"Positive\",\"Positive\",\"Positive\",\"Positive\",\"Positive\",\"Positive\",\"Positive\",\"Positive\",\"Positive\",\"Positive\",\"Positive\",\"Positive\",\"Positive\",\"Positive\",\"Positive\",\"Positive\",\"Positive\",\"Positive\",\"Positive\",\"Positive\",\"Positive\",\"Positive\",\"Positive\",\"Positive\",\"Positive\",\"Positive\",\"Positive\",\"Positive\",\"Positive\",\"Positive\",\"Positive\",\"Positive\",\"Positive\",\"Positive\",\"Positive\",\"Positive\",\"Positive\",\"Positive\",\"Positive\",\"Positive\",\"Positive\",\"Positive\",\"Positive\",\"Positive\",\"Positive\",\"Positive\",\"Positive\",\"Positive\",\"Positive\",\"Positive\",\"Positive\",\"Positive\",\"Positive\",\"Positive\",\"Positive\",\"Positive\",\"Positive\",\"Positive\",\"Positive\",\"Positive\",\"Positive\",\"Positive\",\"Positive\",\"Positive\",\"Positive\",\"Positive\",\"Positive\",\"Positive\",\"Positive\",\"Positive\",\"Positive\",\"Positive\",\"Positive\",\"Positive\",\"Positive\",\"Positive\",\"Positive\",\"Positive\",\"Positive\",\"Positive\",\"Positive\",\"Positive\",\"Positive\",\"Positive\",\"Positive\",\"Positive\",\"Positive\",\"Positive\",\"Positive\",\"Positive\",\"Positive\",\"Positive\",\"Positive\",\"Positive\",\"Positive\",\"Positive\",\"Positive\",\"Positive\",\"Positive\",\"Positive\",\"Positive\",\"Positive\",\"Positive\",\"Positive\",\"Positive\",\"Positive\",\"Positive\",\"Positive\",\"Positive\",\"Positive\",\"Positive\",\"Positive\",\"Positive\",\"Positive\",\"Positive\",\"Positive\",\"Positive\",\"Positive\",\"Positive\",\"Positive\",\"Positive\",\"Positive\",\"Positive\",\"Positive\",\"Positive\",\"Positive\",\"Positive\",\"Positive\",\"Positive\",\"Positive\",\"Positive\",\"Positive\",\"Positive\",\"Positive\",\"Positive\",\"Positive\",\"Positive\",\"Positive\",\"Positive\",\"Positive\",\"Positive\",\"Positive\",\"Positive\",\"Positive\",\"Positive\",\"Positive\",\"Positive\",\"Positive\",\"Positive\",\"Positive\",\"Positive\",\"Positive\",\"Positive\",\"Positive\",\"Positive\",\"Positive\",\"Positive\",\"Positive\",\"Positive\",\"Positive\",\"Positive\",\"Positive\",\"Positive\",\"Positive\",\"Positive\",\"Positive\",\"Positive\",\"Positive\",\"Positive\",\"Positive\",\"Positive\",\"Positive\",\"Positive\",\"Positive\",\"Positive\",\"Positive\",\"Positive\",\"Positive\",\"Positive\",\"Positive\",\"Positive\",\"Positive\",\"Positive\",\"Positive\",\"Positive\",\"Positive\",\"Positive\",\"Positive\",\"Positive\",\"Positive\",\"Positive\",\"Positive\",\"Positive\",\"Positive\",\"Positive\",\"Positive\",\"Positive\",\"Positive\",\"Positive\",\"Positive\",\"Positive\",\"Positive\",\"Positive\",\"Positive\",\"Positive\",\"Positive\",\"Positive\",\"Positive\",\"Positive\",\"Positive\",\"Positive\",\"Positive\",\"Positive\",\"Positive\",\"Positive\",\"Positive\",\"Positive\",\"Positive\",\"Positive\",\"Positive\",\"Positive\",\"Positive\",\"Positive\",\"Positive\",\"Positive\",\"Positive\",\"Positive\",\"Positive\",\"Positive\",\"Positive\",\"Positive\",\"Positive\",\"Positive\",\"Positive\",\"Positive\",\"Positive\",\"Positive\",\"Positive\",\"Positive\",\"Positive\",\"Positive\",\"Positive\",\"Positive\",\"Positive\",\"Positive\",\"Positive\",\"Positive\",\"Positive\",\"Positive\",\"Positive\",\"Positive\"],\"Timestamp\":{\"__ndarray__\":\"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\",\"dtype\":\"float64\",\"order\":\"little\",\"shape\":[738]}},\"selected\":{\"id\":\"1153\"},\"selection_policy\":{\"id\":\"1171\"}},\"id\":\"1152\",\"type\":\"ColumnDataSource\"},{\"attributes\":{},\"id\":\"1100\",\"type\":\"UnionRenderers\"},{\"attributes\":{\"coordinates\":null,\"data_source\":{\"id\":\"1152\"},\"glyph\":{\"id\":\"1155\"},\"group\":null,\"hover_glyph\":null,\"muted_glyph\":{\"id\":\"1157\"},\"nonselection_glyph\":{\"id\":\"1156\"},\"selection_glyph\":{\"id\":\"1187\"},\"view\":{\"id\":\"1159\"}},\"id\":\"1158\",\"type\":\"GlyphRenderer\"},{\"attributes\":{\"end\":1243814400000.0,\"margin\":[5,10,5,10],\"start\":1239062400000.0,\"title\":\"day slider\",\"value\":1241654400000.0},\"id\":\"1042\",\"type\":\"DateSlider\"},{\"attributes\":{\"source\":{\"id\":\"1152\"}},\"id\":\"1159\",\"type\":\"CDSView\"},{\"attributes\":{\"label\":{\"value\":\"Positive\"},\"renderers\":[{\"id\":\"1158\"}]},\"id\":\"1186\",\"type\":\"LegendItem\"}],\"root_ids\":[\"1038\",\"1292\"]},\"title\":\"Bokeh Application\",\"version\":\"2.4.3\"}};\n",
       "    var render_items = [{\"docid\":\"e73ed0ea-ee6d-4f47-8fda-721b69582a91\",\"root_ids\":[\"1038\"],\"roots\":{\"1038\":\"a7e34739-7424-45ab-aa2b-c2463dc63b34\"}}];\n",
       "    root.Bokeh.embed.embed_items_notebook(docs_json, render_items);\n",
       "  }\n",
       "  if (root.Bokeh !== undefined && root.Bokeh.Panel !== undefined && ( root['Tabulator'] !== undefined)) {\n",
       "    embed_document(root);\n",
       "  } else {\n",
       "    var attempts = 0;\n",
       "    var timer = setInterval(function(root) {\n",
       "      if (root.Bokeh !== undefined && root.Bokeh.Panel !== undefined && (root['Tabulator'] !== undefined)) {\n",
       "        clearInterval(timer);\n",
       "        embed_document(root);\n",
       "      } else if (document.readyState == \"complete\") {\n",
       "        attempts++;\n",
       "        if (attempts > 200) {\n",
       "          clearInterval(timer);\n",
       "          console.log(\"Bokeh: ERROR: Unable to run BokehJS code because BokehJS library is missing\");\n",
       "        }\n",
       "      }\n",
       "    }, 25, root)\n",
       "  }\n",
       "})(window);</script>"
      ],
      "text/plain": [
       "<hvplot.interactive.Interactive at 0x18e7e9dd910>"
      ]
     },
     "execution_count": 21,
     "metadata": {
      "application/vnd.holoviews_exec.v0+json": {
       "id": "1038"
      }
     },
     "output_type": "execute_result"
    }
   ],
   "source": [
    "# Plot sentiment count over time\n",
    "sentiment_plot"
   ]
  },
  {
   "cell_type": "code",
   "execution_count": 22,
   "id": "ad714de5",
   "metadata": {
    "scrolled": false
   },
   "outputs": [
    {
     "data": {
      "text/html": [
       "<div>\n",
       "<style scoped>\n",
       "    .dataframe tbody tr th:only-of-type {\n",
       "        vertical-align: middle;\n",
       "    }\n",
       "\n",
       "    .dataframe tbody tr th {\n",
       "        vertical-align: top;\n",
       "    }\n",
       "\n",
       "    .dataframe thead th {\n",
       "        text-align: right;\n",
       "    }\n",
       "</style>\n",
       "<table border=\"1\" class=\"dataframe\">\n",
       "  <thead>\n",
       "    <tr style=\"text-align: right;\">\n",
       "      <th></th>\n",
       "      <th>timestamp</th>\n",
       "      <th>score</th>\n",
       "    </tr>\n",
       "  </thead>\n",
       "  <tbody>\n",
       "    <tr>\n",
       "      <th>0</th>\n",
       "      <td>2009-04-07 06:00:00</td>\n",
       "      <td>0.246305</td>\n",
       "    </tr>\n",
       "    <tr>\n",
       "      <th>1</th>\n",
       "      <td>2009-04-07 07:00:00</td>\n",
       "      <td>0.246367</td>\n",
       "    </tr>\n",
       "    <tr>\n",
       "      <th>2</th>\n",
       "      <td>2009-04-07 08:00:00</td>\n",
       "      <td>0.246429</td>\n",
       "    </tr>\n",
       "    <tr>\n",
       "      <th>3</th>\n",
       "      <td>2009-04-07 09:00:00</td>\n",
       "      <td>0.246492</td>\n",
       "    </tr>\n",
       "    <tr>\n",
       "      <th>4</th>\n",
       "      <td>2009-04-07 10:00:00</td>\n",
       "      <td>0.246555</td>\n",
       "    </tr>\n",
       "  </tbody>\n",
       "</table>\n",
       "</div>"
      ],
      "text/plain": [
       "            timestamp     score\n",
       "0 2009-04-07 06:00:00  0.246305\n",
       "1 2009-04-07 07:00:00  0.246367\n",
       "2 2009-04-07 08:00:00  0.246429\n",
       "3 2009-04-07 09:00:00  0.246492\n",
       "4 2009-04-07 10:00:00  0.246555"
      ]
     },
     "execution_count": 22,
     "metadata": {},
     "output_type": "execute_result"
    }
   ],
   "source": [
    "# Define sentiment score trend over time\n",
    "tweets_trend = tweets_data[['timestamp', 'score']]\n",
    "tweets_trend.head()"
   ]
  },
  {
   "cell_type": "code",
   "execution_count": 23,
   "id": "03310818",
   "metadata": {},
   "outputs": [],
   "source": [
    "# Define interactive dataframe for sentiment score data\n",
    "idf_trend = tweets_trend.interactive()"
   ]
  },
  {
   "cell_type": "code",
   "execution_count": 24,
   "id": "fa1da305",
   "metadata": {
    "scrolled": true
   },
   "outputs": [],
   "source": [
    "# Rename columns\n",
    "idf_trend = idf_trend.rename(columns = {'score':'Score', 'timestamp':'Timestamp'})"
   ]
  },
  {
   "cell_type": "code",
   "execution_count": 25,
   "id": "5d33e456",
   "metadata": {},
   "outputs": [
    {
     "name": "stderr",
     "output_type": "stream",
     "text": [
      "WARNING:param.ParamFunction01855: The function 'evaluate' does not have any dependencies and will never update. Are you sure you did not intend to depend on or bind a parameter or widget to this function? If not simply call the function before passing it to Panel. Otherwise, when passing a parameter as an argument, ensure you pass at least one parameter and reference the actual parameter object not the current value, i.e. use object.param.parameter not object.parameter.\n"
     ]
    },
    {
     "data": {},
     "metadata": {},
     "output_type": "display_data"
    },
    {
     "data": {
      "application/vnd.holoviews_exec.v0+json": "",
      "text/html": [
       "<div id='1423'>\n",
       "  <div class=\"bk-root\" id=\"a1448de0-f2d7-4baa-a84e-b277f9d25d9e\" data-root-id=\"1423\"></div>\n",
       "</div>\n",
       "<script type=\"application/javascript\">(function(root) {\n",
       "  function embed_document(root) {\n",
       "    var docs_json = {\"6e2314b0-8e1a-4b7a-9a7e-0c8635438dd2\":{\"defs\":[{\"extends\":null,\"module\":null,\"name\":\"ReactiveHTML1\",\"overrides\":[],\"properties\":[]},{\"extends\":null,\"module\":null,\"name\":\"FlexBox1\",\"overrides\":[],\"properties\":[{\"default\":\"flex-start\",\"kind\":null,\"name\":\"align_content\"},{\"default\":\"flex-start\",\"kind\":null,\"name\":\"align_items\"},{\"default\":\"row\",\"kind\":null,\"name\":\"flex_direction\"},{\"default\":\"wrap\",\"kind\":null,\"name\":\"flex_wrap\"},{\"default\":\"flex-start\",\"kind\":null,\"name\":\"justify_content\"}]},{\"extends\":null,\"module\":null,\"name\":\"GridStack1\",\"overrides\":[],\"properties\":[{\"default\":\"warn\",\"kind\":null,\"name\":\"mode\"},{\"default\":null,\"kind\":null,\"name\":\"ncols\"},{\"default\":null,\"kind\":null,\"name\":\"nrows\"},{\"default\":true,\"kind\":null,\"name\":\"allow_resize\"},{\"default\":true,\"kind\":null,\"name\":\"allow_drag\"},{\"default\":[],\"kind\":null,\"name\":\"state\"}]},{\"extends\":null,\"module\":null,\"name\":\"click1\",\"overrides\":[],\"properties\":[{\"default\":\"\",\"kind\":null,\"name\":\"terminal_output\"},{\"default\":\"\",\"kind\":null,\"name\":\"debug_name\"},{\"default\":0,\"kind\":null,\"name\":\"clears\"}]},{\"extends\":null,\"module\":null,\"name\":\"NotificationAreaBase1\",\"overrides\":[],\"properties\":[{\"default\":\"bottom-right\",\"kind\":null,\"name\":\"position\"},{\"default\":0,\"kind\":null,\"name\":\"_clear\"}]},{\"extends\":null,\"module\":null,\"name\":\"NotificationArea1\",\"overrides\":[],\"properties\":[{\"default\":[],\"kind\":null,\"name\":\"notifications\"},{\"default\":\"bottom-right\",\"kind\":null,\"name\":\"position\"},{\"default\":0,\"kind\":null,\"name\":\"_clear\"},{\"default\":[{\"background\":\"#ffc107\",\"icon\":{\"className\":\"fas fa-exclamation-triangle\",\"color\":\"white\",\"tagName\":\"i\"},\"type\":\"warning\"},{\"background\":\"#007bff\",\"icon\":{\"className\":\"fas fa-info-circle\",\"color\":\"white\",\"tagName\":\"i\"},\"type\":\"info\"}],\"kind\":null,\"name\":\"types\"}]},{\"extends\":null,\"module\":null,\"name\":\"Notification\",\"overrides\":[],\"properties\":[{\"default\":null,\"kind\":null,\"name\":\"background\"},{\"default\":3000,\"kind\":null,\"name\":\"duration\"},{\"default\":null,\"kind\":null,\"name\":\"icon\"},{\"default\":\"\",\"kind\":null,\"name\":\"message\"},{\"default\":null,\"kind\":null,\"name\":\"notification_type\"},{\"default\":false,\"kind\":null,\"name\":\"_destroyed\"}]},{\"extends\":null,\"module\":null,\"name\":\"TemplateActions1\",\"overrides\":[],\"properties\":[{\"default\":0,\"kind\":null,\"name\":\"open_modal\"},{\"default\":0,\"kind\":null,\"name\":\"close_modal\"}]},{\"extends\":null,\"module\":null,\"name\":\"MaterialTemplateActions1\",\"overrides\":[],\"properties\":[{\"default\":0,\"kind\":null,\"name\":\"open_modal\"},{\"default\":0,\"kind\":null,\"name\":\"close_modal\"}]}],\"roots\":{\"references\":[{\"attributes\":{\"children\":[{\"id\":\"1425\"},{\"id\":\"1428\"}],\"margin\":[0,0,0,0],\"name\":\"Column01873\"},\"id\":\"1424\",\"type\":\"Column\"},{\"attributes\":{\"margin\":[0,0,0,0],\"name\":\"Column01854\"},\"id\":\"1426\",\"type\":\"Column\"},{\"attributes\":{\"margin\":[5,5,5,5],\"name\":\"DataFrame01869\",\"text\":\"&lt;table border=&quot;0&quot; class=&quot;dataframe panel-df&quot;&gt;\\n  &lt;thead&gt;\\n    &lt;tr style=&quot;text-align: right;&quot;&gt;\\n      &lt;th&gt;&lt;/th&gt;\\n      &lt;th&gt;Timestamp&lt;/th&gt;\\n      &lt;th&gt;Score&lt;/th&gt;\\n    &lt;/tr&gt;\\n  &lt;/thead&gt;\\n  &lt;tbody&gt;\\n    &lt;tr&gt;\\n      &lt;th&gt;0&lt;/th&gt;\\n      &lt;td&gt;2009-04-07 06:00:00&lt;/td&gt;\\n      &lt;td&gt;0.246305&lt;/td&gt;\\n    &lt;/tr&gt;\\n    &lt;tr&gt;\\n      &lt;th&gt;1&lt;/th&gt;\\n      &lt;td&gt;2009-04-07 07:00:00&lt;/td&gt;\\n      &lt;td&gt;0.246367&lt;/td&gt;\\n    &lt;/tr&gt;\\n    &lt;tr&gt;\\n      &lt;th&gt;2&lt;/th&gt;\\n      &lt;td&gt;2009-04-07 08:00:00&lt;/td&gt;\\n      &lt;td&gt;0.246429&lt;/td&gt;\\n    &lt;/tr&gt;\\n    &lt;tr&gt;\\n      &lt;th&gt;3&lt;/th&gt;\\n      &lt;td&gt;2009-04-07 09:00:00&lt;/td&gt;\\n      &lt;td&gt;0.246492&lt;/td&gt;\\n    &lt;/tr&gt;\\n    &lt;tr&gt;\\n      &lt;th&gt;4&lt;/th&gt;\\n      &lt;td&gt;2009-04-07 10:00:00&lt;/td&gt;\\n      &lt;td&gt;0.246555&lt;/td&gt;\\n    &lt;/tr&gt;\\n  &lt;/tbody&gt;\\n&lt;/table&gt;\"},\"id\":\"1429\",\"type\":\"panel.models.markup.HTML\"},{\"attributes\":{\"children\":[{\"id\":\"1424\"}],\"margin\":[0,0,0,0],\"name\":\"Row01874\"},\"id\":\"1423\",\"type\":\"Row\"},{\"attributes\":{\"children\":[{\"id\":\"1426\"},{\"id\":\"1427\"}],\"margin\":[0,0,0,0],\"name\":\"Row01872\"},\"id\":\"1425\",\"type\":\"Row\"},{\"attributes\":{\"margin\":[5,5,5,5],\"name\":\"HSpacer01871\",\"sizing_mode\":\"stretch_width\"},\"id\":\"1427\",\"type\":\"Spacer\"},{\"attributes\":{\"children\":[{\"id\":\"1429\"}],\"margin\":[0,0,0,0],\"name\":\"Row01859\"},\"id\":\"1428\",\"type\":\"Row\"},{\"attributes\":{\"client_comm_id\":\"4b74507b8dd547988b1bee5f22652407\",\"comm_id\":\"b1cb657092f744c980e6a000bf97c9fa\",\"plot_id\":\"1423\"},\"id\":\"1430\",\"type\":\"panel.models.comm_manager.CommManager\"}],\"root_ids\":[\"1423\",\"1430\"]},\"title\":\"Bokeh Application\",\"version\":\"2.4.3\"}};\n",
       "    var render_items = [{\"docid\":\"6e2314b0-8e1a-4b7a-9a7e-0c8635438dd2\",\"root_ids\":[\"1423\"],\"roots\":{\"1423\":\"a1448de0-f2d7-4baa-a84e-b277f9d25d9e\"}}];\n",
       "    root.Bokeh.embed.embed_items_notebook(docs_json, render_items);\n",
       "  }\n",
       "  if (root.Bokeh !== undefined && root.Bokeh.Panel !== undefined && ( root['Tabulator'] !== undefined)) {\n",
       "    embed_document(root);\n",
       "  } else {\n",
       "    var attempts = 0;\n",
       "    var timer = setInterval(function(root) {\n",
       "      if (root.Bokeh !== undefined && root.Bokeh.Panel !== undefined && (root['Tabulator'] !== undefined)) {\n",
       "        clearInterval(timer);\n",
       "        embed_document(root);\n",
       "      } else if (document.readyState == \"complete\") {\n",
       "        attempts++;\n",
       "        if (attempts > 200) {\n",
       "          clearInterval(timer);\n",
       "          console.log(\"Bokeh: ERROR: Unable to run BokehJS code because BokehJS library is missing\");\n",
       "        }\n",
       "      }\n",
       "    }, 25, root)\n",
       "  }\n",
       "})(window);</script>"
      ],
      "text/plain": [
       "<hvplot.interactive.Interactive at 0x18e7eb11eb0>"
      ]
     },
     "execution_count": 25,
     "metadata": {
      "application/vnd.holoviews_exec.v0+json": {
       "id": "1423"
      }
     },
     "output_type": "execute_result"
    }
   ],
   "source": [
    "# show first 5 results\n",
    "idf_trend.head()"
   ]
  },
  {
   "cell_type": "code",
   "execution_count": 26,
   "id": "cb1cb7ec",
   "metadata": {},
   "outputs": [],
   "source": [
    "# Create pipeline for sentiment score over time\n",
    "trend_pipeline = (\n",
    "    idf_trend[\n",
    "        (idf_trend.Timestamp.dt.date <= day_slider)\n",
    "    ]\n",
    "    .groupby(['Timestamp'])['Score'].sum()\n",
    "    .reset_index()\n",
    "    .sort_values(by='Timestamp')  \n",
    "    .reset_index(drop=True)\n",
    ")"
   ]
  },
  {
   "cell_type": "code",
   "execution_count": 27,
   "id": "75ae7123",
   "metadata": {
    "scrolled": true
   },
   "outputs": [
    {
     "data": {},
     "metadata": {},
     "output_type": "display_data"
    },
    {
     "data": {
      "application/vnd.holoviews_exec.v0+json": "",
      "text/html": [
       "<div id='1431'>\n",
       "  <div class=\"bk-root\" id=\"719ceaa1-5655-430f-99cf-95668d66dc14\" data-root-id=\"1431\"></div>\n",
       "</div>\n",
       "<script type=\"application/javascript\">(function(root) {\n",
       "  function embed_document(root) {\n",
       "    var docs_json = {\"d6315d85-4361-46cf-8d58-e3906c7e3ecd\":{\"defs\":[{\"extends\":null,\"module\":null,\"name\":\"ReactiveHTML1\",\"overrides\":[],\"properties\":[]},{\"extends\":null,\"module\":null,\"name\":\"FlexBox1\",\"overrides\":[],\"properties\":[{\"default\":\"flex-start\",\"kind\":null,\"name\":\"align_content\"},{\"default\":\"flex-start\",\"kind\":null,\"name\":\"align_items\"},{\"default\":\"row\",\"kind\":null,\"name\":\"flex_direction\"},{\"default\":\"wrap\",\"kind\":null,\"name\":\"flex_wrap\"},{\"default\":\"flex-start\",\"kind\":null,\"name\":\"justify_content\"}]},{\"extends\":null,\"module\":null,\"name\":\"GridStack1\",\"overrides\":[],\"properties\":[{\"default\":\"warn\",\"kind\":null,\"name\":\"mode\"},{\"default\":null,\"kind\":null,\"name\":\"ncols\"},{\"default\":null,\"kind\":null,\"name\":\"nrows\"},{\"default\":true,\"kind\":null,\"name\":\"allow_resize\"},{\"default\":true,\"kind\":null,\"name\":\"allow_drag\"},{\"default\":[],\"kind\":null,\"name\":\"state\"}]},{\"extends\":null,\"module\":null,\"name\":\"click1\",\"overrides\":[],\"properties\":[{\"default\":\"\",\"kind\":null,\"name\":\"terminal_output\"},{\"default\":\"\",\"kind\":null,\"name\":\"debug_name\"},{\"default\":0,\"kind\":null,\"name\":\"clears\"}]},{\"extends\":null,\"module\":null,\"name\":\"NotificationAreaBase1\",\"overrides\":[],\"properties\":[{\"default\":\"bottom-right\",\"kind\":null,\"name\":\"position\"},{\"default\":0,\"kind\":null,\"name\":\"_clear\"}]},{\"extends\":null,\"module\":null,\"name\":\"NotificationArea1\",\"overrides\":[],\"properties\":[{\"default\":[],\"kind\":null,\"name\":\"notifications\"},{\"default\":\"bottom-right\",\"kind\":null,\"name\":\"position\"},{\"default\":0,\"kind\":null,\"name\":\"_clear\"},{\"default\":[{\"background\":\"#ffc107\",\"icon\":{\"className\":\"fas fa-exclamation-triangle\",\"color\":\"white\",\"tagName\":\"i\"},\"type\":\"warning\"},{\"background\":\"#007bff\",\"icon\":{\"className\":\"fas fa-info-circle\",\"color\":\"white\",\"tagName\":\"i\"},\"type\":\"info\"}],\"kind\":null,\"name\":\"types\"}]},{\"extends\":null,\"module\":null,\"name\":\"Notification\",\"overrides\":[],\"properties\":[{\"default\":null,\"kind\":null,\"name\":\"background\"},{\"default\":3000,\"kind\":null,\"name\":\"duration\"},{\"default\":null,\"kind\":null,\"name\":\"icon\"},{\"default\":\"\",\"kind\":null,\"name\":\"message\"},{\"default\":null,\"kind\":null,\"name\":\"notification_type\"},{\"default\":false,\"kind\":null,\"name\":\"_destroyed\"}]},{\"extends\":null,\"module\":null,\"name\":\"TemplateActions1\",\"overrides\":[],\"properties\":[{\"default\":0,\"kind\":null,\"name\":\"open_modal\"},{\"default\":0,\"kind\":null,\"name\":\"close_modal\"}]},{\"extends\":null,\"module\":null,\"name\":\"MaterialTemplateActions1\",\"overrides\":[],\"properties\":[{\"default\":0,\"kind\":null,\"name\":\"open_modal\"},{\"default\":0,\"kind\":null,\"name\":\"close_modal\"}]}],\"roots\":{\"references\":[{\"attributes\":{\"margin\":[5,5,5,5],\"name\":\"HSpacer02203\",\"sizing_mode\":\"stretch_width\"},\"id\":\"1436\",\"type\":\"Spacer\"},{\"attributes\":{\"children\":[{\"id\":\"1435\"}],\"margin\":[0,0,0,0],\"name\":\"Column02183\"},\"id\":\"1434\",\"type\":\"Column\"},{\"attributes\":{\"children\":[{\"id\":\"1438\"}],\"margin\":[0,0,0,0],\"name\":\"Row02188\"},\"id\":\"1437\",\"type\":\"Row\"},{\"attributes\":{\"children\":[{\"id\":\"1434\"},{\"id\":\"1436\"}],\"margin\":[0,0,0,0],\"name\":\"Row02204\"},\"id\":\"1433\",\"type\":\"Row\"},{\"attributes\":{\"client_comm_id\":\"4e1269edf03c4cf9b98ecbf9f3360cee\",\"comm_id\":\"4fb4903390ea43ec8382f6ab44e3b0c3\",\"plot_id\":\"1431\"},\"id\":\"1439\",\"type\":\"panel.models.comm_manager.CommManager\"},{\"attributes\":{\"children\":[{\"id\":\"1432\"}],\"margin\":[0,0,0,0],\"name\":\"Row02206\"},\"id\":\"1431\",\"type\":\"Row\"},{\"attributes\":{\"margin\":[5,5,5,5],\"name\":\"DataFrame02201\",\"text\":\"&lt;table border=&quot;0&quot; class=&quot;dataframe panel-df&quot;&gt;\\n  &lt;thead&gt;\\n    &lt;tr style=&quot;text-align: right;&quot;&gt;\\n      &lt;th&gt;&lt;/th&gt;\\n      &lt;th&gt;Timestamp&lt;/th&gt;\\n      &lt;th&gt;Score&lt;/th&gt;\\n    &lt;/tr&gt;\\n  &lt;/thead&gt;\\n  &lt;tbody&gt;\\n    &lt;tr&gt;\\n      &lt;th&gt;0&lt;/th&gt;\\n      &lt;td&gt;2009-04-07 06:00:00&lt;/td&gt;\\n      &lt;td&gt;0.246305&lt;/td&gt;\\n    &lt;/tr&gt;\\n    &lt;tr&gt;\\n      &lt;th&gt;1&lt;/th&gt;\\n      &lt;td&gt;2009-04-07 07:00:00&lt;/td&gt;\\n      &lt;td&gt;0.246367&lt;/td&gt;\\n    &lt;/tr&gt;\\n    &lt;tr&gt;\\n      &lt;th&gt;2&lt;/th&gt;\\n      &lt;td&gt;2009-04-07 08:00:00&lt;/td&gt;\\n      &lt;td&gt;0.246429&lt;/td&gt;\\n    &lt;/tr&gt;\\n    &lt;tr&gt;\\n      &lt;th&gt;3&lt;/th&gt;\\n      &lt;td&gt;2009-04-07 09:00:00&lt;/td&gt;\\n      &lt;td&gt;0.246492&lt;/td&gt;\\n    &lt;/tr&gt;\\n    &lt;tr&gt;\\n      &lt;th&gt;4&lt;/th&gt;\\n      &lt;td&gt;2009-04-07 10:00:00&lt;/td&gt;\\n      &lt;td&gt;0.246555&lt;/td&gt;\\n    &lt;/tr&gt;\\n  &lt;/tbody&gt;\\n&lt;/table&gt;\"},\"id\":\"1438\",\"type\":\"panel.models.markup.HTML\"},{\"attributes\":{\"children\":[{\"id\":\"1433\"},{\"id\":\"1437\"}],\"margin\":[0,0,0,0],\"name\":\"Column02205\"},\"id\":\"1432\",\"type\":\"Column\"},{\"attributes\":{\"end\":1243814400000.0,\"margin\":[5,10,5,10],\"start\":1239062400000.0,\"title\":\"day slider\",\"value\":1241654400000.0},\"id\":\"1435\",\"type\":\"DateSlider\"}],\"root_ids\":[\"1431\",\"1439\"]},\"title\":\"Bokeh Application\",\"version\":\"2.4.3\"}};\n",
       "    var render_items = [{\"docid\":\"d6315d85-4361-46cf-8d58-e3906c7e3ecd\",\"root_ids\":[\"1431\"],\"roots\":{\"1431\":\"719ceaa1-5655-430f-99cf-95668d66dc14\"}}];\n",
       "    root.Bokeh.embed.embed_items_notebook(docs_json, render_items);\n",
       "  }\n",
       "  if (root.Bokeh !== undefined && root.Bokeh.Panel !== undefined && ( root['Tabulator'] !== undefined)) {\n",
       "    embed_document(root);\n",
       "  } else {\n",
       "    var attempts = 0;\n",
       "    var timer = setInterval(function(root) {\n",
       "      if (root.Bokeh !== undefined && root.Bokeh.Panel !== undefined && (root['Tabulator'] !== undefined)) {\n",
       "        clearInterval(timer);\n",
       "        embed_document(root);\n",
       "      } else if (document.readyState == \"complete\") {\n",
       "        attempts++;\n",
       "        if (attempts > 200) {\n",
       "          clearInterval(timer);\n",
       "          console.log(\"Bokeh: ERROR: Unable to run BokehJS code because BokehJS library is missing\");\n",
       "        }\n",
       "      }\n",
       "    }, 25, root)\n",
       "  }\n",
       "})(window);</script>"
      ],
      "text/plain": [
       "<hvplot.interactive.Interactive at 0x18e7eb5f7f0>"
      ]
     },
     "execution_count": 27,
     "metadata": {
      "application/vnd.holoviews_exec.v0+json": {
       "id": "1431"
      }
     },
     "output_type": "execute_result"
    }
   ],
   "source": [
    "# Show results\n",
    "trend_pipeline.head()"
   ]
  },
  {
   "cell_type": "code",
   "execution_count": 28,
   "id": "4364c0fa",
   "metadata": {},
   "outputs": [],
   "source": [
    "# Define trend plot\n",
    "trend_plot = trend_pipeline.hvplot(x = 'Timestamp', y='Score',line_width=1, title=\"trend over time\", color='teal')"
   ]
  },
  {
   "cell_type": "code",
   "execution_count": 29,
   "id": "a5ac4a2a",
   "metadata": {},
   "outputs": [
    {
     "data": {},
     "metadata": {},
     "output_type": "display_data"
    },
    {
     "data": {},
     "metadata": {},
     "output_type": "display_data"
    },
    {
     "data": {
      "application/vnd.holoviews_exec.v0+json": "",
      "text/html": [
       "<div id='1440'>\n",
       "  <div class=\"bk-root\" id=\"2a82bdb4-52fe-4bee-8ce5-b67d730b2392\" data-root-id=\"1440\"></div>\n",
       "</div>\n",
       "<script type=\"application/javascript\">(function(root) {\n",
       "  function embed_document(root) {\n",
       "    var docs_json = {\"c380fd3a-7ef2-46e6-b86e-2a659eb1ba6c\":{\"defs\":[{\"extends\":null,\"module\":null,\"name\":\"ReactiveHTML1\",\"overrides\":[],\"properties\":[]},{\"extends\":null,\"module\":null,\"name\":\"FlexBox1\",\"overrides\":[],\"properties\":[{\"default\":\"flex-start\",\"kind\":null,\"name\":\"align_content\"},{\"default\":\"flex-start\",\"kind\":null,\"name\":\"align_items\"},{\"default\":\"row\",\"kind\":null,\"name\":\"flex_direction\"},{\"default\":\"wrap\",\"kind\":null,\"name\":\"flex_wrap\"},{\"default\":\"flex-start\",\"kind\":null,\"name\":\"justify_content\"}]},{\"extends\":null,\"module\":null,\"name\":\"GridStack1\",\"overrides\":[],\"properties\":[{\"default\":\"warn\",\"kind\":null,\"name\":\"mode\"},{\"default\":null,\"kind\":null,\"name\":\"ncols\"},{\"default\":null,\"kind\":null,\"name\":\"nrows\"},{\"default\":true,\"kind\":null,\"name\":\"allow_resize\"},{\"default\":true,\"kind\":null,\"name\":\"allow_drag\"},{\"default\":[],\"kind\":null,\"name\":\"state\"}]},{\"extends\":null,\"module\":null,\"name\":\"click1\",\"overrides\":[],\"properties\":[{\"default\":\"\",\"kind\":null,\"name\":\"terminal_output\"},{\"default\":\"\",\"kind\":null,\"name\":\"debug_name\"},{\"default\":0,\"kind\":null,\"name\":\"clears\"}]},{\"extends\":null,\"module\":null,\"name\":\"NotificationAreaBase1\",\"overrides\":[],\"properties\":[{\"default\":\"bottom-right\",\"kind\":null,\"name\":\"position\"},{\"default\":0,\"kind\":null,\"name\":\"_clear\"}]},{\"extends\":null,\"module\":null,\"name\":\"NotificationArea1\",\"overrides\":[],\"properties\":[{\"default\":[],\"kind\":null,\"name\":\"notifications\"},{\"default\":\"bottom-right\",\"kind\":null,\"name\":\"position\"},{\"default\":0,\"kind\":null,\"name\":\"_clear\"},{\"default\":[{\"background\":\"#ffc107\",\"icon\":{\"className\":\"fas fa-exclamation-triangle\",\"color\":\"white\",\"tagName\":\"i\"},\"type\":\"warning\"},{\"background\":\"#007bff\",\"icon\":{\"className\":\"fas fa-info-circle\",\"color\":\"white\",\"tagName\":\"i\"},\"type\":\"info\"}],\"kind\":null,\"name\":\"types\"}]},{\"extends\":null,\"module\":null,\"name\":\"Notification\",\"overrides\":[],\"properties\":[{\"default\":null,\"kind\":null,\"name\":\"background\"},{\"default\":3000,\"kind\":null,\"name\":\"duration\"},{\"default\":null,\"kind\":null,\"name\":\"icon\"},{\"default\":\"\",\"kind\":null,\"name\":\"message\"},{\"default\":null,\"kind\":null,\"name\":\"notification_type\"},{\"default\":false,\"kind\":null,\"name\":\"_destroyed\"}]},{\"extends\":null,\"module\":null,\"name\":\"TemplateActions1\",\"overrides\":[],\"properties\":[{\"default\":0,\"kind\":null,\"name\":\"open_modal\"},{\"default\":0,\"kind\":null,\"name\":\"close_modal\"}]},{\"extends\":null,\"module\":null,\"name\":\"MaterialTemplateActions1\",\"overrides\":[],\"properties\":[{\"default\":0,\"kind\":null,\"name\":\"open_modal\"},{\"default\":0,\"kind\":null,\"name\":\"close_modal\"}]}],\"roots\":{\"references\":[{\"attributes\":{\"end\":1243814400000.0,\"margin\":[5,10,5,10],\"start\":1239062400000.0,\"title\":\"day slider\",\"value\":1241654400000.0},\"id\":\"1444\",\"type\":\"DateSlider\"},{\"attributes\":{},\"id\":\"1470\",\"type\":\"ResetTool\"},{\"attributes\":{\"mantissas\":[1,2,5],\"max_interval\":500.0,\"num_minor_ticks\":0},\"id\":\"1504\",\"type\":\"AdaptiveTicker\"},{\"attributes\":{\"margin\":[5,5,5,5],\"name\":\"HSpacer02317\",\"sizing_mode\":\"stretch_width\"},\"id\":\"1445\",\"type\":\"Spacer\"},{\"attributes\":{\"bottom_units\":\"screen\",\"coordinates\":null,\"fill_alpha\":0.5,\"fill_color\":\"lightgrey\",\"group\":null,\"left_units\":\"screen\",\"level\":\"overlay\",\"line_alpha\":1.0,\"line_color\":\"black\",\"line_dash\":[4,4],\"line_width\":2,\"right_units\":\"screen\",\"syncable\":false,\"top_units\":\"screen\"},\"id\":\"1471\",\"type\":\"BoxAnnotation\"},{\"attributes\":{},\"id\":\"1467\",\"type\":\"PanTool\"},{\"attributes\":{},\"id\":\"1454\",\"type\":\"LinearScale\"},{\"attributes\":{\"base\":60,\"mantissas\":[1,2,5,10,15,20,30],\"max_interval\":1800000.0,\"min_interval\":1000.0,\"num_minor_ticks\":0},\"id\":\"1505\",\"type\":\"AdaptiveTicker\"},{\"attributes\":{\"base\":24,\"mantissas\":[1,2,4,6,8,12],\"max_interval\":43200000.0,\"min_interval\":3600000.0,\"num_minor_ticks\":0},\"id\":\"1506\",\"type\":\"AdaptiveTicker\"},{\"attributes\":{\"line_color\":\"teal\",\"x\":{\"field\":\"Timestamp\"},\"y\":{\"field\":\"Score\"}},\"id\":\"1487\",\"type\":\"Line\"},{\"attributes\":{},\"id\":\"1466\",\"type\":\"SaveTool\"},{\"attributes\":{},\"id\":\"1515\",\"type\":\"YearsTicker\"},{\"attributes\":{},\"id\":\"1456\",\"type\":\"LinearScale\"},{\"attributes\":{\"source\":{\"id\":\"1479\"}},\"id\":\"1486\",\"type\":\"CDSView\"},{\"attributes\":{\"months\":[0,1,2,3,4,5,6,7,8,9,10,11]},\"id\":\"1511\",\"type\":\"MonthsTicker\"},{\"attributes\":{\"callback\":null,\"formatters\":{\"@{Timestamp}\":\"datetime\"},\"renderers\":[{\"id\":\"1485\"}],\"tags\":[\"hv_created\"],\"tooltips\":[[\"Timestamp\",\"@{Timestamp}{%F %T}\"],[\"Score\",\"@{Score}\"]]},\"id\":\"1448\",\"type\":\"HoverTool\"},{\"attributes\":{\"line_color\":\"teal\",\"x\":{\"field\":\"Timestamp\"},\"y\":{\"field\":\"Score\"}},\"id\":\"1482\",\"type\":\"Line\"},{\"attributes\":{\"days\":[1,15]},\"id\":\"1510\",\"type\":\"DaysTicker\"},{\"attributes\":{\"days\":[1,2,3,4,5,6,7,8,9,10,11,12,13,14,15,16,17,18,19,20,21,22,23,24,25,26,27,28,29,30,31]},\"id\":\"1507\",\"type\":\"DaysTicker\"},{\"attributes\":{\"coordinates\":null,\"data_source\":{\"id\":\"1479\"},\"glyph\":{\"id\":\"1482\"},\"group\":null,\"hover_glyph\":null,\"muted_glyph\":{\"id\":\"1484\"},\"nonselection_glyph\":{\"id\":\"1483\"},\"selection_glyph\":{\"id\":\"1487\"},\"view\":{\"id\":\"1486\"}},\"id\":\"1485\",\"type\":\"GlyphRenderer\"},{\"attributes\":{\"days\":[1,4,7,10,13,16,19,22,25,28]},\"id\":\"1508\",\"type\":\"DaysTicker\"},{\"attributes\":{\"days\":[1,8,15,22]},\"id\":\"1509\",\"type\":\"DaysTicker\"},{\"attributes\":{\"months\":[0,6]},\"id\":\"1514\",\"type\":\"MonthsTicker\"},{\"attributes\":{},\"id\":\"1492\",\"type\":\"BasicTickFormatter\"},{\"attributes\":{\"data\":{\"Score\":{\"__ndarray__\":\"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\",\"dtype\":\"float64\",\"order\":\"little\",\"shape\":[738]},\"Timestamp\":{\"__ndarray__\":\"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\",\"dtype\":\"float64\",\"order\":\"little\",\"shape\":[738]}},\"selected\":{\"id\":\"1480\"},\"selection_policy\":{\"id\":\"1501\"}},\"id\":\"1479\",\"type\":\"ColumnDataSource\"},{\"attributes\":{\"months\":[0,2,4,6,8,10]},\"id\":\"1512\",\"type\":\"MonthsTicker\"},{\"attributes\":{\"num_minor_ticks\":5,\"tickers\":[{\"id\":\"1504\"},{\"id\":\"1505\"},{\"id\":\"1506\"},{\"id\":\"1507\"},{\"id\":\"1508\"},{\"id\":\"1509\"},{\"id\":\"1510\"},{\"id\":\"1511\"},{\"id\":\"1512\"},{\"id\":\"1513\"},{\"id\":\"1514\"},{\"id\":\"1515\"}]},\"id\":\"1459\",\"type\":\"DatetimeTicker\"},{\"attributes\":{},\"id\":\"1490\",\"type\":\"AllLabels\"},{\"attributes\":{},\"id\":\"1489\",\"type\":\"DatetimeTickFormatter\"},{\"attributes\":{},\"id\":\"1493\",\"type\":\"AllLabels\"},{\"attributes\":{\"axis_label\":\"Timestamp\",\"coordinates\":null,\"formatter\":{\"id\":\"1489\"},\"group\":null,\"major_label_policy\":{\"id\":\"1490\"},\"ticker\":{\"id\":\"1459\"}},\"id\":\"1458\",\"type\":\"DatetimeAxis\"},{\"attributes\":{\"months\":[0,4,8]},\"id\":\"1513\",\"type\":\"MonthsTicker\"},{\"attributes\":{\"coordinates\":null,\"group\":null,\"text\":\"trend over time\",\"text_color\":\"black\",\"text_font_size\":\"12pt\"},\"id\":\"1450\",\"type\":\"Title\"},{\"attributes\":{\"end\":1241737200000.0,\"reset_end\":1241737200000.0,\"reset_start\":1239084000000.0,\"start\":1239084000000.0,\"tags\":[[[\"Timestamp\",\"Timestamp\",null]]]},\"id\":\"1446\",\"type\":\"Range1d\"},{\"attributes\":{\"tools\":[{\"id\":\"1448\"},{\"id\":\"1466\"},{\"id\":\"1467\"},{\"id\":\"1468\"},{\"id\":\"1469\"},{\"id\":\"1470\"}]},\"id\":\"1472\",\"type\":\"Toolbar\"},{\"attributes\":{},\"id\":\"1501\",\"type\":\"UnionRenderers\"},{\"attributes\":{\"end\":0.3176263479376434,\"reset_end\":0.3176263479376434,\"reset_start\":0.2206652409320179,\"start\":0.2206652409320179,\"tags\":[[[\"Score\",\"Score\",null]]]},\"id\":\"1447\",\"type\":\"Range1d\"},{\"attributes\":{\"axis_label\":\"Score\",\"coordinates\":null,\"formatter\":{\"id\":\"1492\"},\"group\":null,\"major_label_policy\":{\"id\":\"1493\"},\"ticker\":{\"id\":\"1463\"}},\"id\":\"1462\",\"type\":\"LinearAxis\"},{\"attributes\":{\"axis\":{\"id\":\"1458\"},\"coordinates\":null,\"grid_line_color\":null,\"group\":null,\"ticker\":null},\"id\":\"1461\",\"type\":\"Grid\"},{\"attributes\":{\"children\":[{\"id\":\"1441\"}],\"margin\":[0,0,0,0],\"name\":\"Row02325\"},\"id\":\"1440\",\"type\":\"Row\"},{\"attributes\":{\"line_alpha\":0.1,\"line_color\":\"teal\",\"x\":{\"field\":\"Timestamp\"},\"y\":{\"field\":\"Score\"}},\"id\":\"1483\",\"type\":\"Line\"},{\"attributes\":{},\"id\":\"1480\",\"type\":\"Selection\"},{\"attributes\":{\"line_alpha\":0.2,\"line_color\":\"teal\",\"x\":{\"field\":\"Timestamp\"},\"y\":{\"field\":\"Score\"}},\"id\":\"1484\",\"type\":\"Line\"},{\"attributes\":{\"children\":[{\"id\":\"1444\"}],\"margin\":[0,0,0,0],\"name\":\"Column02313\"},\"id\":\"1443\",\"type\":\"Column\"},{\"attributes\":{},\"id\":\"1463\",\"type\":\"BasicTicker\"},{\"attributes\":{\"client_comm_id\":\"9ddd344d87ad428c89b997fbaf2ad699\",\"comm_id\":\"1ebbf093ca5243e2bc192e6ce840a6aa\",\"plot_id\":\"1440\"},\"id\":\"1582\",\"type\":\"panel.models.comm_manager.CommManager\"},{\"attributes\":{\"axis\":{\"id\":\"1462\"},\"coordinates\":null,\"dimension\":1,\"grid_line_color\":null,\"group\":null,\"ticker\":null},\"id\":\"1465\",\"type\":\"Grid\"},{\"attributes\":{\"children\":[{\"id\":\"1442\"},{\"id\":\"1449\"}],\"margin\":[0,0,0,0],\"name\":\"Column02324\"},\"id\":\"1441\",\"type\":\"Column\"},{\"attributes\":{},\"id\":\"1468\",\"type\":\"WheelZoomTool\"},{\"attributes\":{\"children\":[{\"id\":\"1443\"},{\"id\":\"1445\"}],\"margin\":[0,0,0,0],\"name\":\"Row02318\"},\"id\":\"1442\",\"type\":\"Row\"},{\"attributes\":{\"below\":[{\"id\":\"1458\"}],\"center\":[{\"id\":\"1461\"},{\"id\":\"1465\"}],\"height\":300,\"left\":[{\"id\":\"1462\"}],\"margin\":[5,5,5,5],\"min_border_bottom\":10,\"min_border_left\":10,\"min_border_right\":10,\"min_border_top\":10,\"renderers\":[{\"id\":\"1485\"}],\"sizing_mode\":\"fixed\",\"title\":{\"id\":\"1450\"},\"toolbar\":{\"id\":\"1472\"},\"width\":700,\"x_range\":{\"id\":\"1446\"},\"x_scale\":{\"id\":\"1454\"},\"y_range\":{\"id\":\"1447\"},\"y_scale\":{\"id\":\"1456\"}},\"id\":\"1449\",\"subtype\":\"Figure\",\"type\":\"Plot\"},{\"attributes\":{\"overlay\":{\"id\":\"1471\"}},\"id\":\"1469\",\"type\":\"BoxZoomTool\"}],\"root_ids\":[\"1440\",\"1582\"]},\"title\":\"Bokeh Application\",\"version\":\"2.4.3\"}};\n",
       "    var render_items = [{\"docid\":\"c380fd3a-7ef2-46e6-b86e-2a659eb1ba6c\",\"root_ids\":[\"1440\"],\"roots\":{\"1440\":\"2a82bdb4-52fe-4bee-8ce5-b67d730b2392\"}}];\n",
       "    root.Bokeh.embed.embed_items_notebook(docs_json, render_items);\n",
       "  }\n",
       "  if (root.Bokeh !== undefined && root.Bokeh.Panel !== undefined && ( root['Tabulator'] !== undefined)) {\n",
       "    embed_document(root);\n",
       "  } else {\n",
       "    var attempts = 0;\n",
       "    var timer = setInterval(function(root) {\n",
       "      if (root.Bokeh !== undefined && root.Bokeh.Panel !== undefined && (root['Tabulator'] !== undefined)) {\n",
       "        clearInterval(timer);\n",
       "        embed_document(root);\n",
       "      } else if (document.readyState == \"complete\") {\n",
       "        attempts++;\n",
       "        if (attempts > 200) {\n",
       "          clearInterval(timer);\n",
       "          console.log(\"Bokeh: ERROR: Unable to run BokehJS code because BokehJS library is missing\");\n",
       "        }\n",
       "      }\n",
       "    }, 25, root)\n",
       "  }\n",
       "})(window);</script>"
      ],
      "text/plain": [
       "<hvplot.interactive.Interactive at 0x18e7eb33520>"
      ]
     },
     "execution_count": 29,
     "metadata": {
      "application/vnd.holoviews_exec.v0+json": {
       "id": "1440"
      }
     },
     "output_type": "execute_result"
    }
   ],
   "source": [
    "# plot trend data over time\n",
    "trend_plot"
   ]
  },
  {
   "cell_type": "code",
   "execution_count": 30,
   "id": "c18b36f1",
   "metadata": {},
   "outputs": [],
   "source": [
    "# Define sentiment totals dataframe\n",
    "db_sentiment_sum = tweets_data.set_index('timestamp').resample('D').sum()\n",
    "db_sentiment_sum.drop(columns=['score'], inplace=True)"
   ]
  },
  {
   "cell_type": "code",
   "execution_count": 31,
   "id": "0607348a",
   "metadata": {},
   "outputs": [
    {
     "data": {
      "text/html": [
       "<div>\n",
       "<style scoped>\n",
       "    .dataframe tbody tr th:only-of-type {\n",
       "        vertical-align: middle;\n",
       "    }\n",
       "\n",
       "    .dataframe tbody tr th {\n",
       "        vertical-align: top;\n",
       "    }\n",
       "\n",
       "    .dataframe thead th {\n",
       "        text-align: right;\n",
       "    }\n",
       "</style>\n",
       "<table border=\"1\" class=\"dataframe\">\n",
       "  <thead>\n",
       "    <tr style=\"text-align: right;\">\n",
       "      <th></th>\n",
       "      <th>timestamp</th>\n",
       "      <th>Negative</th>\n",
       "      <th>Neutral</th>\n",
       "      <th>Positive</th>\n",
       "    </tr>\n",
       "  </thead>\n",
       "  <tbody>\n",
       "    <tr>\n",
       "      <th>0</th>\n",
       "      <td>2009-04-07</td>\n",
       "      <td>6335.356322</td>\n",
       "      <td>11175.943748</td>\n",
       "      <td>14153.690556</td>\n",
       "    </tr>\n",
       "    <tr>\n",
       "      <th>1</th>\n",
       "      <td>2009-04-08</td>\n",
       "      <td>7428.065476</td>\n",
       "      <td>13479.976687</td>\n",
       "      <td>16788.874008</td>\n",
       "    </tr>\n",
       "    <tr>\n",
       "      <th>2</th>\n",
       "      <td>2009-04-09</td>\n",
       "      <td>6853.714286</td>\n",
       "      <td>12513.571429</td>\n",
       "      <td>15583.428571</td>\n",
       "    </tr>\n",
       "    <tr>\n",
       "      <th>3</th>\n",
       "      <td>2009-04-10</td>\n",
       "      <td>6305.142857</td>\n",
       "      <td>11578.714286</td>\n",
       "      <td>14422.285714</td>\n",
       "    </tr>\n",
       "    <tr>\n",
       "      <th>4</th>\n",
       "      <td>2009-04-11</td>\n",
       "      <td>5756.571429</td>\n",
       "      <td>10643.857143</td>\n",
       "      <td>13261.142857</td>\n",
       "    </tr>\n",
       "  </tbody>\n",
       "</table>\n",
       "</div>"
      ],
      "text/plain": [
       "   timestamp     Negative       Neutral      Positive\n",
       "0 2009-04-07  6335.356322  11175.943748  14153.690556\n",
       "1 2009-04-08  7428.065476  13479.976687  16788.874008\n",
       "2 2009-04-09  6853.714286  12513.571429  15583.428571\n",
       "3 2009-04-10  6305.142857  11578.714286  14422.285714\n",
       "4 2009-04-11  5756.571429  10643.857143  13261.142857"
      ]
     },
     "execution_count": 31,
     "metadata": {},
     "output_type": "execute_result"
    }
   ],
   "source": [
    "# Reset index and show results\n",
    "db_sentiment_sum = db_sentiment_sum.reset_index()\n",
    "db_sentiment_sum.head()"
   ]
  },
  {
   "cell_type": "code",
   "execution_count": 32,
   "id": "e458b32e",
   "metadata": {},
   "outputs": [
    {
     "data": {
      "text/html": [
       "<div>\n",
       "<style scoped>\n",
       "    .dataframe tbody tr th:only-of-type {\n",
       "        vertical-align: middle;\n",
       "    }\n",
       "\n",
       "    .dataframe tbody tr th {\n",
       "        vertical-align: top;\n",
       "    }\n",
       "\n",
       "    .dataframe thead th {\n",
       "        text-align: right;\n",
       "    }\n",
       "</style>\n",
       "<table border=\"1\" class=\"dataframe\">\n",
       "  <thead>\n",
       "    <tr style=\"text-align: right;\">\n",
       "      <th></th>\n",
       "      <th>timestamp</th>\n",
       "      <th>variable</th>\n",
       "      <th>value</th>\n",
       "    </tr>\n",
       "  </thead>\n",
       "  <tbody>\n",
       "    <tr>\n",
       "      <th>0</th>\n",
       "      <td>2009-04-07</td>\n",
       "      <td>Negative</td>\n",
       "      <td>6335.356322</td>\n",
       "    </tr>\n",
       "    <tr>\n",
       "      <th>1</th>\n",
       "      <td>2009-04-07</td>\n",
       "      <td>Neutral</td>\n",
       "      <td>11175.943748</td>\n",
       "    </tr>\n",
       "    <tr>\n",
       "      <th>2</th>\n",
       "      <td>2009-04-07</td>\n",
       "      <td>Positive</td>\n",
       "      <td>14153.690556</td>\n",
       "    </tr>\n",
       "    <tr>\n",
       "      <th>3</th>\n",
       "      <td>2009-04-08</td>\n",
       "      <td>Negative</td>\n",
       "      <td>7428.065476</td>\n",
       "    </tr>\n",
       "    <tr>\n",
       "      <th>4</th>\n",
       "      <td>2009-04-08</td>\n",
       "      <td>Neutral</td>\n",
       "      <td>13479.976687</td>\n",
       "    </tr>\n",
       "  </tbody>\n",
       "</table>\n",
       "</div>"
      ],
      "text/plain": [
       "   timestamp  variable         value\n",
       "0 2009-04-07  Negative   6335.356322\n",
       "1 2009-04-07   Neutral  11175.943748\n",
       "2 2009-04-07  Positive  14153.690556\n",
       "3 2009-04-08  Negative   7428.065476\n",
       "4 2009-04-08   Neutral  13479.976687"
      ]
     },
     "execution_count": 32,
     "metadata": {},
     "output_type": "execute_result"
    }
   ],
   "source": [
    "# Melt sentiment counts to show sentiment for each hour\n",
    "db_sentiment_sum = pd.melt(db_sentiment_sum, id_vars='timestamp').sort_values(by=['timestamp','variable'], ignore_index=True)\n",
    "db_sentiment_sum.head()"
   ]
  },
  {
   "cell_type": "code",
   "execution_count": 33,
   "id": "34e3bcb7",
   "metadata": {},
   "outputs": [
    {
     "name": "stderr",
     "output_type": "stream",
     "text": [
      "WARNING:param.ParamFunction02487: The function 'evaluate' does not have any dependencies and will never update. Are you sure you did not intend to depend on or bind a parameter or widget to this function? If not simply call the function before passing it to Panel. Otherwise, when passing a parameter as an argument, ensure you pass at least one parameter and reference the actual parameter object not the current value, i.e. use object.param.parameter not object.parameter.\n"
     ]
    },
    {
     "data": {},
     "metadata": {},
     "output_type": "display_data"
    },
    {
     "data": {
      "application/vnd.holoviews_exec.v0+json": "",
      "text/html": [
       "<div id='1693'>\n",
       "  <div class=\"bk-root\" id=\"8fad8c28-c954-4260-ba7d-334695fc35e7\" data-root-id=\"1693\"></div>\n",
       "</div>\n",
       "<script type=\"application/javascript\">(function(root) {\n",
       "  function embed_document(root) {\n",
       "    var docs_json = {\"213704bd-6128-437a-8fba-b191f5d3e444\":{\"defs\":[{\"extends\":null,\"module\":null,\"name\":\"ReactiveHTML1\",\"overrides\":[],\"properties\":[]},{\"extends\":null,\"module\":null,\"name\":\"FlexBox1\",\"overrides\":[],\"properties\":[{\"default\":\"flex-start\",\"kind\":null,\"name\":\"align_content\"},{\"default\":\"flex-start\",\"kind\":null,\"name\":\"align_items\"},{\"default\":\"row\",\"kind\":null,\"name\":\"flex_direction\"},{\"default\":\"wrap\",\"kind\":null,\"name\":\"flex_wrap\"},{\"default\":\"flex-start\",\"kind\":null,\"name\":\"justify_content\"}]},{\"extends\":null,\"module\":null,\"name\":\"GridStack1\",\"overrides\":[],\"properties\":[{\"default\":\"warn\",\"kind\":null,\"name\":\"mode\"},{\"default\":null,\"kind\":null,\"name\":\"ncols\"},{\"default\":null,\"kind\":null,\"name\":\"nrows\"},{\"default\":true,\"kind\":null,\"name\":\"allow_resize\"},{\"default\":true,\"kind\":null,\"name\":\"allow_drag\"},{\"default\":[],\"kind\":null,\"name\":\"state\"}]},{\"extends\":null,\"module\":null,\"name\":\"click1\",\"overrides\":[],\"properties\":[{\"default\":\"\",\"kind\":null,\"name\":\"terminal_output\"},{\"default\":\"\",\"kind\":null,\"name\":\"debug_name\"},{\"default\":0,\"kind\":null,\"name\":\"clears\"}]},{\"extends\":null,\"module\":null,\"name\":\"NotificationAreaBase1\",\"overrides\":[],\"properties\":[{\"default\":\"bottom-right\",\"kind\":null,\"name\":\"position\"},{\"default\":0,\"kind\":null,\"name\":\"_clear\"}]},{\"extends\":null,\"module\":null,\"name\":\"NotificationArea1\",\"overrides\":[],\"properties\":[{\"default\":[],\"kind\":null,\"name\":\"notifications\"},{\"default\":\"bottom-right\",\"kind\":null,\"name\":\"position\"},{\"default\":0,\"kind\":null,\"name\":\"_clear\"},{\"default\":[{\"background\":\"#ffc107\",\"icon\":{\"className\":\"fas fa-exclamation-triangle\",\"color\":\"white\",\"tagName\":\"i\"},\"type\":\"warning\"},{\"background\":\"#007bff\",\"icon\":{\"className\":\"fas fa-info-circle\",\"color\":\"white\",\"tagName\":\"i\"},\"type\":\"info\"}],\"kind\":null,\"name\":\"types\"}]},{\"extends\":null,\"module\":null,\"name\":\"Notification\",\"overrides\":[],\"properties\":[{\"default\":null,\"kind\":null,\"name\":\"background\"},{\"default\":3000,\"kind\":null,\"name\":\"duration\"},{\"default\":null,\"kind\":null,\"name\":\"icon\"},{\"default\":\"\",\"kind\":null,\"name\":\"message\"},{\"default\":null,\"kind\":null,\"name\":\"notification_type\"},{\"default\":false,\"kind\":null,\"name\":\"_destroyed\"}]},{\"extends\":null,\"module\":null,\"name\":\"TemplateActions1\",\"overrides\":[],\"properties\":[{\"default\":0,\"kind\":null,\"name\":\"open_modal\"},{\"default\":0,\"kind\":null,\"name\":\"close_modal\"}]},{\"extends\":null,\"module\":null,\"name\":\"MaterialTemplateActions1\",\"overrides\":[],\"properties\":[{\"default\":0,\"kind\":null,\"name\":\"open_modal\"},{\"default\":0,\"kind\":null,\"name\":\"close_modal\"}]}],\"roots\":{\"references\":[{\"attributes\":{\"margin\":[0,0,0,0],\"name\":\"Column02486\"},\"id\":\"1696\",\"type\":\"Column\"},{\"attributes\":{\"margin\":[5,5,5,5],\"name\":\"DataFrame02502\",\"text\":\"&lt;table border=&quot;0&quot; class=&quot;dataframe panel-df&quot;&gt;\\n  &lt;thead&gt;\\n    &lt;tr style=&quot;text-align: right;&quot;&gt;\\n      &lt;th&gt;&lt;/th&gt;\\n      &lt;th&gt;timestamp&lt;/th&gt;\\n      &lt;th&gt;variable&lt;/th&gt;\\n      &lt;th&gt;value&lt;/th&gt;\\n    &lt;/tr&gt;\\n  &lt;/thead&gt;\\n  &lt;tbody&gt;\\n    &lt;tr&gt;\\n      &lt;th&gt;0&lt;/th&gt;\\n      &lt;td&gt;2009-04-07&lt;/td&gt;\\n      &lt;td&gt;Negative&lt;/td&gt;\\n      &lt;td&gt;6335.356322&lt;/td&gt;\\n    &lt;/tr&gt;\\n    &lt;tr&gt;\\n      &lt;th&gt;1&lt;/th&gt;\\n      &lt;td&gt;2009-04-07&lt;/td&gt;\\n      &lt;td&gt;Neutral&lt;/td&gt;\\n      &lt;td&gt;11175.943748&lt;/td&gt;\\n    &lt;/tr&gt;\\n    &lt;tr&gt;\\n      &lt;th&gt;2&lt;/th&gt;\\n      &lt;td&gt;2009-04-07&lt;/td&gt;\\n      &lt;td&gt;Positive&lt;/td&gt;\\n      &lt;td&gt;14153.690556&lt;/td&gt;\\n    &lt;/tr&gt;\\n    &lt;tr&gt;\\n      &lt;th&gt;3&lt;/th&gt;\\n      &lt;td&gt;2009-04-08&lt;/td&gt;\\n      &lt;td&gt;Negative&lt;/td&gt;\\n      &lt;td&gt;7428.065476&lt;/td&gt;\\n    &lt;/tr&gt;\\n    &lt;tr&gt;\\n      &lt;th&gt;4&lt;/th&gt;\\n      &lt;td&gt;2009-04-08&lt;/td&gt;\\n      &lt;td&gt;Neutral&lt;/td&gt;\\n      &lt;td&gt;13479.976687&lt;/td&gt;\\n    &lt;/tr&gt;\\n  &lt;/tbody&gt;\\n&lt;/table&gt;\"},\"id\":\"1699\",\"type\":\"panel.models.markup.HTML\"},{\"attributes\":{\"children\":[{\"id\":\"1695\"},{\"id\":\"1698\"}],\"margin\":[0,0,0,0],\"name\":\"Column02506\"},\"id\":\"1694\",\"type\":\"Column\"},{\"attributes\":{\"margin\":[5,5,5,5],\"name\":\"HSpacer02504\",\"sizing_mode\":\"stretch_width\"},\"id\":\"1697\",\"type\":\"Spacer\"},{\"attributes\":{\"children\":[{\"id\":\"1696\"},{\"id\":\"1697\"}],\"margin\":[0,0,0,0],\"name\":\"Row02505\"},\"id\":\"1695\",\"type\":\"Row\"},{\"attributes\":{\"children\":[{\"id\":\"1699\"}],\"margin\":[0,0,0,0],\"name\":\"Row02491\"},\"id\":\"1698\",\"type\":\"Row\"},{\"attributes\":{\"client_comm_id\":\"5a84909d8a0a499ab7289e7f7b039c88\",\"comm_id\":\"0219b3e966fd4bc89496c5ed08ed7d6d\",\"plot_id\":\"1693\"},\"id\":\"1700\",\"type\":\"panel.models.comm_manager.CommManager\"},{\"attributes\":{\"children\":[{\"id\":\"1694\"}],\"margin\":[0,0,0,0],\"name\":\"Row02507\"},\"id\":\"1693\",\"type\":\"Row\"}],\"root_ids\":[\"1693\",\"1700\"]},\"title\":\"Bokeh Application\",\"version\":\"2.4.3\"}};\n",
       "    var render_items = [{\"docid\":\"213704bd-6128-437a-8fba-b191f5d3e444\",\"root_ids\":[\"1693\"],\"roots\":{\"1693\":\"8fad8c28-c954-4260-ba7d-334695fc35e7\"}}];\n",
       "    root.Bokeh.embed.embed_items_notebook(docs_json, render_items);\n",
       "  }\n",
       "  if (root.Bokeh !== undefined && root.Bokeh.Panel !== undefined && ( root['Tabulator'] !== undefined)) {\n",
       "    embed_document(root);\n",
       "  } else {\n",
       "    var attempts = 0;\n",
       "    var timer = setInterval(function(root) {\n",
       "      if (root.Bokeh !== undefined && root.Bokeh.Panel !== undefined && (root['Tabulator'] !== undefined)) {\n",
       "        clearInterval(timer);\n",
       "        embed_document(root);\n",
       "      } else if (document.readyState == \"complete\") {\n",
       "        attempts++;\n",
       "        if (attempts > 200) {\n",
       "          clearInterval(timer);\n",
       "          console.log(\"Bokeh: ERROR: Unable to run BokehJS code because BokehJS library is missing\");\n",
       "        }\n",
       "      }\n",
       "    }, 25, root)\n",
       "  }\n",
       "})(window);</script>"
      ],
      "text/plain": [
       "<hvplot.interactive.Interactive at 0x18e7ec0e250>"
      ]
     },
     "execution_count": 33,
     "metadata": {
      "application/vnd.holoviews_exec.v0+json": {
       "id": "1693"
      }
     },
     "output_type": "execute_result"
    }
   ],
   "source": [
    "# Define interactive dataframe for sentiment counts\n",
    "idb_sentiment_sum = db_sentiment_sum.interactive()\n",
    "idb_sentiment_sum.head()"
   ]
  },
  {
   "cell_type": "code",
   "execution_count": 34,
   "id": "df9fe58d",
   "metadata": {},
   "outputs": [
    {
     "name": "stderr",
     "output_type": "stream",
     "text": [
      "WARNING:param.ParamFunction02571: The function 'evaluate' does not have any dependencies and will never update. Are you sure you did not intend to depend on or bind a parameter or widget to this function? If not simply call the function before passing it to Panel. Otherwise, when passing a parameter as an argument, ensure you pass at least one parameter and reference the actual parameter object not the current value, i.e. use object.param.parameter not object.parameter.\n"
     ]
    },
    {
     "data": {},
     "metadata": {},
     "output_type": "display_data"
    },
    {
     "data": {
      "application/vnd.holoviews_exec.v0+json": "",
      "text/html": [
       "<div id='1701'>\n",
       "  <div class=\"bk-root\" id=\"5212b33a-2d5c-4404-b8a6-e25ca67de126\" data-root-id=\"1701\"></div>\n",
       "</div>\n",
       "<script type=\"application/javascript\">(function(root) {\n",
       "  function embed_document(root) {\n",
       "    var docs_json = {\"c3680674-7393-4671-ae82-cdb68825db41\":{\"defs\":[{\"extends\":null,\"module\":null,\"name\":\"ReactiveHTML1\",\"overrides\":[],\"properties\":[]},{\"extends\":null,\"module\":null,\"name\":\"FlexBox1\",\"overrides\":[],\"properties\":[{\"default\":\"flex-start\",\"kind\":null,\"name\":\"align_content\"},{\"default\":\"flex-start\",\"kind\":null,\"name\":\"align_items\"},{\"default\":\"row\",\"kind\":null,\"name\":\"flex_direction\"},{\"default\":\"wrap\",\"kind\":null,\"name\":\"flex_wrap\"},{\"default\":\"flex-start\",\"kind\":null,\"name\":\"justify_content\"}]},{\"extends\":null,\"module\":null,\"name\":\"GridStack1\",\"overrides\":[],\"properties\":[{\"default\":\"warn\",\"kind\":null,\"name\":\"mode\"},{\"default\":null,\"kind\":null,\"name\":\"ncols\"},{\"default\":null,\"kind\":null,\"name\":\"nrows\"},{\"default\":true,\"kind\":null,\"name\":\"allow_resize\"},{\"default\":true,\"kind\":null,\"name\":\"allow_drag\"},{\"default\":[],\"kind\":null,\"name\":\"state\"}]},{\"extends\":null,\"module\":null,\"name\":\"click1\",\"overrides\":[],\"properties\":[{\"default\":\"\",\"kind\":null,\"name\":\"terminal_output\"},{\"default\":\"\",\"kind\":null,\"name\":\"debug_name\"},{\"default\":0,\"kind\":null,\"name\":\"clears\"}]},{\"extends\":null,\"module\":null,\"name\":\"NotificationAreaBase1\",\"overrides\":[],\"properties\":[{\"default\":\"bottom-right\",\"kind\":null,\"name\":\"position\"},{\"default\":0,\"kind\":null,\"name\":\"_clear\"}]},{\"extends\":null,\"module\":null,\"name\":\"NotificationArea1\",\"overrides\":[],\"properties\":[{\"default\":[],\"kind\":null,\"name\":\"notifications\"},{\"default\":\"bottom-right\",\"kind\":null,\"name\":\"position\"},{\"default\":0,\"kind\":null,\"name\":\"_clear\"},{\"default\":[{\"background\":\"#ffc107\",\"icon\":{\"className\":\"fas fa-exclamation-triangle\",\"color\":\"white\",\"tagName\":\"i\"},\"type\":\"warning\"},{\"background\":\"#007bff\",\"icon\":{\"className\":\"fas fa-info-circle\",\"color\":\"white\",\"tagName\":\"i\"},\"type\":\"info\"}],\"kind\":null,\"name\":\"types\"}]},{\"extends\":null,\"module\":null,\"name\":\"Notification\",\"overrides\":[],\"properties\":[{\"default\":null,\"kind\":null,\"name\":\"background\"},{\"default\":3000,\"kind\":null,\"name\":\"duration\"},{\"default\":null,\"kind\":null,\"name\":\"icon\"},{\"default\":\"\",\"kind\":null,\"name\":\"message\"},{\"default\":null,\"kind\":null,\"name\":\"notification_type\"},{\"default\":false,\"kind\":null,\"name\":\"_destroyed\"}]},{\"extends\":null,\"module\":null,\"name\":\"TemplateActions1\",\"overrides\":[],\"properties\":[{\"default\":0,\"kind\":null,\"name\":\"open_modal\"},{\"default\":0,\"kind\":null,\"name\":\"close_modal\"}]},{\"extends\":null,\"module\":null,\"name\":\"MaterialTemplateActions1\",\"overrides\":[],\"properties\":[{\"default\":0,\"kind\":null,\"name\":\"open_modal\"},{\"default\":0,\"kind\":null,\"name\":\"close_modal\"}]}],\"roots\":{\"references\":[{\"attributes\":{\"children\":[{\"id\":\"1702\"}],\"margin\":[0,0,0,0],\"name\":\"Row02591\"},\"id\":\"1701\",\"type\":\"Row\"},{\"attributes\":{\"margin\":[0,0,0,0],\"name\":\"Column02570\"},\"id\":\"1704\",\"type\":\"Column\"},{\"attributes\":{\"margin\":[5,5,5,5],\"name\":\"DataFrame02586\",\"text\":\"&lt;table border=&quot;0&quot; class=&quot;dataframe panel-df&quot;&gt;\\n  &lt;thead&gt;\\n    &lt;tr style=&quot;text-align: right;&quot;&gt;\\n      &lt;th&gt;&lt;/th&gt;\\n      &lt;th&gt;Timestamp&lt;/th&gt;\\n      &lt;th&gt;Sentiment&lt;/th&gt;\\n      &lt;th&gt;Totals&lt;/th&gt;\\n    &lt;/tr&gt;\\n  &lt;/thead&gt;\\n  &lt;tbody&gt;\\n    &lt;tr&gt;\\n      &lt;th&gt;0&lt;/th&gt;\\n      &lt;td&gt;2009-04-07&lt;/td&gt;\\n      &lt;td&gt;Negative&lt;/td&gt;\\n      &lt;td&gt;6335.356322&lt;/td&gt;\\n    &lt;/tr&gt;\\n    &lt;tr&gt;\\n      &lt;th&gt;1&lt;/th&gt;\\n      &lt;td&gt;2009-04-07&lt;/td&gt;\\n      &lt;td&gt;Neutral&lt;/td&gt;\\n      &lt;td&gt;11175.943748&lt;/td&gt;\\n    &lt;/tr&gt;\\n    &lt;tr&gt;\\n      &lt;th&gt;2&lt;/th&gt;\\n      &lt;td&gt;2009-04-07&lt;/td&gt;\\n      &lt;td&gt;Positive&lt;/td&gt;\\n      &lt;td&gt;14153.690556&lt;/td&gt;\\n    &lt;/tr&gt;\\n    &lt;tr&gt;\\n      &lt;th&gt;3&lt;/th&gt;\\n      &lt;td&gt;2009-04-08&lt;/td&gt;\\n      &lt;td&gt;Negative&lt;/td&gt;\\n      &lt;td&gt;7428.065476&lt;/td&gt;\\n    &lt;/tr&gt;\\n    &lt;tr&gt;\\n      &lt;th&gt;4&lt;/th&gt;\\n      &lt;td&gt;2009-04-08&lt;/td&gt;\\n      &lt;td&gt;Neutral&lt;/td&gt;\\n      &lt;td&gt;13479.976687&lt;/td&gt;\\n    &lt;/tr&gt;\\n  &lt;/tbody&gt;\\n&lt;/table&gt;\"},\"id\":\"1707\",\"type\":\"panel.models.markup.HTML\"},{\"attributes\":{\"children\":[{\"id\":\"1703\"},{\"id\":\"1706\"}],\"margin\":[0,0,0,0],\"name\":\"Column02590\"},\"id\":\"1702\",\"type\":\"Column\"},{\"attributes\":{\"margin\":[5,5,5,5],\"name\":\"HSpacer02588\",\"sizing_mode\":\"stretch_width\"},\"id\":\"1705\",\"type\":\"Spacer\"},{\"attributes\":{\"children\":[{\"id\":\"1704\"},{\"id\":\"1705\"}],\"margin\":[0,0,0,0],\"name\":\"Row02589\"},\"id\":\"1703\",\"type\":\"Row\"},{\"attributes\":{\"children\":[{\"id\":\"1707\"}],\"margin\":[0,0,0,0],\"name\":\"Row02575\"},\"id\":\"1706\",\"type\":\"Row\"},{\"attributes\":{\"client_comm_id\":\"c5d6dc1f9ed7450a9ffdfe5a95e5c9b8\",\"comm_id\":\"38e667b6794640cfa24af1336db4afc0\",\"plot_id\":\"1701\"},\"id\":\"1708\",\"type\":\"panel.models.comm_manager.CommManager\"}],\"root_ids\":[\"1701\",\"1708\"]},\"title\":\"Bokeh Application\",\"version\":\"2.4.3\"}};\n",
       "    var render_items = [{\"docid\":\"c3680674-7393-4671-ae82-cdb68825db41\",\"root_ids\":[\"1701\"],\"roots\":{\"1701\":\"5212b33a-2d5c-4404-b8a6-e25ca67de126\"}}];\n",
       "    root.Bokeh.embed.embed_items_notebook(docs_json, render_items);\n",
       "  }\n",
       "  if (root.Bokeh !== undefined && root.Bokeh.Panel !== undefined && ( root['Tabulator'] !== undefined)) {\n",
       "    embed_document(root);\n",
       "  } else {\n",
       "    var attempts = 0;\n",
       "    var timer = setInterval(function(root) {\n",
       "      if (root.Bokeh !== undefined && root.Bokeh.Panel !== undefined && (root['Tabulator'] !== undefined)) {\n",
       "        clearInterval(timer);\n",
       "        embed_document(root);\n",
       "      } else if (document.readyState == \"complete\") {\n",
       "        attempts++;\n",
       "        if (attempts > 200) {\n",
       "          clearInterval(timer);\n",
       "          console.log(\"Bokeh: ERROR: Unable to run BokehJS code because BokehJS library is missing\");\n",
       "        }\n",
       "      }\n",
       "    }, 25, root)\n",
       "  }\n",
       "})(window);</script>"
      ],
      "text/plain": [
       "<hvplot.interactive.Interactive at 0x18e7ec34d90>"
      ]
     },
     "execution_count": 34,
     "metadata": {
      "application/vnd.holoviews_exec.v0+json": {
       "id": "1701"
      }
     },
     "output_type": "execute_result"
    }
   ],
   "source": [
    "# Rename columns and show results\n",
    "idb_sentiment_sum = idb_sentiment_sum.rename(columns = {'variable':'Sentiment', 'timestamp':'Timestamp', 'value':'Totals'})\n",
    "idb_sentiment_sum.head()"
   ]
  },
  {
   "cell_type": "code",
   "execution_count": 36,
   "id": "3a615844",
   "metadata": {},
   "outputs": [],
   "source": [
    "# Create pipeline for sentiment counts\n",
    "totals_pipeline = (\n",
    "    idb_sentiment_sum[\n",
    "        (idb_sentiment_sum.Timestamp.dt.date == day_slider)\n",
    "    ]\n",
    "    .groupby(['Timestamp','Sentiment'])['Totals']\n",
    "    .sum()\n",
    "    .to_frame()     \n",
    "    )"
   ]
  },
  {
   "cell_type": "code",
   "execution_count": 37,
   "id": "aed3fd85",
   "metadata": {},
   "outputs": [
    {
     "data": {},
     "metadata": {},
     "output_type": "display_data"
    },
    {
     "data": {
      "application/vnd.holoviews_exec.v0+json": "",
      "text/html": [
       "<div id='1709'>\n",
       "  <div class=\"bk-root\" id=\"6f580ecc-8f5e-44a6-ab8e-73574e7086c4\" data-root-id=\"1709\"></div>\n",
       "</div>\n",
       "<script type=\"application/javascript\">(function(root) {\n",
       "  function embed_document(root) {\n",
       "    var docs_json = {\"e39ccaa4-a0a1-424f-a2bf-43a17aeb2d6d\":{\"defs\":[{\"extends\":null,\"module\":null,\"name\":\"ReactiveHTML1\",\"overrides\":[],\"properties\":[]},{\"extends\":null,\"module\":null,\"name\":\"FlexBox1\",\"overrides\":[],\"properties\":[{\"default\":\"flex-start\",\"kind\":null,\"name\":\"align_content\"},{\"default\":\"flex-start\",\"kind\":null,\"name\":\"align_items\"},{\"default\":\"row\",\"kind\":null,\"name\":\"flex_direction\"},{\"default\":\"wrap\",\"kind\":null,\"name\":\"flex_wrap\"},{\"default\":\"flex-start\",\"kind\":null,\"name\":\"justify_content\"}]},{\"extends\":null,\"module\":null,\"name\":\"GridStack1\",\"overrides\":[],\"properties\":[{\"default\":\"warn\",\"kind\":null,\"name\":\"mode\"},{\"default\":null,\"kind\":null,\"name\":\"ncols\"},{\"default\":null,\"kind\":null,\"name\":\"nrows\"},{\"default\":true,\"kind\":null,\"name\":\"allow_resize\"},{\"default\":true,\"kind\":null,\"name\":\"allow_drag\"},{\"default\":[],\"kind\":null,\"name\":\"state\"}]},{\"extends\":null,\"module\":null,\"name\":\"click1\",\"overrides\":[],\"properties\":[{\"default\":\"\",\"kind\":null,\"name\":\"terminal_output\"},{\"default\":\"\",\"kind\":null,\"name\":\"debug_name\"},{\"default\":0,\"kind\":null,\"name\":\"clears\"}]},{\"extends\":null,\"module\":null,\"name\":\"NotificationAreaBase1\",\"overrides\":[],\"properties\":[{\"default\":\"bottom-right\",\"kind\":null,\"name\":\"position\"},{\"default\":0,\"kind\":null,\"name\":\"_clear\"}]},{\"extends\":null,\"module\":null,\"name\":\"NotificationArea1\",\"overrides\":[],\"properties\":[{\"default\":[],\"kind\":null,\"name\":\"notifications\"},{\"default\":\"bottom-right\",\"kind\":null,\"name\":\"position\"},{\"default\":0,\"kind\":null,\"name\":\"_clear\"},{\"default\":[{\"background\":\"#ffc107\",\"icon\":{\"className\":\"fas fa-exclamation-triangle\",\"color\":\"white\",\"tagName\":\"i\"},\"type\":\"warning\"},{\"background\":\"#007bff\",\"icon\":{\"className\":\"fas fa-info-circle\",\"color\":\"white\",\"tagName\":\"i\"},\"type\":\"info\"}],\"kind\":null,\"name\":\"types\"}]},{\"extends\":null,\"module\":null,\"name\":\"Notification\",\"overrides\":[],\"properties\":[{\"default\":null,\"kind\":null,\"name\":\"background\"},{\"default\":3000,\"kind\":null,\"name\":\"duration\"},{\"default\":null,\"kind\":null,\"name\":\"icon\"},{\"default\":\"\",\"kind\":null,\"name\":\"message\"},{\"default\":null,\"kind\":null,\"name\":\"notification_type\"},{\"default\":false,\"kind\":null,\"name\":\"_destroyed\"}]},{\"extends\":null,\"module\":null,\"name\":\"TemplateActions1\",\"overrides\":[],\"properties\":[{\"default\":0,\"kind\":null,\"name\":\"open_modal\"},{\"default\":0,\"kind\":null,\"name\":\"close_modal\"}]},{\"extends\":null,\"module\":null,\"name\":\"MaterialTemplateActions1\",\"overrides\":[],\"properties\":[{\"default\":0,\"kind\":null,\"name\":\"open_modal\"},{\"default\":0,\"kind\":null,\"name\":\"close_modal\"}]}],\"roots\":{\"references\":[{\"attributes\":{\"client_comm_id\":\"ee95688cbc0e4d3e82cb5d93d3de89a5\",\"comm_id\":\"268de1874c4343368758e7d8ef11b737\",\"plot_id\":\"1709\"},\"id\":\"1717\",\"type\":\"panel.models.comm_manager.CommManager\"},{\"attributes\":{\"children\":[{\"id\":\"1710\"}],\"margin\":[0,0,0,0],\"name\":\"Row02834\"},\"id\":\"1709\",\"type\":\"Row\"},{\"attributes\":{\"children\":[{\"id\":\"1713\"}],\"margin\":[0,0,0,0],\"name\":\"Column02810\"},\"id\":\"1712\",\"type\":\"Column\"},{\"attributes\":{\"children\":[{\"id\":\"1711\"},{\"id\":\"1715\"}],\"margin\":[0,0,0,0],\"name\":\"Column02833\"},\"id\":\"1710\",\"type\":\"Column\"},{\"attributes\":{\"children\":[{\"id\":\"1716\"}],\"margin\":[0,0,0,0],\"name\":\"Row02815\"},\"id\":\"1715\",\"type\":\"Row\"},{\"attributes\":{\"children\":[{\"id\":\"1712\"},{\"id\":\"1714\"}],\"margin\":[0,0,0,0],\"name\":\"Row02832\"},\"id\":\"1711\",\"type\":\"Row\"},{\"attributes\":{\"margin\":[5,5,5,5],\"name\":\"DataFrame02829\",\"text\":\"&lt;table border=&quot;0&quot; class=&quot;dataframe panel-df&quot;&gt;\\n  &lt;thead&gt;\\n    &lt;tr style=&quot;text-align: right;&quot;&gt;\\n      &lt;th&gt;&lt;/th&gt;\\n      &lt;th&gt;&lt;/th&gt;\\n      &lt;th&gt;Totals&lt;/th&gt;\\n    &lt;/tr&gt;\\n    &lt;tr&gt;\\n      &lt;th&gt;Timestamp&lt;/th&gt;\\n      &lt;th&gt;Sentiment&lt;/th&gt;\\n      &lt;th&gt;&lt;/th&gt;\\n    &lt;/tr&gt;\\n  &lt;/thead&gt;\\n  &lt;tbody&gt;\\n    &lt;tr&gt;\\n      &lt;th rowspan=&quot;3&quot; valign=&quot;top&quot;&gt;2009-05-07&lt;/th&gt;\\n      &lt;th&gt;Negative&lt;/th&gt;\\n      &lt;td&gt;8184.000000&lt;/td&gt;\\n    &lt;/tr&gt;\\n    &lt;tr&gt;\\n      &lt;th&gt;Neutral&lt;/th&gt;\\n      &lt;td&gt;14513.862595&lt;/td&gt;\\n    &lt;/tr&gt;\\n    &lt;tr&gt;\\n      &lt;th&gt;Positive&lt;/th&gt;\\n      &lt;td&gt;17993.129771&lt;/td&gt;\\n    &lt;/tr&gt;\\n  &lt;/tbody&gt;\\n&lt;/table&gt;\"},\"id\":\"1716\",\"type\":\"panel.models.markup.HTML\"},{\"attributes\":{\"end\":1243814400000.0,\"margin\":[5,10,5,10],\"start\":1239062400000.0,\"title\":\"day slider\",\"value\":1241654400000.0},\"id\":\"1713\",\"type\":\"DateSlider\"},{\"attributes\":{\"margin\":[5,5,5,5],\"name\":\"HSpacer02831\",\"sizing_mode\":\"stretch_width\"},\"id\":\"1714\",\"type\":\"Spacer\"}],\"root_ids\":[\"1709\",\"1717\"]},\"title\":\"Bokeh Application\",\"version\":\"2.4.3\"}};\n",
       "    var render_items = [{\"docid\":\"e39ccaa4-a0a1-424f-a2bf-43a17aeb2d6d\",\"root_ids\":[\"1709\"],\"roots\":{\"1709\":\"6f580ecc-8f5e-44a6-ab8e-73574e7086c4\"}}];\n",
       "    root.Bokeh.embed.embed_items_notebook(docs_json, render_items);\n",
       "  }\n",
       "  if (root.Bokeh !== undefined && root.Bokeh.Panel !== undefined && ( root['Tabulator'] !== undefined)) {\n",
       "    embed_document(root);\n",
       "  } else {\n",
       "    var attempts = 0;\n",
       "    var timer = setInterval(function(root) {\n",
       "      if (root.Bokeh !== undefined && root.Bokeh.Panel !== undefined && (root['Tabulator'] !== undefined)) {\n",
       "        clearInterval(timer);\n",
       "        embed_document(root);\n",
       "      } else if (document.readyState == \"complete\") {\n",
       "        attempts++;\n",
       "        if (attempts > 200) {\n",
       "          clearInterval(timer);\n",
       "          console.log(\"Bokeh: ERROR: Unable to run BokehJS code because BokehJS library is missing\");\n",
       "        }\n",
       "      }\n",
       "    }, 25, root)\n",
       "  }\n",
       "})(window);</script>"
      ],
      "text/plain": [
       "<hvplot.interactive.Interactive at 0x18e7ec6ca00>"
      ]
     },
     "execution_count": 37,
     "metadata": {
      "application/vnd.holoviews_exec.v0+json": {
       "id": "1709"
      }
     },
     "output_type": "execute_result"
    }
   ],
   "source": [
    "# show results\n",
    "totals_pipeline"
   ]
  },
  {
   "cell_type": "code",
   "execution_count": 38,
   "id": "5cf7ae95",
   "metadata": {},
   "outputs": [],
   "source": [
    "# Define sentinment totals plot\n",
    "totals_plot = totals_pipeline.hvplot(kind='bar',\n",
    "                                     title='Sentiment Total counts per day',\n",
    "                                     color=['#fc4f30', '#e5ae38', '#30a2da']\n",
    "                                    )\n"
   ]
  },
  {
   "cell_type": "code",
   "execution_count": 39,
   "id": "f68cd7ae",
   "metadata": {},
   "outputs": [
    {
     "data": {},
     "metadata": {},
     "output_type": "display_data"
    },
    {
     "data": {},
     "metadata": {},
     "output_type": "display_data"
    },
    {
     "data": {
      "application/vnd.holoviews_exec.v0+json": "",
      "text/html": [
       "<div id='1718'>\n",
       "  <div class=\"bk-root\" id=\"8507339a-5a9d-42ea-bf3e-41d2cb585400\" data-root-id=\"1718\"></div>\n",
       "</div>\n",
       "<script type=\"application/javascript\">(function(root) {\n",
       "  function embed_document(root) {\n",
       "    var docs_json = {\"4c07d062-30ec-4658-a99e-50ae2166258b\":{\"defs\":[{\"extends\":null,\"module\":null,\"name\":\"ReactiveHTML1\",\"overrides\":[],\"properties\":[]},{\"extends\":null,\"module\":null,\"name\":\"FlexBox1\",\"overrides\":[],\"properties\":[{\"default\":\"flex-start\",\"kind\":null,\"name\":\"align_content\"},{\"default\":\"flex-start\",\"kind\":null,\"name\":\"align_items\"},{\"default\":\"row\",\"kind\":null,\"name\":\"flex_direction\"},{\"default\":\"wrap\",\"kind\":null,\"name\":\"flex_wrap\"},{\"default\":\"flex-start\",\"kind\":null,\"name\":\"justify_content\"}]},{\"extends\":null,\"module\":null,\"name\":\"GridStack1\",\"overrides\":[],\"properties\":[{\"default\":\"warn\",\"kind\":null,\"name\":\"mode\"},{\"default\":null,\"kind\":null,\"name\":\"ncols\"},{\"default\":null,\"kind\":null,\"name\":\"nrows\"},{\"default\":true,\"kind\":null,\"name\":\"allow_resize\"},{\"default\":true,\"kind\":null,\"name\":\"allow_drag\"},{\"default\":[],\"kind\":null,\"name\":\"state\"}]},{\"extends\":null,\"module\":null,\"name\":\"click1\",\"overrides\":[],\"properties\":[{\"default\":\"\",\"kind\":null,\"name\":\"terminal_output\"},{\"default\":\"\",\"kind\":null,\"name\":\"debug_name\"},{\"default\":0,\"kind\":null,\"name\":\"clears\"}]},{\"extends\":null,\"module\":null,\"name\":\"NotificationAreaBase1\",\"overrides\":[],\"properties\":[{\"default\":\"bottom-right\",\"kind\":null,\"name\":\"position\"},{\"default\":0,\"kind\":null,\"name\":\"_clear\"}]},{\"extends\":null,\"module\":null,\"name\":\"NotificationArea1\",\"overrides\":[],\"properties\":[{\"default\":[],\"kind\":null,\"name\":\"notifications\"},{\"default\":\"bottom-right\",\"kind\":null,\"name\":\"position\"},{\"default\":0,\"kind\":null,\"name\":\"_clear\"},{\"default\":[{\"background\":\"#ffc107\",\"icon\":{\"className\":\"fas fa-exclamation-triangle\",\"color\":\"white\",\"tagName\":\"i\"},\"type\":\"warning\"},{\"background\":\"#007bff\",\"icon\":{\"className\":\"fas fa-info-circle\",\"color\":\"white\",\"tagName\":\"i\"},\"type\":\"info\"}],\"kind\":null,\"name\":\"types\"}]},{\"extends\":null,\"module\":null,\"name\":\"Notification\",\"overrides\":[],\"properties\":[{\"default\":null,\"kind\":null,\"name\":\"background\"},{\"default\":3000,\"kind\":null,\"name\":\"duration\"},{\"default\":null,\"kind\":null,\"name\":\"icon\"},{\"default\":\"\",\"kind\":null,\"name\":\"message\"},{\"default\":null,\"kind\":null,\"name\":\"notification_type\"},{\"default\":false,\"kind\":null,\"name\":\"_destroyed\"}]},{\"extends\":null,\"module\":null,\"name\":\"TemplateActions1\",\"overrides\":[],\"properties\":[{\"default\":0,\"kind\":null,\"name\":\"open_modal\"},{\"default\":0,\"kind\":null,\"name\":\"close_modal\"}]},{\"extends\":null,\"module\":null,\"name\":\"MaterialTemplateActions1\",\"overrides\":[],\"properties\":[{\"default\":0,\"kind\":null,\"name\":\"open_modal\"},{\"default\":0,\"kind\":null,\"name\":\"close_modal\"}]}],\"roots\":{\"references\":[{\"attributes\":{\"coordinates\":null,\"data_source\":{\"id\":\"1758\"},\"glyph\":{\"id\":\"1761\"},\"group\":null,\"hover_glyph\":null,\"muted_glyph\":{\"id\":\"1763\"},\"nonselection_glyph\":{\"id\":\"1762\"},\"selection_glyph\":{\"id\":\"1766\"},\"view\":{\"id\":\"1765\"}},\"id\":\"1764\",\"type\":\"GlyphRenderer\"},{\"attributes\":{\"fill_alpha\":{\"value\":0.1},\"fill_color\":{\"field\":\"Sentiment\",\"transform\":{\"id\":\"1757\"}},\"hatch_alpha\":{\"value\":0.1},\"hatch_color\":{\"field\":\"Sentiment\",\"transform\":{\"id\":\"1757\"}},\"line_alpha\":{\"value\":0.1},\"top\":{\"field\":\"Totals\"},\"width\":{\"value\":0.8},\"x\":{\"field\":\"xoffsets\"}},\"id\":\"1762\",\"type\":\"VBar\"},{\"attributes\":{},\"id\":\"1733\",\"type\":\"CategoricalScale\"},{\"attributes\":{\"fill_alpha\":{\"value\":0.2},\"fill_color\":{\"field\":\"Sentiment\",\"transform\":{\"id\":\"1757\"}},\"hatch_alpha\":{\"value\":0.2},\"hatch_color\":{\"field\":\"Sentiment\",\"transform\":{\"id\":\"1757\"}},\"line_alpha\":{\"value\":0.2},\"top\":{\"field\":\"Totals\"},\"width\":{\"value\":0.8},\"x\":{\"field\":\"xoffsets\"}},\"id\":\"1763\",\"type\":\"VBar\"},{\"attributes\":{\"margin\":[5,5,5,5],\"name\":\"HSpacer03051\",\"sizing_mode\":\"stretch_width\"},\"id\":\"1723\",\"type\":\"Spacer\"},{\"attributes\":{},\"id\":\"1745\",\"type\":\"PanTool\"},{\"attributes\":{},\"id\":\"1771\",\"type\":\"BasicTickFormatter\"},{\"attributes\":{\"axis_label\":\"Totals\",\"coordinates\":null,\"formatter\":{\"id\":\"1771\"},\"group\":null,\"major_label_policy\":{\"id\":\"1772\"},\"ticker\":{\"id\":\"1741\"}},\"id\":\"1740\",\"type\":\"LinearAxis\"},{\"attributes\":{\"axis\":{\"id\":\"1740\"},\"coordinates\":null,\"dimension\":1,\"grid_line_color\":null,\"group\":null,\"ticker\":null},\"id\":\"1743\",\"type\":\"Grid\"},{\"attributes\":{},\"id\":\"1741\",\"type\":\"BasicTicker\"},{\"attributes\":{},\"id\":\"1746\",\"type\":\"WheelZoomTool\"},{\"attributes\":{},\"id\":\"1772\",\"type\":\"AllLabels\"},{\"attributes\":{\"data\":{\"Sentiment\":[\"Negative\",\"Neutral\",\"Positive\"],\"Timestamp\":[\"2009-05-07 00:00:00\",\"2009-05-07 00:00:00\",\"2009-05-07 00:00:00\"],\"Totals\":{\"__ndarray__\":\"AAAAAAD4v0D21oZp7ljMQAv+Kk5IktFA\",\"dtype\":\"float64\",\"order\":\"little\",\"shape\":[3]},\"xoffsets\":[[\"2009-05-07 00:00:00\",\"Negative\"],[\"2009-05-07 00:00:00\",\"Neutral\"],[\"2009-05-07 00:00:00\",\"Positive\"]]},\"selected\":{\"id\":\"1759\"},\"selection_policy\":{\"id\":\"1780\"}},\"id\":\"1758\",\"type\":\"ColumnDataSource\"},{\"attributes\":{},\"id\":\"1744\",\"type\":\"SaveTool\"},{\"attributes\":{\"end\":18974.0427480916,\"reset_end\":18974.0427480916,\"reset_start\":0.0,\"tags\":[[[\"Totals\",\"Totals\",null]]]},\"id\":\"1726\",\"type\":\"Range1d\"},{\"attributes\":{\"bottom\":{\"value\":0},\"fill_alpha\":{\"value\":1.0},\"fill_color\":{\"field\":\"Sentiment\",\"transform\":{\"id\":\"1757\"}},\"hatch_alpha\":{\"value\":1.0},\"hatch_color\":{\"field\":\"Sentiment\",\"transform\":{\"id\":\"1757\"}},\"hatch_scale\":{\"value\":12.0},\"hatch_weight\":{\"value\":1.0},\"line_alpha\":{\"value\":1.0},\"line_cap\":{\"value\":\"butt\"},\"line_color\":{\"value\":\"black\"},\"line_dash\":{\"value\":[]},\"line_dash_offset\":{\"value\":0},\"line_join\":{\"value\":\"bevel\"},\"line_width\":{\"value\":1},\"top\":{\"field\":\"Totals\"},\"width\":{\"value\":0.8},\"x\":{\"field\":\"xoffsets\"}},\"id\":\"1766\",\"type\":\"VBar\"},{\"attributes\":{\"overlay\":{\"id\":\"1749\"}},\"id\":\"1747\",\"type\":\"BoxZoomTool\"},{\"attributes\":{},\"id\":\"1748\",\"type\":\"ResetTool\"},{\"attributes\":{\"bottom_units\":\"screen\",\"coordinates\":null,\"fill_alpha\":0.5,\"fill_color\":\"lightgrey\",\"group\":null,\"left_units\":\"screen\",\"level\":\"overlay\",\"line_alpha\":1.0,\"line_color\":\"black\",\"line_dash\":[4,4],\"line_width\":2,\"right_units\":\"screen\",\"syncable\":false,\"top_units\":\"screen\"},\"id\":\"1749\",\"type\":\"BoxAnnotation\"},{\"attributes\":{},\"id\":\"1768\",\"type\":\"CategoricalTickFormatter\"},{\"attributes\":{\"children\":[{\"id\":\"1728\"}],\"margin\":[0,0,0,0],\"name\":\"Row02950\"},\"id\":\"1724\",\"type\":\"Row\"},{\"attributes\":{},\"id\":\"1769\",\"type\":\"AllLabels\"},{\"attributes\":{},\"id\":\"1759\",\"type\":\"Selection\"},{\"attributes\":{},\"id\":\"1738\",\"type\":\"CategoricalTicker\"},{\"attributes\":{\"factors\":[[\"2009-05-07 00:00:00\",\"Negative\"],[\"2009-05-07 00:00:00\",\"Neutral\"],[\"2009-05-07 00:00:00\",\"Positive\"]],\"tags\":[[[\"Timestamp\",\"Timestamp\",null],[\"Sentiment\",\"Sentiment\",null]]]},\"id\":\"1725\",\"type\":\"FactorRange\"},{\"attributes\":{\"coordinates\":null,\"group\":null,\"text\":\"Sentiment Total counts per day\",\"text_color\":\"black\",\"text_font_size\":\"12pt\"},\"id\":\"1729\",\"type\":\"Title\"},{\"attributes\":{\"children\":[{\"id\":\"1722\"}],\"margin\":[0,0,0,0],\"name\":\"Column02945\"},\"id\":\"1721\",\"type\":\"Column\"},{\"attributes\":{\"children\":[{\"id\":\"1719\"}],\"margin\":[0,0,0,0],\"name\":\"Row03054\"},\"id\":\"1718\",\"type\":\"Row\"},{\"attributes\":{\"children\":[{\"id\":\"1720\"},{\"id\":\"1724\"}],\"margin\":[0,0,0,0],\"name\":\"Column03053\"},\"id\":\"1719\",\"type\":\"Column\"},{\"attributes\":{\"end\":1243814400000.0,\"margin\":[5,10,5,10],\"start\":1239062400000.0,\"title\":\"day slider\",\"value\":1241654400000.0},\"id\":\"1722\",\"type\":\"DateSlider\"},{\"attributes\":{\"tools\":[{\"id\":\"1727\"},{\"id\":\"1744\"},{\"id\":\"1745\"},{\"id\":\"1746\"},{\"id\":\"1747\"},{\"id\":\"1748\"}]},\"id\":\"1750\",\"type\":\"Toolbar\"},{\"attributes\":{\"callback\":null,\"renderers\":[{\"id\":\"1764\"}],\"tags\":[\"hv_created\"],\"tooltips\":[[\"Timestamp\",\"@{Timestamp}\"],[\"Sentiment\",\"@{Sentiment}\"],[\"Totals\",\"@{Totals}\"]]},\"id\":\"1727\",\"type\":\"HoverTool\"},{\"attributes\":{\"client_comm_id\":\"a2d5addb7443470fab5f775bb0510b69\",\"comm_id\":\"7d0f46470f3f44878271498628833647\",\"plot_id\":\"1718\"},\"id\":\"1813\",\"type\":\"panel.models.comm_manager.CommManager\"},{\"attributes\":{},\"id\":\"1780\",\"type\":\"UnionRenderers\"},{\"attributes\":{\"children\":[{\"id\":\"1721\"},{\"id\":\"1723\"}],\"margin\":[0,0,0,0],\"name\":\"Row03052\"},\"id\":\"1720\",\"type\":\"Row\"},{\"attributes\":{\"factors\":[\"Negative\",\"Neutral\",\"Positive\"],\"palette\":[\"#fc4f30\",\"#e5ae38\",\"#30a2da\"]},\"id\":\"1757\",\"type\":\"CategoricalColorMapper\"},{\"attributes\":{\"below\":[{\"id\":\"1737\"}],\"center\":[{\"id\":\"1739\"},{\"id\":\"1743\"}],\"height\":300,\"left\":[{\"id\":\"1740\"}],\"margin\":[5,5,5,5],\"min_border_bottom\":10,\"min_border_left\":10,\"min_border_right\":10,\"min_border_top\":10,\"renderers\":[{\"id\":\"1764\"}],\"sizing_mode\":\"fixed\",\"title\":{\"id\":\"1729\"},\"toolbar\":{\"id\":\"1750\"},\"width\":700,\"x_range\":{\"id\":\"1725\"},\"x_scale\":{\"id\":\"1733\"},\"y_range\":{\"id\":\"1726\"},\"y_scale\":{\"id\":\"1735\"}},\"id\":\"1728\",\"subtype\":\"Figure\",\"type\":\"Plot\"},{\"attributes\":{\"source\":{\"id\":\"1758\"}},\"id\":\"1765\",\"type\":\"CDSView\"},{\"attributes\":{\"fill_color\":{\"field\":\"Sentiment\",\"transform\":{\"id\":\"1757\"}},\"hatch_color\":{\"field\":\"Sentiment\",\"transform\":{\"id\":\"1757\"}},\"top\":{\"field\":\"Totals\"},\"width\":{\"value\":0.8},\"x\":{\"field\":\"xoffsets\"}},\"id\":\"1761\",\"type\":\"VBar\"},{\"attributes\":{\"axis\":{\"id\":\"1737\"},\"coordinates\":null,\"grid_line_color\":null,\"group\":null,\"ticker\":null},\"id\":\"1739\",\"type\":\"Grid\"},{\"attributes\":{\"axis_label\":\"Timestamp, Sentiment\",\"coordinates\":null,\"formatter\":{\"id\":\"1768\"},\"group\":null,\"major_label_policy\":{\"id\":\"1769\"},\"ticker\":{\"id\":\"1738\"}},\"id\":\"1737\",\"type\":\"CategoricalAxis\"},{\"attributes\":{},\"id\":\"1735\",\"type\":\"LinearScale\"}],\"root_ids\":[\"1718\",\"1813\"]},\"title\":\"Bokeh Application\",\"version\":\"2.4.3\"}};\n",
       "    var render_items = [{\"docid\":\"4c07d062-30ec-4658-a99e-50ae2166258b\",\"root_ids\":[\"1718\"],\"roots\":{\"1718\":\"8507339a-5a9d-42ea-bf3e-41d2cb585400\"}}];\n",
       "    root.Bokeh.embed.embed_items_notebook(docs_json, render_items);\n",
       "  }\n",
       "  if (root.Bokeh !== undefined && root.Bokeh.Panel !== undefined && ( root['Tabulator'] !== undefined)) {\n",
       "    embed_document(root);\n",
       "  } else {\n",
       "    var attempts = 0;\n",
       "    var timer = setInterval(function(root) {\n",
       "      if (root.Bokeh !== undefined && root.Bokeh.Panel !== undefined && (root['Tabulator'] !== undefined)) {\n",
       "        clearInterval(timer);\n",
       "        embed_document(root);\n",
       "      } else if (document.readyState == \"complete\") {\n",
       "        attempts++;\n",
       "        if (attempts > 200) {\n",
       "          clearInterval(timer);\n",
       "          console.log(\"Bokeh: ERROR: Unable to run BokehJS code because BokehJS library is missing\");\n",
       "        }\n",
       "      }\n",
       "    }, 25, root)\n",
       "  }\n",
       "})(window);</script>"
      ],
      "text/plain": [
       "<hvplot.interactive.Interactive at 0x18e7ebb0f70>"
      ]
     },
     "execution_count": 39,
     "metadata": {
      "application/vnd.holoviews_exec.v0+json": {
       "id": "1718"
      }
     },
     "output_type": "execute_result"
    }
   ],
   "source": [
    "# plot sentiment totals \n",
    "totals_plot"
   ]
  },
  {
   "cell_type": "code",
   "execution_count": 40,
   "id": "7d745fc2",
   "metadata": {},
   "outputs": [],
   "source": [
    "# Read forecasting models data\n",
    "\n",
    "filepath = \"tweets_output/tweets_pred.csv\"\n",
    "df_pred = pd.read_csv(filepath, parse_dates = True, index_col = 'timestamp')"
   ]
  },
  {
   "cell_type": "code",
   "execution_count": 41,
   "id": "8d257466",
   "metadata": {},
   "outputs": [
    {
     "name": "stdout",
     "output_type": "stream",
     "text": [
      "<class 'pandas.core.frame.DataFrame'>\n",
      "DatetimeIndex: 589 entries, 2009-06-01 06:00:00 to 2009-06-25 18:00:00\n",
      "Data columns (total 5 columns):\n",
      " #   Column        Non-Null Count  Dtype  \n",
      "---  ------        --------------  -----  \n",
      " 0   Unnamed: 0    589 non-null    int64  \n",
      " 1   Actual Value  589 non-null    float64\n",
      " 2   Arma          589 non-null    float64\n",
      " 3   Arima         589 non-null    float64\n",
      " 4   Forecaster    589 non-null    float64\n",
      "dtypes: float64(4), int64(1)\n",
      "memory usage: 27.6 KB\n"
     ]
    }
   ],
   "source": [
    "# Explore data structure\n",
    "df_pred.info()"
   ]
  },
  {
   "cell_type": "code",
   "execution_count": 42,
   "id": "e4c4e59a",
   "metadata": {},
   "outputs": [],
   "source": [
    "# Drop unnecessary columns\n",
    "df_pred = df_pred.drop(columns=['Unnamed: 0'])"
   ]
  },
  {
   "cell_type": "code",
   "execution_count": 43,
   "id": "451a9059",
   "metadata": {},
   "outputs": [],
   "source": [
    "# reset index\n",
    "df_pred = df_pred.reset_index()"
   ]
  },
  {
   "cell_type": "code",
   "execution_count": 44,
   "id": "f5106d2d",
   "metadata": {},
   "outputs": [],
   "source": [
    "# Melt dataframe to show each model predicted data\n",
    "df_pred_melt = pd.melt(df_pred, id_vars = ['timestamp']).sort_values(by=['timestamp','variable'], ignore_index=True)"
   ]
  },
  {
   "cell_type": "code",
   "execution_count": 45,
   "id": "3326a54b",
   "metadata": {},
   "outputs": [],
   "source": [
    "# Define interactive dataframe\n",
    "idf_pred = df_pred_melt.interactive()"
   ]
  },
  {
   "cell_type": "code",
   "execution_count": 46,
   "id": "97a2c661",
   "metadata": {},
   "outputs": [
    {
     "name": "stderr",
     "output_type": "stream",
     "text": [
      "WARNING:param.ParamFunction03177: The function 'evaluate' does not have any dependencies and will never update. Are you sure you did not intend to depend on or bind a parameter or widget to this function? If not simply call the function before passing it to Panel. Otherwise, when passing a parameter as an argument, ensure you pass at least one parameter and reference the actual parameter object not the current value, i.e. use object.param.parameter not object.parameter.\n"
     ]
    },
    {
     "data": {},
     "metadata": {},
     "output_type": "display_data"
    },
    {
     "data": {
      "application/vnd.holoviews_exec.v0+json": "",
      "text/html": [
       "<div id='1864'>\n",
       "  <div class=\"bk-root\" id=\"88be28fe-bf52-4b3d-9090-f36b38823fc1\" data-root-id=\"1864\"></div>\n",
       "</div>\n",
       "<script type=\"application/javascript\">(function(root) {\n",
       "  function embed_document(root) {\n",
       "    var docs_json = {\"e37ebc15-f476-4abb-9788-dd85de7cfc13\":{\"defs\":[{\"extends\":null,\"module\":null,\"name\":\"ReactiveHTML1\",\"overrides\":[],\"properties\":[]},{\"extends\":null,\"module\":null,\"name\":\"FlexBox1\",\"overrides\":[],\"properties\":[{\"default\":\"flex-start\",\"kind\":null,\"name\":\"align_content\"},{\"default\":\"flex-start\",\"kind\":null,\"name\":\"align_items\"},{\"default\":\"row\",\"kind\":null,\"name\":\"flex_direction\"},{\"default\":\"wrap\",\"kind\":null,\"name\":\"flex_wrap\"},{\"default\":\"flex-start\",\"kind\":null,\"name\":\"justify_content\"}]},{\"extends\":null,\"module\":null,\"name\":\"GridStack1\",\"overrides\":[],\"properties\":[{\"default\":\"warn\",\"kind\":null,\"name\":\"mode\"},{\"default\":null,\"kind\":null,\"name\":\"ncols\"},{\"default\":null,\"kind\":null,\"name\":\"nrows\"},{\"default\":true,\"kind\":null,\"name\":\"allow_resize\"},{\"default\":true,\"kind\":null,\"name\":\"allow_drag\"},{\"default\":[],\"kind\":null,\"name\":\"state\"}]},{\"extends\":null,\"module\":null,\"name\":\"click1\",\"overrides\":[],\"properties\":[{\"default\":\"\",\"kind\":null,\"name\":\"terminal_output\"},{\"default\":\"\",\"kind\":null,\"name\":\"debug_name\"},{\"default\":0,\"kind\":null,\"name\":\"clears\"}]},{\"extends\":null,\"module\":null,\"name\":\"NotificationAreaBase1\",\"overrides\":[],\"properties\":[{\"default\":\"bottom-right\",\"kind\":null,\"name\":\"position\"},{\"default\":0,\"kind\":null,\"name\":\"_clear\"}]},{\"extends\":null,\"module\":null,\"name\":\"NotificationArea1\",\"overrides\":[],\"properties\":[{\"default\":[],\"kind\":null,\"name\":\"notifications\"},{\"default\":\"bottom-right\",\"kind\":null,\"name\":\"position\"},{\"default\":0,\"kind\":null,\"name\":\"_clear\"},{\"default\":[{\"background\":\"#ffc107\",\"icon\":{\"className\":\"fas fa-exclamation-triangle\",\"color\":\"white\",\"tagName\":\"i\"},\"type\":\"warning\"},{\"background\":\"#007bff\",\"icon\":{\"className\":\"fas fa-info-circle\",\"color\":\"white\",\"tagName\":\"i\"},\"type\":\"info\"}],\"kind\":null,\"name\":\"types\"}]},{\"extends\":null,\"module\":null,\"name\":\"Notification\",\"overrides\":[],\"properties\":[{\"default\":null,\"kind\":null,\"name\":\"background\"},{\"default\":3000,\"kind\":null,\"name\":\"duration\"},{\"default\":null,\"kind\":null,\"name\":\"icon\"},{\"default\":\"\",\"kind\":null,\"name\":\"message\"},{\"default\":null,\"kind\":null,\"name\":\"notification_type\"},{\"default\":false,\"kind\":null,\"name\":\"_destroyed\"}]},{\"extends\":null,\"module\":null,\"name\":\"TemplateActions1\",\"overrides\":[],\"properties\":[{\"default\":0,\"kind\":null,\"name\":\"open_modal\"},{\"default\":0,\"kind\":null,\"name\":\"close_modal\"}]},{\"extends\":null,\"module\":null,\"name\":\"MaterialTemplateActions1\",\"overrides\":[],\"properties\":[{\"default\":0,\"kind\":null,\"name\":\"open_modal\"},{\"default\":0,\"kind\":null,\"name\":\"close_modal\"}]}],\"roots\":{\"references\":[{\"attributes\":{\"children\":[{\"id\":\"1870\"}],\"margin\":[0,0,0,0],\"name\":\"Row03181\"},\"id\":\"1869\",\"type\":\"Row\"},{\"attributes\":{\"client_comm_id\":\"0696e55ff346457c91f771347aba0c65\",\"comm_id\":\"0fd7561d63494d43b6cf307c6871be80\",\"plot_id\":\"1864\"},\"id\":\"1871\",\"type\":\"panel.models.comm_manager.CommManager\"},{\"attributes\":{\"children\":[{\"id\":\"1865\"}],\"margin\":[0,0,0,0],\"name\":\"Row03197\"},\"id\":\"1864\",\"type\":\"Row\"},{\"attributes\":{\"margin\":[0,0,0,0],\"name\":\"Column03176\"},\"id\":\"1867\",\"type\":\"Column\"},{\"attributes\":{\"margin\":[5,5,5,5],\"name\":\"DataFrame03192\",\"text\":\"&lt;table border=&quot;0&quot; class=&quot;dataframe panel-df&quot;&gt;\\n  &lt;thead&gt;\\n    &lt;tr style=&quot;text-align: right;&quot;&gt;\\n      &lt;th&gt;&lt;/th&gt;\\n      &lt;th&gt;timestamp&lt;/th&gt;\\n      &lt;th&gt;variable&lt;/th&gt;\\n      &lt;th&gt;value&lt;/th&gt;\\n    &lt;/tr&gt;\\n  &lt;/thead&gt;\\n  &lt;tbody&gt;\\n    &lt;tr&gt;\\n      &lt;th&gt;0&lt;/th&gt;\\n      &lt;td&gt;2009-06-01 06:00:00&lt;/td&gt;\\n      &lt;td&gt;Actual Value&lt;/td&gt;\\n      &lt;td&gt;0.279504&lt;/td&gt;\\n    &lt;/tr&gt;\\n    &lt;tr&gt;\\n      &lt;th&gt;1&lt;/th&gt;\\n      &lt;td&gt;2009-06-01 06:00:00&lt;/td&gt;\\n      &lt;td&gt;Arima&lt;/td&gt;\\n      &lt;td&gt;0.280276&lt;/td&gt;\\n    &lt;/tr&gt;\\n    &lt;tr&gt;\\n      &lt;th&gt;2&lt;/th&gt;\\n      &lt;td&gt;2009-06-01 06:00:00&lt;/td&gt;\\n      &lt;td&gt;Arma&lt;/td&gt;\\n      &lt;td&gt;0.279432&lt;/td&gt;\\n    &lt;/tr&gt;\\n    &lt;tr&gt;\\n      &lt;th&gt;3&lt;/th&gt;\\n      &lt;td&gt;2009-06-01 06:00:00&lt;/td&gt;\\n      &lt;td&gt;Forecaster&lt;/td&gt;\\n      &lt;td&gt;0.279147&lt;/td&gt;\\n    &lt;/tr&gt;\\n    &lt;tr&gt;\\n      &lt;th&gt;4&lt;/th&gt;\\n      &lt;td&gt;2009-06-01 07:00:00&lt;/td&gt;\\n      &lt;td&gt;Actual Value&lt;/td&gt;\\n      &lt;td&gt;0.278872&lt;/td&gt;\\n    &lt;/tr&gt;\\n  &lt;/tbody&gt;\\n&lt;/table&gt;\"},\"id\":\"1870\",\"type\":\"panel.models.markup.HTML\"},{\"attributes\":{\"children\":[{\"id\":\"1866\"},{\"id\":\"1869\"}],\"margin\":[0,0,0,0],\"name\":\"Column03196\"},\"id\":\"1865\",\"type\":\"Column\"},{\"attributes\":{\"margin\":[5,5,5,5],\"name\":\"HSpacer03194\",\"sizing_mode\":\"stretch_width\"},\"id\":\"1868\",\"type\":\"Spacer\"},{\"attributes\":{\"children\":[{\"id\":\"1867\"},{\"id\":\"1868\"}],\"margin\":[0,0,0,0],\"name\":\"Row03195\"},\"id\":\"1866\",\"type\":\"Row\"}],\"root_ids\":[\"1864\",\"1871\"]},\"title\":\"Bokeh Application\",\"version\":\"2.4.3\"}};\n",
       "    var render_items = [{\"docid\":\"e37ebc15-f476-4abb-9788-dd85de7cfc13\",\"root_ids\":[\"1864\"],\"roots\":{\"1864\":\"88be28fe-bf52-4b3d-9090-f36b38823fc1\"}}];\n",
       "    root.Bokeh.embed.embed_items_notebook(docs_json, render_items);\n",
       "  }\n",
       "  if (root.Bokeh !== undefined && root.Bokeh.Panel !== undefined && ( root['Tabulator'] !== undefined)) {\n",
       "    embed_document(root);\n",
       "  } else {\n",
       "    var attempts = 0;\n",
       "    var timer = setInterval(function(root) {\n",
       "      if (root.Bokeh !== undefined && root.Bokeh.Panel !== undefined && (root['Tabulator'] !== undefined)) {\n",
       "        clearInterval(timer);\n",
       "        embed_document(root);\n",
       "      } else if (document.readyState == \"complete\") {\n",
       "        attempts++;\n",
       "        if (attempts > 200) {\n",
       "          clearInterval(timer);\n",
       "          console.log(\"Bokeh: ERROR: Unable to run BokehJS code because BokehJS library is missing\");\n",
       "        }\n",
       "      }\n",
       "    }, 25, root)\n",
       "  }\n",
       "})(window);</script>"
      ],
      "text/plain": [
       "<hvplot.interactive.Interactive at 0x18e7ed2a8b0>"
      ]
     },
     "execution_count": 46,
     "metadata": {
      "application/vnd.holoviews_exec.v0+json": {
       "id": "1864"
      }
     },
     "output_type": "execute_result"
    }
   ],
   "source": [
    "# Show results\n",
    "idf_pred.head()"
   ]
  },
  {
   "cell_type": "code",
   "execution_count": 47,
   "id": "e790b413",
   "metadata": {},
   "outputs": [],
   "source": [
    "# Rename columns\n",
    "idf_pred = idf_pred.rename(columns = {'variable':'Model', 'value':'Predicted Score', 'timestamp': 'Prediction timestamp'})"
   ]
  },
  {
   "cell_type": "code",
   "execution_count": 48,
   "id": "205b6286",
   "metadata": {},
   "outputs": [],
   "source": [
    "# Create pipeline for predicted values over time\n",
    "pred_pipeline = (\n",
    "    idf_pred\n",
    "    .groupby(['Model','Prediction timestamp'])['Predicted Score'].sum()\n",
    "    .to_frame()\n",
    "    .reset_index()\n",
    "    .sort_values(by='Prediction timestamp')  \n",
    "    .reset_index(drop=True)\n",
    ")\n"
   ]
  },
  {
   "cell_type": "code",
   "execution_count": 49,
   "id": "45bf8b10",
   "metadata": {},
   "outputs": [],
   "source": [
    "# Define predicted sentiment plot\n",
    "pred_plot= pred_pipeline.hvplot(x='Prediction timestamp', \n",
    "                                by='Model', \n",
    "                                y='Predicted Score', \n",
    "                                line_width=1, \n",
    "                                title=\"Prediction for 3 weeks going forward\"\n",
    "                               )"
   ]
  },
  {
   "cell_type": "code",
   "execution_count": 50,
   "id": "aa00f0dd",
   "metadata": {},
   "outputs": [
    {
     "data": {},
     "metadata": {},
     "output_type": "display_data"
    },
    {
     "data": {},
     "metadata": {},
     "output_type": "display_data"
    },
    {
     "data": {
      "application/vnd.holoviews_exec.v0+json": "",
      "text/html": [
       "<div id='1872'>\n",
       "  <div class=\"bk-root\" id=\"cebd70e0-e62a-4fca-8619-17d98aa683f7\" data-root-id=\"1872\"></div>\n",
       "</div>\n",
       "<script type=\"application/javascript\">(function(root) {\n",
       "  function embed_document(root) {\n",
       "    var docs_json = {\"1ed0f149-647c-4889-b784-bc6b88df6570\":{\"defs\":[{\"extends\":null,\"module\":null,\"name\":\"ReactiveHTML1\",\"overrides\":[],\"properties\":[]},{\"extends\":null,\"module\":null,\"name\":\"FlexBox1\",\"overrides\":[],\"properties\":[{\"default\":\"flex-start\",\"kind\":null,\"name\":\"align_content\"},{\"default\":\"flex-start\",\"kind\":null,\"name\":\"align_items\"},{\"default\":\"row\",\"kind\":null,\"name\":\"flex_direction\"},{\"default\":\"wrap\",\"kind\":null,\"name\":\"flex_wrap\"},{\"default\":\"flex-start\",\"kind\":null,\"name\":\"justify_content\"}]},{\"extends\":null,\"module\":null,\"name\":\"GridStack1\",\"overrides\":[],\"properties\":[{\"default\":\"warn\",\"kind\":null,\"name\":\"mode\"},{\"default\":null,\"kind\":null,\"name\":\"ncols\"},{\"default\":null,\"kind\":null,\"name\":\"nrows\"},{\"default\":true,\"kind\":null,\"name\":\"allow_resize\"},{\"default\":true,\"kind\":null,\"name\":\"allow_drag\"},{\"default\":[],\"kind\":null,\"name\":\"state\"}]},{\"extends\":null,\"module\":null,\"name\":\"click1\",\"overrides\":[],\"properties\":[{\"default\":\"\",\"kind\":null,\"name\":\"terminal_output\"},{\"default\":\"\",\"kind\":null,\"name\":\"debug_name\"},{\"default\":0,\"kind\":null,\"name\":\"clears\"}]},{\"extends\":null,\"module\":null,\"name\":\"NotificationAreaBase1\",\"overrides\":[],\"properties\":[{\"default\":\"bottom-right\",\"kind\":null,\"name\":\"position\"},{\"default\":0,\"kind\":null,\"name\":\"_clear\"}]},{\"extends\":null,\"module\":null,\"name\":\"NotificationArea1\",\"overrides\":[],\"properties\":[{\"default\":[],\"kind\":null,\"name\":\"notifications\"},{\"default\":\"bottom-right\",\"kind\":null,\"name\":\"position\"},{\"default\":0,\"kind\":null,\"name\":\"_clear\"},{\"default\":[{\"background\":\"#ffc107\",\"icon\":{\"className\":\"fas fa-exclamation-triangle\",\"color\":\"white\",\"tagName\":\"i\"},\"type\":\"warning\"},{\"background\":\"#007bff\",\"icon\":{\"className\":\"fas fa-info-circle\",\"color\":\"white\",\"tagName\":\"i\"},\"type\":\"info\"}],\"kind\":null,\"name\":\"types\"}]},{\"extends\":null,\"module\":null,\"name\":\"Notification\",\"overrides\":[],\"properties\":[{\"default\":null,\"kind\":null,\"name\":\"background\"},{\"default\":3000,\"kind\":null,\"name\":\"duration\"},{\"default\":null,\"kind\":null,\"name\":\"icon\"},{\"default\":\"\",\"kind\":null,\"name\":\"message\"},{\"default\":null,\"kind\":null,\"name\":\"notification_type\"},{\"default\":false,\"kind\":null,\"name\":\"_destroyed\"}]},{\"extends\":null,\"module\":null,\"name\":\"TemplateActions1\",\"overrides\":[],\"properties\":[{\"default\":0,\"kind\":null,\"name\":\"open_modal\"},{\"default\":0,\"kind\":null,\"name\":\"close_modal\"}]},{\"extends\":null,\"module\":null,\"name\":\"MaterialTemplateActions1\",\"overrides\":[],\"properties\":[{\"default\":0,\"kind\":null,\"name\":\"open_modal\"},{\"default\":0,\"kind\":null,\"name\":\"close_modal\"}]}],\"roots\":{\"references\":[{\"attributes\":{},\"id\":\"1934\",\"type\":\"UnionRenderers\"},{\"attributes\":{},\"id\":\"2005\",\"type\":\"UnionRenderers\"},{\"attributes\":{\"source\":{\"id\":\"1986\"}},\"id\":\"1993\",\"type\":\"CDSView\"},{\"attributes\":{\"margin\":[5,5,5,5],\"name\":\"HSpacer03601\",\"sizing_mode\":\"stretch_width\"},\"id\":\"1876\",\"type\":\"Spacer\"},{\"attributes\":{\"line_color\":\"#6d904f\",\"x\":{\"field\":\"Prediction timestamp\"},\"y\":{\"field\":\"Predicted Score\"}},\"id\":\"2059\",\"type\":\"Line\"},{\"attributes\":{\"label\":{\"value\":\"Arma\"},\"renderers\":[{\"id\":\"1992\"}]},\"id\":\"2020\",\"type\":\"LegendItem\"},{\"attributes\":{\"bottom_units\":\"screen\",\"coordinates\":null,\"fill_alpha\":0.5,\"fill_color\":\"lightgrey\",\"group\":null,\"left_units\":\"screen\",\"level\":\"overlay\",\"line_alpha\":1.0,\"line_color\":\"black\",\"line_dash\":[4,4],\"line_width\":2,\"right_units\":\"screen\",\"syncable\":false,\"top_units\":\"screen\"},\"id\":\"1905\",\"type\":\"BoxAnnotation\"},{\"attributes\":{\"line_alpha\":0.1,\"line_color\":\"#fc4f30\",\"x\":{\"field\":\"Prediction timestamp\"},\"y\":{\"field\":\"Predicted Score\"}},\"id\":\"1956\",\"type\":\"Line\"},{\"attributes\":{},\"id\":\"1915\",\"type\":\"AllLabels\"},{\"attributes\":{\"line_color\":\"#30a2da\",\"x\":{\"field\":\"Prediction timestamp\"},\"y\":{\"field\":\"Predicted Score\"}},\"id\":\"1951\",\"type\":\"Line\"},{\"attributes\":{\"tools\":[{\"id\":\"1879\"},{\"id\":\"1900\"},{\"id\":\"1901\"},{\"id\":\"1902\"},{\"id\":\"1903\"},{\"id\":\"1904\"}]},\"id\":\"1906\",\"type\":\"Toolbar\"},{\"attributes\":{},\"id\":\"1953\",\"type\":\"Selection\"},{\"attributes\":{\"children\":[{\"id\":\"1873\"}],\"margin\":[0,0,0,0],\"name\":\"Row03609\"},\"id\":\"1872\",\"type\":\"Row\"},{\"attributes\":{},\"id\":\"1914\",\"type\":\"DatetimeTickFormatter\"},{\"attributes\":{\"mantissas\":[1,2,5],\"max_interval\":500.0,\"num_minor_ticks\":0},\"id\":\"1937\",\"type\":\"AdaptiveTicker\"},{\"attributes\":{\"line_color\":\"#fc4f30\",\"x\":{\"field\":\"Prediction timestamp\"},\"y\":{\"field\":\"Predicted Score\"}},\"id\":\"1955\",\"type\":\"Line\"},{\"attributes\":{},\"id\":\"1917\",\"type\":\"BasicTickFormatter\"},{\"attributes\":{\"children\":[{\"id\":\"1874\"},{\"id\":\"1883\"}],\"margin\":[0,0,0,0],\"name\":\"Column03608\"},\"id\":\"1873\",\"type\":\"Column\"},{\"attributes\":{},\"id\":\"1918\",\"type\":\"AllLabels\"},{\"attributes\":{\"base\":60,\"mantissas\":[1,2,5,10,15,20,30],\"max_interval\":1800000.0,\"min_interval\":1000.0,\"num_minor_ticks\":0},\"id\":\"1938\",\"type\":\"AdaptiveTicker\"},{\"attributes\":{\"line_alpha\":0.2,\"line_color\":\"#fc4f30\",\"x\":{\"field\":\"Prediction timestamp\"},\"y\":{\"field\":\"Predicted Score\"}},\"id\":\"1957\",\"type\":\"Line\"},{\"attributes\":{\"line_color\":\"#e5ae38\",\"x\":{\"field\":\"Prediction timestamp\"},\"y\":{\"field\":\"Predicted Score\"}},\"id\":\"2021\",\"type\":\"Line\"},{\"attributes\":{\"base\":24,\"mantissas\":[1,2,4,6,8,12],\"max_interval\":43200000.0,\"min_interval\":3600000.0,\"num_minor_ticks\":0},\"id\":\"1939\",\"type\":\"AdaptiveTicker\"},{\"attributes\":{\"coordinates\":null,\"data_source\":{\"id\":\"1952\"},\"glyph\":{\"id\":\"1955\"},\"group\":null,\"hover_glyph\":null,\"muted_glyph\":{\"id\":\"1957\"},\"nonselection_glyph\":{\"id\":\"1956\"},\"selection_glyph\":{\"id\":\"1985\"},\"view\":{\"id\":\"1959\"}},\"id\":\"1958\",\"type\":\"GlyphRenderer\"},{\"attributes\":{\"source\":{\"id\":\"1952\"}},\"id\":\"1959\",\"type\":\"CDSView\"},{\"attributes\":{\"months\":[0,1,2,3,4,5,6,7,8,9,10,11]},\"id\":\"1944\",\"type\":\"MonthsTicker\"},{\"attributes\":{\"end\":1245952800000.0,\"reset_end\":1245952800000.0,\"reset_start\":1243836000000.0,\"start\":1243836000000.0,\"tags\":[[[\"Prediction timestamp\",\"Prediction timestamp\",null]]]},\"id\":\"1877\",\"type\":\"Range1d\"},{\"attributes\":{\"days\":[1,15]},\"id\":\"1943\",\"type\":\"DaysTicker\"},{\"attributes\":{\"days\":[1,2,3,4,5,6,7,8,9,10,11,12,13,14,15,16,17,18,19,20,21,22,23,24,25,26,27,28,29,30,31]},\"id\":\"1940\",\"type\":\"DaysTicker\"},{\"attributes\":{\"end\":0.37513697759247455,\"reset_end\":0.37513697759247455,\"reset_start\":-0.12313668338332753,\"start\":-0.12313668338332753,\"tags\":[[[\"Predicted Score\",\"Predicted Score\",null]]]},\"id\":\"1878\",\"type\":\"Range1d\"},{\"attributes\":{\"days\":[1,4,7,10,13,16,19,22,25,28]},\"id\":\"1941\",\"type\":\"DaysTicker\"},{\"attributes\":{\"label\":{\"value\":\"Arima\"},\"renderers\":[{\"id\":\"1958\"}]},\"id\":\"1984\",\"type\":\"LegendItem\"},{\"attributes\":{\"months\":[0,6]},\"id\":\"1947\",\"type\":\"MonthsTicker\"},{\"attributes\":{\"days\":[1,8,15,22]},\"id\":\"1942\",\"type\":\"DaysTicker\"},{\"attributes\":{\"label\":{\"value\":\"Actual Value\"},\"renderers\":[{\"id\":\"1925\"}]},\"id\":\"1950\",\"type\":\"LegendItem\"},{\"attributes\":{\"line_color\":\"#6d904f\",\"x\":{\"field\":\"Prediction timestamp\"},\"y\":{\"field\":\"Predicted Score\"}},\"id\":\"2025\",\"type\":\"Line\"},{\"attributes\":{},\"id\":\"1969\",\"type\":\"UnionRenderers\"},{\"attributes\":{\"months\":[0,4,8]},\"id\":\"1946\",\"type\":\"MonthsTicker\"},{\"attributes\":{\"line_alpha\":0.2,\"line_color\":\"#6d904f\",\"x\":{\"field\":\"Prediction timestamp\"},\"y\":{\"field\":\"Predicted Score\"}},\"id\":\"2027\",\"type\":\"Line\"},{\"attributes\":{\"months\":[0,2,4,6,8,10]},\"id\":\"1945\",\"type\":\"MonthsTicker\"},{\"attributes\":{\"line_color\":\"#30a2da\",\"x\":{\"field\":\"Prediction timestamp\"},\"y\":{\"field\":\"Predicted Score\"}},\"id\":\"1922\",\"type\":\"Line\"},{\"attributes\":{},\"id\":\"1948\",\"type\":\"YearsTicker\"},{\"attributes\":{},\"id\":\"2023\",\"type\":\"Selection\"},{\"attributes\":{},\"id\":\"1888\",\"type\":\"LinearScale\"},{\"attributes\":{\"callback\":null,\"formatters\":{\"@{Prediction timestamp}\":\"datetime\",\"@{Prediction_timestamp}\":\"datetime\"},\"renderers\":[{\"id\":\"1925\"},{\"id\":\"1958\"},{\"id\":\"1992\"},{\"id\":\"2028\"}],\"tags\":[\"hv_created\"],\"tooltips\":[[\"Model\",\"@{Model}\"],[\"Prediction timestamp\",\"@{Prediction_timestamp}{%F %T}\"],[\"Predicted Score\",\"@{Predicted_Score}\"]]},\"id\":\"1879\",\"type\":\"HoverTool\"},{\"attributes\":{\"children\":[{\"id\":\"1875\"},{\"id\":\"1876\"}],\"margin\":[0,0,0,0],\"name\":\"Row03602\"},\"id\":\"1874\",\"type\":\"Row\"},{\"attributes\":{\"below\":[{\"id\":\"1892\"}],\"center\":[{\"id\":\"1895\"},{\"id\":\"1899\"}],\"height\":300,\"left\":[{\"id\":\"1896\"}],\"margin\":[5,5,5,5],\"min_border_bottom\":10,\"min_border_left\":10,\"min_border_right\":10,\"min_border_top\":10,\"renderers\":[{\"id\":\"1925\"},{\"id\":\"1958\"},{\"id\":\"1992\"},{\"id\":\"2028\"}],\"right\":[{\"id\":\"1949\"}],\"sizing_mode\":\"fixed\",\"title\":{\"id\":\"1884\"},\"toolbar\":{\"id\":\"1906\"},\"width\":700,\"x_range\":{\"id\":\"1877\"},\"x_scale\":{\"id\":\"1888\"},\"y_range\":{\"id\":\"1878\"},\"y_scale\":{\"id\":\"1890\"}},\"id\":\"1883\",\"subtype\":\"Figure\",\"type\":\"Plot\"},{\"attributes\":{\"axis_label\":\"Predicted Score\",\"coordinates\":null,\"formatter\":{\"id\":\"1917\"},\"group\":null,\"major_label_policy\":{\"id\":\"1918\"},\"ticker\":{\"id\":\"1897\"}},\"id\":\"1896\",\"type\":\"LinearAxis\"},{\"attributes\":{},\"id\":\"1920\",\"type\":\"Selection\"},{\"attributes\":{\"data\":{\"Model\":[\"Arima\",\"Arima\",\"Arima\",\"Arima\",\"Arima\",\"Arima\",\"Arima\",\"Arima\",\"Arima\",\"Arima\",\"Arima\",\"Arima\",\"Arima\",\"Arima\",\"Arima\",\"Arima\",\"Arima\",\"Arima\",\"Arima\",\"Arima\",\"Arima\",\"Arima\",\"Arima\",\"Arima\",\"Arima\",\"Arima\",\"Arima\",\"Arima\",\"Arima\",\"Arima\",\"Arima\",\"Arima\",\"Arima\",\"Arima\",\"Arima\",\"Arima\",\"Arima\",\"Arima\",\"Arima\",\"Arima\",\"Arima\",\"Arima\",\"Arima\",\"Arima\",\"Arima\",\"Arima\",\"Arima\",\"Arima\",\"Arima\",\"Arima\",\"Arima\",\"Arima\",\"Arima\",\"Arima\",\"Arima\",\"Arima\",\"Arima\",\"Arima\",\"Arima\",\"Arima\",\"Arima\",\"Arima\",\"Arima\",\"Arima\",\"Arima\",\"Arima\",\"Arima\",\"Arima\",\"Arima\",\"Arima\",\"Arima\",\"Arima\",\"Arima\",\"Arima\",\"Arima\",\"Arima\",\"Arima\",\"Arima\",\"Arima\",\"Arima\",\"Arima\",\"Arima\",\"Arima\",\"Arima\",\"Arima\",\"Arima\",\"Arima\",\"Arima\",\"Arima\",\"Arima\",\"Arima\",\"Arima\",\"Arima\",\"Arima\",\"Arima\",\"Arima\",\"Arima\",\"Arima\",\"Arima\",\"Arima\",\"Arima\",\"Arima\",\"Arima\",\"Arima\",\"Arima\",\"Arima\",\"Arima\",\"Arima\",\"Arima\",\"Arima\",\"Arima\",\"Arima\",\"Arima\",\"Arima\",\"Arima\",\"Arima\",\"Arima\",\"Arima\",\"Arima\",\"Arima\",\"Arima\",\"Arima\",\"Arima\",\"Arima\",\"Arima\",\"Arima\",\"Arima\",\"Arima\",\"Arima\",\"Arima\",\"Arima\",\"Arima\",\"Arima\",\"Arima\",\"Arima\",\"Arima\",\"Arima\",\"Arima\",\"Arima\",\"Arima\",\"Arima\",\"Arima\",\"Arima\",\"Arima\",\"Arima\",\"Arima\",\"Arima\",\"Arima\",\"Arima\",\"Arima\",\"Arima\",\"Arima\",\"Arima\",\"Arima\",\"Arima\",\"Arima\",\"Arima\",\"Arima\",\"Arima\",\"Arima\",\"Arima\",\"Arima\",\"Arima\",\"Arima\",\"Arima\",\"Arima\",\"Arima\",\"Arima\",\"Arima\",\"Arima\",\"Arima\",\"Arima\",\"Arima\",\"Arima\",\"Arima\",\"Arima\",\"Arima\",\"Arima\",\"Arima\",\"Arima\",\"Arima\",\"Arima\",\"Arima\",\"Arima\",\"Arima\",\"Arima\",\"Arima\",\"Arima\",\"Arima\",\"Arima\",\"Arima\",\"Arima\",\"Arima\",\"Arima\",\"Arima\",\"Arima\",\"Arima\",\"Arima\",\"Arima\",\"Arima\",\"Arima\",\"Arima\",\"Arima\",\"Arima\",\"Arima\",\"Arima\",\"Arima\",\"Arima\",\"Arima\",\"Arima\",\"Arima\",\"Arima\",\"Arima\",\"Arima\",\"Arima\",\"Arima\",\"Arima\",\"Arima\",\"Arima\",\"Arima\",\"Arima\",\"Arima\",\"Arima\",\"Arima\",\"Arima\",\"Arima\",\"Arima\",\"Arima\",\"Arima\",\"Arima\",\"Arima\",\"Arima\",\"Arima\",\"Arima\",\"Arima\",\"Arima\",\"Arima\",\"Arima\",\"Arima\",\"Arima\",\"Arima\",\"Arima\",\"Arima\",\"Arima\",\"Arima\",\"Arima\",\"Arima\",\"Arima\",\"Arima\",\"Arima\",\"Arima\",\"Arima\",\"Arima\",\"Arima\",\"Arima\",\"Arima\",\"Arima\",\"Arima\",\"Arima\",\"Arima\",\"Arima\",\"Arima\",\"Arima\",\"Arima\",\"Arima\",\"Arima\",\"Arima\",\"Arima\",\"Arima\",\"Arima\",\"Arima\",\"Arima\",\"Arima\",\"Arima\",\"Arima\",\"Arima\",\"Arima\",\"Arima\",\"Arima\",\"Arima\",\"Arima\",\"Arima\",\"Arima\",\"Arima\",\"Arima\",\"Arima\",\"Arima\",\"Arima\",\"Arima\",\"Arima\",\"Arima\",\"Arima\",\"Arima\",\"Arima\",\"Arima\",\"Arima\",\"Arima\",\"Arima\",\"Arima\",\"Arima\",\"Arima\",\"Arima\",\"Arima\",\"Arima\",\"Arima\",\"Arima\",\"Arima\",\"Arima\",\"Arima\",\"Arima\",\"Arima\",\"Arima\",\"Arima\",\"Arima\",\"Arima\",\"Arima\",\"Arima\",\"Arima\",\"Arima\",\"Arima\",\"Arima\",\"Arima\",\"Arima\",\"Arima\",\"Arima\",\"Arima\",\"Arima\",\"Arima\",\"Arima\",\"Arima\",\"Arima\",\"Arima\",\"Arima\",\"Arima\",\"Arima\",\"Arima\",\"Arima\",\"Arima\",\"Arima\",\"Arima\",\"Arima\",\"Arima\",\"Arima\",\"Arima\",\"Arima\",\"Arima\",\"Arima\",\"Arima\",\"Arima\",\"Arima\",\"Arima\",\"Arima\",\"Arima\",\"Arima\",\"Arima\",\"Arima\",\"Arima\",\"Arima\",\"Arima\",\"Arima\",\"Arima\",\"Arima\",\"Arima\",\"Arima\",\"Arima\",\"Arima\",\"Arima\",\"Arima\",\"Arima\",\"Arima\",\"Arima\",\"Arima\",\"Arima\",\"Arima\",\"Arima\",\"Arima\",\"Arima\",\"Arima\",\"Arima\",\"Arima\",\"Arima\",\"Arima\",\"Arima\",\"Arima\",\"Arima\",\"Arima\",\"Arima\",\"Arima\",\"Arima\",\"Arima\",\"Arima\",\"Arima\",\"Arima\",\"Arima\",\"Arima\",\"Arima\",\"Arima\",\"Arima\",\"Arima\",\"Arima\",\"Arima\",\"Arima\",\"Arima\",\"Arima\",\"Arima\",\"Arima\",\"Arima\",\"Arima\",\"Arima\",\"Arima\",\"Arima\",\"Arima\",\"Arima\",\"Arima\",\"Arima\",\"Arima\",\"Arima\",\"Arima\",\"Arima\",\"Arima\",\"Arima\",\"Arima\",\"Arima\",\"Arima\",\"Arima\",\"Arima\",\"Arima\",\"Arima\",\"Arima\",\"Arima\",\"Arima\",\"Arima\",\"Arima\",\"Arima\",\"Arima\",\"Arima\",\"Arima\",\"Arima\",\"Arima\",\"Arima\",\"Arima\",\"Arima\",\"Arima\",\"Arima\",\"Arima\",\"Arima\",\"Arima\",\"Arima\",\"Arima\",\"Arima\",\"Arima\",\"Arima\",\"Arima\",\"Arima\",\"Arima\",\"Arima\",\"Arima\",\"Arima\",\"Arima\",\"Arima\",\"Arima\",\"Arima\",\"Arima\",\"Arima\",\"Arima\",\"Arima\",\"Arima\",\"Arima\",\"Arima\",\"Arima\",\"Arima\",\"Arima\",\"Arima\",\"Arima\",\"Arima\",\"Arima\",\"Arima\",\"Arima\",\"Arima\",\"Arima\",\"Arima\",\"Arima\",\"Arima\",\"Arima\",\"Arima\",\"Arima\",\"Arima\",\"Arima\",\"Arima\",\"Arima\",\"Arima\",\"Arima\",\"Arima\",\"Arima\",\"Arima\",\"Arima\",\"Arima\",\"Arima\",\"Arima\",\"Arima\",\"Arima\",\"Arima\",\"Arima\",\"Arima\",\"Arima\",\"Arima\",\"Arima\",\"Arima\",\"Arima\",\"Arima\",\"Arima\",\"Arima\",\"Arima\",\"Arima\",\"Arima\",\"Arima\",\"Arima\",\"Arima\",\"Arima\",\"Arima\",\"Arima\",\"Arima\",\"Arima\",\"Arima\",\"Arima\",\"Arima\",\"Arima\",\"Arima\",\"Arima\",\"Arima\",\"Arima\",\"Arima\",\"Arima\",\"Arima\",\"Arima\",\"Arima\",\"Arima\",\"Arima\",\"Arima\",\"Arima\",\"Arima\",\"Arima\",\"Arima\",\"Arima\",\"Arima\",\"Arima\",\"Arima\",\"Arima\",\"Arima\",\"Arima\",\"Arima\",\"Arima\",\"Arima\",\"Arima\",\"Arima\",\"Arima\",\"Arima\",\"Arima\",\"Arima\",\"Arima\",\"Arima\",\"Arima\",\"Arima\",\"Arima\",\"Arima\",\"Arima\",\"Arima\",\"Arima\",\"Arima\",\"Arima\",\"Arima\",\"Arima\",\"Arima\",\"Arima\",\"Arima\",\"Arima\",\"Arima\",\"Arima\",\"Arima\",\"Arima\",\"Arima\",\"Arima\",\"Arima\",\"Arima\",\"Arima\",\"Arima\",\"Arima\",\"Arima\",\"Arima\"],\"Predicted Score\":{\"__ndarray__\":\"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\",\"dtype\":\"float64\",\"order\":\"little\",\"shape\":[589]},\"Predicted_Score\":{\"__ndarray__\":\"V+sh4Qrw0T8Bi9dbevHRPwJSzNWh6tE/vAxaNbTa0T+7bgKWqMzRP4XKm3YCxdE/f5A9/yTE0T+dckQOIcvRPyCw5th1z9E/ux1KqJHI0T/4l2Vvl73RP4xfZO3Lr9E/JAZa8Iqp0T8AJRk1cKnRPwCBBpE1rNE/sQbrxk+s0T/zmWMBdqfRP/jgXiTVntE/r/ffyNCU0T9rXpoi6o3RP+DLOZ1hjNE/MSGdsdKM0T95XglCYozRP+SDIK3Eh9E/853lQQaA0T/s45jq73fRPzkAvRVActE/AiSSmo1v0T8JVuUZXW7RP+bqK12fbNE/FCqvCoxo0T+PJ5NhDGLRP7GKnZQlW9E/SjPLW6VV0T8AuUd2bFLRPw1yevdxUNE/VkUv/PVN0T/rJ2HNyknRP4DIra8eRNE/GRX61yI+0T/39sFDDDnRP6qK8FdjNdE/G3Veq6wy0T8/vyeMty/RP2ll83isK9E/lZI4YYQm0T8Nlq4rDyHRP2C1G7k8HNE/o6gxHG4Y0T+4ypNbQBXRP8ra9+LsEdE/YaSEyuIN0T9jlxm4HAnRP/5/T6AXBNE/TzOlgHb/0D9LNNbZg/vQP1XhS6UJ+NA/NdjLHoD00D+LPBI2efDQP+h9W/Ts69A/g7FLEzTn0D+IEeVSveLQP9MbF2S83tA/vhgQbg7b0D9J9iZ5W9fQP6bWF4FX09A/OAp+X/jO0D+yHAzgdcrQPzdheoUcxtA/XX5bkxTC0D9P9NbVSL7QP6RMRix8utA/MMmVfXm20D/SKSaFOLLQP6TJBzberdA/1QRW7Z2p0D/RF61flKXQP2Tw0me1odA/bLudw9id0D8x4lEw2ZnQP7k/IKSuldA/5rH4JHGR0D/sRrFqRI3QP7BAnzc9idA/fj6XM1SF0D+V2thAboHQPw/LF7ZxfdA/6pFXJlh50D+8uTz2MHXQP1O5jUYUcdA/XS3AEBFt0D9CAgd1I2nQP3Vtllo5ZdA/y2lmuEBh0D+JH9piNF3QP8SQPF8eWdA/mE6MKg9V0D/UGpBkEVHQP1YI6fciTdA/iRyF4zdJ0D8lDWC3Q0XQP37v0WRCQdA/vyzxQjo90D8CbRiFNjnQPzr8lM0+NdA/vdWFIVIx0D9DdwB+aC3QPxzT8UB5KdA/njBOVIEl0D9oi9/EhCHQP2c7qieLHdA/5M5y4pkZ0D8+85mWsBXQP6R1P/vJEdA/HkK5GeAN0D9XwvGW8AnQPzV+kP/9BdA/Xj2jeA0C0D8c+YCsRfzPP+pebxJ89M8/RR7vI7fszz+rPJip7uTPP6yb6iAf3c8/OoMkuUvVzz9XQjdie83PP/zwAYOzxc8/qUb7T/S9zz/91WguObbPP3bVgHR8rs8/kMjFhrumzz8PdLle+J7PP4+yD6s3l88/3ucgOH2Pzz9nZEJYyYfPP/GjwwUZgM8/bkrDXWh4zz8ZIoN1tXDPP0pZ1YABac8/X5zrpU9hzz9Jn6qPolnPPwBkKJf6Uc8/bUTDwVVKzz9sj8ZksULPP+3D7hkMO88/dpqRmmYzzz9KQ+kDwyvPP+TBejMjJM8/frX9e4cczz9GVmqT7hTPPxAmhKZWDc8/PTHysL4Fzz/hk5sfJ/7OP9LDLF2R9s4/YZUbt/7uzj+jZaR0b+fOP0tfT7/i384/giTQV1fYzj9hqTKCzNDOP6cPvXxCyc4/rAW2ObrBzj+ScD+hNLrOP1fiAu6xss4/q35XlTGrzj9tbFq9sqPOPzPv1N40nM4/wkLwG7iUzj8VCjQWPY3OP/DZ2G7Ehc4/O2uPVE5+zj9aVw5u2nbOP9q17iZob84/vGdZHvdnzj/aIdFlh2DOPwvqrWgZWc4/qk+jlq1Rzj+IlggURErOPw/9pKfcQs4/RP2A7HY7zj94iXqdEjTOP8grhcKvLM4/ZqK/ok4lzj9UXFaL7x3OPywRCZiSFs4/5yxcpDcPzj+FPrdr3gfOPxP74ryGAM4/FGCBmjD5zT9EWIQz3PHNP87/Gb2J6s0/i8QhTDnjzT8Z3HTJ6tvNP8jYggae1M0/7NJX4FLNzT/SbM1WCcbNPyKzvIjBvs0/Mr+smnu3zT/MhRycN7DNPymRbX71qM0/Nj4IIrWhzT/1DCNudprNP4KtRGE5k80/HG+WD/6LzT+qqhiSxITNP4a3KPSMfc0/k/STLFd2zT8OteolI2/NP0LmnM7wZ80/bw2vJMBgzT/eOzY1kVnNPzEXPBFkUs0/uZv9wDhLzT9iArQ+D0TNP7Gqz3vnPM0/Eu3da8E1zT+Q2s8MnS7NP97tDWd6J80/WBckhlkgzT+bNvhvOhnNP4GD5yAdEs0/nesHjwELzT8gOIOx5wPNPxRpbIbP/Mw/dycYE7n1zD82MktfpO7MPwB3L2+R58w/ipV1QIDgzD+B0FXMcNnMP9fBhAxj0sw/kOtM/1bLzD8rDP6nTMTMP+mmxAtEvcw/HViELT22zD8ogb0LOK/MP++axKE0qMw/ojUX6zKhzD9MtjvmMprMPwv1L5U0k8w/S0NZ+zeMzD/HGq0aPYXMP7EjKfJDfsw/xuGMfkx3zD9hA5a8VnDMP3bRAqtiacw/qij1SnBizD+rCZuef1vMP8ZEPaeQVMw/dK0jZKNNzD9DUAHTt0bMP2mcc/HNP8w/Jj1pvuU4zD8riHU6/zHMPxEM8mYaK8w/LB+rRDckzD+ZchPTVR3MP8wpgRB2Fsw/ZM4t+5cPzD9sDjCSuwjMP8Znv9XgAcw/scWkxgf7yz9SP1NlMPTLP2+BVbFa7cs/JLpuqYbmyz+YLEVMtN/LPy+fD5nj2Ms/TsXKjxTSyz/RUN0wR8vLP0qwenx7xMs//mA6crG9yz8DYCgR6bbLPwaRNlgisMs/8ey0Rl2pyz/i0nrcmaLLP4tyrBnYm8s/lQ5Q/heVyz80hAOKWY7LPxRiA7ych8s/XBt2k+GAyz/GI78PKHrLP9plnjBwc8s/BzAL9rlsyz/j4+tfBWbLP9Qp4W1SX8s/jvRHH6FYyz/6O2tz8VHLP95YvWlDS8s/0q3vAZdEyz8YYds77D3LP6J2UBdDN8s/xH/wk5swyz9CDS6x9SnLPwN6bW5RI8s/JW0sy64cyz8XdhPHDRbLP/yT52FuD8s/QjVpm9AIyz877TlzNALLP6DC2uiZ+8o/vL3B+wD1yj/YEXWrae7KP0sbmPfT58o/oXri3z/hyj8O2glkrdrKP1x0r4Mc1Mo/IwhePo3Nyj8R95eT/8bKPz7p6YJzwMo/LVH0C+m5yj8QCGYuYLPKP6lc7enYrMo/RiErPlOmyj8NqrAqz5/KPwEFCa9Mmco/8r3FysuSyj8ey4V9TIzKPyJY8sbOhco/KMC0plJ/yj8igW0c2HjKP/1zsidfcso/9soUyOdryj/Yyyn9cWXKP5nSj8b9Xso/JnTsI4tYyj8RyeUUGlLKP+EdHJmqS8o/sHQosDxFyj93ZqBZ0D7KP5wXHJVlOMo/d9M5Yvwxyj8KAJ3AlCvKP9ui6a8uJco/Ev2/L8oeyj8uVrs/ZxjKPwV8dN8FEso/GtGFDqYLyj+v4o3MRwXKP9zYLhnr/sk/gXoL9I/4yT/gIMRcNvLJPwDE9VLe68k/0JQ71oflyT84vzHmMt/JP3hCd4Lf2Mk/L6qtqo3SyT9nEndePczJP/8KdJ3uxck/ldtCZ6G/yT+eiIC7VbnJP7OyypkLs8k/SObAAcOsyT8DfgTze6bJP9RRN202oMk/TEH6b/KZyT9spOz6r5PJPwzxrA1vjck/NP/Zpy+HyT9A9xPJ8YDJPxlK/HC1esk/udI0n3p0yT8S1F5TQW7JP8+NGo0JaMk/y6MHTNNhyT90+cWPnlvJPw5a9ldrVck/E3w6pDlPyT9ZbjR0CUnJP5HmhcfaQsk/WvHPna08yT+eMrP2gTbJP4x50NFXMMk//TbJLi8qyT/YhT8NCCTJP5LK1WziHck/6zguTb4XyT9LmeqtmxHJPwRwrI56C8k/JmEV71oFyT+og8fOPP/IP/ZqZS0g+cg/2ueRCgXzyD+ptO9l6+zIPzBKIT/T5sg/p/fIlbzgyD9lJYlpp9rIP52PBLqT1Mg/H0/ehoHOyD+ZsLnPcMjIP+r6OZRhwsg/4k8C1FO8yD9wurWOR7bIP4db98M8sMg/zZJqczOqyD/eBrOcK6TIP3uKdD8lnsg/MfVSWyCYyD/gDPLvHJLIP8qN9fwajMg/mUgBghqGyD/oPrl+G4DIP/apwfIdesg/Vum+3SF0yD8maFU/J27IP86MKRcuaMg/eb3fZDZiyD8+dBwoQFzIP9NShGBLVsg/+ye8DVhQyD965GgvZkrIP7iIL8V1RMg/IBm1zoY+yD+boJ5LmTjIP7o9kTutMsg/ozAynsIsyD803yZz2SbIP/LNFLrxIMg/lJOhcgsbyD+y0HKcJhXIP+QwLjdDD8g/vnN5QmEJyD8kdvq9gAPIP7Q1V6mh/cc/Jsw1BMT3xz/0ZjzO5/HHP1hBEQcN7Mc/xqRarjPmxz/Q7r7DW+DHP6qX5EaF2sc/uzRyN7DUxz+udQ6V3M7HP7IeYF8Kycc/XwQOljnDxz+tC784ar3HP/ItGkect8c/Rn3GwM+xxz+RJmulBKzHP3Nvr/Q6psc/qLI6rnKgxz/4XLTRq5rHPwDtw17mlMc/8fUQVSKPxz+FIkO0X4nHP2s2Anyeg8c/MA32q959xz+Nl8ZDIHjHP1vZG0Njcsc/Vemdqadsxz/o8vR27WbHPzQ4yao0Ycc//xLDRH1bxz8y9IpEx1XHP+FhyakSUMc/CPYmdF9Kxz8cXkyjrUTHP1Bc4jb9Psc/4siRLk45xz8JkwOKoDPHP1HA4Ej0Lcc/fWvSakkoxz+Ww4HvnyLHP4YLmNb3HMc/EJu+H1EXxz+H357KqxHHP31c4tYHDMc/casyRGUGxz8WezkSxADHP36OoEAk+8Y/67wRz4X1xj9k8ja96O/GP0kwugpN6sY/oI1Ft7Lkxj8VN4PCGd/GP1VuHSyC2cY/iom+8+vTxj848xAZV87GP5oqv5vDyMY/68NzezHDxj/daNm3oL3GP0zYmlARuMY/AOZiRYOyxj9OetyV9qzGP/WRskFrp8Y/Mj6QSOGhxj9GpSCqWJzGP2ICD2bRlsY/0qUGfEuRxj+J9LLrxovGPxBov7RDhsY/Qo7X1sGAxj+DCadRQXvGP/KQ2STCdcY/ZvAaUERwxj+WCBfTx2rGP8bOea1MZcY/s0zv3tJfxj9moCNnWlrGP038wkXjVMY/eqd5em1Pxj9p/fME+UnGP1pu3uSFRMY/+n7lGRQ/xj8oyLWjoznGPzr3+4E0NMY/rM1ktMYuxj9uIZ06WinGP9TcURTvI8Y/nv4vQYUexj/jmeTAHBnGP+TVHJO1E8Y/Gu6Ft08Oxj80Ms0t6wjGPwQGoPWHA8Y/suGrDib+xT+dUZ54xfjFP1v2JDNm88U/j4TtPQjuxT/2xKWYq+jFP1SU+0JQ48U/m+OcPPbdxT+xtzeFndjFP7opehxG08U/yWYSAvDNxT8AsK41m8jFP2Fa/bZHw8U/986shfW9xT+fimuhpLjFP0se6AlVs8U/1y7RvgauxT/wdNW/uajFPzy9owxuo8U/KejqpCOexT/v6VmI2pjFP57Kn7aSk8U/GKZrL0yOxT8KrGzyBonFP+IfUv/Cg8U/zFjLVYB+xT+5wYf1PnnFPx3ZNt7+c8U/UDGID8BuxT8ycCuJgmnFP1xP0EpGZMU/DZwmVAtfxT8PN96k0VnFP88UpzyZVMU/Rj0xG2JPxT/3yyxALErFP+rvSav3RMU/tes4XMQ/xT90FapSkjrFP7nWTY5hNcU/gKzUDjIwxT87J+/TAyvFP8bqTd3WJcU/cK6hKqsgxT/bPJu7gBvFPxh0649XFsU/gUVDpy8RxT/TtVMBCQzFPxDdzZ3jBsU/gOZifL8BxT+5EMScnPzEP5utov5698Q/PCKwoVryxD/j5p2FO+3EPw2HHaod6MQ/dKHgDgHjxD/n55iz5d3EP2Af+JfL2MQ/CCCwu7LTxD8U1XIem87EP9o88r+EycQ/u2jgn2/ExD8sfe+9W7/EP6ix0RlJusQ/p1A5sze1xD+6t9iJJ7DEP1FXYp0Yq8Q/4rKI7QqmxD/RYP55/qDEP3MKdkLzm8Q/AGyiRumWxD+cVDaG4JHEPz2m5ADZjMQ/w1VgttKHxD/calymzYLEPwsAjNDJfcQ/n0KiNMd4xD+xclLSxXPEPx7jT6nFbsQ/eflNucZpxD8=\",\"dtype\":\"float64\",\"order\":\"little\",\"shape\":[589]},\"Prediction timestamp\":{\"__ndarray__\":\"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\",\"dtype\":\"float64\",\"order\":\"little\",\"shape\":[589]},\"Prediction_timestamp\":{\"__ndarray__\":\"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\",\"dtype\":\"float64\",\"order\":\"little\",\"shape\":[589]}},\"selected\":{\"id\":\"1953\"},\"selection_policy\":{\"id\":\"1969\"}},\"id\":\"1952\",\"type\":\"ColumnDataSource\"},{\"attributes\":{\"line_alpha\":0.1,\"line_color\":\"#30a2da\",\"x\":{\"field\":\"Prediction timestamp\"},\"y\":{\"field\":\"Predicted Score\"}},\"id\":\"1923\",\"type\":\"Line\"},{\"attributes\":{\"line_alpha\":0.1,\"line_color\":\"#6d904f\",\"x\":{\"field\":\"Prediction timestamp\"},\"y\":{\"field\":\"Predicted Score\"}},\"id\":\"2026\",\"type\":\"Line\"},{\"attributes\":{\"data\":{\"Model\":[\"Arma\",\"Arma\",\"Arma\",\"Arma\",\"Arma\",\"Arma\",\"Arma\",\"Arma\",\"Arma\",\"Arma\",\"Arma\",\"Arma\",\"Arma\",\"Arma\",\"Arma\",\"Arma\",\"Arma\",\"Arma\",\"Arma\",\"Arma\",\"Arma\",\"Arma\",\"Arma\",\"Arma\",\"Arma\",\"Arma\",\"Arma\",\"Arma\",\"Arma\",\"Arma\",\"Arma\",\"Arma\",\"Arma\",\"Arma\",\"Arma\",\"Arma\",\"Arma\",\"Arma\",\"Arma\",\"Arma\",\"Arma\",\"Arma\",\"Arma\",\"Arma\",\"Arma\",\"Arma\",\"Arma\",\"Arma\",\"Arma\",\"Arma\",\"Arma\",\"Arma\",\"Arma\",\"Arma\",\"Arma\",\"Arma\",\"Arma\",\"Arma\",\"Arma\",\"Arma\",\"Arma\",\"Arma\",\"Arma\",\"Arma\",\"Arma\",\"Arma\",\"Arma\",\"Arma\",\"Arma\",\"Arma\",\"Arma\",\"Arma\",\"Arma\",\"Arma\",\"Arma\",\"Arma\",\"Arma\",\"Arma\",\"Arma\",\"Arma\",\"Arma\",\"Arma\",\"Arma\",\"Arma\",\"Arma\",\"Arma\",\"Arma\",\"Arma\",\"Arma\",\"Arma\",\"Arma\",\"Arma\",\"Arma\",\"Arma\",\"Arma\",\"Arma\",\"Arma\",\"Arma\",\"Arma\",\"Arma\",\"Arma\",\"Arma\",\"Arma\",\"Arma\",\"Arma\",\"Arma\",\"Arma\",\"Arma\",\"Arma\",\"Arma\",\"Arma\",\"Arma\",\"Arma\",\"Arma\",\"Arma\",\"Arma\",\"Arma\",\"Arma\",\"Arma\",\"Arma\",\"Arma\",\"Arma\",\"Arma\",\"Arma\",\"Arma\",\"Arma\",\"Arma\",\"Arma\",\"Arma\",\"Arma\",\"Arma\",\"Arma\",\"Arma\",\"Arma\",\"Arma\",\"Arma\",\"Arma\",\"Arma\",\"Arma\",\"Arma\",\"Arma\",\"Arma\",\"Arma\",\"Arma\",\"Arma\",\"Arma\",\"Arma\",\"Arma\",\"Arma\",\"Arma\",\"Arma\",\"Arma\",\"Arma\",\"Arma\",\"Arma\",\"Arma\",\"Arma\",\"Arma\",\"Arma\",\"Arma\",\"Arma\",\"Arma\",\"Arma\",\"Arma\",\"Arma\",\"Arma\",\"Arma\",\"Arma\",\"Arma\",\"Arma\",\"Arma\",\"Arma\",\"Arma\",\"Arma\",\"Arma\",\"Arma\",\"Arma\",\"Arma\",\"Arma\",\"Arma\",\"Arma\",\"Arma\",\"Arma\",\"Arma\",\"Arma\",\"Arma\",\"Arma\",\"Arma\",\"Arma\",\"Arma\",\"Arma\",\"Arma\",\"Arma\",\"Arma\",\"Arma\",\"Arma\",\"Arma\",\"Arma\",\"Arma\",\"Arma\",\"Arma\",\"Arma\",\"Arma\",\"Arma\",\"Arma\",\"Arma\",\"Arma\",\"Arma\",\"Arma\",\"Arma\",\"Arma\",\"Arma\",\"Arma\",\"Arma\",\"Arma\",\"Arma\",\"Arma\",\"Arma\",\"Arma\",\"Arma\",\"Arma\",\"Arma\",\"Arma\",\"Arma\",\"Arma\",\"Arma\",\"Arma\",\"Arma\",\"Arma\",\"Arma\",\"Arma\",\"Arma\",\"Arma\",\"Arma\",\"Arma\",\"Arma\",\"Arma\",\"Arma\",\"Arma\",\"Arma\",\"Arma\",\"Arma\",\"Arma\",\"Arma\",\"Arma\",\"Arma\",\"Arma\",\"Arma\",\"Arma\",\"Arma\",\"Arma\",\"Arma\",\"Arma\",\"Arma\",\"Arma\",\"Arma\",\"Arma\",\"Arma\",\"Arma\",\"Arma\",\"Arma\",\"Arma\",\"Arma\",\"Arma\",\"Arma\",\"Arma\",\"Arma\",\"Arma\",\"Arma\",\"Arma\",\"Arma\",\"Arma\",\"Arma\",\"Arma\",\"Arma\",\"Arma\",\"Arma\",\"Arma\",\"Arma\",\"Arma\",\"Arma\",\"Arma\",\"Arma\",\"Arma\",\"Arma\",\"Arma\",\"Arma\",\"Arma\",\"Arma\",\"Arma\",\"Arma\",\"Arma\",\"Arma\",\"Arma\",\"Arma\",\"Arma\",\"Arma\",\"Arma\",\"Arma\",\"Arma\",\"Arma\",\"Arma\",\"Arma\",\"Arma\",\"Arma\",\"Arma\",\"Arma\",\"Arma\",\"Arma\",\"Arma\",\"Arma\",\"Arma\",\"Arma\",\"Arma\",\"Arma\",\"Arma\",\"Arma\",\"Arma\",\"Arma\",\"Arma\",\"Arma\",\"Arma\",\"Arma\",\"Arma\",\"Arma\",\"Arma\",\"Arma\",\"Arma\",\"Arma\",\"Arma\",\"Arma\",\"Arma\",\"Arma\",\"Arma\",\"Arma\",\"Arma\",\"Arma\",\"Arma\",\"Arma\",\"Arma\",\"Arma\",\"Arma\",\"Arma\",\"Arma\",\"Arma\",\"Arma\",\"Arma\",\"Arma\",\"Arma\",\"Arma\",\"Arma\",\"Arma\",\"Arma\",\"Arma\",\"Arma\",\"Arma\",\"Arma\",\"Arma\",\"Arma\",\"Arma\",\"Arma\",\"Arma\",\"Arma\",\"Arma\",\"Arma\",\"Arma\",\"Arma\",\"Arma\",\"Arma\",\"Arma\",\"Arma\",\"Arma\",\"Arma\",\"Arma\",\"Arma\",\"Arma\",\"Arma\",\"Arma\",\"Arma\",\"Arma\",\"Arma\",\"Arma\",\"Arma\",\"Arma\",\"Arma\",\"Arma\",\"Arma\",\"Arma\",\"Arma\",\"Arma\",\"Arma\",\"Arma\",\"Arma\",\"Arma\",\"Arma\",\"Arma\",\"Arma\",\"Arma\",\"Arma\",\"Arma\",\"Arma\",\"Arma\",\"Arma\",\"Arma\",\"Arma\",\"Arma\",\"Arma\",\"Arma\",\"Arma\",\"Arma\",\"Arma\",\"Arma\",\"Arma\",\"Arma\",\"Arma\",\"Arma\",\"Arma\",\"Arma\",\"Arma\",\"Arma\",\"Arma\",\"Arma\",\"Arma\",\"Arma\",\"Arma\",\"Arma\",\"Arma\",\"Arma\",\"Arma\",\"Arma\",\"Arma\",\"Arma\",\"Arma\",\"Arma\",\"Arma\",\"Arma\",\"Arma\",\"Arma\",\"Arma\",\"Arma\",\"Arma\",\"Arma\",\"Arma\",\"Arma\",\"Arma\",\"Arma\",\"Arma\",\"Arma\",\"Arma\",\"Arma\",\"Arma\",\"Arma\",\"Arma\",\"Arma\",\"Arma\",\"Arma\",\"Arma\",\"Arma\",\"Arma\",\"Arma\",\"Arma\",\"Arma\",\"Arma\",\"Arma\",\"Arma\",\"Arma\",\"Arma\",\"Arma\",\"Arma\",\"Arma\",\"Arma\",\"Arma\",\"Arma\",\"Arma\",\"Arma\",\"Arma\",\"Arma\",\"Arma\",\"Arma\",\"Arma\",\"Arma\",\"Arma\",\"Arma\",\"Arma\",\"Arma\",\"Arma\",\"Arma\",\"Arma\",\"Arma\",\"Arma\",\"Arma\",\"Arma\",\"Arma\",\"Arma\",\"Arma\",\"Arma\",\"Arma\",\"Arma\",\"Arma\",\"Arma\",\"Arma\",\"Arma\",\"Arma\",\"Arma\",\"Arma\",\"Arma\",\"Arma\",\"Arma\",\"Arma\",\"Arma\",\"Arma\",\"Arma\",\"Arma\",\"Arma\",\"Arma\",\"Arma\",\"Arma\",\"Arma\",\"Arma\",\"Arma\",\"Arma\",\"Arma\",\"Arma\",\"Arma\",\"Arma\",\"Arma\",\"Arma\",\"Arma\",\"Arma\",\"Arma\",\"Arma\",\"Arma\",\"Arma\",\"Arma\",\"Arma\",\"Arma\",\"Arma\",\"Arma\",\"Arma\",\"Arma\",\"Arma\",\"Arma\",\"Arma\",\"Arma\",\"Arma\",\"Arma\",\"Arma\",\"Arma\",\"Arma\",\"Arma\",\"Arma\",\"Arma\",\"Arma\",\"Arma\",\"Arma\",\"Arma\",\"Arma\",\"Arma\",\"Arma\",\"Arma\",\"Arma\",\"Arma\",\"Arma\",\"Arma\",\"Arma\",\"Arma\",\"Arma\",\"Arma\",\"Arma\",\"Arma\",\"Arma\",\"Arma\",\"Arma\",\"Arma\",\"Arma\",\"Arma\",\"Arma\",\"Arma\",\"Arma\",\"Arma\",\"Arma\",\"Arma\",\"Arma\",\"Arma\",\"Arma\",\"Arma\",\"Arma\",\"Arma\",\"Arma\"],\"Predicted Score\":{\"__ndarray__\":\"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\",\"dtype\":\"float64\",\"order\":\"little\",\"shape\":[589]},\"Predicted_Score\":{\"__ndarray__\":\"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\",\"dtype\":\"float64\",\"order\":\"little\",\"shape\":[589]},\"Prediction timestamp\":{\"__ndarray__\":\"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\",\"dtype\":\"float64\",\"order\":\"little\",\"shape\":[589]},\"Prediction_timestamp\":{\"__ndarray__\":\"AABwcqYZckIAAFjhqRlyQgAAQFCtGXJCAAAov7AZckIAABAutBlyQgAA+Jy3GXJCAADgC7sZckIAAMh6vhlyQgAAsOnBGXJCAACYWMUZckIAAIDHyBlyQgAAaDbMGXJCAABQpc8ZckIAADgU0xlyQgAAIIPWGXJCAAAI8tkZckIAAPBg3RlyQgAA2M/gGXJCAADAPuQZckIAAKit5xlyQgAAkBzrGXJCAAB4i+4ZckIAAGD68RlyQgAASGn1GXJCAAAw2PgZckIAABhH/BlyQgAAALb/GXJCAADoJAMackIAANCTBhpyQgAAuAIKGnJCAACgcQ0ackIAAIjgEBpyQgAAcE8UGnJCAABYvhcackIAAEAtGxpyQgAAKJweGnJCAAAQCyIackIAAPh5JRpyQgAA4OgoGnJCAADIVywackIAALDGLxpyQgAAmDUzGnJCAACApDYackIAAGgTOhpyQgAAUII9GnJCAAA48UAackIAACBgRBpyQgAACM9HGnJCAADwPUsackIAANisThpyQgAAwBtSGnJCAACoilUackIAAJD5WBpyQgAAeGhcGnJCAABg118ackIAAEhGYxpyQgAAMLVmGnJCAAAYJGoackIAAACTbRpyQgAA6AFxGnJCAADQcHQackIAALjfdxpyQgAAoE57GnJCAACIvX4ackIAAHAsghpyQgAAWJuFGnJCAABACokackIAACh5jBpyQgAAEOiPGnJCAAD4VpMackIAAODFlhpyQgAAyDSaGnJCAACwo50ackIAAJgSoRpyQgAAgIGkGnJCAABo8KcackIAAFBfqxpyQgAAOM6uGnJCAAAgPbIackIAAAistRpyQgAA8Bq5GnJCAADYibwackIAAMD4vxpyQgAAqGfDGnJCAACQ1sYackIAAHhFyhpyQgAAYLTNGnJCAABII9EackIAADCS1BpyQgAAGAHYGnJCAAAAcNsackIAAOje3hpyQgAA0E3iGnJCAAC4vOUackIAAKAr6RpyQgAAiJrsGnJCAABwCfAackIAAFh48xpyQgAAQOf2GnJCAAAoVvoackIAABDF/RpyQgAA+DMBG3JCAADgogQbckIAAMgRCBtyQgAAsIALG3JCAACY7w4bckIAAIBeEhtyQgAAaM0VG3JCAABQPBkbckIAADirHBtyQgAAIBogG3JCAAAIiSMbckIAAPD3JhtyQgAA2GYqG3JCAADA1S0bckIAAKhEMRtyQgAAkLM0G3JCAAB4IjgbckIAAGCROxtyQgAASAA/G3JCAAAwb0IbckIAABjeRRtyQgAAAE1JG3JCAADou0wbckIAANAqUBtyQgAAuJlTG3JCAACgCFcbckIAAIh3WhtyQgAAcOZdG3JCAABYVWEbckIAAEDEZBtyQgAAKDNoG3JCAAAQomsbckIAAPgQbxtyQgAA4H9yG3JCAADI7nUbckIAALBdeRtyQgAAmMx8G3JCAACAO4AbckIAAGiqgxtyQgAAUBmHG3JCAAA4iIobckIAACD3jRtyQgAACGaRG3JCAADw1JQbckIAANhDmBtyQgAAwLKbG3JCAACoIZ8bckIAAJCQohtyQgAAeP+lG3JCAABgbqkbckIAAEjdrBtyQgAAMEywG3JCAAAYu7MbckIAAAAqtxtyQgAA6Ji6G3JCAADQB74bckIAALh2wRtyQgAAoOXEG3JCAACIVMgbckIAAHDDyxtyQgAAWDLPG3JCAABAodIbckIAACgQ1htyQgAAEH/ZG3JCAAD47dwbckIAAOBc4BtyQgAAyMvjG3JCAACwOucbckIAAJip6htyQgAAgBjuG3JCAABoh/EbckIAAFD29BtyQgAAOGX4G3JCAAAg1PsbckIAAAhD/xtyQgAA8LECHHJCAADYIAYcckIAAMCPCRxyQgAAqP4MHHJCAACQbRAcckIAAHjcExxyQgAAYEsXHHJCAABIuhocckIAADApHhxyQgAAGJghHHJCAAAAByUcckIAAOh1KBxyQgAA0OQrHHJCAAC4Uy8cckIAAKDCMhxyQgAAiDE2HHJCAABwoDkcckIAAFgPPRxyQgAAQH5AHHJCAAAo7UMcckIAABBcRxxyQgAA+MpKHHJCAADgOU4cckIAAMioURxyQgAAsBdVHHJCAACYhlgcckIAAID1WxxyQgAAaGRfHHJCAABQ02IcckIAADhCZhxyQgAAILFpHHJCAAAIIG0cckIAAPCOcBxyQgAA2P1zHHJCAADAbHccckIAAKjbehxyQgAAkEp+HHJCAAB4uYEcckIAAGAohRxyQgAASJeIHHJCAAAwBowcckIAABh1jxxyQgAAAOSSHHJCAADoUpYcckIAANDBmRxyQgAAuDCdHHJCAACgn6AcckIAAIgOpBxyQgAAcH2nHHJCAABY7KocckIAAEBbrhxyQgAAKMqxHHJCAAAQObUcckIAAPinuBxyQgAA4Ba8HHJCAADIhb8cckIAALD0whxyQgAAmGPGHHJCAACA0skcckIAAGhBzRxyQgAAULDQHHJCAAA4H9QcckIAACCO1xxyQgAACP3aHHJCAADwa94cckIAANja4RxyQgAAwEnlHHJCAACouOgcckIAAJAn7BxyQgAAeJbvHHJCAABgBfMcckIAAEh09hxyQgAAMOP5HHJCAAAYUv0cckIAAADBAB1yQgAA6C8EHXJCAADQngcdckIAALgNCx1yQgAAoHwOHXJCAACI6xEdckIAAHBaFR1yQgAAWMkYHXJCAABAOBwdckIAACinHx1yQgAAEBYjHXJCAAD4hCYdckIAAODzKR1yQgAAyGItHXJCAACw0TAdckIAAJhANB1yQgAAgK83HXJCAABoHjsdckIAAFCNPh1yQgAAOPxBHXJCAAAga0UdckIAAAjaSB1yQgAA8EhMHXJCAADYt08dckIAAMAmUx1yQgAAqJVWHXJCAACQBFodckIAAHhzXR1yQgAAYOJgHXJCAABIUWQdckIAADDAZx1yQgAAGC9rHXJCAAAAnm4dckIAAOgMch1yQgAA0Ht1HXJCAAC46ngdckIAAKBZfB1yQgAAiMh/HXJCAABwN4MdckIAAFimhh1yQgAAQBWKHXJCAAAohI0dckIAABDzkB1yQgAA+GGUHXJCAADg0JcdckIAAMg/mx1yQgAAsK6eHXJCAACYHaIdckIAAICMpR1yQgAAaPuoHXJCAABQaqwdckIAADjZrx1yQgAAIEizHXJCAAAIt7YdckIAAPAluh1yQgAA2JS9HXJCAADAA8EdckIAAKhyxB1yQgAAkOHHHXJCAAB4UMsdckIAAGC/zh1yQgAASC7SHXJCAAAwndUdckIAABgM2R1yQgAAAHvcHXJCAADo6d8dckIAANBY4x1yQgAAuMfmHXJCAACgNuodckIAAIil7R1yQgAAcBTxHXJCAABYg/QdckIAAEDy9x1yQgAAKGH7HXJCAAAQ0P4dckIAAPg+Ah5yQgAA4K0FHnJCAADIHAkeckIAALCLDB5yQgAAmPoPHnJCAACAaRMeckIAAGjYFh5yQgAAUEcaHnJCAAA4th0eckIAACAlIR5yQgAACJQkHnJCAADwAigeckIAANhxKx5yQgAAwOAuHnJCAACoTzIeckIAAJC+NR5yQgAAeC05HnJCAABgnDweckIAAEgLQB5yQgAAMHpDHnJCAAAY6UYeckIAAABYSh5yQgAA6MZNHnJCAADQNVEeckIAALikVB5yQgAAoBNYHnJCAACIglseckIAAHDxXh5yQgAAWGBiHnJCAABAz2UeckIAACg+aR5yQgAAEK1sHnJCAAD4G3AeckIAAOCKcx5yQgAAyPl2HnJCAACwaHoeckIAAJjXfR5yQgAAgEaBHnJCAABotYQeckIAAFAkiB5yQgAAOJOLHnJCAAAgAo8eckIAAAhxkh5yQgAA8N+VHnJCAADYTpkeckIAAMC9nB5yQgAAqCygHnJCAACQm6MeckIAAHgKpx5yQgAAYHmqHnJCAABI6K0eckIAADBXsR5yQgAAGMa0HnJCAAAANbgeckIAAOijux5yQgAA0BK/HnJCAAC4gcIeckIAAKDwxR5yQgAAiF/JHnJCAABwzsweckIAAFg90B5yQgAAQKzTHnJCAAAoG9ceckIAABCK2h5yQgAA+PjdHnJCAADgZ+EeckIAAMjW5B5yQgAAsEXoHnJCAACYtOseckIAAIAj7x5yQgAAaJLyHnJCAABQAfYeckIAADhw+R5yQgAAIN/8HnJCAAAITgAfckIAAPC8Ax9yQgAA2CsHH3JCAADAmgofckIAAKgJDh9yQgAAkHgRH3JCAAB45xQfckIAAGBWGB9yQgAASMUbH3JCAAAwNB8fckIAABijIh9yQgAAABImH3JCAADogCkfckIAANDvLB9yQgAAuF4wH3JCAACgzTMfckIAAIg8Nx9yQgAAcKs6H3JCAABYGj4fckIAAECJQR9yQgAAKPhEH3JCAAAQZ0gfckIAAPjVSx9yQgAA4ERPH3JCAADIs1IfckIAALAiVh9yQgAAmJFZH3JCAACAAF0fckIAAGhvYB9yQgAAUN5jH3JCAAA4TWcfckIAACC8ah9yQgAACCtuH3JCAADwmXEfckIAANgIdR9yQgAAwHd4H3JCAACo5nsfckIAAJBVfx9yQgAAeMSCH3JCAABgM4YfckIAAEiiiR9yQgAAMBGNH3JCAAAYgJAfckIAAADvkx9yQgAA6F2XH3JCAADQzJofckIAALg7nh9yQgAAoKqhH3JCAACIGaUfckIAAHCIqB9yQgAAWPerH3JCAABAZq8fckIAACjVsh9yQgAAEES2H3JCAAD4srkfckIAAOAhvR9yQgAAyJDAH3JCAACw/8MfckIAAJhuxx9yQgAAgN3KH3JCAABoTM4fckIAAFC70R9yQgAAOCrVH3JCAAAgmdgfckIAAAgI3B9yQgAA8HbfH3JCAADY5eIfckIAAMBU5h9yQgAAqMPpH3JCAACQMu0fckIAAHih8B9yQgAAYBD0H3JCAABIf/cfckIAADDu+h9yQgAAGF3+H3JCAAAAzAEgckIAAOg6BSByQgAA0KkIIHJCAAC4GAwgckIAAKCHDyByQgAAiPYSIHJCAABwZRYgckIAAFjUGSByQgAAQEMdIHJCAAAosiAgckIAABAhJCByQgAA+I8nIHJCAADg/iogckIAAMhtLiByQgAAsNwxIHJCAACYSzUgckIAAIC6OCByQgAAaCk8IHJCAABQmD8gckIAADgHQyByQgAAIHZGIHJCAAAI5UkgckIAAPBTTSByQgAA2MJQIHJCAADAMVQgckIAAKigVyByQgAAkA9bIHJCAAB4fl4gckIAAGDtYSByQgAASFxlIHJCAAAwy2ggckIAABg6bCByQgAAAKlvIHJCAADoF3MgckIAANCGdiByQgAAuPV5IHJCAACgZH0gckIAAIjTgCByQgAAcEKEIHJCAABYsYcgckIAAEAgiyByQgAAKI+OIHJCAAAQ/pEgckIAAPhslSByQgAA4NuYIHJCAADISpwgckIAALC5nyByQgAAmCijIHJCAACAl6YgckIAAGgGqiByQgAAUHWtIHJCAAA45LAgckIAACBTtCByQgAACMK3IHJCAADwMLsgckIAANifviByQgAAwA7CIHJCAACofcUgckIAAJDsyCByQgAAeFvMIHJCAABgys8gckIAAEg50yByQgAAMKjWIHJCAAAYF9ogckIAAACG3SByQgAA6PTgIHJCAADQY+QgckIAALjS5yByQgAAoEHrIHJCAACIsO4gckIAAHAf8iByQgAAWI71IHJCAABA/fggckIAAChs/CByQgAAENv/IHJCAAD4SQMhckIAAOC4BiFyQgAAyCcKIXJCAACwlg0hckIAAJgFESFyQgAAgHQUIXJCAABo4xchckIAAFBSGyFyQgAAOMEeIXJCAAAgMCIhckIAAAifJSFyQgAA8A0pIXJCAADYfCwhckIAAMDrLyFyQgAAqFozIXJCAACQyTYhckIAAHg4OiFyQgAAYKc9IXJCAABIFkEhckIAADCFRCFyQgAAGPRHIXJCAAAAY0shckIAAOjRTiFyQgAA0EBSIXJCAAC4r1UhckIAAKAeWSFyQgAAiI1cIXJCAABw/F8hckIAAFhrYyFyQgAAQNpmIXJCAAAoSWohckIAABC4bSFyQgAA+CZxIXJCAADglXQhckIAAMgEeCFyQgAAsHN7IXJCAACY4n4hckIAAIBRgiFyQgAAaMCFIXJCAABQL4khckI=\",\"dtype\":\"float64\",\"order\":\"little\",\"shape\":[589]}},\"selected\":{\"id\":\"1987\"},\"selection_policy\":{\"id\":\"2005\"}},\"id\":\"1986\",\"type\":\"ColumnDataSource\"},{\"attributes\":{\"coordinates\":null,\"data_source\":{\"id\":\"2022\"},\"glyph\":{\"id\":\"2025\"},\"group\":null,\"hover_glyph\":null,\"muted_glyph\":{\"id\":\"2027\"},\"nonselection_glyph\":{\"id\":\"2026\"},\"selection_glyph\":{\"id\":\"2059\"},\"view\":{\"id\":\"2029\"}},\"id\":\"2028\",\"type\":\"GlyphRenderer\"},{\"attributes\":{\"coordinates\":null,\"data_source\":{\"id\":\"1919\"},\"glyph\":{\"id\":\"1922\"},\"group\":null,\"hover_glyph\":null,\"muted_glyph\":{\"id\":\"1924\"},\"nonselection_glyph\":{\"id\":\"1923\"},\"selection_glyph\":{\"id\":\"1951\"},\"view\":{\"id\":\"1926\"}},\"id\":\"1925\",\"type\":\"GlyphRenderer\"},{\"attributes\":{\"data\":{\"Model\":[\"Forecaster\",\"Forecaster\",\"Forecaster\",\"Forecaster\",\"Forecaster\",\"Forecaster\",\"Forecaster\",\"Forecaster\",\"Forecaster\",\"Forecaster\",\"Forecaster\",\"Forecaster\",\"Forecaster\",\"Forecaster\",\"Forecaster\",\"Forecaster\",\"Forecaster\",\"Forecaster\",\"Forecaster\",\"Forecaster\",\"Forecaster\",\"Forecaster\",\"Forecaster\",\"Forecaster\",\"Forecaster\",\"Forecaster\",\"Forecaster\",\"Forecaster\",\"Forecaster\",\"Forecaster\",\"Forecaster\",\"Forecaster\",\"Forecaster\",\"Forecaster\",\"Forecaster\",\"Forecaster\",\"Forecaster\",\"Forecaster\",\"Forecaster\",\"Forecaster\",\"Forecaster\",\"Forecaster\",\"Forecaster\",\"Forecaster\",\"Forecaster\",\"Forecaster\",\"Forecaster\",\"Forecaster\",\"Forecaster\",\"Forecaster\",\"Forecaster\",\"Forecaster\",\"Forecaster\",\"Forecaster\",\"Forecaster\",\"Forecaster\",\"Forecaster\",\"Forecaster\",\"Forecaster\",\"Forecaster\",\"Forecaster\",\"Forecaster\",\"Forecaster\",\"Forecaster\",\"Forecaster\",\"Forecaster\",\"Forecaster\",\"Forecaster\",\"Forecaster\",\"Forecaster\",\"Forecaster\",\"Forecaster\",\"Forecaster\",\"Forecaster\",\"Forecaster\",\"Forecaster\",\"Forecaster\",\"Forecaster\",\"Forecaster\",\"Forecaster\",\"Forecaster\",\"Forecaster\",\"Forecaster\",\"Forecaster\",\"Forecaster\",\"Forecaster\",\"Forecaster\",\"Forecaster\",\"Forecaster\",\"Forecaster\",\"Forecaster\",\"Forecaster\",\"Forecaster\",\"Forecaster\",\"Forecaster\",\"Forecaster\",\"Forecaster\",\"Forecaster\",\"Forecaster\",\"Forecaster\",\"Forecaster\",\"Forecaster\",\"Forecaster\",\"Forecaster\",\"Forecaster\",\"Forecaster\",\"Forecaster\",\"Forecaster\",\"Forecaster\",\"Forecaster\",\"Forecaster\",\"Forecaster\",\"Forecaster\",\"Forecaster\",\"Forecaster\",\"Forecaster\",\"Forecaster\",\"Forecaster\",\"Forecaster\",\"Forecaster\",\"Forecaster\",\"Forecaster\",\"Forecaster\",\"Forecaster\",\"Forecaster\",\"Forecaster\",\"Forecaster\",\"Forecaster\",\"Forecaster\",\"Forecaster\",\"Forecaster\",\"Forecaster\",\"Forecaster\",\"Forecaster\",\"Forecaster\",\"Forecaster\",\"Forecaster\",\"Forecaster\",\"Forecaster\",\"Forecaster\",\"Forecaster\",\"Forecaster\",\"Forecaster\",\"Forecaster\",\"Forecaster\",\"Forecaster\",\"Forecaster\",\"Forecaster\",\"Forecaster\",\"Forecaster\",\"Forecaster\",\"Forecaster\",\"Forecaster\",\"Forecaster\",\"Forecaster\",\"Forecaster\",\"Forecaster\",\"Forecaster\",\"Forecaster\",\"Forecaster\",\"Forecaster\",\"Forecaster\",\"Forecaster\",\"Forecaster\",\"Forecaster\",\"Forecaster\",\"Forecaster\",\"Forecaster\",\"Forecaster\",\"Forecaster\",\"Forecaster\",\"Forecaster\",\"Forecaster\",\"Forecaster\",\"Forecaster\",\"Forecaster\",\"Forecaster\",\"Forecaster\",\"Forecaster\",\"Forecaster\",\"Forecaster\",\"Forecaster\",\"Forecaster\",\"Forecaster\",\"Forecaster\",\"Forecaster\",\"Forecaster\",\"Forecaster\",\"Forecaster\",\"Forecaster\",\"Forecaster\",\"Forecaster\",\"Forecaster\",\"Forecaster\",\"Forecaster\",\"Forecaster\",\"Forecaster\",\"Forecaster\",\"Forecaster\",\"Forecaster\",\"Forecaster\",\"Forecaster\",\"Forecaster\",\"Forecaster\",\"Forecaster\",\"Forecaster\",\"Forecaster\",\"Forecaster\",\"Forecaster\",\"Forecaster\",\"Forecaster\",\"Forecaster\",\"Forecaster\",\"Forecaster\",\"Forecaster\",\"Forecaster\",\"Forecaster\",\"Forecaster\",\"Forecaster\",\"Forecaster\",\"Forecaster\",\"Forecaster\",\"Forecaster\",\"Forecaster\",\"Forecaster\",\"Forecaster\",\"Forecaster\",\"Forecaster\",\"Forecaster\",\"Forecaster\",\"Forecaster\",\"Forecaster\",\"Forecaster\",\"Forecaster\",\"Forecaster\",\"Forecaster\",\"Forecaster\",\"Forecaster\",\"Forecaster\",\"Forecaster\",\"Forecaster\",\"Forecaster\",\"Forecaster\",\"Forecaster\",\"Forecaster\",\"Forecaster\",\"Forecaster\",\"Forecaster\",\"Forecaster\",\"Forecaster\",\"Forecaster\",\"Forecaster\",\"Forecaster\",\"Forecaster\",\"Forecaster\",\"Forecaster\",\"Forecaster\",\"Forecaster\",\"Forecaster\",\"Forecaster\",\"Forecaster\",\"Forecaster\",\"Forecaster\",\"Forecaster\",\"Forecaster\",\"Forecaster\",\"Forecaster\",\"Forecaster\",\"Forecaster\",\"Forecaster\",\"Forecaster\",\"Forecaster\",\"Forecaster\",\"Forecaster\",\"Forecaster\",\"Forecaster\",\"Forecaster\",\"Forecaster\",\"Forecaster\",\"Forecaster\",\"Forecaster\",\"Forecaster\",\"Forecaster\",\"Forecaster\",\"Forecaster\",\"Forecaster\",\"Forecaster\",\"Forecaster\",\"Forecaster\",\"Forecaster\",\"Forecaster\",\"Forecaster\",\"Forecaster\",\"Forecaster\",\"Forecaster\",\"Forecaster\",\"Forecaster\",\"Forecaster\",\"Forecaster\",\"Forecaster\",\"Forecaster\",\"Forecaster\",\"Forecaster\",\"Forecaster\",\"Forecaster\",\"Forecaster\",\"Forecaster\",\"Forecaster\",\"Forecaster\",\"Forecaster\",\"Forecaster\",\"Forecaster\",\"Forecaster\",\"Forecaster\",\"Forecaster\",\"Forecaster\",\"Forecaster\",\"Forecaster\",\"Forecaster\",\"Forecaster\",\"Forecaster\",\"Forecaster\",\"Forecaster\",\"Forecaster\",\"Forecaster\",\"Forecaster\",\"Forecaster\",\"Forecaster\",\"Forecaster\",\"Forecaster\",\"Forecaster\",\"Forecaster\",\"Forecaster\",\"Forecaster\",\"Forecaster\",\"Forecaster\",\"Forecaster\",\"Forecaster\",\"Forecaster\",\"Forecaster\",\"Forecaster\",\"Forecaster\",\"Forecaster\",\"Forecaster\",\"Forecaster\",\"Forecaster\",\"Forecaster\",\"Forecaster\",\"Forecaster\",\"Forecaster\",\"Forecaster\",\"Forecaster\",\"Forecaster\",\"Forecaster\",\"Forecaster\",\"Forecaster\",\"Forecaster\",\"Forecaster\",\"Forecaster\",\"Forecaster\",\"Forecaster\",\"Forecaster\",\"Forecaster\",\"Forecaster\",\"Forecaster\",\"Forecaster\",\"Forecaster\",\"Forecaster\",\"Forecaster\",\"Forecaster\",\"Forecaster\",\"Forecaster\",\"Forecaster\",\"Forecaster\",\"Forecaster\",\"Forecaster\",\"Forecaster\",\"Forecaster\",\"Forecaster\",\"Forecaster\",\"Forecaster\",\"Forecaster\",\"Forecaster\",\"Forecaster\",\"Forecaster\",\"Forecaster\",\"Forecaster\",\"Forecaster\",\"Forecaster\",\"Forecaster\",\"Forecaster\",\"Forecaster\",\"Forecaster\",\"Forecaster\",\"Forecaster\",\"Forecaster\",\"Forecaster\",\"Forecaster\",\"Forecaster\",\"Forecaster\",\"Forecaster\",\"Forecaster\",\"Forecaster\",\"Forecaster\",\"Forecaster\",\"Forecaster\",\"Forecaster\",\"Forecaster\",\"Forecaster\",\"Forecaster\",\"Forecaster\",\"Forecaster\",\"Forecaster\",\"Forecaster\",\"Forecaster\",\"Forecaster\",\"Forecaster\",\"Forecaster\",\"Forecaster\",\"Forecaster\",\"Forecaster\",\"Forecaster\",\"Forecaster\",\"Forecaster\",\"Forecaster\",\"Forecaster\",\"Forecaster\",\"Forecaster\",\"Forecaster\",\"Forecaster\",\"Forecaster\",\"Forecaster\",\"Forecaster\",\"Forecaster\",\"Forecaster\",\"Forecaster\",\"Forecaster\",\"Forecaster\",\"Forecaster\",\"Forecaster\",\"Forecaster\",\"Forecaster\",\"Forecaster\",\"Forecaster\",\"Forecaster\",\"Forecaster\",\"Forecaster\",\"Forecaster\",\"Forecaster\",\"Forecaster\",\"Forecaster\",\"Forecaster\",\"Forecaster\",\"Forecaster\",\"Forecaster\",\"Forecaster\",\"Forecaster\",\"Forecaster\",\"Forecaster\",\"Forecaster\",\"Forecaster\",\"Forecaster\",\"Forecaster\",\"Forecaster\",\"Forecaster\",\"Forecaster\",\"Forecaster\",\"Forecaster\",\"Forecaster\",\"Forecaster\",\"Forecaster\",\"Forecaster\",\"Forecaster\",\"Forecaster\",\"Forecaster\",\"Forecaster\",\"Forecaster\",\"Forecaster\",\"Forecaster\",\"Forecaster\",\"Forecaster\",\"Forecaster\",\"Forecaster\",\"Forecaster\",\"Forecaster\",\"Forecaster\",\"Forecaster\",\"Forecaster\",\"Forecaster\",\"Forecaster\",\"Forecaster\",\"Forecaster\",\"Forecaster\",\"Forecaster\",\"Forecaster\",\"Forecaster\",\"Forecaster\",\"Forecaster\",\"Forecaster\",\"Forecaster\",\"Forecaster\",\"Forecaster\",\"Forecaster\",\"Forecaster\",\"Forecaster\",\"Forecaster\",\"Forecaster\",\"Forecaster\",\"Forecaster\",\"Forecaster\",\"Forecaster\",\"Forecaster\",\"Forecaster\",\"Forecaster\",\"Forecaster\",\"Forecaster\",\"Forecaster\",\"Forecaster\",\"Forecaster\",\"Forecaster\",\"Forecaster\",\"Forecaster\",\"Forecaster\",\"Forecaster\",\"Forecaster\",\"Forecaster\",\"Forecaster\",\"Forecaster\",\"Forecaster\",\"Forecaster\",\"Forecaster\",\"Forecaster\",\"Forecaster\",\"Forecaster\",\"Forecaster\",\"Forecaster\",\"Forecaster\",\"Forecaster\",\"Forecaster\",\"Forecaster\",\"Forecaster\",\"Forecaster\",\"Forecaster\",\"Forecaster\",\"Forecaster\",\"Forecaster\",\"Forecaster\",\"Forecaster\",\"Forecaster\",\"Forecaster\",\"Forecaster\",\"Forecaster\",\"Forecaster\",\"Forecaster\",\"Forecaster\",\"Forecaster\",\"Forecaster\",\"Forecaster\",\"Forecaster\",\"Forecaster\",\"Forecaster\",\"Forecaster\",\"Forecaster\",\"Forecaster\",\"Forecaster\",\"Forecaster\",\"Forecaster\",\"Forecaster\",\"Forecaster\",\"Forecaster\",\"Forecaster\",\"Forecaster\",\"Forecaster\",\"Forecaster\",\"Forecaster\",\"Forecaster\",\"Forecaster\",\"Forecaster\",\"Forecaster\",\"Forecaster\",\"Forecaster\",\"Forecaster\",\"Forecaster\",\"Forecaster\",\"Forecaster\",\"Forecaster\",\"Forecaster\",\"Forecaster\",\"Forecaster\"],\"Predicted Score\":{\"__ndarray__\":\"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\",\"dtype\":\"float64\",\"order\":\"little\",\"shape\":[589]},\"Predicted_Score\":{\"__ndarray__\":\"JudP4Izd0T8OjLyFsNPRP+XAzj/mytE/5cDOP+bK0T/lwM4/5srRP+XAzj/mytE/5cDOP+bK0T/lwM4/5srRP+XAzj/mytE/5cDOP+bK0T/lwM4/5srRP+XAzj/mytE/5cDOP+bK0T/lwM4/5srRP+XAzj/mytE/5cDOP+bK0T/lwM4/5srRP+XAzj/mytE/5cDOP+bK0T/lwM4/5srRP+XAzj/mytE/5cDOP+bK0T/lwM4/5srRP+XAzj/mytE/5cDOP+bK0T/lwM4/5srRP+XAzj/mytE/5cDOP+bK0T/lwM4/5srRP+XAzj/mytE/5cDOP+bK0T/lwM4/5srRP+XAzj/mytE/5cDOP+bK0T/lwM4/5srRP+XAzj/mytE/5cDOP+bK0T/lwM4/5srRP+XAzj/mytE/5cDOP+bK0T/lwM4/5srRP+XAzj/mytE/5cDOP+bK0T/lwM4/5srRP+XAzj/mytE/5cDOP+bK0T/lwM4/5srRP+XAzj/mytE/5cDOP+bK0T/lwM4/5srRP+XAzj/mytE/5cDOP+bK0T/lwM4/5srRP+XAzj/mytE/5cDOP+bK0T/lwM4/5srRP+XAzj/mytE/5cDOP+bK0T/lwM4/5srRP+XAzj/mytE/5cDOP+bK0T/lwM4/5srRP+XAzj/mytE/5cDOP+bK0T/lwM4/5srRP+XAzj/mytE/5cDOP+bK0T/lwM4/5srRP+XAzj/mytE/5cDOP+bK0T/lwM4/5srRP+XAzj/mytE/5cDOP+bK0T/lwM4/5srRP+XAzj/mytE/5cDOP+bK0T/lwM4/5srRP+XAzj/mytE/5cDOP+bK0T/lwM4/5srRP+XAzj/mytE/5cDOP+bK0T/lwM4/5srRP+XAzj/mytE/5cDOP+bK0T/lwM4/5srRP+XAzj/mytE/5cDOP+bK0T/lwM4/5srRP+XAzj/mytE/5cDOP+bK0T/lwM4/5srRP+XAzj/mytE/5cDOP+bK0T/lwM4/5srRP+XAzj/mytE/5cDOP+bK0T/lwM4/5srRP+XAzj/mytE/5cDOP+bK0T/lwM4/5srRP+XAzj/mytE/5cDOP+bK0T/lwM4/5srRP+XAzj/mytE/5cDOP+bK0T/lwM4/5srRP+XAzj/mytE/5cDOP+bK0T/lwM4/5srRP+XAzj/mytE/5cDOP+bK0T/lwM4/5srRP+XAzj/mytE/5cDOP+bK0T/lwM4/5srRP+XAzj/mytE/5cDOP+bK0T/lwM4/5srRP+XAzj/mytE/5cDOP+bK0T/lwM4/5srRP+XAzj/mytE/5cDOP+bK0T/lwM4/5srRP+XAzj/mytE/5cDOP+bK0T/lwM4/5srRP+XAzj/mytE/5cDOP+bK0T/lwM4/5srRP+XAzj/mytE/5cDOP+bK0T/lwM4/5srRP+XAzj/mytE/5cDOP+bK0T/lwM4/5srRP+XAzj/mytE/5cDOP+bK0T/lwM4/5srRP+XAzj/mytE/5cDOP+bK0T/lwM4/5srRP+XAzj/mytE/5cDOP+bK0T/lwM4/5srRP+XAzj/mytE/5cDOP+bK0T/lwM4/5srRP+XAzj/mytE/5cDOP+bK0T/lwM4/5srRP+XAzj/mytE/5cDOP+bK0T/lwM4/5srRP+XAzj/mytE/5cDOP+bK0T/lwM4/5srRP+XAzj/mytE/5cDOP+bK0T/lwM4/5srRP+XAzj/mytE/5cDOP+bK0T/lwM4/5srRP+XAzj/mytE/5cDOP+bK0T/lwM4/5srRP+XAzj/mytE/5cDOP+bK0T/lwM4/5srRP+XAzj/mytE/5cDOP+bK0T/lwM4/5srRP+XAzj/mytE/5cDOP+bK0T/lwM4/5srRP+XAzj/mytE/5cDOP+bK0T/lwM4/5srRP+XAzj/mytE/5cDOP+bK0T/lwM4/5srRP+XAzj/mytE/5cDOP+bK0T/lwM4/5srRP+XAzj/mytE/5cDOP+bK0T/lwM4/5srRP+XAzj/mytE/5cDOP+bK0T/lwM4/5srRP+XAzj/mytE/5cDOP+bK0T/lwM4/5srRP+XAzj/mytE/5cDOP+bK0T/lwM4/5srRP+XAzj/mytE/5cDOP+bK0T/lwM4/5srRP+XAzj/mytE/5cDOP+bK0T/lwM4/5srRP+XAzj/mytE/5cDOP+bK0T/lwM4/5srRP+XAzj/mytE/5cDOP+bK0T/lwM4/5srRP+XAzj/mytE/5cDOP+bK0T/lwM4/5srRP+XAzj/mytE/5cDOP+bK0T/lwM4/5srRP+XAzj/mytE/5cDOP+bK0T/lwM4/5srRP+XAzj/mytE/5cDOP+bK0T/lwM4/5srRP+XAzj/mytE/5cDOP+bK0T/lwM4/5srRP+XAzj/mytE/5cDOP+bK0T/lwM4/5srRP+XAzj/mytE/5cDOP+bK0T/lwM4/5srRP+XAzj/mytE/5cDOP+bK0T/lwM4/5srRP+XAzj/mytE/5cDOP+bK0T/lwM4/5srRP+XAzj/mytE/5cDOP+bK0T/lwM4/5srRP+XAzj/mytE/5cDOP+bK0T/lwM4/5srRP+XAzj/mytE/5cDOP+bK0T/lwM4/5srRP+XAzj/mytE/5cDOP+bK0T/lwM4/5srRP+XAzj/mytE/5cDOP+bK0T/lwM4/5srRP+XAzj/mytE/5cDOP+bK0T/lwM4/5srRP+XAzj/mytE/5cDOP+bK0T/lwM4/5srRP+XAzj/mytE/5cDOP+bK0T/lwM4/5srRP+XAzj/mytE/5cDOP+bK0T/lwM4/5srRP+XAzj/mytE/5cDOP+bK0T/lwM4/5srRP+XAzj/mytE/5cDOP+bK0T/lwM4/5srRP+XAzj/mytE/5cDOP+bK0T/lwM4/5srRP+XAzj/mytE/5cDOP+bK0T/lwM4/5srRP+XAzj/mytE/5cDOP+bK0T/lwM4/5srRP+XAzj/mytE/5cDOP+bK0T/lwM4/5srRP+XAzj/mytE/5cDOP+bK0T/lwM4/5srRP+XAzj/mytE/5cDOP+bK0T/lwM4/5srRP+XAzj/mytE/5cDOP+bK0T/lwM4/5srRP+XAzj/mytE/5cDOP+bK0T/lwM4/5srRP+XAzj/mytE/5cDOP+bK0T/lwM4/5srRP+XAzj/mytE/5cDOP+bK0T/lwM4/5srRP+XAzj/mytE/5cDOP+bK0T/lwM4/5srRP+XAzj/mytE/5cDOP+bK0T/lwM4/5srRP+XAzj/mytE/5cDOP+bK0T/lwM4/5srRP+XAzj/mytE/5cDOP+bK0T/lwM4/5srRP+XAzj/mytE/5cDOP+bK0T/lwM4/5srRP+XAzj/mytE/5cDOP+bK0T/lwM4/5srRP+XAzj/mytE/5cDOP+bK0T/lwM4/5srRP+XAzj/mytE/5cDOP+bK0T/lwM4/5srRP+XAzj/mytE/5cDOP+bK0T/lwM4/5srRP+XAzj/mytE/5cDOP+bK0T/lwM4/5srRP+XAzj/mytE/5cDOP+bK0T/lwM4/5srRP+XAzj/mytE/5cDOP+bK0T/lwM4/5srRP+XAzj/mytE/5cDOP+bK0T/lwM4/5srRP+XAzj/mytE/5cDOP+bK0T/lwM4/5srRP+XAzj/mytE/5cDOP+bK0T/lwM4/5srRP+XAzj/mytE/5cDOP+bK0T/lwM4/5srRP+XAzj/mytE/5cDOP+bK0T/lwM4/5srRP+XAzj/mytE/5cDOP+bK0T/lwM4/5srRP+XAzj/mytE/5cDOP+bK0T/lwM4/5srRP+XAzj/mytE/5cDOP+bK0T/lwM4/5srRP+XAzj/mytE/5cDOP+bK0T/lwM4/5srRP+XAzj/mytE/5cDOP+bK0T/lwM4/5srRP+XAzj/mytE/5cDOP+bK0T/lwM4/5srRP+XAzj/mytE/5cDOP+bK0T/lwM4/5srRP+XAzj/mytE/5cDOP+bK0T/lwM4/5srRP+XAzj/mytE/5cDOP+bK0T/lwM4/5srRP+XAzj/mytE/5cDOP+bK0T/lwM4/5srRP+XAzj/mytE/5cDOP+bK0T/lwM4/5srRP+XAzj/mytE/5cDOP+bK0T/lwM4/5srRP+XAzj/mytE/5cDOP+bK0T/lwM4/5srRP+XAzj/mytE/5cDOP+bK0T/lwM4/5srRP+XAzj/mytE/5cDOP+bK0T/lwM4/5srRP+XAzj/mytE/5cDOP+bK0T/lwM4/5srRP+XAzj/mytE/5cDOP+bK0T/lwM4/5srRP+XAzj/mytE/5cDOP+bK0T/lwM4/5srRP+XAzj/mytE/5cDOP+bK0T/lwM4/5srRP+XAzj/mytE/5cDOP+bK0T/lwM4/5srRP+XAzj/mytE/5cDOP+bK0T/lwM4/5srRP+XAzj/mytE/5cDOP+bK0T/lwM4/5srRP+XAzj/mytE/5cDOP+bK0T/lwM4/5srRP+XAzj/mytE/5cDOP+bK0T/lwM4/5srRP+XAzj/mytE/5cDOP+bK0T/lwM4/5srRP+XAzj/mytE/5cDOP+bK0T/lwM4/5srRP+XAzj/mytE/5cDOP+bK0T/lwM4/5srRP+XAzj/mytE/5cDOP+bK0T/lwM4/5srRP+XAzj/mytE/5cDOP+bK0T/lwM4/5srRP+XAzj/mytE/5cDOP+bK0T/lwM4/5srRP+XAzj/mytE/5cDOP+bK0T/lwM4/5srRP+XAzj/mytE/5cDOP+bK0T/lwM4/5srRP+XAzj/mytE/5cDOP+bK0T/lwM4/5srRP+XAzj/mytE/5cDOP+bK0T/lwM4/5srRP+XAzj/mytE/5cDOP+bK0T/lwM4/5srRP+XAzj/mytE/5cDOP+bK0T/lwM4/5srRP+XAzj/mytE/5cDOP+bK0T/lwM4/5srRP+XAzj/mytE/5cDOP+bK0T/lwM4/5srRP+XAzj/mytE/5cDOP+bK0T/lwM4/5srRP+XAzj/mytE/5cDOP+bK0T/lwM4/5srRP+XAzj/mytE/5cDOP+bK0T/lwM4/5srRP+XAzj/mytE/5cDOP+bK0T/lwM4/5srRP+XAzj/mytE/5cDOP+bK0T/lwM4/5srRP+XAzj/mytE/5cDOP+bK0T/lwM4/5srRP+XAzj/mytE/5cDOP+bK0T/lwM4/5srRP+XAzj/mytE/5cDOP+bK0T/lwM4/5srRP+XAzj/mytE/5cDOP+bK0T/lwM4/5srRP+XAzj/mytE/5cDOP+bK0T/lwM4/5srRP+XAzj/mytE/5cDOP+bK0T/lwM4/5srRP+XAzj/mytE/5cDOP+bK0T/lwM4/5srRP+XAzj/mytE/5cDOP+bK0T/lwM4/5srRP+XAzj/mytE/5cDOP+bK0T/lwM4/5srRP+XAzj/mytE/5cDOP+bK0T/lwM4/5srRP+XAzj/mytE/5cDOP+bK0T/lwM4/5srRP+XAzj/mytE/5cDOP+bK0T/lwM4/5srRP+XAzj/mytE/5cDOP+bK0T/lwM4/5srRP+XAzj/mytE/5cDOP+bK0T/lwM4/5srRP+XAzj/mytE/5cDOP+bK0T/lwM4/5srRP+XAzj/mytE/5cDOP+bK0T/lwM4/5srRP+XAzj/mytE/5cDOP+bK0T/lwM4/5srRP+XAzj/mytE/5cDOP+bK0T/lwM4/5srRP+XAzj/mytE/5cDOP+bK0T/lwM4/5srRP+XAzj/mytE/5cDOP+bK0T/lwM4/5srRP+XAzj/mytE/5cDOP+bK0T/lwM4/5srRP+XAzj/mytE/5cDOP+bK0T/lwM4/5srRP+XAzj/mytE/5cDOP+bK0T/lwM4/5srRP+XAzj/mytE/5cDOP+bK0T/lwM4/5srRP+XAzj/mytE/5cDOP+bK0T/lwM4/5srRP+XAzj/mytE/5cDOP+bK0T/lwM4/5srRP+XAzj/mytE/5cDOP+bK0T/lwM4/5srRP+XAzj/mytE/5cDOP+bK0T/lwM4/5srRP+XAzj/mytE/5cDOP+bK0T/lwM4/5srRP+XAzj/mytE/5cDOP+bK0T/lwM4/5srRP+XAzj/mytE/5cDOP+bK0T/lwM4/5srRP+XAzj/mytE/5cDOP+bK0T/lwM4/5srRP+XAzj/mytE/5cDOP+bK0T/lwM4/5srRP+XAzj/mytE/5cDOP+bK0T/lwM4/5srRP+XAzj/mytE/5cDOP+bK0T/lwM4/5srRP+XAzj/mytE/5cDOP+bK0T/lwM4/5srRP+XAzj/mytE/5cDOP+bK0T8=\",\"dtype\":\"float64\",\"order\":\"little\",\"shape\":[589]},\"Prediction timestamp\":{\"__ndarray__\":\"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\",\"dtype\":\"float64\",\"order\":\"little\",\"shape\":[589]},\"Prediction_timestamp\":{\"__ndarray__\":\"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\",\"dtype\":\"float64\",\"order\":\"little\",\"shape\":[589]}},\"selected\":{\"id\":\"2023\"},\"selection_policy\":{\"id\":\"2043\"}},\"id\":\"2022\",\"type\":\"ColumnDataSource\"},{\"attributes\":{\"source\":{\"id\":\"2022\"}},\"id\":\"2029\",\"type\":\"CDSView\"},{\"attributes\":{\"client_comm_id\":\"4fdea775f83247fea4a6a5a9a024efc7\",\"comm_id\":\"c98b0c37fc8b486681fbb2f3a61a81b6\",\"plot_id\":\"1872\"},\"id\":\"2172\",\"type\":\"panel.models.comm_manager.CommManager\"},{\"attributes\":{},\"id\":\"2043\",\"type\":\"UnionRenderers\"},{\"attributes\":{\"coordinates\":null,\"group\":null,\"text\":\"Prediction for 3 weeks going forward\",\"text_color\":\"black\",\"text_font_size\":\"12pt\"},\"id\":\"1884\",\"type\":\"Title\"},{\"attributes\":{\"label\":{\"value\":\"Forecaster\"},\"renderers\":[{\"id\":\"2028\"}]},\"id\":\"2058\",\"type\":\"LegendItem\"},{\"attributes\":{},\"id\":\"1901\",\"type\":\"PanTool\"},{\"attributes\":{\"axis\":{\"id\":\"1892\"},\"coordinates\":null,\"grid_line_color\":null,\"group\":null,\"ticker\":null},\"id\":\"1895\",\"type\":\"Grid\"},{\"attributes\":{\"axis_label\":\"Prediction timestamp\",\"coordinates\":null,\"formatter\":{\"id\":\"1914\"},\"group\":null,\"major_label_policy\":{\"id\":\"1915\"},\"ticker\":{\"id\":\"1893\"}},\"id\":\"1892\",\"type\":\"DatetimeAxis\"},{\"attributes\":{},\"id\":\"1890\",\"type\":\"LinearScale\"},{\"attributes\":{\"margin\":[0,0,0,0],\"name\":\"Column03597\"},\"id\":\"1875\",\"type\":\"Column\"},{\"attributes\":{\"num_minor_ticks\":5,\"tickers\":[{\"id\":\"1937\"},{\"id\":\"1938\"},{\"id\":\"1939\"},{\"id\":\"1940\"},{\"id\":\"1941\"},{\"id\":\"1942\"},{\"id\":\"1943\"},{\"id\":\"1944\"},{\"id\":\"1945\"},{\"id\":\"1946\"},{\"id\":\"1947\"},{\"id\":\"1948\"}]},\"id\":\"1893\",\"type\":\"DatetimeTicker\"},{\"attributes\":{\"line_color\":\"#fc4f30\",\"x\":{\"field\":\"Prediction timestamp\"},\"y\":{\"field\":\"Predicted Score\"}},\"id\":\"1985\",\"type\":\"Line\"},{\"attributes\":{\"axis\":{\"id\":\"1896\"},\"coordinates\":null,\"dimension\":1,\"grid_line_color\":null,\"group\":null,\"ticker\":null},\"id\":\"1899\",\"type\":\"Grid\"},{\"attributes\":{},\"id\":\"1897\",\"type\":\"BasicTicker\"},{\"attributes\":{},\"id\":\"1902\",\"type\":\"WheelZoomTool\"},{\"attributes\":{},\"id\":\"1900\",\"type\":\"SaveTool\"},{\"attributes\":{\"coordinates\":null,\"data_source\":{\"id\":\"1986\"},\"glyph\":{\"id\":\"1989\"},\"group\":null,\"hover_glyph\":null,\"muted_glyph\":{\"id\":\"1991\"},\"nonselection_glyph\":{\"id\":\"1990\"},\"selection_glyph\":{\"id\":\"2021\"},\"view\":{\"id\":\"1993\"}},\"id\":\"1992\",\"type\":\"GlyphRenderer\"},{\"attributes\":{\"line_alpha\":0.2,\"line_color\":\"#30a2da\",\"x\":{\"field\":\"Prediction timestamp\"},\"y\":{\"field\":\"Predicted Score\"}},\"id\":\"1924\",\"type\":\"Line\"},{\"attributes\":{\"overlay\":{\"id\":\"1905\"}},\"id\":\"1903\",\"type\":\"BoxZoomTool\"},{\"attributes\":{\"data\":{\"Model\":[\"Actual Value\",\"Actual Value\",\"Actual Value\",\"Actual Value\",\"Actual Value\",\"Actual Value\",\"Actual Value\",\"Actual Value\",\"Actual Value\",\"Actual Value\",\"Actual Value\",\"Actual Value\",\"Actual Value\",\"Actual Value\",\"Actual Value\",\"Actual Value\",\"Actual Value\",\"Actual Value\",\"Actual Value\",\"Actual Value\",\"Actual Value\",\"Actual Value\",\"Actual Value\",\"Actual Value\",\"Actual Value\",\"Actual Value\",\"Actual Value\",\"Actual Value\",\"Actual Value\",\"Actual Value\",\"Actual Value\",\"Actual Value\",\"Actual Value\",\"Actual Value\",\"Actual Value\",\"Actual Value\",\"Actual Value\",\"Actual Value\",\"Actual Value\",\"Actual Value\",\"Actual Value\",\"Actual Value\",\"Actual Value\",\"Actual Value\",\"Actual Value\",\"Actual Value\",\"Actual Value\",\"Actual Value\",\"Actual Value\",\"Actual Value\",\"Actual Value\",\"Actual Value\",\"Actual Value\",\"Actual Value\",\"Actual Value\",\"Actual Value\",\"Actual Value\",\"Actual Value\",\"Actual Value\",\"Actual Value\",\"Actual Value\",\"Actual Value\",\"Actual Value\",\"Actual Value\",\"Actual Value\",\"Actual Value\",\"Actual Value\",\"Actual Value\",\"Actual Value\",\"Actual Value\",\"Actual Value\",\"Actual Value\",\"Actual Value\",\"Actual Value\",\"Actual Value\",\"Actual Value\",\"Actual Value\",\"Actual Value\",\"Actual Value\",\"Actual Value\",\"Actual Value\",\"Actual Value\",\"Actual Value\",\"Actual Value\",\"Actual Value\",\"Actual Value\",\"Actual Value\",\"Actual Value\",\"Actual Value\",\"Actual Value\",\"Actual Value\",\"Actual Value\",\"Actual Value\",\"Actual Value\",\"Actual Value\",\"Actual Value\",\"Actual Value\",\"Actual Value\",\"Actual Value\",\"Actual Value\",\"Actual Value\",\"Actual Value\",\"Actual Value\",\"Actual Value\",\"Actual Value\",\"Actual Value\",\"Actual Value\",\"Actual Value\",\"Actual Value\",\"Actual Value\",\"Actual Value\",\"Actual Value\",\"Actual Value\",\"Actual Value\",\"Actual Value\",\"Actual Value\",\"Actual Value\",\"Actual Value\",\"Actual Value\",\"Actual Value\",\"Actual Value\",\"Actual Value\",\"Actual Value\",\"Actual Value\",\"Actual Value\",\"Actual Value\",\"Actual Value\",\"Actual Value\",\"Actual Value\",\"Actual Value\",\"Actual Value\",\"Actual Value\",\"Actual Value\",\"Actual Value\",\"Actual Value\",\"Actual Value\",\"Actual Value\",\"Actual Value\",\"Actual Value\",\"Actual Value\",\"Actual Value\",\"Actual Value\",\"Actual Value\",\"Actual Value\",\"Actual Value\",\"Actual Value\",\"Actual Value\",\"Actual Value\",\"Actual Value\",\"Actual Value\",\"Actual Value\",\"Actual Value\",\"Actual Value\",\"Actual Value\",\"Actual Value\",\"Actual Value\",\"Actual Value\",\"Actual Value\",\"Actual Value\",\"Actual Value\",\"Actual Value\",\"Actual Value\",\"Actual Value\",\"Actual Value\",\"Actual Value\",\"Actual Value\",\"Actual Value\",\"Actual Value\",\"Actual Value\",\"Actual Value\",\"Actual Value\",\"Actual Value\",\"Actual Value\",\"Actual Value\",\"Actual Value\",\"Actual Value\",\"Actual Value\",\"Actual Value\",\"Actual Value\",\"Actual Value\",\"Actual Value\",\"Actual Value\",\"Actual Value\",\"Actual Value\",\"Actual Value\",\"Actual Value\",\"Actual Value\",\"Actual Value\",\"Actual Value\",\"Actual Value\",\"Actual Value\",\"Actual Value\",\"Actual Value\",\"Actual Value\",\"Actual Value\",\"Actual Value\",\"Actual Value\",\"Actual Value\",\"Actual Value\",\"Actual Value\",\"Actual Value\",\"Actual Value\",\"Actual Value\",\"Actual Value\",\"Actual Value\",\"Actual Value\",\"Actual Value\",\"Actual Value\",\"Actual Value\",\"Actual Value\",\"Actual Value\",\"Actual Value\",\"Actual Value\",\"Actual Value\",\"Actual Value\",\"Actual Value\",\"Actual Value\",\"Actual Value\",\"Actual Value\",\"Actual Value\",\"Actual Value\",\"Actual Value\",\"Actual Value\",\"Actual Value\",\"Actual Value\",\"Actual Value\",\"Actual Value\",\"Actual Value\",\"Actual Value\",\"Actual Value\",\"Actual Value\",\"Actual Value\",\"Actual Value\",\"Actual Value\",\"Actual Value\",\"Actual Value\",\"Actual Value\",\"Actual Value\",\"Actual Value\",\"Actual Value\",\"Actual Value\",\"Actual Value\",\"Actual Value\",\"Actual Value\",\"Actual Value\",\"Actual Value\",\"Actual Value\",\"Actual Value\",\"Actual Value\",\"Actual Value\",\"Actual Value\",\"Actual Value\",\"Actual Value\",\"Actual Value\",\"Actual Value\",\"Actual Value\",\"Actual Value\",\"Actual Value\",\"Actual Value\",\"Actual Value\",\"Actual Value\",\"Actual Value\",\"Actual Value\",\"Actual Value\",\"Actual Value\",\"Actual Value\",\"Actual Value\",\"Actual Value\",\"Actual Value\",\"Actual Value\",\"Actual Value\",\"Actual Value\",\"Actual Value\",\"Actual Value\",\"Actual Value\",\"Actual Value\",\"Actual Value\",\"Actual Value\",\"Actual Value\",\"Actual Value\",\"Actual Value\",\"Actual Value\",\"Actual Value\",\"Actual Value\",\"Actual Value\",\"Actual Value\",\"Actual Value\",\"Actual Value\",\"Actual Value\",\"Actual Value\",\"Actual Value\",\"Actual Value\",\"Actual Value\",\"Actual Value\",\"Actual Value\",\"Actual Value\",\"Actual Value\",\"Actual Value\",\"Actual Value\",\"Actual Value\",\"Actual Value\",\"Actual Value\",\"Actual Value\",\"Actual Value\",\"Actual Value\",\"Actual Value\",\"Actual Value\",\"Actual Value\",\"Actual Value\",\"Actual Value\",\"Actual Value\",\"Actual Value\",\"Actual Value\",\"Actual Value\",\"Actual Value\",\"Actual Value\",\"Actual Value\",\"Actual Value\",\"Actual Value\",\"Actual Value\",\"Actual Value\",\"Actual Value\",\"Actual Value\",\"Actual Value\",\"Actual Value\",\"Actual Value\",\"Actual Value\",\"Actual Value\",\"Actual Value\",\"Actual Value\",\"Actual Value\",\"Actual Value\",\"Actual Value\",\"Actual Value\",\"Actual Value\",\"Actual Value\",\"Actual Value\",\"Actual Value\",\"Actual Value\",\"Actual Value\",\"Actual Value\",\"Actual Value\",\"Actual Value\",\"Actual Value\",\"Actual Value\",\"Actual Value\",\"Actual Value\",\"Actual Value\",\"Actual Value\",\"Actual Value\",\"Actual Value\",\"Actual Value\",\"Actual Value\",\"Actual Value\",\"Actual Value\",\"Actual Value\",\"Actual Value\",\"Actual Value\",\"Actual Value\",\"Actual Value\",\"Actual Value\",\"Actual Value\",\"Actual Value\",\"Actual Value\",\"Actual Value\",\"Actual Value\",\"Actual Value\",\"Actual Value\",\"Actual Value\",\"Actual Value\",\"Actual Value\",\"Actual Value\",\"Actual Value\",\"Actual Value\",\"Actual Value\",\"Actual Value\",\"Actual Value\",\"Actual Value\",\"Actual Value\",\"Actual Value\",\"Actual Value\",\"Actual Value\",\"Actual Value\",\"Actual Value\",\"Actual Value\",\"Actual Value\",\"Actual Value\",\"Actual Value\",\"Actual Value\",\"Actual Value\",\"Actual Value\",\"Actual Value\",\"Actual Value\",\"Actual Value\",\"Actual Value\",\"Actual Value\",\"Actual Value\",\"Actual Value\",\"Actual Value\",\"Actual Value\",\"Actual Value\",\"Actual Value\",\"Actual Value\",\"Actual Value\",\"Actual Value\",\"Actual Value\",\"Actual Value\",\"Actual Value\",\"Actual Value\",\"Actual Value\",\"Actual Value\",\"Actual Value\",\"Actual Value\",\"Actual Value\",\"Actual Value\",\"Actual Value\",\"Actual Value\",\"Actual Value\",\"Actual Value\",\"Actual Value\",\"Actual Value\",\"Actual Value\",\"Actual Value\",\"Actual Value\",\"Actual Value\",\"Actual Value\",\"Actual Value\",\"Actual Value\",\"Actual Value\",\"Actual Value\",\"Actual Value\",\"Actual Value\",\"Actual Value\",\"Actual Value\",\"Actual Value\",\"Actual Value\",\"Actual Value\",\"Actual Value\",\"Actual Value\",\"Actual Value\",\"Actual Value\",\"Actual Value\",\"Actual Value\",\"Actual Value\",\"Actual Value\",\"Actual Value\",\"Actual Value\",\"Actual Value\",\"Actual Value\",\"Actual Value\",\"Actual Value\",\"Actual Value\",\"Actual Value\",\"Actual Value\",\"Actual Value\",\"Actual Value\",\"Actual Value\",\"Actual Value\",\"Actual Value\",\"Actual Value\",\"Actual Value\",\"Actual Value\",\"Actual Value\",\"Actual Value\",\"Actual Value\",\"Actual Value\",\"Actual Value\",\"Actual Value\",\"Actual Value\",\"Actual Value\",\"Actual Value\",\"Actual Value\",\"Actual Value\",\"Actual Value\",\"Actual Value\",\"Actual Value\",\"Actual Value\",\"Actual Value\",\"Actual Value\",\"Actual Value\",\"Actual Value\",\"Actual Value\",\"Actual Value\",\"Actual Value\",\"Actual Value\",\"Actual Value\",\"Actual Value\",\"Actual Value\",\"Actual Value\",\"Actual Value\",\"Actual Value\",\"Actual Value\",\"Actual Value\",\"Actual Value\",\"Actual Value\",\"Actual Value\",\"Actual Value\",\"Actual Value\",\"Actual Value\",\"Actual Value\",\"Actual Value\",\"Actual Value\",\"Actual Value\",\"Actual Value\",\"Actual Value\",\"Actual Value\",\"Actual Value\",\"Actual Value\",\"Actual Value\",\"Actual Value\",\"Actual Value\",\"Actual Value\",\"Actual Value\",\"Actual Value\",\"Actual Value\",\"Actual Value\",\"Actual Value\",\"Actual Value\",\"Actual Value\",\"Actual Value\",\"Actual Value\",\"Actual Value\",\"Actual Value\",\"Actual Value\",\"Actual Value\",\"Actual Value\",\"Actual Value\",\"Actual Value\",\"Actual Value\",\"Actual Value\",\"Actual Value\",\"Actual Value\",\"Actual Value\",\"Actual Value\",\"Actual Value\",\"Actual Value\",\"Actual Value\",\"Actual Value\",\"Actual Value\",\"Actual Value\",\"Actual Value\",\"Actual Value\",\"Actual Value\",\"Actual Value\",\"Actual Value\",\"Actual Value\",\"Actual Value\",\"Actual Value\",\"Actual Value\",\"Actual Value\",\"Actual Value\",\"Actual Value\",\"Actual Value\",\"Actual Value\",\"Actual Value\",\"Actual Value\",\"Actual Value\",\"Actual Value\",\"Actual Value\",\"Actual Value\",\"Actual Value\",\"Actual Value\",\"Actual Value\",\"Actual Value\",\"Actual Value\",\"Actual Value\",\"Actual Value\",\"Actual Value\",\"Actual Value\",\"Actual Value\",\"Actual Value\",\"Actual Value\",\"Actual Value\",\"Actual Value\",\"Actual Value\",\"Actual Value\",\"Actual Value\",\"Actual Value\",\"Actual Value\",\"Actual Value\",\"Actual Value\",\"Actual Value\",\"Actual Value\",\"Actual Value\",\"Actual Value\",\"Actual Value\",\"Actual Value\",\"Actual Value\",\"Actual Value\"],\"Predicted Score\":{\"__ndarray__\":\"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\",\"dtype\":\"float64\",\"order\":\"little\",\"shape\":[589]},\"Predicted_Score\":{\"__ndarray__\":\"kPi6WmTj0T/b3fkzC9nRP3H5bmGEydE/W0QpBKq30T+RySqk3qTRP7x1e/lVmNE/6ciPPg2R0T+B5oSVlo3RP9PrZbp4hdE/T4+uFyCD0T8eyctfon/RP86cSEkvb9E/E5p4sy5Z0T9t/LTYxj/RPz9lN5QYNtE/9y4ImI0x0T/7ylcyxyfRP4MNxbTcH9E/CnYQafwg0T9Jp1kZnirRP5rTGmwUMtE/kPtLMtEz0T8pkJFgIzjRP6bA/3RdQtE/udqb/9FG0T+2oXTGDVHRPxR6ZaSxYNE/WhYUaMtg0T/9XOSfU2TRP6uaOsPbb9E/KzZA0LSB0T9Ieajo0IbRP8A7VQiFiNE/X1XoBd140T9HKh1a9GHRP50c94muS9E/PXkt2SQ40T9vhU0VWjrRP7gC89R+LtE/nBvtZR0b0T/7ufnaWwXRP7SEyQ2s8NA/dBrTGefS0D+33V5886nQP+sxfIAvjtA/PmzaOEmF0D+cYlELY4TQP5u69zWaiNA/whZaQEKS0D9iqlWA55vQP4fd14XfntA/iFRE1Fqr0D/JdCB4zbfQP+70N6hnudA/8k17YcK70D+Dpor8Y83QPxSCecQH3tA/jqO/XoHs0D82T4uQm/TQP0XoFSSCB9E/RjleEGwZ0T+mP/bODhXRP6Cv7Tz1B9E/35HuwNv00D+U9/yytuPQP9/Vy0tI2tA/s/G+3C7e0D/Xz4McTfHQP6XL8ZKlDtE/dmhd01kl0T8Yj3tCeinRP/3T6jyZGtE/87IC3Z4K0T87JQluTAXRPzDPrrs9+9A/uDFNTdTg0D93eSRQoM/QP6KdWKVmwdA/1BxYhBK30D9/dE28crHQP2OXa7UbsdA/zWKX7E220D+d+AcQ6MDQP8v8Bk1p0NA/Zp3xnAPk0D/e2+NCu+HQP6aycZurx9A/M4iiVvus0D+O/bYlMZLQPwH/wEPQd9A/wK/ViFBe0D+iZlYsGEbQPy/C/cd3L9A/F0Ouvaga0D/IujjAzQfQP2Mf9bWXPtA/PGwckB2S0D8YjzLJcJ/QP8zvtO+3rNA/0AYF/ti20D9m11MuVcjQP8GqcPPl0tA/vXKLWX/N0D+pJclHpNbQP8uG/Usa2NA/UTtuw9ne0D9jXlmnNeHQP5+8k4P6+dA/DLIIt4gO0T/QUZzlfRXRPxzcAW5qPNE/8QiEbTBt0T8SYggU/5LRP5zsRmjEq9E/9uGfJPzF0T8RseCkI9DRP8Mkm+NE0NE/sXxiib/W0T+zxIQ9QNzRP0n6t5HA0dE/CrmhjHi+0T9vJwVm9a3RP7YwuLZ7l9E/YoortSyM0T8uv2f6An/RP08b3R5gdtE/kUjy7ENz0T8QXxJdi2HRPwnnaNh7RtE/veVTUMQo0T9ilD27QBzRP3wWw7TsENE/5cpKoFkK0T/619VpoxbRPxvHqVJMF9E/KNhhy14O0T9pP4JT5RDRP63vdjBbGNE/e83pIDkV0T+YiMDD9RvRP4CZQXnsLtE/X2DLoe440T97r4r/tz/RP/W7S4aWRdE/C8Xp2CdM0T9AwHiVrVPRP6OKOSuxVtE/u5Mb2Uxh0T+qggyHW23RP9V5LMuecNE/gPtBnh9w0T+aK/SsinHRPz280B0CedE/xGbfK4Z90T9doAxaWYfRPx84JDsRj9E/zg295y2P0T9R7E7/JYfRPwd4y95RedE/afuK1eFr0T/qmTTcS1bRP9pWGtBHQ9E/64aBiEA60T/NUd7S7THRP+sWm800ItE/Nh8oq9UW0T/ZzTqQyA/RP+h6DoJECdE/EE7vCMYH0T/uHHgmAxnRP+dwjTHtQNE/t4SNlrlU0T9ohbrre2DRP9i9OocMftE/QIk8eP+s0T+c6iEne/HRP1l2vZWdVNI/Z2znCRDS0j8WitqfXB3TP+soeBRkKdM/vp+CT34r0z+DQSdnnC3TP7aaE2a+L9M/H7ocV+Qx0z9F6D9FDjTTP9Fiozs8NtM/CRyXRW440z+WfpVupDrTP4g1RMLePNM/yfh0TB0/0z8sXiYZYEHTPxyvhDSnQ9M/G8PqqvJF0z8W3+KIQkjTP+iZJ9uWStM/8cWkru9M0z/6X3gQTU/TP6SD8w2vUdM/XmWbtBVU0z8pUioSgVbTPyy1kDTxWNM/giP2KWZb0z8bbroA4F3TPxS6dsdeYNM/tZ/+jOJi0z8KUGFga2XTP5DB6lD5Z9M/8+Mkboxq0z8o29jHJG3TPxBCEG7Cb9M/3HQWcWVy0z9o43nhDXXTP8ZrDdC7d9M/N73pTW960z/Ww25sKH3TPyMdRT3nf9M/u5Vf0quC0z+HsPw9doXTP5g3qJJGiNM/Ctc84xyL0z8fwuVC+Y3TPwFjIMXbkNM/YRW+fcST0z9N7OWAs5bTP5aDFuOomdM/Fd0nuaSc0z9ASk0Yp5/TP0NiFxawotM/NgV2yL+l0z+ebLpF1qjTP9xJmaTzq9M/rPIs/Bev0z90nPdjQ7LTP5am5fN1tdM/a/RPxK+40z9AV/7t8LvTP/QIKoo5v9M/nTeAsonC0z/eoiSB4cXTP2pLtBBBydM/RTVIfKjM0z9uPXjfF9DTP4cDXlaP09M/G+iX/Q7X0z8wIEzyltrTP+veK1In3tM/25V2O8Dh0z/LTP3MYeXTP9ARJiYM6dM/UoLvZr/s0z8obvSve/DTPziVbyJB9NM//oA/4A/40z92euoL6PvTP8GdosjJ/9M/QwxKOrUD1D96PneFqgfUP212ec+pC9Q/KlRdPrMP1D8VjfH4xhPUP5/HyyblF9Q/hZxN8A0c1D/nvql+QSDUP6JM6ft/JNQ/Wkjxksko1D/EPohvHi3UP50YXL5+MdQ/EhsIreo11D81GBtqYjrUP0fRHSXmPtQ/uIyZDnZD1D+r4R5YEkjUPzS7TDS7TNQ/H5XX1nBR1D+e9JB0M1bUPyQfb0MDW9Q/nxGVeuBf1D++ulpSy2TUP7V6VQTEadQ/Nutgy8pu1D9/8qfj33PUP1gkrooDedQ/IXRZ/zV+1D8eO/yBd4PUP2qWX1TIiNQ/+h/OuSiO1D9yBh/3mJPUP6KHwVIZmdQ/mdHIFKqe1D+yTviGS6TUP8Bg0PT9qdQ/QJCbq8Gv1D8cNHz6lrXUP3CXejJ+u9Q/JqKTpnfB1D9vCsirg8fUP6wULJmizdQ/+Of3x9TT1D/JfZiTGtrUP24zwVl04NQ/ZgR+euLm1D8kdUZYZe3UP/c1EVj989Q/Z4Zo4ar61D+cYX9ebgHVP/p8RzxICNU/ZiKI6jgP1T9f8PXbQBbVP32KS4ZgHdU/h0VjYpgk1T/J2lHs6CvVPzAvgqNSM9U/IzvSCtY61T/vILGoc0LVPziAPgcsStU/7BVrtP9R1T+5uBpC71nVP9CXV3IaUtU/TF+1YRcs1T9rF0ld/+zUP4/8u0VdnNQ/3RdmZC9C1D+9DGWTXeXTPznn/Yv9itM/DAzuu0Y20z/Dce0OCuXSP1MzFVOEq9I/jlqu6U+e0j/AiLjdYIXSPw0lU2TkUtI/TJwF0LYo0j95PZT/2v7RPyL+1fkq4NE/irt7cpjM0T8/lC2lDLrRPx+kT8Gsm9E/YbnWdUZr0T9GB0+LSUHRPxYiAFqILdE/tu1tErMW0T+6VCe4qOzQPyfPk3eFxNA/6kYt/qKn0D8QcAfdHZTQP1kTAtXFgdA/bxbxLY500D87cKVnP2TQPx0XjgDtT9A/EIsMmL9D0D8en2PDFTrQP4UdK6pVOdA/2ikn5ys10D9oQNG4UTLQP2HfHMrUNtA/cgg9uJc00D9awkCxUTXQP4Fp7Z9pMtA/x6X7Kc0o0D/WYW81NBLQP9jLWFC4ts8/vcmmP98tzz/ReHmoB57OP0NVR+3t8c0/4PqKDUhBzT+jN8SOUOjMP6Uye5oan8w/xYV8o3Dxyz8HFjG5vgLLP5x+uuIe+8k/zD7EdczjyD8iWOSD/cDHP6zUPCBXmMY/uOVgnlpFxT/yVrb7c8vDP7MhmZZgG8I/7h2DMbw+wD9IW5q1QKq8P0GR6+LGhLg/hb5GOCr4sz/zYUVKiIqtP9zBJ20oMqI/XQxFm0qSiT/EZVMH9IOCv20aPH3MRpO/ik5k8eAvk78hzgAZHbOSvyOYYt7aA5O/gfhrCwNWk7+R3j/0ZyqTv60fLEtthZO/0tY4AzZJlL/h6MUmTKSUv/eJ8Kb1w5S/vN9sntf1lL+nRGHA2q2Tv9G+XvHl6ZK/FWO5CO9ClL8IxaeYiGeUv3d0TLxc55O/5/JHuaWLk7+0ZQX7/i+Tv+ey8Ifs5pK/VI10KKxak7+Ckmeq9/aTv4/0fRJEpJS/cwBxMZgdlb9+KIC811+VvwRGnhDgT5a/Nc1C+WQRl79EQPyhchKXv4wphFkIuJa//JItSq4Ml79fPu+ofHmWvyM8BjAxeZW/LI2ddVK1lL/NEdcFl6OTv5/LPeDun5K/fkMcPg6Ukr8ELr49lK2Uv3XTU3s0FJW/4uKlWFYckr87QS5uq4WQv0fCkryIx5C/30d77X8+kL8Dpw3wqfGOvwEG8UkKOY+/oK6T4Nfqjr99XNdN8EyNv7gErl34ooq/rOLbFJOFib9Top+we/KIv9Yb4/gVM4e/zR/PM5/bhb9e3yQ8YUyEv/UskrGJB4O/F3SF7lYRgr+0KsvI2g+Cv/mu+EjmxoC/utmJVxDBf7+tMAzDMIyBv0giD7yfC4S/tXqpgffdhL9GQutE86ODv+jAEGKsv4a/nVTFa7Agir9Pm85o0OGJv8TgOLmjb4q/uJx2F2i+jL8BpsEJJrWNv8fMH/B/DIy/UkrV0aRDir+ylWQrDyaLv4n22FpDyo6/B/kXZ36djb/rAdg3SOuKv+3Ol4x4CIq/rOjsym19ib9K0DHHm9WJvyotadYWfom/GNddPJ6NiL/CACtHTBiIv9lvpExmX4i/pvvajJKQh79ggRk2ncGGv6wmAxe6a4a/nz7w2kJxhb/WzSpqtjaEv1GxFrY8H4O/a74e1jjvg7/7Q45lef6Fv6Hzug6NFYS/4OJGHvaxgL+RsR+WMoOAvwagKBscmoC/nVKrB/DPfr8DNspvF917v0harc8riXe/QoG5zw+Wdb+yROr8YhBzv8dUHZ2ibGm/+xjXUdkDVL/B/0tAGTMxP8Kq7JDTK18/u1Hn07Gtbz92e3rbX6B2P5saofq+Lnw/hkhj2xwZgD/87WHVcQSEPy9YW8k8sIk/66GGUcJ3jT9B34B4UiuQP/uqsTmSuZI/px2thARwlT9QTSE02p+XPw3Hbt2YZ5g/tcvau4eOmD+4w/PDJ52ZP1nSu3pX+Jo//MibNu8CnD+KeIeyHL2dP2eia0nTZZ8/JVMCgad3nz+QU+SlUImfPzLQ4ec7jJ8/dcL7Bvfynj+S16HR4T2dP0B+1FYnUps/w++FVTUUmD9bpfWcwr+TP99Fwfm2H48/NRWFc3gwhT/CoB9tm1Z2Py2A+TP/Fx6/wVtTQ/Jseb+2vJyO3OiGv2ylUtr7fI6/6Ksr+lIhk7/a6pq3KguXv2TSO3+m55q/Ftrzrdqgnr8uBuFjWRChv/yUxmZBqaK/s+S8WEcSpL/LygTPpkSlv631suEcPKa/W0ou8wn3pr+HsFlh4JOmv641RWE4xaW/qtzsw143pb+I5gS0zSalv/WKRvD7EKa/ZRV3zS7Dpb/lSKHwUY+kv17JW18n6KO/EFP/f6bZo7/pCvTVnVWjv+4leu9nFqK/z4534CXzoL/yBr6caeufv7BRaXEUwp6/5O+ecJfInb9UwZuQPfOcv6Ik/v2II5y/PLxSbBFYm7/Q+zwmbI+avzGXjCEiyJm/vwRrj6QAmb9ekAAIPzeYv3QQlhkGape/Srrjd8CWlr87SpN5gx+XvwYGlvpONpi/5/K0PlLVmL9CALu4dCiZvwI8LclGM5m/ewAty6TAm79ydmTq07Ggvxa0oUQxQqS/asOiiEYCp79DKO1T6Jqrv0RhNFGfPrG/JMLSIFocs7/G9DSqpeS0v7Yg/aqeqbG/SNwoGft/qr8yD18PEjKmv51P04OYRqS/VdLs8lz/or+QTK0cblmiv018Pky/g6G/pez/91SQoL+15UcpGDKgv0xB9RWv7pu/4rDQl242lb9NIvcb8R+Sv5aWq9VtapC/kosntfYykL+tbjraZuuav6iY43zurJq/BjtuX+pxmr/tkm8kEzqavztM8OgoBZq/Cm4OUPLSmb/kEB+zO6OZvxD+GnDWdZm/pQxPUZhKmb8WoTcKWyGZvy5pLMb7+Zi/tsEZxlrUmL8=\",\"dtype\":\"float64\",\"order\":\"little\",\"shape\":[589]},\"Prediction timestamp\":{\"__ndarray__\":\"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\",\"dtype\":\"float64\",\"order\":\"little\",\"shape\":[589]},\"Prediction_timestamp\":{\"__ndarray__\":\"AABwcqYZckIAAFjhqRlyQgAAQFCtGXJCAAAov7AZckIAABAutBlyQgAA+Jy3GXJCAADgC7sZckIAAMh6vhlyQgAAsOnBGXJCAACYWMUZckIAAIDHyBlyQgAAaDbMGXJCAABQpc8ZckIAADgU0xlyQgAAIIPWGXJCAAAI8tkZckIAAPBg3RlyQgAA2M/gGXJCAADAPuQZckIAAKit5xlyQgAAkBzrGXJCAAB4i+4ZckIAAGD68RlyQgAASGn1GXJCAAAw2PgZckIAABhH/BlyQgAAALb/GXJCAADoJAMackIAANCTBhpyQgAAuAIKGnJCAACgcQ0ackIAAIjgEBpyQgAAcE8UGnJCAABYvhcackIAAEAtGxpyQgAAKJweGnJCAAAQCyIackIAAPh5JRpyQgAA4OgoGnJCAADIVywackIAALDGLxpyQgAAmDUzGnJCAACApDYackIAAGgTOhpyQgAAUII9GnJCAAA48UAackIAACBgRBpyQgAACM9HGnJCAADwPUsackIAANisThpyQgAAwBtSGnJCAACoilUackIAAJD5WBpyQgAAeGhcGnJCAABg118ackIAAEhGYxpyQgAAMLVmGnJCAAAYJGoackIAAACTbRpyQgAA6AFxGnJCAADQcHQackIAALjfdxpyQgAAoE57GnJCAACIvX4ackIAAHAsghpyQgAAWJuFGnJCAABACokackIAACh5jBpyQgAAEOiPGnJCAAD4VpMackIAAODFlhpyQgAAyDSaGnJCAACwo50ackIAAJgSoRpyQgAAgIGkGnJCAABo8KcackIAAFBfqxpyQgAAOM6uGnJCAAAgPbIackIAAAistRpyQgAA8Bq5GnJCAADYibwackIAAMD4vxpyQgAAqGfDGnJCAACQ1sYackIAAHhFyhpyQgAAYLTNGnJCAABII9EackIAADCS1BpyQgAAGAHYGnJCAAAAcNsackIAAOje3hpyQgAA0E3iGnJCAAC4vOUackIAAKAr6RpyQgAAiJrsGnJCAABwCfAackIAAFh48xpyQgAAQOf2GnJCAAAoVvoackIAABDF/RpyQgAA+DMBG3JCAADgogQbckIAAMgRCBtyQgAAsIALG3JCAACY7w4bckIAAIBeEhtyQgAAaM0VG3JCAABQPBkbckIAADirHBtyQgAAIBogG3JCAAAIiSMbckIAAPD3JhtyQgAA2GYqG3JCAADA1S0bckIAAKhEMRtyQgAAkLM0G3JCAAB4IjgbckIAAGCROxtyQgAASAA/G3JCAAAwb0IbckIAABjeRRtyQgAAAE1JG3JCAADou0wbckIAANAqUBtyQgAAuJlTG3JCAACgCFcbckIAAIh3WhtyQgAAcOZdG3JCAABYVWEbckIAAEDEZBtyQgAAKDNoG3JCAAAQomsbckIAAPgQbxtyQgAA4H9yG3JCAADI7nUbckIAALBdeRtyQgAAmMx8G3JCAACAO4AbckIAAGiqgxtyQgAAUBmHG3JCAAA4iIobckIAACD3jRtyQgAACGaRG3JCAADw1JQbckIAANhDmBtyQgAAwLKbG3JCAACoIZ8bckIAAJCQohtyQgAAeP+lG3JCAABgbqkbckIAAEjdrBtyQgAAMEywG3JCAAAYu7MbckIAAAAqtxtyQgAA6Ji6G3JCAADQB74bckIAALh2wRtyQgAAoOXEG3JCAACIVMgbckIAAHDDyxtyQgAAWDLPG3JCAABAodIbckIAACgQ1htyQgAAEH/ZG3JCAAD47dwbckIAAOBc4BtyQgAAyMvjG3JCAACwOucbckIAAJip6htyQgAAgBjuG3JCAABoh/EbckIAAFD29BtyQgAAOGX4G3JCAAAg1PsbckIAAAhD/xtyQgAA8LECHHJCAADYIAYcckIAAMCPCRxyQgAAqP4MHHJCAACQbRAcckIAAHjcExxyQgAAYEsXHHJCAABIuhocckIAADApHhxyQgAAGJghHHJCAAAAByUcckIAAOh1KBxyQgAA0OQrHHJCAAC4Uy8cckIAAKDCMhxyQgAAiDE2HHJCAABwoDkcckIAAFgPPRxyQgAAQH5AHHJCAAAo7UMcckIAABBcRxxyQgAA+MpKHHJCAADgOU4cckIAAMioURxyQgAAsBdVHHJCAACYhlgcckIAAID1WxxyQgAAaGRfHHJCAABQ02IcckIAADhCZhxyQgAAILFpHHJCAAAIIG0cckIAAPCOcBxyQgAA2P1zHHJCAADAbHccckIAAKjbehxyQgAAkEp+HHJCAAB4uYEcckIAAGAohRxyQgAASJeIHHJCAAAwBowcckIAABh1jxxyQgAAAOSSHHJCAADoUpYcckIAANDBmRxyQgAAuDCdHHJCAACgn6AcckIAAIgOpBxyQgAAcH2nHHJCAABY7KocckIAAEBbrhxyQgAAKMqxHHJCAAAQObUcckIAAPinuBxyQgAA4Ba8HHJCAADIhb8cckIAALD0whxyQgAAmGPGHHJCAACA0skcckIAAGhBzRxyQgAAULDQHHJCAAA4H9QcckIAACCO1xxyQgAACP3aHHJCAADwa94cckIAANja4RxyQgAAwEnlHHJCAACouOgcckIAAJAn7BxyQgAAeJbvHHJCAABgBfMcckIAAEh09hxyQgAAMOP5HHJCAAAYUv0cckIAAADBAB1yQgAA6C8EHXJCAADQngcdckIAALgNCx1yQgAAoHwOHXJCAACI6xEdckIAAHBaFR1yQgAAWMkYHXJCAABAOBwdckIAACinHx1yQgAAEBYjHXJCAAD4hCYdckIAAODzKR1yQgAAyGItHXJCAACw0TAdckIAAJhANB1yQgAAgK83HXJCAABoHjsdckIAAFCNPh1yQgAAOPxBHXJCAAAga0UdckIAAAjaSB1yQgAA8EhMHXJCAADYt08dckIAAMAmUx1yQgAAqJVWHXJCAACQBFodckIAAHhzXR1yQgAAYOJgHXJCAABIUWQdckIAADDAZx1yQgAAGC9rHXJCAAAAnm4dckIAAOgMch1yQgAA0Ht1HXJCAAC46ngdckIAAKBZfB1yQgAAiMh/HXJCAABwN4MdckIAAFimhh1yQgAAQBWKHXJCAAAohI0dckIAABDzkB1yQgAA+GGUHXJCAADg0JcdckIAAMg/mx1yQgAAsK6eHXJCAACYHaIdckIAAICMpR1yQgAAaPuoHXJCAABQaqwdckIAADjZrx1yQgAAIEizHXJCAAAIt7YdckIAAPAluh1yQgAA2JS9HXJCAADAA8EdckIAAKhyxB1yQgAAkOHHHXJCAAB4UMsdckIAAGC/zh1yQgAASC7SHXJCAAAwndUdckIAABgM2R1yQgAAAHvcHXJCAADo6d8dckIAANBY4x1yQgAAuMfmHXJCAACgNuodckIAAIil7R1yQgAAcBTxHXJCAABYg/QdckIAAEDy9x1yQgAAKGH7HXJCAAAQ0P4dckIAAPg+Ah5yQgAA4K0FHnJCAADIHAkeckIAALCLDB5yQgAAmPoPHnJCAACAaRMeckIAAGjYFh5yQgAAUEcaHnJCAAA4th0eckIAACAlIR5yQgAACJQkHnJCAADwAigeckIAANhxKx5yQgAAwOAuHnJCAACoTzIeckIAAJC+NR5yQgAAeC05HnJCAABgnDweckIAAEgLQB5yQgAAMHpDHnJCAAAY6UYeckIAAABYSh5yQgAA6MZNHnJCAADQNVEeckIAALikVB5yQgAAoBNYHnJCAACIglseckIAAHDxXh5yQgAAWGBiHnJCAABAz2UeckIAACg+aR5yQgAAEK1sHnJCAAD4G3AeckIAAOCKcx5yQgAAyPl2HnJCAACwaHoeckIAAJjXfR5yQgAAgEaBHnJCAABotYQeckIAAFAkiB5yQgAAOJOLHnJCAAAgAo8eckIAAAhxkh5yQgAA8N+VHnJCAADYTpkeckIAAMC9nB5yQgAAqCygHnJCAACQm6MeckIAAHgKpx5yQgAAYHmqHnJCAABI6K0eckIAADBXsR5yQgAAGMa0HnJCAAAANbgeckIAAOijux5yQgAA0BK/HnJCAAC4gcIeckIAAKDwxR5yQgAAiF/JHnJCAABwzsweckIAAFg90B5yQgAAQKzTHnJCAAAoG9ceckIAABCK2h5yQgAA+PjdHnJCAADgZ+EeckIAAMjW5B5yQgAAsEXoHnJCAACYtOseckIAAIAj7x5yQgAAaJLyHnJCAABQAfYeckIAADhw+R5yQgAAIN/8HnJCAAAITgAfckIAAPC8Ax9yQgAA2CsHH3JCAADAmgofckIAAKgJDh9yQgAAkHgRH3JCAAB45xQfckIAAGBWGB9yQgAASMUbH3JCAAAwNB8fckIAABijIh9yQgAAABImH3JCAADogCkfckIAANDvLB9yQgAAuF4wH3JCAACgzTMfckIAAIg8Nx9yQgAAcKs6H3JCAABYGj4fckIAAECJQR9yQgAAKPhEH3JCAAAQZ0gfckIAAPjVSx9yQgAA4ERPH3JCAADIs1IfckIAALAiVh9yQgAAmJFZH3JCAACAAF0fckIAAGhvYB9yQgAAUN5jH3JCAAA4TWcfckIAACC8ah9yQgAACCtuH3JCAADwmXEfckIAANgIdR9yQgAAwHd4H3JCAACo5nsfckIAAJBVfx9yQgAAeMSCH3JCAABgM4YfckIAAEiiiR9yQgAAMBGNH3JCAAAYgJAfckIAAADvkx9yQgAA6F2XH3JCAADQzJofckIAALg7nh9yQgAAoKqhH3JCAACIGaUfckIAAHCIqB9yQgAAWPerH3JCAABAZq8fckIAACjVsh9yQgAAEES2H3JCAAD4srkfckIAAOAhvR9yQgAAyJDAH3JCAACw/8MfckIAAJhuxx9yQgAAgN3KH3JCAABoTM4fckIAAFC70R9yQgAAOCrVH3JCAAAgmdgfckIAAAgI3B9yQgAA8HbfH3JCAADY5eIfckIAAMBU5h9yQgAAqMPpH3JCAACQMu0fckIAAHih8B9yQgAAYBD0H3JCAABIf/cfckIAADDu+h9yQgAAGF3+H3JCAAAAzAEgckIAAOg6BSByQgAA0KkIIHJCAAC4GAwgckIAAKCHDyByQgAAiPYSIHJCAABwZRYgckIAAFjUGSByQgAAQEMdIHJCAAAosiAgckIAABAhJCByQgAA+I8nIHJCAADg/iogckIAAMhtLiByQgAAsNwxIHJCAACYSzUgckIAAIC6OCByQgAAaCk8IHJCAABQmD8gckIAADgHQyByQgAAIHZGIHJCAAAI5UkgckIAAPBTTSByQgAA2MJQIHJCAADAMVQgckIAAKigVyByQgAAkA9bIHJCAAB4fl4gckIAAGDtYSByQgAASFxlIHJCAAAwy2ggckIAABg6bCByQgAAAKlvIHJCAADoF3MgckIAANCGdiByQgAAuPV5IHJCAACgZH0gckIAAIjTgCByQgAAcEKEIHJCAABYsYcgckIAAEAgiyByQgAAKI+OIHJCAAAQ/pEgckIAAPhslSByQgAA4NuYIHJCAADISpwgckIAALC5nyByQgAAmCijIHJCAACAl6YgckIAAGgGqiByQgAAUHWtIHJCAAA45LAgckIAACBTtCByQgAACMK3IHJCAADwMLsgckIAANifviByQgAAwA7CIHJCAACofcUgckIAAJDsyCByQgAAeFvMIHJCAABgys8gckIAAEg50yByQgAAMKjWIHJCAAAYF9ogckIAAACG3SByQgAA6PTgIHJCAADQY+QgckIAALjS5yByQgAAoEHrIHJCAACIsO4gckIAAHAf8iByQgAAWI71IHJCAABA/fggckIAAChs/CByQgAAENv/IHJCAAD4SQMhckIAAOC4BiFyQgAAyCcKIXJCAACwlg0hckIAAJgFESFyQgAAgHQUIXJCAABo4xchckIAAFBSGyFyQgAAOMEeIXJCAAAgMCIhckIAAAifJSFyQgAA8A0pIXJCAADYfCwhckIAAMDrLyFyQgAAqFozIXJCAACQyTYhckIAAHg4OiFyQgAAYKc9IXJCAABIFkEhckIAADCFRCFyQgAAGPRHIXJCAAAAY0shckIAAOjRTiFyQgAA0EBSIXJCAAC4r1UhckIAAKAeWSFyQgAAiI1cIXJCAABw/F8hckIAAFhrYyFyQgAAQNpmIXJCAAAoSWohckIAABC4bSFyQgAA+CZxIXJCAADglXQhckIAAMgEeCFyQgAAsHN7IXJCAACY4n4hckIAAIBRgiFyQgAAaMCFIXJCAABQL4khckI=\",\"dtype\":\"float64\",\"order\":\"little\",\"shape\":[589]}},\"selected\":{\"id\":\"1920\"},\"selection_policy\":{\"id\":\"1934\"}},\"id\":\"1919\",\"type\":\"ColumnDataSource\"},{\"attributes\":{},\"id\":\"1904\",\"type\":\"ResetTool\"},{\"attributes\":{},\"id\":\"1987\",\"type\":\"Selection\"},{\"attributes\":{\"line_alpha\":0.1,\"line_color\":\"#e5ae38\",\"x\":{\"field\":\"Prediction timestamp\"},\"y\":{\"field\":\"Predicted Score\"}},\"id\":\"1990\",\"type\":\"Line\"},{\"attributes\":{\"source\":{\"id\":\"1919\"}},\"id\":\"1926\",\"type\":\"CDSView\"},{\"attributes\":{\"click_policy\":\"mute\",\"coordinates\":null,\"group\":null,\"items\":[{\"id\":\"1950\"},{\"id\":\"1984\"},{\"id\":\"2020\"},{\"id\":\"2058\"}],\"location\":[0,0],\"title\":\"Model\"},\"id\":\"1949\",\"type\":\"Legend\"},{\"attributes\":{\"line_color\":\"#e5ae38\",\"x\":{\"field\":\"Prediction timestamp\"},\"y\":{\"field\":\"Predicted Score\"}},\"id\":\"1989\",\"type\":\"Line\"},{\"attributes\":{\"line_alpha\":0.2,\"line_color\":\"#e5ae38\",\"x\":{\"field\":\"Prediction timestamp\"},\"y\":{\"field\":\"Predicted Score\"}},\"id\":\"1991\",\"type\":\"Line\"}],\"root_ids\":[\"1872\",\"2172\"]},\"title\":\"Bokeh Application\",\"version\":\"2.4.3\"}};\n",
       "    var render_items = [{\"docid\":\"1ed0f149-647c-4889-b784-bc6b88df6570\",\"root_ids\":[\"1872\"],\"roots\":{\"1872\":\"cebd70e0-e62a-4fca-8619-17d98aa683f7\"}}];\n",
       "    root.Bokeh.embed.embed_items_notebook(docs_json, render_items);\n",
       "  }\n",
       "  if (root.Bokeh !== undefined && root.Bokeh.Panel !== undefined && ( root['Tabulator'] !== undefined)) {\n",
       "    embed_document(root);\n",
       "  } else {\n",
       "    var attempts = 0;\n",
       "    var timer = setInterval(function(root) {\n",
       "      if (root.Bokeh !== undefined && root.Bokeh.Panel !== undefined && (root['Tabulator'] !== undefined)) {\n",
       "        clearInterval(timer);\n",
       "        embed_document(root);\n",
       "      } else if (document.readyState == \"complete\") {\n",
       "        attempts++;\n",
       "        if (attempts > 200) {\n",
       "          clearInterval(timer);\n",
       "          console.log(\"Bokeh: ERROR: Unable to run BokehJS code because BokehJS library is missing\");\n",
       "        }\n",
       "      }\n",
       "    }, 25, root)\n",
       "  }\n",
       "})(window);</script>"
      ],
      "text/plain": [
       "<hvplot.interactive.Interactive at 0x18e7ed2fdf0>"
      ]
     },
     "execution_count": 50,
     "metadata": {
      "application/vnd.holoviews_exec.v0+json": {
       "id": "1872"
      }
     },
     "output_type": "execute_result"
    }
   ],
   "source": [
    "# Plot results for predicted values over time\n",
    "pred_plot"
   ]
  },
  {
   "cell_type": "code",
   "execution_count": 55,
   "id": "896b2611",
   "metadata": {},
   "outputs": [
    {
     "name": "stderr",
     "output_type": "stream",
     "text": [
      "WARNING:param.ParamFunction07378: The function 'evaluate' does not have any dependencies and will never update. Are you sure you did not intend to depend on or bind a parameter or widget to this function? If not simply call the function before passing it to Panel. Otherwise, when passing a parameter as an argument, ensure you pass at least one parameter and reference the actual parameter object not the current value, i.e. use object.param.parameter not object.parameter.\n"
     ]
    },
    {
     "name": "stdout",
     "output_type": "stream",
     "text": [
      "Launching server at http://localhost:64631\n"
     ]
    }
   ],
   "source": [
    "# Create template for interactive dashboard and deploy in the local server\n",
    "template = pn.template.FastListTemplate(\n",
    "    title='Interactive Dashboard', \n",
    "    sidebar=[pn.pane.Markdown(\"# Twitter Sentiment Analysis\"),\n",
    "             pn.pane.Markdown(\"## Word Cloud\"),\n",
    "             pn.pane.PNG('tweets_output/WordCloud.png', sizing_mode='scale_both'),\n",
    "             pn.pane.PNG('tweets_output/WordCloud.png', sizing_mode='scale_both'),\n",
    "             pn.pane.Markdown(\"## Settings\"),   \n",
    "             day_slider],\n",
    "    main=[pn.Row(pn.Column(sentiment_plot.panel(width=900, height=400), margin=(0,1)),pn.Column(totals_plot.panel(width=500, height=400))),\n",
    "          pn.Row(pn.Column(trend_plot.panel(width=700, height=400), margin=(0,1)), pn.Column(pred_plot.panel(width=700, height=400)))],\n",
    "    header_background=\"#bbc4c8\",\n",
    ")\n",
    "template.show()\n",
    "template.servable();"
   ]
  }
 ],
 "metadata": {
  "kernelspec": {
   "display_name": "Python 3 (ipykernel)",
   "language": "python",
   "name": "python3"
  },
  "language_info": {
   "codemirror_mode": {
    "name": "ipython",
    "version": 3
   },
   "file_extension": ".py",
   "mimetype": "text/x-python",
   "name": "python",
   "nbconvert_exporter": "python",
   "pygments_lexer": "ipython3",
   "version": "3.9.13"
  }
 },
 "nbformat": 4,
 "nbformat_minor": 5
}
